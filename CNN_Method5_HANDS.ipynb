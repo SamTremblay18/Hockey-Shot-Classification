{
  "nbformat": 4,
  "nbformat_minor": 0,
  "metadata": {
    "colab": {
      "name": "CNN_Method5_HANDS.ipynb",
      "provenance": [],
      "machine_shape": "hm",
      "collapsed_sections": [
        "WaRzd8i0eE9y",
        "A8EfcF3Hl987",
        "wjX58iFSxOoQ",
        "BbqH5gvi4e8H",
        "mdFDY-DH5VYk",
        "K-33iNBQ5jqz",
        "5d7jNo-X-_m8",
        "wNHq5n-2_HYx",
        "V_ZdTSFzJylv"
      ],
      "authorship_tag": "ABX9TyNIuYhUzDCcy34QmHdcUEWX",
      "include_colab_link": true
    },
    "kernelspec": {
      "name": "python3",
      "display_name": "Python 3"
    },
    "language_info": {
      "name": "python"
    },
    "accelerator": "GPU"
  },
  "cells": [
    {
      "cell_type": "markdown",
      "metadata": {
        "id": "view-in-github",
        "colab_type": "text"
      },
      "source": [
        "<a href=\"https://colab.research.google.com/github/SamTremblay18/Hockey-Shot-Classification/blob/main/CNN_Method5_HANDS.ipynb\" target=\"_parent\"><img src=\"https://colab.research.google.com/assets/colab-badge.svg\" alt=\"Open In Colab\"/></a>"
      ]
    },
    {
      "cell_type": "markdown",
      "source": [
        "Method 5 -  Reframe to 576 frames and HSC (Hands sensor configuration)"
      ],
      "metadata": {
        "id": "uIbITlMp9Mb_"
      }
    },
    {
      "cell_type": "code",
      "execution_count": null,
      "metadata": {
        "id": "gYDbgXY6Stxp"
      },
      "outputs": [],
      "source": [
        "import pandas as pd\n",
        "import numpy as np\n",
        "import tensorflow as tf\n",
        "import random\n",
        "from google.colab import drive \n",
        "drive.mount('/content/drive')\n",
        "import pickle\n",
        "import matplotlib.pyplot as plt\n",
        "\n",
        "from tensorflow import keras\n",
        "from keras import layers \n",
        "from keras import models\n",
        "from keras import regularizers\n",
        "from keras.models import Sequential\n",
        "from keras.layers import Dense, Flatten, Conv1D, MaxPooling1D, Dropout, GlobalAveragePooling1D\n",
        "\n",
        "from sklearn.metrics import classification_report, ConfusionMatrixDisplay, confusion_matrix"
      ]
    },
    {
      "cell_type": "code",
      "source": [
        "def open_pickle(path_pickle):\n",
        "  f = open(path_pickle, 'rb')\n",
        "  P = pickle.load(f)\n",
        "  f.close()\n",
        "\n",
        "  return P"
      ],
      "metadata": {
        "id": "JUInasLjGLO_"
      },
      "execution_count": 2,
      "outputs": []
    },
    {
      "cell_type": "code",
      "source": [
        "X_train_all = open_pickle('/content/drive/MyDrive/Sam/File_saved/X_train_all5.pickle')\n",
        "y_train_all = open_pickle('/content/drive/MyDrive/Sam/File_saved/y_train_all5.pickle')"
      ],
      "metadata": {
        "id": "e1_tyPYSRF2Q"
      },
      "execution_count": 3,
      "outputs": []
    },
    {
      "cell_type": "code",
      "source": [
        "X_test1 = open_pickle('/content/drive/MyDrive/Sam/File_saved/X_test5.pickle')\n",
        "X_train1 = open_pickle('/content/drive/MyDrive/Sam/File_saved/X_train5_1.pickle')\n",
        "y_test1 = open_pickle('/content/drive/MyDrive/Sam/File_saved/y_test5.pickle')\n",
        "y_train1 = open_pickle('/content/drive/MyDrive/Sam/File_saved/y_train5_1.pickle')\n",
        "X_valid1 = open_pickle('/content/drive/MyDrive/Sam/File_saved/X_valid5_1.pickle')\n",
        "y_valid1 = open_pickle('/content/drive/MyDrive/Sam/File_saved/y_valid5_1.pickle')"
      ],
      "metadata": {
        "id": "J0BFKkABGeoZ"
      },
      "execution_count": 4,
      "outputs": []
    },
    {
      "cell_type": "code",
      "source": [
        "X_train2 = open_pickle('/content/drive/MyDrive/Sam/File_saved/X_train5_2.pickle')\n",
        "y_train2 = open_pickle('/content/drive/MyDrive/Sam/File_saved/y_train5_2.pickle')\n",
        "X_valid2 = open_pickle('/content/drive/MyDrive/Sam/File_saved/X_valid5_2.pickle')\n",
        "y_valid2 = open_pickle('/content/drive/MyDrive/Sam/File_saved/y_valid5_2.pickle')"
      ],
      "metadata": {
        "id": "KvidrhQw5WRx"
      },
      "execution_count": 34,
      "outputs": []
    },
    {
      "cell_type": "code",
      "source": [
        "X_train3 = open_pickle('/content/drive/MyDrive/Sam/File_saved/X_train5_3.pickle')\n",
        "y_train3 = open_pickle('/content/drive/MyDrive/Sam/File_saved/y_train5_3.pickle')\n",
        "X_valid3 = open_pickle('/content/drive/MyDrive/Sam/File_saved/X_valid5_3.pickle')\n",
        "y_valid3 = open_pickle('/content/drive/MyDrive/Sam/File_saved/y_valid5_3.pickle')"
      ],
      "metadata": {
        "id": "nhZIH3WY5Weh"
      },
      "execution_count": 35,
      "outputs": []
    },
    {
      "cell_type": "code",
      "source": [
        "X_train4 = open_pickle('/content/drive/MyDrive/Sam/File_saved/X_train5_4.pickle')\n",
        "y_train4 = open_pickle('/content/drive/MyDrive/Sam/File_saved/y_train5_4.pickle')\n",
        "X_valid4 = open_pickle('/content/drive/MyDrive/Sam/File_saved/X_valid5_4.pickle')\n",
        "y_valid4 = open_pickle('/content/drive/MyDrive/Sam/File_saved/y_valid5_4.pickle')"
      ],
      "metadata": {
        "id": "Ptqi4GK15WoF"
      },
      "execution_count": 36,
      "outputs": []
    },
    {
      "cell_type": "code",
      "source": [
        "X_train5 = open_pickle('/content/drive/MyDrive/Sam/File_saved/X_train5_5.pickle')\n",
        "y_train5 = open_pickle('/content/drive/MyDrive/Sam/File_saved/y_train5_5.pickle')\n",
        "X_valid5 = open_pickle('/content/drive/MyDrive/Sam/File_saved/X_valid5_5.pickle')\n",
        "y_valid5 = open_pickle('/content/drive/MyDrive/Sam/File_saved/y_valid5_5.pickle')"
      ],
      "metadata": {
        "id": "_Xc3PswF5WyI"
      },
      "execution_count": 37,
      "outputs": []
    },
    {
      "cell_type": "markdown",
      "source": [
        "#Model based on the All sensor configuration model"
      ],
      "metadata": {
        "id": "A8EfcF3Hl987"
      }
    },
    {
      "cell_type": "code",
      "source": [
        "def make_model(input_shape):\n",
        "    input_layer = keras.layers.Input(input_shape)\n",
        "\n",
        "    conv1 = keras.layers.Conv1D(filters=128, kernel_size=3, kernel_regularizer=regularizers.l1_l2(l1=0.001, l2=0.001), padding=\"same\")(input_layer)\n",
        "    conv1 = keras.layers.BatchNormalization()(conv1)\n",
        "    conv1 = keras.layers.ReLU()(conv1)\n",
        "    conv1 = keras.layers.Dropout(0.5)(conv1)\n",
        "\n",
        "    conv2 = keras.layers.Conv1D(filters=128, kernel_size=3, kernel_regularizer=regularizers.l1_l2(l1=0.001, l2=0.001), padding=\"same\")(conv1)\n",
        "    conv2 = keras.layers.BatchNormalization()(conv2)\n",
        "    conv2 = keras.layers.ReLU()(conv2)\n",
        "    conv2 = keras.layers.Dropout(0.5)(conv2)\n",
        "\n",
        "    conv3 = keras.layers.Conv1D(filters=128, kernel_size=3, kernel_regularizer=regularizers.l1_l2(l1=0.001, l2=0.001), padding=\"same\")(conv2)\n",
        "    conv3 = keras.layers.BatchNormalization()(conv3)\n",
        "    conv3 = keras.layers.ReLU()(conv3)\n",
        "    conv3 = keras.layers.Dropout(0.5)(conv3)\n",
        "\n",
        "    gap = keras.layers.GlobalAveragePooling1D()(conv3)\n",
        "\n",
        "    output_layer = keras.layers.Dense(7, activation=\"softmax\")(gap)\n",
        "\n",
        "    return keras.models.Model(inputs=input_layer, outputs=output_layer)\n",
        "\n",
        "\n",
        "model = make_model(input_shape=X_train.shape[1:])\n",
        "keras.utils.plot_model(model, show_shapes=True)"
      ],
      "metadata": {
        "id": "5SY764Lsl99D"
      },
      "execution_count": null,
      "outputs": []
    },
    {
      "cell_type": "code",
      "source": [
        "epochs = 500\n",
        "batch_size = 32\n",
        "\n",
        "callbacks = [\n",
        "    keras.callbacks.ModelCheckpoint(\n",
        "        \"model2.h5\", save_best_only=True, monitor=\"val_loss\"\n",
        "    ),\n",
        "    keras.callbacks.ReduceLROnPlateau(\n",
        "        monitor=\"val_loss\", factor=0.5, patience=20, min_lr=0.0001\n",
        "    ),\n",
        "    keras.callbacks.EarlyStopping(monitor=\"val_loss\", patience=50, verbose=1),\n",
        "]\n",
        "model.compile(\n",
        "    optimizer=\"adam\",\n",
        "    loss=\"sparse_categorical_crossentropy\",\n",
        "    metrics=[\"sparse_categorical_accuracy\"],\n",
        ")\n",
        "history = model.fit(\n",
        "    X_train,\n",
        "    y_train,\n",
        "    batch_size=batch_size,\n",
        "    epochs=epochs,\n",
        "    callbacks=callbacks,\n",
        "    validation_split=0.2,\n",
        "    verbose=1,\n",
        ")"
      ],
      "metadata": {
        "id": "T-p7o7LFl99E"
      },
      "execution_count": null,
      "outputs": []
    },
    {
      "cell_type": "code",
      "source": [
        "metric = \"sparse_categorical_accuracy\"\n",
        "\n",
        "plt.plot(history.history[metric])\n",
        "plt.plot(history.history[\"val_\" + metric])\n",
        "plt.title(\"model \" + metric)\n",
        "plt.ylabel(metric, fontsize=\"large\")\n",
        "plt.xlabel(\"epoch\", fontsize=\"large\")\n",
        "plt.legend([\"train\", \"val\"], loc=\"best\")\n",
        "plt.show()\n",
        "plt.close()\n",
        "\n",
        "plt.plot(history.history['loss'])\n",
        "plt.plot(history.history[\"val_loss\"])\n",
        "plt.title(\"model \" + metric)\n",
        "plt.ylabel('loss', fontsize=\"large\")\n",
        "plt.xlabel(\"epoch\", fontsize=\"large\")\n",
        "plt.legend([\"train\", \"val\"], loc=\"best\")\n",
        "plt.show()\n",
        "plt.close()"
      ],
      "metadata": {
        "colab": {
          "base_uri": "https://localhost:8080/",
          "height": 578
        },
        "outputId": "a7aaafae-cb8e-4b7c-81d3-fb5ba87e2fd3",
        "id": "1PHUeQurl99E"
      },
      "execution_count": null,
      "outputs": [
        {
          "output_type": "display_data",
          "data": {
            "text/plain": [
              "<Figure size 432x288 with 1 Axes>"
            ],
            "image/png": "[encoded data removed]"
          },
          "metadata": {
            "needs_background": "light"
          }
        },
        {
          "output_type": "display_data",
          "data": {
            "text/plain": [
              "<Figure size 432x288 with 1 Axes>"
            ],
            "image/png": "[encoded data removed]"
          },
          "metadata": {
            "needs_background": "light"
          }
        }
      ]
    },
    {
      "cell_type": "markdown",
      "source": [
        "# KerasTuner"
      ],
      "metadata": {
        "id": "wjX58iFSxOoQ"
      }
    },
    {
      "cell_type": "code",
      "source": [
        "pip install keras-tuner"
      ],
      "metadata": {
        "id": "J6IigCns3CU0"
      },
      "execution_count": null,
      "outputs": []
    },
    {
      "cell_type": "code",
      "source": [
        "import kerastuner as kt"
      ],
      "metadata": {
        "id": "YS9gOwp13qIX"
      },
      "execution_count": null,
      "outputs": []
    },
    {
      "cell_type": "code",
      "source": [
        "def build_model2(hp):\n",
        "  input_layer = keras.layers.Input(X_train1.shape[1:])\n",
        "\n",
        "  conv1 = keras.layers.Conv1D(\n",
        "          filters = hp.Int('filters1', 64, 256, step=64),\n",
        "          kernel_size = hp.Int('kernel_size1', 3, 5),\n",
        "          kernel_regularizer = hp.Choice('regularizers1', ['L1', 'L2', 'l1_l2']),\n",
        "          padding = 'same')(input_layer)\n",
        "  conv1 = keras.layers.BatchNormalization()(conv1)\n",
        "  conv1 = keras.layers.ReLU()(conv1)\n",
        "  conv1 = keras.layers.Dropout(\n",
        "          rate = hp.Float('dropout1', 0, 0.5, step=0.1))(conv1)\n",
        "\n",
        "  conv2 = keras.layers.Conv1D(          \n",
        "          filters = hp.Int('filters2', 64, 256, step=64),\n",
        "          kernel_size = hp.Int('kernel_size2', 3, 5),\n",
        "          kernel_regularizer = hp.Choice('regularizers2', ['L1', 'L2', 'l1_l2']),\n",
        "          padding = 'same')(input_layer)\n",
        "  conv2 = keras.layers.BatchNormalization()(conv2)\n",
        "  conv2 = keras.layers.ReLU()(conv1)\n",
        "  conv2 = keras.layers.Dropout(\n",
        "          rate = hp.Float('dropout2', 0, 0.5,step=0.1))(conv2)\n",
        "\n",
        "  conv3 = keras.layers.Conv1D(\n",
        "          filters = hp.Int('filters3', 64, 256, step=64),\n",
        "          kernel_size = hp.Int('kernel_size3', 3, 5),\n",
        "          kernel_regularizer = hp.Choice('regularizers3', ['L1', 'L2', 'l1_l2']),\n",
        "          padding = 'same')(conv2)\n",
        "  conv3 = keras.layers.BatchNormalization()(conv3)\n",
        "  conv3 = keras.layers.ReLU()(conv3)\n",
        "  conv3 = keras.layers.Dropout(\n",
        "          rate = hp.Float('dropout3', 0, 0.5, step=0.1))(conv3)\n",
        "\n",
        "  gap = keras.layers.GlobalAveragePooling1D()(conv3)\n",
        "\n",
        "  output_layer = keras.layers.Dense(7, activation=\"softmax\")(gap)\n",
        "\n",
        "  model = keras.Model(input_layer, output_layer)\n",
        "\n",
        "  optimizer = hp.Choice('optimizer', ['adam', 'sgd', 'rmsprop'])\n",
        "\n",
        "  model.compile(optimizer, loss='sparse_categorical_crossentropy', metrics=['sparse_categorical_accuracy'])\n",
        "\n",
        "  return model\n",
        "\n",
        "callbacks = [\n",
        "    keras.callbacks.ReduceLROnPlateau(\n",
        "        monitor=\"val_loss\", factor=0.5, patience=20, min_lr=0.0001),\n",
        "    keras.callbacks.EarlyStopping(\n",
        "        monitor=\"val_loss\", patience=20, verbose=1)]\n"
      ],
      "metadata": {
        "id": "7LCQ4QdNg2Ge"
      },
      "execution_count": null,
      "outputs": []
    },
    {
      "cell_type": "code",
      "source": [
        "tuner = kt.RandomSearch(\n",
        "    hypermodel = build_model2,\n",
        "    objective = 'val_sparse_categorical_accuracy',\n",
        "    max_trials = 100,\n",
        "    executions_per_trial = 1,\n",
        "    overwrite = True,\n",
        "    directory = 'random_search',\n",
        "    project_name = 'all_sensors_tuner2',\n",
        ")"
      ],
      "metadata": {
        "id": "SolsQ9t6_E3L"
      },
      "execution_count": null,
      "outputs": []
    },
    {
      "cell_type": "code",
      "source": [
        "tuner.search_space_summary()"
      ],
      "metadata": {
        "colab": {
          "base_uri": "https://localhost:8080/"
        },
        "id": "C46kpq83CaZ0",
        "outputId": "801f31b5-fc6c-4c31-88eb-0ed08ae0fe3d"
      },
      "execution_count": null,
      "outputs": [
        {
          "output_type": "stream",
          "name": "stdout",
          "text": [
            "Search space summary\n",
            "Default search space size: 13\n",
            "filters1 (Int)\n",
            "{'default': None, 'conditions': [], 'min_value': 64, 'max_value': 256, 'step': 64, 'sampling': None}\n",
            "kernel_size1 (Int)\n",
            "{'default': None, 'conditions': [], 'min_value': 3, 'max_value': 5, 'step': 1, 'sampling': None}\n",
            "regularizers1 (Choice)\n",
            "{'default': 'L1', 'conditions': [], 'values': ['L1', 'L2', 'l1_l2'], 'ordered': False}\n",
            "dropout1 (Float)\n",
            "{'default': 0.0, 'conditions': [], 'min_value': 0.0, 'max_value': 0.5, 'step': 0.1, 'sampling': None}\n",
            "filters2 (Int)\n",
            "{'default': None, 'conditions': [], 'min_value': 64, 'max_value': 256, 'step': 64, 'sampling': None}\n",
            "kernel_size2 (Int)\n",
            "{'default': None, 'conditions': [], 'min_value': 3, 'max_value': 5, 'step': 1, 'sampling': None}\n",
            "regularizers2 (Choice)\n",
            "{'default': 'L1', 'conditions': [], 'values': ['L1', 'L2', 'l1_l2'], 'ordered': False}\n",
            "dropout2 (Float)\n",
            "{'default': 0.0, 'conditions': [], 'min_value': 0.0, 'max_value': 0.5, 'step': 0.1, 'sampling': None}\n",
            "filters3 (Int)\n",
            "{'default': None, 'conditions': [], 'min_value': 64, 'max_value': 256, 'step': 64, 'sampling': None}\n",
            "kernel_size3 (Int)\n",
            "{'default': None, 'conditions': [], 'min_value': 3, 'max_value': 5, 'step': 1, 'sampling': None}\n",
            "regularizers3 (Choice)\n",
            "{'default': 'L1', 'conditions': [], 'values': ['L1', 'L2', 'l1_l2'], 'ordered': False}\n",
            "dropout3 (Float)\n",
            "{'default': 0.0, 'conditions': [], 'min_value': 0.0, 'max_value': 0.5, 'step': 0.1, 'sampling': None}\n",
            "optimizer (Choice)\n",
            "{'default': 'adam', 'conditions': [], 'values': ['adam', 'sgd', 'rmsprop'], 'ordered': False}\n"
          ]
        }
      ]
    },
    {
      "cell_type": "code",
      "source": [
        "tuner.search(X_train1, \n",
        "             y_train1, \n",
        "             epochs=250, \n",
        "             validation_data=(X_valid1, y_valid1),\n",
        "             callbacks=callbacks)"
      ],
      "metadata": {
        "colab": {
          "base_uri": "https://localhost:8080/"
        },
        "id": "RBXlOqLICsSt",
        "outputId": "5189196a-7db0-47f3-fe68-54a9403713d7"
      },
      "execution_count": null,
      "outputs": [
        {
          "output_type": "stream",
          "name": "stdout",
          "text": [
            "Trial 100 Complete [00h 01m 14s]\n",
            "val_sparse_categorical_accuracy: 0.9032257795333862\n",
            "\n",
            "Best val_sparse_categorical_accuracy So Far: 0.9384164214134216\n",
            "Total elapsed time: 01h 20m 57s\n",
            "INFO:tensorflow:Oracle triggered exit\n"
          ]
        }
      ]
    },
    {
      "cell_type": "code",
      "source": [
        "tuner.results_summary()"
      ],
      "metadata": {
        "id": "h9oKI252PcZf",
        "colab": {
          "base_uri": "https://localhost:8080/"
        },
        "outputId": "3e2ae34e-e668-4392-aeb5-1fdda2aa2f94"
      },
      "execution_count": null,
      "outputs": [
        {
          "output_type": "stream",
          "name": "stdout",
          "text": [
            "Results summary\n",
            "Results in random_search/all_sensors_tuner2\n",
            "Showing 10 best trials\n",
            "<keras_tuner.engine.objective.Objective object at 0x7fd35b104750>\n",
            "Trial summary\n",
            "Hyperparameters:\n",
            "filters1: 256\n",
            "kernel_size1: 5\n",
            "regularizers1: L2\n",
            "dropout1: 0.2\n",
            "filters2: 192\n",
            "kernel_size2: 4\n",
            "regularizers2: l1_l2\n",
            "dropout2: 0.0\n",
            "filters3: 256\n",
            "kernel_size3: 4\n",
            "regularizers3: L2\n",
            "dropout3: 0.1\n",
            "optimizer: sgd\n",
            "Score: 0.9384164214134216\n",
            "Trial summary\n",
            "Hyperparameters:\n",
            "filters1: 128\n",
            "kernel_size1: 4\n",
            "regularizers1: L2\n",
            "dropout1: 0.4\n",
            "filters2: 128\n",
            "kernel_size2: 5\n",
            "regularizers2: L2\n",
            "dropout2: 0.2\n",
            "filters3: 64\n",
            "kernel_size3: 4\n",
            "regularizers3: L2\n",
            "dropout3: 0.2\n",
            "optimizer: adam\n",
            "Score: 0.9325513243675232\n",
            "Trial summary\n",
            "Hyperparameters:\n",
            "filters1: 128\n",
            "kernel_size1: 5\n",
            "regularizers1: L1\n",
            "dropout1: 0.2\n",
            "filters2: 128\n",
            "kernel_size2: 4\n",
            "regularizers2: l1_l2\n",
            "dropout2: 0.30000000000000004\n",
            "filters3: 128\n",
            "kernel_size3: 3\n",
            "regularizers3: L2\n",
            "dropout3: 0.30000000000000004\n",
            "optimizer: adam\n",
            "Score: 0.929618775844574\n",
            "Trial summary\n",
            "Hyperparameters:\n",
            "filters1: 192\n",
            "kernel_size1: 4\n",
            "regularizers1: L2\n",
            "dropout1: 0.5\n",
            "filters2: 128\n",
            "kernel_size2: 4\n",
            "regularizers2: L2\n",
            "dropout2: 0.1\n",
            "filters3: 128\n",
            "kernel_size3: 3\n",
            "regularizers3: L2\n",
            "dropout3: 0.1\n",
            "optimizer: rmsprop\n",
            "Score: 0.9237536787986755\n",
            "Trial summary\n",
            "Hyperparameters:\n",
            "filters1: 128\n",
            "kernel_size1: 3\n",
            "regularizers1: L1\n",
            "dropout1: 0.0\n",
            "filters2: 64\n",
            "kernel_size2: 5\n",
            "regularizers2: L1\n",
            "dropout2: 0.2\n",
            "filters3: 128\n",
            "kernel_size3: 3\n",
            "regularizers3: L2\n",
            "dropout3: 0.0\n",
            "optimizer: adam\n",
            "Score: 0.9237536787986755\n",
            "Trial summary\n",
            "Hyperparameters:\n",
            "filters1: 192\n",
            "kernel_size1: 3\n",
            "regularizers1: L2\n",
            "dropout1: 0.1\n",
            "filters2: 192\n",
            "kernel_size2: 3\n",
            "regularizers2: L1\n",
            "dropout2: 0.1\n",
            "filters3: 192\n",
            "kernel_size3: 5\n",
            "regularizers3: L2\n",
            "dropout3: 0.4\n",
            "optimizer: sgd\n",
            "Score: 0.9237536787986755\n",
            "Trial summary\n",
            "Hyperparameters:\n",
            "filters1: 256\n",
            "kernel_size1: 4\n",
            "regularizers1: L2\n",
            "dropout1: 0.1\n",
            "filters2: 192\n",
            "kernel_size2: 4\n",
            "regularizers2: L2\n",
            "dropout2: 0.1\n",
            "filters3: 256\n",
            "kernel_size3: 3\n",
            "regularizers3: L2\n",
            "dropout3: 0.5\n",
            "optimizer: sgd\n",
            "Score: 0.9237536787986755\n",
            "Trial summary\n",
            "Hyperparameters:\n",
            "filters1: 128\n",
            "kernel_size1: 4\n",
            "regularizers1: L2\n",
            "dropout1: 0.2\n",
            "filters2: 192\n",
            "kernel_size2: 3\n",
            "regularizers2: l1_l2\n",
            "dropout2: 0.4\n",
            "filters3: 192\n",
            "kernel_size3: 4\n",
            "regularizers3: L2\n",
            "dropout3: 0.1\n",
            "optimizer: sgd\n",
            "Score: 0.9208211302757263\n",
            "Trial summary\n",
            "Hyperparameters:\n",
            "filters1: 64\n",
            "kernel_size1: 4\n",
            "regularizers1: L1\n",
            "dropout1: 0.1\n",
            "filters2: 64\n",
            "kernel_size2: 5\n",
            "regularizers2: L2\n",
            "dropout2: 0.5\n",
            "filters3: 64\n",
            "kernel_size3: 3\n",
            "regularizers3: L2\n",
            "dropout3: 0.5\n",
            "optimizer: rmsprop\n",
            "Score: 0.9208211302757263\n",
            "Trial summary\n",
            "Hyperparameters:\n",
            "filters1: 128\n",
            "kernel_size1: 4\n",
            "regularizers1: l1_l2\n",
            "dropout1: 0.4\n",
            "filters2: 128\n",
            "kernel_size2: 5\n",
            "regularizers2: l1_l2\n",
            "dropout2: 0.30000000000000004\n",
            "filters3: 192\n",
            "kernel_size3: 4\n",
            "regularizers3: L2\n",
            "dropout3: 0.1\n",
            "optimizer: sgd\n",
            "Score: 0.9178885817527771\n"
          ]
        }
      ]
    },
    {
      "cell_type": "code",
      "source": [
        "def build_model3(hp):\n",
        "  input_layer = keras.layers.Input(X_train1.shape[1:])\n",
        "\n",
        "  conv1 = keras.layers.Conv1D(\n",
        "          filters = hp.Int('filters1', 128, 256, step=64),\n",
        "          kernel_size = hp.Int('kernel_size1', 3, 4),\n",
        "          kernel_regularizer = hp.Choice('regularizers1', ['L2', 'l1_l2']),\n",
        "          padding = 'same')(input_layer)\n",
        "  conv1 = keras.layers.BatchNormalization()(conv1)\n",
        "  conv1 = keras.layers.ReLU()(conv1)\n",
        "  conv1 = keras.layers.Dropout(\n",
        "          rate = hp.Float('dropout1', 0.3, 0.5, step=0.1))(conv1)\n",
        "\n",
        "  conv2 = keras.layers.Conv1D(          \n",
        "          filters = hp.Int('filters2', 128, 256, step=64),\n",
        "          kernel_size = hp.Int('kernel_size2', 3, 4),\n",
        "          kernel_regularizer = hp.Choice('regularizers2', ['L2', 'l1_l2']),\n",
        "          padding = 'same')(input_layer)\n",
        "  conv2 = keras.layers.BatchNormalization()(conv2)\n",
        "  conv2 = keras.layers.ReLU()(conv1)\n",
        "  conv2 = keras.layers.Dropout(\n",
        "          rate = hp.Float('dropout2', 0.3, 0.5,step=0.1))(conv2)\n",
        "\n",
        "  conv3 = keras.layers.Conv1D(\n",
        "          filters = hp.Int('filters3', 128, 256, step=64),\n",
        "          kernel_size = hp.Int('kernel_size3', 3, 4),\n",
        "          kernel_regularizer = hp.Choice('regularizers3', ['L2', 'l1_l2']),\n",
        "          padding = 'same')(conv2)\n",
        "  conv3 = keras.layers.BatchNormalization()(conv3)\n",
        "  conv3 = keras.layers.ReLU()(conv3)\n",
        "  conv3 = keras.layers.Dropout(\n",
        "          rate = hp.Float('dropout3', 0.3, 0.5, step=0.1))(conv3)\n",
        "\n",
        "  gap = keras.layers.GlobalAveragePooling1D()(conv3)\n",
        "\n",
        "  output_layer = keras.layers.Dense(7, activation=\"softmax\")(gap)\n",
        "\n",
        "  model = keras.Model(input_layer, output_layer)\n",
        "\n",
        "  optimizer = hp.Choice('optimizer', ['adam', 'sgd'])\n",
        "\n",
        "  model.compile(optimizer, loss='sparse_categorical_crossentropy', metrics=['sparse_categorical_accuracy'])\n",
        "\n",
        "  return model\n",
        "\n",
        "callbacks = [\n",
        "    keras.callbacks.ReduceLROnPlateau(\n",
        "        monitor=\"val_loss\", factor=0.5, patience=20, min_lr=0.0001),\n",
        "    keras.callbacks.EarlyStopping(\n",
        "        monitor=\"val_loss\", patience=30, verbose=1)]\n"
      ],
      "metadata": {
        "id": "9NabbcWNM9J5"
      },
      "execution_count": null,
      "outputs": []
    },
    {
      "cell_type": "code",
      "source": [
        "tuner = kt.RandomSearch(\n",
        "    hypermodel = build_model3,\n",
        "    objective = 'val_sparse_categorical_accuracy',\n",
        "    max_trials = 50,\n",
        "    executions_per_trial = 1,\n",
        "    overwrite = True,\n",
        "    directory = 'random_search',\n",
        "    project_name = 'hands_sensors_tuner3',\n",
        ")"
      ],
      "metadata": {
        "id": "qjHuo7JtM9J6"
      },
      "execution_count": null,
      "outputs": []
    },
    {
      "cell_type": "code",
      "source": [
        "tuner.search_space_summary()"
      ],
      "metadata": {
        "colab": {
          "base_uri": "https://localhost:8080/"
        },
        "outputId": "d700715d-ace2-4af2-e43f-32f5f803e4ca",
        "id": "FqvP5or0M9J6"
      },
      "execution_count": null,
      "outputs": [
        {
          "output_type": "stream",
          "name": "stdout",
          "text": [
            "Search space summary\n",
            "Default search space size: 13\n",
            "filters1 (Int)\n",
            "{'default': None, 'conditions': [], 'min_value': 128, 'max_value': 256, 'step': 64, 'sampling': None}\n",
            "kernel_size1 (Int)\n",
            "{'default': None, 'conditions': [], 'min_value': 3, 'max_value': 4, 'step': 1, 'sampling': None}\n",
            "regularizers1 (Choice)\n",
            "{'default': 'L2', 'conditions': [], 'values': ['L2', 'l1_l2'], 'ordered': False}\n",
            "dropout1 (Float)\n",
            "{'default': 0.3, 'conditions': [], 'min_value': 0.3, 'max_value': 0.5, 'step': 0.1, 'sampling': None}\n",
            "filters2 (Int)\n",
            "{'default': None, 'conditions': [], 'min_value': 128, 'max_value': 256, 'step': 64, 'sampling': None}\n",
            "kernel_size2 (Int)\n",
            "{'default': None, 'conditions': [], 'min_value': 3, 'max_value': 4, 'step': 1, 'sampling': None}\n",
            "regularizers2 (Choice)\n",
            "{'default': 'L2', 'conditions': [], 'values': ['L2', 'l1_l2'], 'ordered': False}\n",
            "dropout2 (Float)\n",
            "{'default': 0.3, 'conditions': [], 'min_value': 0.3, 'max_value': 0.5, 'step': 0.1, 'sampling': None}\n",
            "filters3 (Int)\n",
            "{'default': None, 'conditions': [], 'min_value': 128, 'max_value': 256, 'step': 64, 'sampling': None}\n",
            "kernel_size3 (Int)\n",
            "{'default': None, 'conditions': [], 'min_value': 3, 'max_value': 4, 'step': 1, 'sampling': None}\n",
            "regularizers3 (Choice)\n",
            "{'default': 'L2', 'conditions': [], 'values': ['L2', 'l1_l2'], 'ordered': False}\n",
            "dropout3 (Float)\n",
            "{'default': 0.3, 'conditions': [], 'min_value': 0.3, 'max_value': 0.5, 'step': 0.1, 'sampling': None}\n",
            "optimizer (Choice)\n",
            "{'default': 'adam', 'conditions': [], 'values': ['adam', 'sgd'], 'ordered': False}\n"
          ]
        }
      ]
    },
    {
      "cell_type": "code",
      "source": [
        "tuner.search(X_train1, \n",
        "             y_train1, \n",
        "             epochs=200, \n",
        "             validation_data=(X_valid1, y_valid1),\n",
        "             callbacks=callbacks)"
      ],
      "metadata": {
        "id": "u9vQ6XaPM9J7"
      },
      "execution_count": null,
      "outputs": []
    },
    {
      "cell_type": "code",
      "source": [
        "tuner.results_summary()"
      ],
      "metadata": {
        "colab": {
          "base_uri": "https://localhost:8080/"
        },
        "outputId": "a8e2f431-9c14-4b8a-dce9-954c4ba1e0fd",
        "id": "bZuVjlOAM9J7"
      },
      "execution_count": null,
      "outputs": [
        {
          "output_type": "stream",
          "name": "stdout",
          "text": [
            "Results summary\n",
            "Results in random_search/hands_sensors_tuner3\n",
            "Showing 10 best trials\n",
            "<keras_tuner.engine.objective.Objective object at 0x7fd35ac9cc90>\n",
            "Trial summary\n",
            "Hyperparameters:\n",
            "filters1: 192\n",
            "kernel_size1: 3\n",
            "regularizers1: l1_l2\n",
            "dropout1: 0.3\n",
            "filters2: 256\n",
            "kernel_size2: 3\n",
            "regularizers2: L2\n",
            "dropout2: 0.5\n",
            "filters3: 192\n",
            "kernel_size3: 4\n",
            "regularizers3: L2\n",
            "dropout3: 0.4\n",
            "optimizer: adam\n",
            "Score: 0.9472140669822693\n",
            "Trial summary\n",
            "Hyperparameters:\n",
            "filters1: 256\n",
            "kernel_size1: 4\n",
            "regularizers1: l1_l2\n",
            "dropout1: 0.5\n",
            "filters2: 192\n",
            "kernel_size2: 3\n",
            "regularizers2: L2\n",
            "dropout2: 0.5\n",
            "filters3: 256\n",
            "kernel_size3: 4\n",
            "regularizers3: L2\n",
            "dropout3: 0.5\n",
            "optimizer: adam\n",
            "Score: 0.9472140669822693\n",
            "Trial summary\n",
            "Hyperparameters:\n",
            "filters1: 256\n",
            "kernel_size1: 3\n",
            "regularizers1: l1_l2\n",
            "dropout1: 0.4\n",
            "filters2: 128\n",
            "kernel_size2: 4\n",
            "regularizers2: l1_l2\n",
            "dropout2: 0.5\n",
            "filters3: 192\n",
            "kernel_size3: 3\n",
            "regularizers3: L2\n",
            "dropout3: 0.4\n",
            "optimizer: adam\n",
            "Score: 0.9472140669822693\n",
            "Trial summary\n",
            "Hyperparameters:\n",
            "filters1: 256\n",
            "kernel_size1: 4\n",
            "regularizers1: l1_l2\n",
            "dropout1: 0.3\n",
            "filters2: 192\n",
            "kernel_size2: 4\n",
            "regularizers2: l1_l2\n",
            "dropout2: 0.4\n",
            "filters3: 128\n",
            "kernel_size3: 4\n",
            "regularizers3: L2\n",
            "dropout3: 0.3\n",
            "optimizer: adam\n",
            "Score: 0.9472140669822693\n",
            "Trial summary\n",
            "Hyperparameters:\n",
            "filters1: 192\n",
            "kernel_size1: 4\n",
            "regularizers1: L2\n",
            "dropout1: 0.4\n",
            "filters2: 192\n",
            "kernel_size2: 3\n",
            "regularizers2: l1_l2\n",
            "dropout2: 0.4\n",
            "filters3: 192\n",
            "kernel_size3: 4\n",
            "regularizers3: L2\n",
            "dropout3: 0.4\n",
            "optimizer: adam\n",
            "Score: 0.9442815184593201\n",
            "Trial summary\n",
            "Hyperparameters:\n",
            "filters1: 192\n",
            "kernel_size1: 3\n",
            "regularizers1: l1_l2\n",
            "dropout1: 0.4\n",
            "filters2: 192\n",
            "kernel_size2: 4\n",
            "regularizers2: l1_l2\n",
            "dropout2: 0.3\n",
            "filters3: 256\n",
            "kernel_size3: 3\n",
            "regularizers3: L2\n",
            "dropout3: 0.5\n",
            "optimizer: adam\n",
            "Score: 0.9442815184593201\n",
            "Trial summary\n",
            "Hyperparameters:\n",
            "filters1: 192\n",
            "kernel_size1: 3\n",
            "regularizers1: l1_l2\n",
            "dropout1: 0.4\n",
            "filters2: 192\n",
            "kernel_size2: 3\n",
            "regularizers2: L2\n",
            "dropout2: 0.4\n",
            "filters3: 192\n",
            "kernel_size3: 3\n",
            "regularizers3: L2\n",
            "dropout3: 0.5\n",
            "optimizer: adam\n",
            "Score: 0.9442815184593201\n",
            "Trial summary\n",
            "Hyperparameters:\n",
            "filters1: 128\n",
            "kernel_size1: 3\n",
            "regularizers1: l1_l2\n",
            "dropout1: 0.3\n",
            "filters2: 128\n",
            "kernel_size2: 3\n",
            "regularizers2: L2\n",
            "dropout2: 0.5\n",
            "filters3: 128\n",
            "kernel_size3: 4\n",
            "regularizers3: L2\n",
            "dropout3: 0.5\n",
            "optimizer: adam\n",
            "Score: 0.9442815184593201\n",
            "Trial summary\n",
            "Hyperparameters:\n",
            "filters1: 192\n",
            "kernel_size1: 3\n",
            "regularizers1: L2\n",
            "dropout1: 0.3\n",
            "filters2: 192\n",
            "kernel_size2: 4\n",
            "regularizers2: L2\n",
            "dropout2: 0.4\n",
            "filters3: 192\n",
            "kernel_size3: 3\n",
            "regularizers3: L2\n",
            "dropout3: 0.4\n",
            "optimizer: adam\n",
            "Score: 0.9442815184593201\n",
            "Trial summary\n",
            "Hyperparameters:\n",
            "filters1: 192\n",
            "kernel_size1: 4\n",
            "regularizers1: l1_l2\n",
            "dropout1: 0.4\n",
            "filters2: 256\n",
            "kernel_size2: 4\n",
            "regularizers2: L2\n",
            "dropout2: 0.3\n",
            "filters3: 128\n",
            "kernel_size3: 4\n",
            "regularizers3: L2\n",
            "dropout3: 0.5\n",
            "optimizer: adam\n",
            "Score: 0.9413489699363708\n"
          ]
        }
      ]
    },
    {
      "cell_type": "markdown",
      "source": [
        "# Cross-validation based on tune model"
      ],
      "metadata": {
        "id": "3NEfeodtXpYa"
      }
    },
    {
      "cell_type": "markdown",
      "source": [
        "## FOLD 1"
      ],
      "metadata": {
        "id": "BbqH5gvi4e8H"
      }
    },
    {
      "cell_type": "code",
      "source": [
        "acc_per_fold = []\n",
        "loss_per_fold = []"
      ],
      "metadata": {
        "id": "ulN7fjmqJ6Kw"
      },
      "execution_count": 45,
      "outputs": []
    },
    {
      "cell_type": "code",
      "source": [
        "def make_model(input_shape):\n",
        "    input_layer = keras.layers.Input(input_shape)\n",
        "\n",
        "    conv1 = keras.layers.Conv1D(filters=192, kernel_size=4, kernel_regularizer=regularizers.l1_l2(l1=0.001, l2=0.001), padding=\"same\")(input_layer)\n",
        "    conv1 = keras.layers.BatchNormalization()(conv1)\n",
        "    conv1 = keras.layers.ReLU()(conv1)\n",
        "    conv1 = keras.layers.Dropout(0.5)(conv1)\n",
        "\n",
        "    conv2 = keras.layers.Conv1D(filters=192, kernel_size=4, kernel_regularizer=regularizers.l1_l2(l1=0.001, l2=0.001), padding=\"same\")(conv1)\n",
        "    conv2 = keras.layers.BatchNormalization()(conv2)\n",
        "    conv2 = keras.layers.ReLU()(conv2)\n",
        "    conv2 = keras.layers.Dropout(0.5)(conv2)\n",
        "\n",
        "    conv3 = keras.layers.Conv1D(filters=192, kernel_size=4, kernel_regularizer=regularizers.l1_l2(l1=0.001, l2=0.001), padding=\"same\")(conv2)\n",
        "    conv3 = keras.layers.BatchNormalization()(conv3)\n",
        "    conv3 = keras.layers.ReLU()(conv3)\n",
        "    conv3 = keras.layers.Dropout(0.5)(conv3)\n",
        "\n",
        "    gap = keras.layers.GlobalAveragePooling1D()(conv3)\n",
        "\n",
        "    output_layer = keras.layers.Dense(7, activation=\"softmax\")(gap)\n",
        "\n",
        "    return keras.models.Model(inputs=input_layer, outputs=output_layer)"
      ],
      "metadata": {
        "id": "lSFCxwpL4e8H"
      },
      "execution_count": 5,
      "outputs": []
    },
    {
      "cell_type": "code",
      "source": [
        "model = make_model(input_shape=X_train1.shape[1:])\n",
        "\n",
        "epochs = 500\n",
        "batch_size = 32\n",
        "\n",
        "callbacks = [\n",
        "    keras.callbacks.ModelCheckpoint(\n",
        "        \"model2_fold1.h5\", save_best_only=True, monitor=\"val_loss\"\n",
        "    ),\n",
        "    keras.callbacks.ReduceLROnPlateau(\n",
        "        monitor=\"val_loss\", factor=0.5, patience=20, min_lr=0.0001\n",
        "    ),\n",
        "    keras.callbacks.EarlyStopping(monitor=\"val_loss\", patience=50, verbose=1),\n",
        "]\n",
        "model.compile(\n",
        "    optimizer=\"adam\",\n",
        "    loss=\"sparse_categorical_crossentropy\",\n",
        "    metrics=[\"sparse_categorical_accuracy\"],\n",
        ")\n",
        "history = model.fit(\n",
        "    X_train1,\n",
        "    y_train1,\n",
        "    batch_size=batch_size,\n",
        "    epochs=epochs,\n",
        "    callbacks=callbacks,\n",
        "    validation_data=(X_valid1,y_valid1),\n",
        "    verbose=1,\n",
        ")"
      ],
      "metadata": {
        "id": "nWen7yX24e8I"
      },
      "execution_count": null,
      "outputs": []
    },
    {
      "cell_type": "code",
      "source": [
        "metric = \"sparse_categorical_accuracy\"\n",
        "\n",
        "plt.plot(history.history[metric])\n",
        "plt.plot(history.history[\"val_\" + metric])\n",
        "plt.title(\"model \" + metric)\n",
        "plt.ylabel(metric, fontsize=\"large\")\n",
        "plt.xlabel(\"epoch\", fontsize=\"large\")\n",
        "plt.legend([\"train\", \"val\"], loc=\"best\")\n",
        "plt.show()\n",
        "plt.close()\n",
        "\n",
        "plt.plot(history.history['loss'])\n",
        "plt.plot(history.history[\"val_loss\"])\n",
        "plt.title(\"model \" + metric)\n",
        "plt.ylabel('loss', fontsize=\"large\")\n",
        "plt.xlabel(\"epoch\", fontsize=\"large\")\n",
        "plt.legend([\"train\", \"val\"], loc=\"best\")\n",
        "plt.show()\n",
        "plt.close()"
      ],
      "metadata": {
        "colab": {
          "base_uri": "https://localhost:8080/",
          "height": 579
        },
        "outputId": "bfc479b0-1142-4cb3-cf1f-9e0581dae275",
        "id": "2bkFymnc4e8I"
      },
      "execution_count": 48,
      "outputs": [
        {
          "output_type": "display_data",
          "data": {
            "text/plain": [
              "<Figure size 432x288 with 1 Axes>"
            ],
            "image/png": "[encoded data removed]"
          },
          "metadata": {
            "needs_background": "light"
          }
        },
        {
          "output_type": "display_data",
          "data": {
            "text/plain": [
              "<Figure size 432x288 with 1 Axes>"
            ],
            "image/png": "[encoded data removed]"
          },
          "metadata": {
            "needs_background": "light"
          }
        }
      ]
    },
    {
      "cell_type": "code",
      "source": [
        "score1 = model.evaluate(X_valid1, y_valid1, verbose=0)\n",
        "print(f'Score for fold 1: {model.metrics_names[0]} of {score1[0]}; {model.metrics_names[1]} of {score1[1]*100}%')\n",
        "acc_per_fold.append(score1[1] * 100)\n",
        "loss_per_fold.append(score1[0])"
      ],
      "metadata": {
        "id": "HXyp2UCaKv3l",
        "colab": {
          "base_uri": "https://localhost:8080/"
        },
        "outputId": "0292a013-695b-4d56-d523-359bc3978f83"
      },
      "execution_count": 49,
      "outputs": [
        {
          "output_type": "stream",
          "name": "stdout",
          "text": [
            "Score for fold 1: loss of 0.2559625804424286; sparse_categorical_accuracy of 92.9411768913269%\n"
          ]
        }
      ]
    },
    {
      "cell_type": "markdown",
      "source": [
        "## FOLD 2"
      ],
      "metadata": {
        "id": "mdFDY-DH5VYk"
      }
    },
    {
      "cell_type": "code",
      "source": [
        "model = make_model(input_shape=X_train2.shape[1:])"
      ],
      "metadata": {
        "id": "4jvj66kK5VYk"
      },
      "execution_count": 50,
      "outputs": []
    },
    {
      "cell_type": "code",
      "source": [
        "epochs = 500\n",
        "batch_size = 32\n",
        "\n",
        "callbacks = [\n",
        "    keras.callbacks.ModelCheckpoint(\n",
        "        \"model2_fold2.h5\", save_best_only=True, monitor=\"val_loss\"\n",
        "    ),\n",
        "    keras.callbacks.ReduceLROnPlateau(\n",
        "        monitor=\"val_loss\", factor=0.5, patience=20, min_lr=0.0001\n",
        "    ),\n",
        "    keras.callbacks.EarlyStopping(monitor=\"val_loss\", patience=50, verbose=1),\n",
        "]\n",
        "model.compile(\n",
        "    optimizer=\"adam\",\n",
        "    loss=\"sparse_categorical_crossentropy\",\n",
        "    metrics=[\"sparse_categorical_accuracy\"],\n",
        ")\n",
        "history = model.fit(\n",
        "    X_train2,\n",
        "    y_train2,\n",
        "    batch_size=batch_size,\n",
        "    epochs=epochs,\n",
        "    callbacks=callbacks,\n",
        "    validation_data=(X_valid2,y_valid2),\n",
        "    verbose=1,\n",
        ")"
      ],
      "metadata": {
        "id": "4R06zYfE5VYk"
      },
      "execution_count": null,
      "outputs": []
    },
    {
      "cell_type": "code",
      "source": [
        "metric = \"sparse_categorical_accuracy\"\n",
        "\n",
        "plt.plot(history.history[metric])\n",
        "plt.plot(history.history[\"val_\" + metric])\n",
        "plt.title(\"model \" + metric)\n",
        "plt.ylabel(metric, fontsize=\"large\")\n",
        "plt.xlabel(\"epoch\", fontsize=\"large\")\n",
        "plt.legend([\"train\", \"val\"], loc=\"best\")\n",
        "plt.show()\n",
        "plt.close()\n",
        "\n",
        "plt.plot(history.history['loss'])\n",
        "plt.plot(history.history[\"val_loss\"])\n",
        "plt.title(\"model \" + metric)\n",
        "plt.ylabel('loss', fontsize=\"large\")\n",
        "plt.xlabel(\"epoch\", fontsize=\"large\")\n",
        "plt.legend([\"train\", \"val\"], loc=\"best\")\n",
        "plt.show()\n",
        "plt.close()"
      ],
      "metadata": {
        "colab": {
          "base_uri": "https://localhost:8080/",
          "height": 579
        },
        "id": "1-0WKaKS5VYl",
        "outputId": "72cb26e8-9b4c-47dc-b6d4-da4f6a3b03e8"
      },
      "execution_count": 52,
      "outputs": [
        {
          "output_type": "display_data",
          "data": {
            "text/plain": [
              "<Figure size 432x288 with 1 Axes>"
            ],
            "image/png": "[encoded data removed]"
          },
          "metadata": {
            "needs_background": "light"
          }
        },
        {
          "output_type": "display_data",
          "data": {
            "text/plain": [
              "<Figure size 432x288 with 1 Axes>"
            ],
            "image/png": "[encoded data removed]"
          },
          "metadata": {
            "needs_background": "light"
          }
        }
      ]
    },
    {
      "cell_type": "code",
      "source": [
        "score2 = model.evaluate(X_valid2, y_valid2, verbose=0)\n",
        "print(f'Score for fold 2: {model.metrics_names[0]} of {score2[0]}; {model.metrics_names[1]} of {score2[1]*100}%')\n",
        "acc_per_fold.append(score2[1] * 100)\n",
        "loss_per_fold.append(score2[0])"
      ],
      "metadata": {
        "id": "RfufUGXWKo-c",
        "colab": {
          "base_uri": "https://localhost:8080/"
        },
        "outputId": "e99f5c00-2b00-451f-a567-2841c10c567a"
      },
      "execution_count": 53,
      "outputs": [
        {
          "output_type": "stream",
          "name": "stdout",
          "text": [
            "Score for fold 2: loss of 0.25764724612236023; sparse_categorical_accuracy of 92.9411768913269%\n"
          ]
        }
      ]
    },
    {
      "cell_type": "markdown",
      "source": [
        "##FOLD 3"
      ],
      "metadata": {
        "id": "K-33iNBQ5jqz"
      }
    },
    {
      "cell_type": "code",
      "source": [
        "model = make_model(input_shape=X_train3.shape[1:])"
      ],
      "metadata": {
        "id": "xay_iObQ5jq0"
      },
      "execution_count": 54,
      "outputs": []
    },
    {
      "cell_type": "code",
      "source": [
        "epochs = 500\n",
        "batch_size = 32\n",
        "\n",
        "callbacks = [\n",
        "    keras.callbacks.ModelCheckpoint(\n",
        "        \"model2_fold3.h5\", save_best_only=True, monitor=\"val_loss\"\n",
        "    ),\n",
        "    keras.callbacks.ReduceLROnPlateau(\n",
        "        monitor=\"val_loss\", factor=0.5, patience=20, min_lr=0.0001\n",
        "    ),\n",
        "    keras.callbacks.EarlyStopping(monitor=\"val_loss\", patience=50, verbose=1),\n",
        "]\n",
        "model.compile(\n",
        "    optimizer=\"adam\",\n",
        "    loss=\"sparse_categorical_crossentropy\",\n",
        "    metrics=[\"sparse_categorical_accuracy\"],\n",
        ")\n",
        "history = model.fit(\n",
        "    X_train3,\n",
        "    y_train3,\n",
        "    batch_size=batch_size,\n",
        "    epochs=epochs,\n",
        "    callbacks=callbacks,\n",
        "    validation_data=(X_valid3,y_valid3),\n",
        "    verbose=1,\n",
        ")"
      ],
      "metadata": {
        "id": "9TVK2mSH5jq0"
      },
      "execution_count": null,
      "outputs": []
    },
    {
      "cell_type": "code",
      "source": [
        "metric = \"sparse_categorical_accuracy\"\n",
        "\n",
        "plt.plot(history.history[metric])\n",
        "plt.plot(history.history[\"val_\" + metric])\n",
        "plt.title(\"model \" + metric)\n",
        "plt.ylabel(metric, fontsize=\"large\")\n",
        "plt.xlabel(\"epoch\", fontsize=\"large\")\n",
        "plt.legend([\"train\", \"val\"], loc=\"best\")\n",
        "plt.show()\n",
        "plt.close()\n",
        "\n",
        "plt.plot(history.history['loss'])\n",
        "plt.plot(history.history[\"val_loss\"])\n",
        "plt.title(\"model \" + metric)\n",
        "plt.ylabel('loss', fontsize=\"large\")\n",
        "plt.xlabel(\"epoch\", fontsize=\"large\")\n",
        "plt.legend([\"train\", \"val\"], loc=\"best\")\n",
        "plt.show()\n",
        "plt.close()"
      ],
      "metadata": {
        "colab": {
          "base_uri": "https://localhost:8080/",
          "height": 579
        },
        "id": "S9Y-NcXL5jq0",
        "outputId": "25fe207d-8628-45f2-c9f6-9c204a0ac0fc"
      },
      "execution_count": 56,
      "outputs": [
        {
          "output_type": "display_data",
          "data": {
            "text/plain": [
              "<Figure size 432x288 with 1 Axes>"
            ],
            "image/png": "[encoded data removed]"
          },
          "metadata": {
            "needs_background": "light"
          }
        },
        {
          "output_type": "display_data",
          "data": {
            "text/plain": [
              "<Figure size 432x288 with 1 Axes>"
            ],
            "image/png": "[encoded data removed]"
          },
          "metadata": {
            "needs_background": "light"
          }
        }
      ]
    },
    {
      "cell_type": "code",
      "source": [
        "score3 = model.evaluate(X_valid3, y_valid3, verbose=0)\n",
        "print(f'Score for fold 3: {model.metrics_names[0]} of {score3[0]}; {model.metrics_names[1]} of {score3[1]*100}%')\n",
        "acc_per_fold.append(score3[1] * 100)\n",
        "loss_per_fold.append(score3[0])"
      ],
      "metadata": {
        "id": "19nKuqCUKf0q",
        "colab": {
          "base_uri": "https://localhost:8080/"
        },
        "outputId": "d2d1cf42-9ece-45cb-b0de-35c0f5045c50"
      },
      "execution_count": 57,
      "outputs": [
        {
          "output_type": "stream",
          "name": "stdout",
          "text": [
            "Score for fold 3: loss of 0.24180373549461365; sparse_categorical_accuracy of 93.82352828979492%\n"
          ]
        }
      ]
    },
    {
      "cell_type": "markdown",
      "source": [
        "## FOLD 4"
      ],
      "metadata": {
        "id": "5d7jNo-X-_m8"
      }
    },
    {
      "cell_type": "code",
      "source": [
        "model = make_model(input_shape=X_train4.shape[1:])"
      ],
      "metadata": {
        "id": "ANpYfsjD-_m8"
      },
      "execution_count": 58,
      "outputs": []
    },
    {
      "cell_type": "code",
      "source": [
        "epochs = 500\n",
        "batch_size = 32\n",
        "\n",
        "callbacks = [\n",
        "    keras.callbacks.ModelCheckpoint(\n",
        "        \"model2_fold4.h5\", save_best_only=True, monitor=\"val_loss\"\n",
        "    ),\n",
        "    keras.callbacks.ReduceLROnPlateau(\n",
        "        monitor=\"val_loss\", factor=0.5, patience=20, min_lr=0.0001\n",
        "    ),\n",
        "    keras.callbacks.EarlyStopping(monitor=\"val_loss\", patience=50, verbose=1),\n",
        "]\n",
        "model.compile(\n",
        "    optimizer=\"adam\",\n",
        "    loss=\"sparse_categorical_crossentropy\",\n",
        "    metrics=[\"sparse_categorical_accuracy\"],\n",
        ")\n",
        "history = model.fit(\n",
        "    X_train4,\n",
        "    y_train4,\n",
        "    batch_size=batch_size,\n",
        "    epochs=epochs,\n",
        "    callbacks=callbacks,\n",
        "    validation_data=(X_valid4,y_valid4),\n",
        "    verbose=1,\n",
        ")"
      ],
      "metadata": {
        "id": "lAxZo7FL-_m9"
      },
      "execution_count": null,
      "outputs": []
    },
    {
      "cell_type": "code",
      "source": [
        "metric = \"sparse_categorical_accuracy\"\n",
        "\n",
        "plt.plot(history.history[metric])\n",
        "plt.plot(history.history[\"val_\" + metric])\n",
        "plt.title(\"model \" + metric)\n",
        "plt.ylabel(metric, fontsize=\"large\")\n",
        "plt.xlabel(\"epoch\", fontsize=\"large\")\n",
        "plt.legend([\"train\", \"val\"], loc=\"best\")\n",
        "plt.show()\n",
        "plt.close()\n",
        "\n",
        "plt.plot(history.history['loss'])\n",
        "plt.plot(history.history[\"val_loss\"])\n",
        "plt.title(\"model \" + metric)\n",
        "plt.ylabel('loss', fontsize=\"large\")\n",
        "plt.xlabel(\"epoch\", fontsize=\"large\")\n",
        "plt.legend([\"train\", \"val\"], loc=\"best\")\n",
        "plt.show()\n",
        "plt.close()"
      ],
      "metadata": {
        "id": "8rFyytAf-_m9",
        "colab": {
          "base_uri": "https://localhost:8080/",
          "height": 579
        },
        "outputId": "88970a4e-a5bf-4147-c0aa-61ad9ed6b71f"
      },
      "execution_count": 60,
      "outputs": [
        {
          "output_type": "display_data",
          "data": {
            "text/plain": [
              "<Figure size 432x288 with 1 Axes>"
            ],
            "image/png": "[encoded data removed]"
          },
          "metadata": {
            "needs_background": "light"
          }
        },
        {
          "output_type": "display_data",
          "data": {
            "text/plain": [
              "<Figure size 432x288 with 1 Axes>"
            ],
            "image/png": "[encoded data removed]"
          },
          "metadata": {
            "needs_background": "light"
          }
        }
      ]
    },
    {
      "cell_type": "code",
      "source": [
        "score4 = model.evaluate(X_valid4, y_valid4, verbose=0)\n",
        "print(f'Score for fold 4: {model.metrics_names[0]} of {score4[0]}; {model.metrics_names[1]} of {score4[1]*100}%')\n",
        "acc_per_fold.append(score4[1] * 100)\n",
        "loss_per_fold.append(score4[0])"
      ],
      "metadata": {
        "id": "Qbt2UiiNKWmB",
        "colab": {
          "base_uri": "https://localhost:8080/"
        },
        "outputId": "2b4875d7-6756-4a70-fffa-516e0f7cc3bf"
      },
      "execution_count": 61,
      "outputs": [
        {
          "output_type": "stream",
          "name": "stdout",
          "text": [
            "Score for fold 4: loss of 0.1920248121023178; sparse_categorical_accuracy of 95.6011712551117%\n"
          ]
        }
      ]
    },
    {
      "cell_type": "markdown",
      "source": [
        "## FOLD 5"
      ],
      "metadata": {
        "id": "wNHq5n-2_HYx"
      }
    },
    {
      "cell_type": "code",
      "source": [
        "model = make_model(input_shape=X_train5.shape[1:])"
      ],
      "metadata": {
        "id": "-gt3WKZi_HYy"
      },
      "execution_count": 62,
      "outputs": []
    },
    {
      "cell_type": "code",
      "source": [
        "epochs = 500\n",
        "batch_size = 32\n",
        "\n",
        "callbacks = [\n",
        "    keras.callbacks.ModelCheckpoint(\n",
        "        \"model2_fold5.h5\", save_best_only=True, monitor=\"val_loss\"\n",
        "    ),\n",
        "    keras.callbacks.ReduceLROnPlateau(\n",
        "        monitor=\"val_loss\", factor=0.5, patience=20, min_lr=0.0001\n",
        "    ),\n",
        "    keras.callbacks.EarlyStopping(monitor=\"val_loss\", patience=50, verbose=1),\n",
        "]\n",
        "model.compile(\n",
        "    optimizer=\"adam\",\n",
        "    loss=\"sparse_categorical_crossentropy\",\n",
        "    metrics=[\"sparse_categorical_accuracy\"],\n",
        ")\n",
        "history = model.fit(\n",
        "    X_train5,\n",
        "    y_train5,\n",
        "    batch_size=batch_size,\n",
        "    epochs=epochs,\n",
        "    callbacks=callbacks,\n",
        "    validation_data=(X_valid5,y_valid5),\n",
        "    verbose=1,\n",
        ")"
      ],
      "metadata": {
        "id": "xuiQgMit_HYy"
      },
      "execution_count": null,
      "outputs": []
    },
    {
      "cell_type": "code",
      "source": [
        "metric = \"sparse_categorical_accuracy\"\n",
        "\n",
        "plt.plot(history.history[metric])\n",
        "plt.plot(history.history[\"val_\" + metric])\n",
        "plt.title(\"model \" + metric)\n",
        "plt.ylabel(metric, fontsize=\"large\")\n",
        "plt.xlabel(\"epoch\", fontsize=\"large\")\n",
        "plt.legend([\"train\", \"val\"], loc=\"best\")\n",
        "plt.show()\n",
        "plt.close()\n",
        "\n",
        "plt.plot(history.history['loss'])\n",
        "plt.plot(history.history[\"val_loss\"])\n",
        "plt.title(\"model \" + metric)\n",
        "plt.ylabel('loss', fontsize=\"large\")\n",
        "plt.xlabel(\"epoch\", fontsize=\"large\")\n",
        "plt.legend([\"train\", \"val\"], loc=\"best\")\n",
        "plt.show()\n",
        "plt.close()"
      ],
      "metadata": {
        "id": "DpscWmio_HYy",
        "colab": {
          "base_uri": "https://localhost:8080/",
          "height": 579
        },
        "outputId": "7069e22c-ec71-4d5c-e415-8e7be88518e7"
      },
      "execution_count": 64,
      "outputs": [
        {
          "output_type": "display_data",
          "data": {
            "text/plain": [
              "<Figure size 432x288 with 1 Axes>"
            ],
            "image/png": "[encoded data removed]"
          },
          "metadata": {
            "needs_background": "light"
          }
        },
        {
          "output_type": "display_data",
          "data": {
            "text/plain": [
              "<Figure size 432x288 with 1 Axes>"
            ],
            "image/png": "[encoded data removed]"
          },
          "metadata": {
            "needs_background": "light"
          }
        }
      ]
    },
    {
      "cell_type": "code",
      "source": [
        "score5 = model.evaluate(X_valid5, y_valid5, verbose=0)\n",
        "print(f'Score for fold 5: {model.metrics_names[0]} of {score5[0]}; {model.metrics_names[1]} of {score5[1]*100}%')\n",
        "acc_per_fold.append(score5[1] * 100)\n",
        "loss_per_fold.append(score5[0])"
      ],
      "metadata": {
        "id": "lK2pxnTLKBao",
        "colab": {
          "base_uri": "https://localhost:8080/"
        },
        "outputId": "287921ca-c41e-40a2-e906-3173b1561632"
      },
      "execution_count": 65,
      "outputs": [
        {
          "output_type": "stream",
          "name": "stdout",
          "text": [
            "Score for fold 5: loss of 0.2988708019256592; sparse_categorical_accuracy of 91.76470637321472%\n"
          ]
        }
      ]
    },
    {
      "cell_type": "markdown",
      "source": [
        "## Total cross-validation scores"
      ],
      "metadata": {
        "id": "V_ZdTSFzJylv"
      }
    },
    {
      "cell_type": "code",
      "source": [
        "print('------------------------------------------------------------------------')\n",
        "print('Score per fold')\n",
        "for i in range(0, len(acc_per_fold)):\n",
        "  print('------------------------------------------------------------------------')\n",
        "  print(f'> Fold {i+1} - Loss: {loss_per_fold[i]} - Accuracy: {acc_per_fold[i]}%')\n",
        "print('------------------------------------------------------------------------')\n",
        "print('Average scores for all folds:')\n",
        "print(f'> Accuracy: {np.mean(acc_per_fold)} (+- {np.std(acc_per_fold)})')\n",
        "print(f'> Loss: {np.mean(loss_per_fold)}')\n",
        "print('------------------------------------------------------------------------')"
      ],
      "metadata": {
        "id": "EgJW7kvvJyCF",
        "colab": {
          "base_uri": "https://localhost:8080/"
        },
        "outputId": "6f3d9b34-c428-4984-b158-fb5569aa011d"
      },
      "execution_count": 66,
      "outputs": [
        {
          "output_type": "stream",
          "name": "stdout",
          "text": [
            "------------------------------------------------------------------------\n",
            "Score per fold\n",
            "------------------------------------------------------------------------\n",
            "> Fold 1 - Loss: 0.2559625804424286 - Accuracy: 92.9411768913269%\n",
            "------------------------------------------------------------------------\n",
            "> Fold 2 - Loss: 0.25764724612236023 - Accuracy: 92.9411768913269%\n",
            "------------------------------------------------------------------------\n",
            "> Fold 3 - Loss: 0.24180373549461365 - Accuracy: 93.82352828979492%\n",
            "------------------------------------------------------------------------\n",
            "> Fold 4 - Loss: 0.1920248121023178 - Accuracy: 95.6011712551117%\n",
            "------------------------------------------------------------------------\n",
            "> Fold 5 - Loss: 0.2988708019256592 - Accuracy: 91.76470637321472%\n",
            "------------------------------------------------------------------------\n",
            "Average scores for all folds:\n",
            "> Accuracy: 93.41435194015503 (+- 1.274262433846731)\n",
            "> Loss: 0.24926183521747589\n",
            "------------------------------------------------------------------------\n"
          ]
        }
      ]
    },
    {
      "cell_type": "markdown",
      "source": [
        "# Train on full dataset and evaluate on test set"
      ],
      "metadata": {
        "id": "ej4iplIE1yIl"
      }
    },
    {
      "cell_type": "code",
      "source": [
        "model = make_model(input_shape=X_train_all.shape[1:])\n",
        "\n",
        "epochs = 500\n",
        "batch_size = 32\n",
        "\n",
        "callbacks = [\n",
        "    keras.callbacks.ModelCheckpoint(\n",
        "        \"model_train_all5.h5\", save_best_only=True, monitor=\"loss\"\n",
        "    ),\n",
        "    keras.callbacks.ReduceLROnPlateau(\n",
        "        monitor=\"loss\", factor=0.5, patience=20, min_lr=0.0001\n",
        "    ),\n",
        "    keras.callbacks.EarlyStopping(monitor=\"loss\", patience=50, verbose=1),\n",
        "]\n",
        "model.compile(\n",
        "    optimizer=\"adam\",\n",
        "    loss=\"sparse_categorical_crossentropy\",\n",
        "    metrics=[\"sparse_categorical_accuracy\"]\n",
        ")\n",
        "history = model.fit(\n",
        "    X_train_all,\n",
        "    y_train_all,\n",
        "    batch_size=batch_size,\n",
        "    epochs=epochs,\n",
        "    callbacks=callbacks,\n",
        "    verbose=1,\n",
        ")"
      ],
      "metadata": {
        "id": "IOsdA1FtOYd9",
        "colab": {
          "base_uri": "https://localhost:8080/"
        },
        "outputId": "30a4fce8-adc6-40f6-8127-5cb58816f269"
      },
      "execution_count": 6,
      "outputs": [
        {
          "output_type": "stream",
          "name": "stdout",
          "text": [
            "Epoch 1/500\n",
            "83/83 [==============================] - 13s 12ms/step - loss: 5.0681 - sparse_categorical_accuracy: 0.6759 - lr: 0.0010\n",
            "Epoch 2/500\n",
            "83/83 [==============================] - 1s 12ms/step - loss: 1.3265 - sparse_categorical_accuracy: 0.8177 - lr: 0.0010\n",
            "Epoch 3/500\n",
            "83/83 [==============================] - 1s 12ms/step - loss: 1.1148 - sparse_categorical_accuracy: 0.8306 - lr: 0.0010\n",
            "Epoch 4/500\n",
            "83/83 [==============================] - 1s 12ms/step - loss: 1.0135 - sparse_categorical_accuracy: 0.8487 - lr: 0.0010\n",
            "Epoch 5/500\n",
            "83/83 [==============================] - 1s 12ms/step - loss: 0.9668 - sparse_categorical_accuracy: 0.8552 - lr: 0.0010\n",
            "Epoch 6/500\n",
            "83/83 [==============================] - 1s 12ms/step - loss: 0.9194 - sparse_categorical_accuracy: 0.8673 - lr: 0.0010\n",
            "Epoch 7/500\n",
            "83/83 [==============================] - 1s 12ms/step - loss: 0.9133 - sparse_categorical_accuracy: 0.8537 - lr: 0.0010\n",
            "Epoch 8/500\n",
            "83/83 [==============================] - 1s 12ms/step - loss: 0.8339 - sparse_categorical_accuracy: 0.8673 - lr: 0.0010\n",
            "Epoch 9/500\n",
            "83/83 [==============================] - 1s 12ms/step - loss: 0.7907 - sparse_categorical_accuracy: 0.8825 - lr: 0.0010\n",
            "Epoch 10/500\n",
            "83/83 [==============================] - 1s 11ms/step - loss: 0.8589 - sparse_categorical_accuracy: 0.8711 - lr: 0.0010\n",
            "Epoch 11/500\n",
            "83/83 [==============================] - 1s 11ms/step - loss: 0.7950 - sparse_categorical_accuracy: 0.8783 - lr: 0.0010\n",
            "Epoch 12/500\n",
            "83/83 [==============================] - 1s 11ms/step - loss: 0.8369 - sparse_categorical_accuracy: 0.8719 - lr: 0.0010\n",
            "Epoch 13/500\n",
            "83/83 [==============================] - 1s 12ms/step - loss: 0.6855 - sparse_categorical_accuracy: 0.8889 - lr: 0.0010\n",
            "Epoch 14/500\n",
            "83/83 [==============================] - 1s 11ms/step - loss: 0.8061 - sparse_categorical_accuracy: 0.8760 - lr: 0.0010\n",
            "Epoch 15/500\n",
            "83/83 [==============================] - 1s 11ms/step - loss: 0.7781 - sparse_categorical_accuracy: 0.8817 - lr: 0.0010\n",
            "Epoch 16/500\n",
            "83/83 [==============================] - 1s 11ms/step - loss: 0.7234 - sparse_categorical_accuracy: 0.8806 - lr: 0.0010\n",
            "Epoch 17/500\n",
            "83/83 [==============================] - 1s 12ms/step - loss: 0.6536 - sparse_categorical_accuracy: 0.8920 - lr: 0.0010\n",
            "Epoch 18/500\n",
            "83/83 [==============================] - 1s 11ms/step - loss: 0.7168 - sparse_categorical_accuracy: 0.8685 - lr: 0.0010\n",
            "Epoch 19/500\n",
            "83/83 [==============================] - 1s 11ms/step - loss: 0.6754 - sparse_categorical_accuracy: 0.8867 - lr: 0.0010\n",
            "Epoch 20/500\n",
            "83/83 [==============================] - 1s 12ms/step - loss: 0.6336 - sparse_categorical_accuracy: 0.8836 - lr: 0.0010\n",
            "Epoch 21/500\n",
            "83/83 [==============================] - 1s 12ms/step - loss: 0.5770 - sparse_categorical_accuracy: 0.8912 - lr: 0.0010\n",
            "Epoch 22/500\n",
            "83/83 [==============================] - 1s 11ms/step - loss: 0.5890 - sparse_categorical_accuracy: 0.8886 - lr: 0.0010\n",
            "Epoch 23/500\n",
            "83/83 [==============================] - 1s 12ms/step - loss: 0.5574 - sparse_categorical_accuracy: 0.9033 - lr: 0.0010\n",
            "Epoch 24/500\n",
            "83/83 [==============================] - 1s 12ms/step - loss: 0.5522 - sparse_categorical_accuracy: 0.8867 - lr: 0.0010\n",
            "Epoch 25/500\n",
            "83/83 [==============================] - 1s 11ms/step - loss: 0.6456 - sparse_categorical_accuracy: 0.8840 - lr: 0.0010\n",
            "Epoch 26/500\n",
            "83/83 [==============================] - 1s 12ms/step - loss: 0.5001 - sparse_categorical_accuracy: 0.9098 - lr: 0.0010\n",
            "Epoch 27/500\n",
            "83/83 [==============================] - 1s 11ms/step - loss: 0.5749 - sparse_categorical_accuracy: 0.8863 - lr: 0.0010\n",
            "Epoch 28/500\n",
            "83/83 [==============================] - 1s 11ms/step - loss: 0.5450 - sparse_categorical_accuracy: 0.8942 - lr: 0.0010\n",
            "Epoch 29/500\n",
            "83/83 [==============================] - 1s 11ms/step - loss: 0.5343 - sparse_categorical_accuracy: 0.8916 - lr: 0.0010\n",
            "Epoch 30/500\n",
            "83/83 [==============================] - 1s 11ms/step - loss: 0.5710 - sparse_categorical_accuracy: 0.8832 - lr: 0.0010\n",
            "Epoch 31/500\n",
            "83/83 [==============================] - 1s 12ms/step - loss: 0.4924 - sparse_categorical_accuracy: 0.9067 - lr: 0.0010\n",
            "Epoch 32/500\n",
            "83/83 [==============================] - 1s 12ms/step - loss: 0.4773 - sparse_categorical_accuracy: 0.9007 - lr: 0.0010\n",
            "Epoch 33/500\n",
            "83/83 [==============================] - 1s 11ms/step - loss: 0.5261 - sparse_categorical_accuracy: 0.8961 - lr: 0.0010\n",
            "Epoch 34/500\n",
            "83/83 [==============================] - 1s 12ms/step - loss: 0.4758 - sparse_categorical_accuracy: 0.8973 - lr: 0.0010\n",
            "Epoch 35/500\n",
            "83/83 [==============================] - 1s 11ms/step - loss: 0.5067 - sparse_categorical_accuracy: 0.8958 - lr: 0.0010\n",
            "Epoch 36/500\n",
            "83/83 [==============================] - 1s 11ms/step - loss: 0.4844 - sparse_categorical_accuracy: 0.9037 - lr: 0.0010\n",
            "Epoch 37/500\n",
            "83/83 [==============================] - 1s 11ms/step - loss: 0.5193 - sparse_categorical_accuracy: 0.8965 - lr: 0.0010\n",
            "Epoch 38/500\n",
            "83/83 [==============================] - 1s 11ms/step - loss: 0.5401 - sparse_categorical_accuracy: 0.8939 - lr: 0.0010\n",
            "Epoch 39/500\n",
            "83/83 [==============================] - 1s 11ms/step - loss: 0.4876 - sparse_categorical_accuracy: 0.9037 - lr: 0.0010\n",
            "Epoch 40/500\n",
            "83/83 [==============================] - 1s 11ms/step - loss: 0.4960 - sparse_categorical_accuracy: 0.8995 - lr: 0.0010\n",
            "Epoch 41/500\n",
            "83/83 [==============================] - 1s 11ms/step - loss: 0.4951 - sparse_categorical_accuracy: 0.9064 - lr: 0.0010\n",
            "Epoch 42/500\n",
            "83/83 [==============================] - 1s 11ms/step - loss: 0.5337 - sparse_categorical_accuracy: 0.8999 - lr: 0.0010\n",
            "Epoch 43/500\n",
            "83/83 [==============================] - 1s 11ms/step - loss: 0.4961 - sparse_categorical_accuracy: 0.8954 - lr: 0.0010\n",
            "Epoch 44/500\n",
            "83/83 [==============================] - 1s 12ms/step - loss: 0.4539 - sparse_categorical_accuracy: 0.9079 - lr: 0.0010\n",
            "Epoch 45/500\n",
            "83/83 [==============================] - 1s 11ms/step - loss: 0.5238 - sparse_categorical_accuracy: 0.8954 - lr: 0.0010\n",
            "Epoch 46/500\n",
            "83/83 [==============================] - 1s 11ms/step - loss: 0.4725 - sparse_categorical_accuracy: 0.9083 - lr: 0.0010\n",
            "Epoch 47/500\n",
            "83/83 [==============================] - 1s 11ms/step - loss: 0.4601 - sparse_categorical_accuracy: 0.9045 - lr: 0.0010\n",
            "Epoch 48/500\n",
            "83/83 [==============================] - 1s 12ms/step - loss: 0.4263 - sparse_categorical_accuracy: 0.9139 - lr: 0.0010\n",
            "Epoch 49/500\n",
            "83/83 [==============================] - 1s 11ms/step - loss: 0.5366 - sparse_categorical_accuracy: 0.8923 - lr: 0.0010\n",
            "Epoch 50/500\n",
            "83/83 [==============================] - 1s 11ms/step - loss: 0.4898 - sparse_categorical_accuracy: 0.9083 - lr: 0.0010\n",
            "Epoch 51/500\n",
            "83/83 [==============================] - 1s 11ms/step - loss: 0.4428 - sparse_categorical_accuracy: 0.9075 - lr: 0.0010\n",
            "Epoch 52/500\n",
            "83/83 [==============================] - 1s 12ms/step - loss: 0.4891 - sparse_categorical_accuracy: 0.9026 - lr: 0.0010\n",
            "Epoch 53/500\n",
            "83/83 [==============================] - 1s 11ms/step - loss: 0.4599 - sparse_categorical_accuracy: 0.9102 - lr: 0.0010\n",
            "Epoch 54/500\n",
            "83/83 [==============================] - 1s 11ms/step - loss: 0.4379 - sparse_categorical_accuracy: 0.9064 - lr: 0.0010\n",
            "Epoch 55/500\n",
            "83/83 [==============================] - 1s 11ms/step - loss: 0.4501 - sparse_categorical_accuracy: 0.9128 - lr: 0.0010\n",
            "Epoch 56/500\n",
            "83/83 [==============================] - 1s 11ms/step - loss: 0.4797 - sparse_categorical_accuracy: 0.9102 - lr: 0.0010\n",
            "Epoch 57/500\n",
            "83/83 [==============================] - 1s 11ms/step - loss: 0.4405 - sparse_categorical_accuracy: 0.9158 - lr: 0.0010\n",
            "Epoch 58/500\n",
            "83/83 [==============================] - 1s 11ms/step - loss: 0.5093 - sparse_categorical_accuracy: 0.9007 - lr: 0.0010\n",
            "Epoch 59/500\n",
            "83/83 [==============================] - 1s 11ms/step - loss: 0.4596 - sparse_categorical_accuracy: 0.9026 - lr: 0.0010\n",
            "Epoch 60/500\n",
            "83/83 [==============================] - 1s 11ms/step - loss: 0.4313 - sparse_categorical_accuracy: 0.9170 - lr: 0.0010\n",
            "Epoch 61/500\n",
            "83/83 [==============================] - 1s 11ms/step - loss: 0.4584 - sparse_categorical_accuracy: 0.9075 - lr: 0.0010\n",
            "Epoch 62/500\n",
            "83/83 [==============================] - 1s 11ms/step - loss: 0.4350 - sparse_categorical_accuracy: 0.9132 - lr: 0.0010\n",
            "Epoch 63/500\n",
            "83/83 [==============================] - 1s 11ms/step - loss: 0.4776 - sparse_categorical_accuracy: 0.9113 - lr: 0.0010\n",
            "Epoch 64/500\n",
            "83/83 [==============================] - 1s 12ms/step - loss: 0.4082 - sparse_categorical_accuracy: 0.9196 - lr: 0.0010\n",
            "Epoch 65/500\n",
            "83/83 [==============================] - 1s 11ms/step - loss: 0.4422 - sparse_categorical_accuracy: 0.9139 - lr: 0.0010\n",
            "Epoch 66/500\n",
            "83/83 [==============================] - 1s 11ms/step - loss: 0.5022 - sparse_categorical_accuracy: 0.9090 - lr: 0.0010\n",
            "Epoch 67/500\n",
            "83/83 [==============================] - 1s 11ms/step - loss: 0.4558 - sparse_categorical_accuracy: 0.9102 - lr: 0.0010\n",
            "Epoch 68/500\n",
            "83/83 [==============================] - 1s 11ms/step - loss: 0.4655 - sparse_categorical_accuracy: 0.9075 - lr: 0.0010\n",
            "Epoch 69/500\n",
            "83/83 [==============================] - 1s 11ms/step - loss: 0.4111 - sparse_categorical_accuracy: 0.9227 - lr: 0.0010\n",
            "Epoch 70/500\n",
            "83/83 [==============================] - 1s 11ms/step - loss: 0.4223 - sparse_categorical_accuracy: 0.9128 - lr: 0.0010\n",
            "Epoch 71/500\n",
            "83/83 [==============================] - 1s 11ms/step - loss: 0.5070 - sparse_categorical_accuracy: 0.9067 - lr: 0.0010\n",
            "Epoch 72/500\n",
            "83/83 [==============================] - 1s 11ms/step - loss: 0.4619 - sparse_categorical_accuracy: 0.9170 - lr: 0.0010\n",
            "Epoch 73/500\n",
            "83/83 [==============================] - 1s 11ms/step - loss: 0.4226 - sparse_categorical_accuracy: 0.9139 - lr: 0.0010\n",
            "Epoch 74/500\n",
            "83/83 [==============================] - 1s 11ms/step - loss: 0.4381 - sparse_categorical_accuracy: 0.9136 - lr: 0.0010\n",
            "Epoch 75/500\n",
            "83/83 [==============================] - 1s 11ms/step - loss: 0.4679 - sparse_categorical_accuracy: 0.9049 - lr: 0.0010\n",
            "Epoch 76/500\n",
            "83/83 [==============================] - 1s 11ms/step - loss: 0.4365 - sparse_categorical_accuracy: 0.9143 - lr: 0.0010\n",
            "Epoch 77/500\n",
            "83/83 [==============================] - 1s 12ms/step - loss: 0.4055 - sparse_categorical_accuracy: 0.9136 - lr: 0.0010\n",
            "Epoch 78/500\n",
            "83/83 [==============================] - 1s 12ms/step - loss: 0.3924 - sparse_categorical_accuracy: 0.9181 - lr: 0.0010\n",
            "Epoch 79/500\n",
            "83/83 [==============================] - 1s 11ms/step - loss: 0.3930 - sparse_categorical_accuracy: 0.9124 - lr: 0.0010\n",
            "Epoch 80/500\n",
            "83/83 [==============================] - 1s 12ms/step - loss: 0.4035 - sparse_categorical_accuracy: 0.9189 - lr: 0.0010\n",
            "Epoch 81/500\n",
            "83/83 [==============================] - 1s 12ms/step - loss: 0.3768 - sparse_categorical_accuracy: 0.9170 - lr: 0.0010\n",
            "Epoch 82/500\n",
            "83/83 [==============================] - 1s 12ms/step - loss: 0.3928 - sparse_categorical_accuracy: 0.9170 - lr: 0.0010\n",
            "Epoch 83/500\n",
            "83/83 [==============================] - 1s 11ms/step - loss: 0.4558 - sparse_categorical_accuracy: 0.9037 - lr: 0.0010\n",
            "Epoch 84/500\n",
            "83/83 [==============================] - 1s 11ms/step - loss: 0.4159 - sparse_categorical_accuracy: 0.9128 - lr: 0.0010\n",
            "Epoch 85/500\n",
            "83/83 [==============================] - 1s 11ms/step - loss: 0.4094 - sparse_categorical_accuracy: 0.9151 - lr: 0.0010\n",
            "Epoch 86/500\n",
            "83/83 [==============================] - 1s 11ms/step - loss: 0.5046 - sparse_categorical_accuracy: 0.9003 - lr: 0.0010\n",
            "Epoch 87/500\n",
            "83/83 [==============================] - 1s 11ms/step - loss: 0.4433 - sparse_categorical_accuracy: 0.9204 - lr: 0.0010\n",
            "Epoch 88/500\n",
            "83/83 [==============================] - 1s 12ms/step - loss: 0.3914 - sparse_categorical_accuracy: 0.9174 - lr: 0.0010\n",
            "Epoch 89/500\n",
            "83/83 [==============================] - 1s 12ms/step - loss: 0.3929 - sparse_categorical_accuracy: 0.9174 - lr: 0.0010\n",
            "Epoch 90/500\n",
            "83/83 [==============================] - 1s 12ms/step - loss: 0.4351 - sparse_categorical_accuracy: 0.9079 - lr: 0.0010\n",
            "Epoch 91/500\n",
            "83/83 [==============================] - 1s 12ms/step - loss: 0.3987 - sparse_categorical_accuracy: 0.9234 - lr: 0.0010\n",
            "Epoch 92/500\n",
            "83/83 [==============================] - 1s 11ms/step - loss: 0.3961 - sparse_categorical_accuracy: 0.9212 - lr: 0.0010\n",
            "Epoch 93/500\n",
            "83/83 [==============================] - 1s 11ms/step - loss: 0.4372 - sparse_categorical_accuracy: 0.9075 - lr: 0.0010\n",
            "Epoch 94/500\n",
            "83/83 [==============================] - 1s 12ms/step - loss: 0.4149 - sparse_categorical_accuracy: 0.9208 - lr: 0.0010\n",
            "Epoch 95/500\n",
            "83/83 [==============================] - 1s 12ms/step - loss: 0.4117 - sparse_categorical_accuracy: 0.9196 - lr: 0.0010\n",
            "Epoch 96/500\n",
            "83/83 [==============================] - 1s 12ms/step - loss: 0.4139 - sparse_categorical_accuracy: 0.9196 - lr: 0.0010\n",
            "Epoch 97/500\n",
            "83/83 [==============================] - 1s 11ms/step - loss: 0.4583 - sparse_categorical_accuracy: 0.9056 - lr: 0.0010\n",
            "Epoch 98/500\n",
            "83/83 [==============================] - 1s 12ms/step - loss: 0.4287 - sparse_categorical_accuracy: 0.9215 - lr: 0.0010\n",
            "Epoch 99/500\n",
            "83/83 [==============================] - 1s 12ms/step - loss: 0.4358 - sparse_categorical_accuracy: 0.9094 - lr: 0.0010\n",
            "Epoch 100/500\n",
            "83/83 [==============================] - 1s 11ms/step - loss: 0.4172 - sparse_categorical_accuracy: 0.9128 - lr: 0.0010\n",
            "Epoch 101/500\n",
            "83/83 [==============================] - 1s 12ms/step - loss: 0.4131 - sparse_categorical_accuracy: 0.9124 - lr: 0.0010\n",
            "Epoch 102/500\n",
            "83/83 [==============================] - 1s 12ms/step - loss: 0.3552 - sparse_categorical_accuracy: 0.9261 - lr: 5.0000e-04\n",
            "Epoch 103/500\n",
            "83/83 [==============================] - 1s 12ms/step - loss: 0.3207 - sparse_categorical_accuracy: 0.9340 - lr: 5.0000e-04\n",
            "Epoch 104/500\n",
            "83/83 [==============================] - 1s 12ms/step - loss: 0.3015 - sparse_categorical_accuracy: 0.9431 - lr: 5.0000e-04\n",
            "Epoch 105/500\n",
            "83/83 [==============================] - 1s 12ms/step - loss: 0.3050 - sparse_categorical_accuracy: 0.9352 - lr: 5.0000e-04\n",
            "Epoch 106/500\n",
            "83/83 [==============================] - 1s 12ms/step - loss: 0.3210 - sparse_categorical_accuracy: 0.9291 - lr: 5.0000e-04\n",
            "Epoch 107/500\n",
            "83/83 [==============================] - 1s 12ms/step - loss: 0.3241 - sparse_categorical_accuracy: 0.9257 - lr: 5.0000e-04\n",
            "Epoch 108/500\n",
            "83/83 [==============================] - 1s 12ms/step - loss: 0.3291 - sparse_categorical_accuracy: 0.9227 - lr: 5.0000e-04\n",
            "Epoch 109/500\n",
            "83/83 [==============================] - 1s 12ms/step - loss: 0.3290 - sparse_categorical_accuracy: 0.9238 - lr: 5.0000e-04\n",
            "Epoch 110/500\n",
            "83/83 [==============================] - 1s 11ms/step - loss: 0.3102 - sparse_categorical_accuracy: 0.9356 - lr: 5.0000e-04\n",
            "Epoch 111/500\n",
            "83/83 [==============================] - 1s 11ms/step - loss: 0.3197 - sparse_categorical_accuracy: 0.9284 - lr: 5.0000e-04\n",
            "Epoch 112/500\n",
            "83/83 [==============================] - 1s 11ms/step - loss: 0.3134 - sparse_categorical_accuracy: 0.9306 - lr: 5.0000e-04\n",
            "Epoch 113/500\n",
            "83/83 [==============================] - 1s 11ms/step - loss: 0.3347 - sparse_categorical_accuracy: 0.9193 - lr: 5.0000e-04\n",
            "Epoch 114/500\n",
            "83/83 [==============================] - 1s 11ms/step - loss: 0.3242 - sparse_categorical_accuracy: 0.9276 - lr: 5.0000e-04\n",
            "Epoch 115/500\n",
            "83/83 [==============================] - 1s 12ms/step - loss: 0.2949 - sparse_categorical_accuracy: 0.9390 - lr: 5.0000e-04\n",
            "Epoch 116/500\n",
            "83/83 [==============================] - 1s 11ms/step - loss: 0.3114 - sparse_categorical_accuracy: 0.9242 - lr: 5.0000e-04\n",
            "Epoch 117/500\n",
            "83/83 [==============================] - 1s 11ms/step - loss: 0.3134 - sparse_categorical_accuracy: 0.9359 - lr: 5.0000e-04\n",
            "Epoch 118/500\n",
            "83/83 [==============================] - 1s 11ms/step - loss: 0.2970 - sparse_categorical_accuracy: 0.9329 - lr: 5.0000e-04\n",
            "Epoch 119/500\n",
            "83/83 [==============================] - 1s 11ms/step - loss: 0.2965 - sparse_categorical_accuracy: 0.9329 - lr: 5.0000e-04\n",
            "Epoch 120/500\n",
            "83/83 [==============================] - 1s 11ms/step - loss: 0.3092 - sparse_categorical_accuracy: 0.9318 - lr: 5.0000e-04\n",
            "Epoch 121/500\n",
            "83/83 [==============================] - 1s 11ms/step - loss: 0.3006 - sparse_categorical_accuracy: 0.9284 - lr: 5.0000e-04\n",
            "Epoch 122/500\n",
            "83/83 [==============================] - 1s 11ms/step - loss: 0.3047 - sparse_categorical_accuracy: 0.9321 - lr: 5.0000e-04\n",
            "Epoch 123/500\n",
            "83/83 [==============================] - 1s 11ms/step - loss: 0.3033 - sparse_categorical_accuracy: 0.9291 - lr: 5.0000e-04\n",
            "Epoch 124/500\n",
            "83/83 [==============================] - 1s 11ms/step - loss: 0.3191 - sparse_categorical_accuracy: 0.9276 - lr: 5.0000e-04\n",
            "Epoch 125/500\n",
            "83/83 [==============================] - 1s 11ms/step - loss: 0.3043 - sparse_categorical_accuracy: 0.9287 - lr: 5.0000e-04\n",
            "Epoch 126/500\n",
            "83/83 [==============================] - 1s 11ms/step - loss: 0.3131 - sparse_categorical_accuracy: 0.9306 - lr: 5.0000e-04\n",
            "Epoch 127/500\n",
            "83/83 [==============================] - 1s 11ms/step - loss: 0.3103 - sparse_categorical_accuracy: 0.9265 - lr: 5.0000e-04\n",
            "Epoch 128/500\n",
            "83/83 [==============================] - 1s 11ms/step - loss: 0.2967 - sparse_categorical_accuracy: 0.9318 - lr: 5.0000e-04\n",
            "Epoch 129/500\n",
            "83/83 [==============================] - 1s 11ms/step - loss: 0.2966 - sparse_categorical_accuracy: 0.9261 - lr: 5.0000e-04\n",
            "Epoch 130/500\n",
            "83/83 [==============================] - 1s 11ms/step - loss: 0.3016 - sparse_categorical_accuracy: 0.9318 - lr: 5.0000e-04\n",
            "Epoch 131/500\n",
            "83/83 [==============================] - 1s 12ms/step - loss: 0.2819 - sparse_categorical_accuracy: 0.9390 - lr: 5.0000e-04\n",
            "Epoch 132/500\n",
            "83/83 [==============================] - 1s 11ms/step - loss: 0.3017 - sparse_categorical_accuracy: 0.9284 - lr: 5.0000e-04\n",
            "Epoch 133/500\n",
            "83/83 [==============================] - 1s 11ms/step - loss: 0.3077 - sparse_categorical_accuracy: 0.9321 - lr: 5.0000e-04\n",
            "Epoch 134/500\n",
            "83/83 [==============================] - 1s 11ms/step - loss: 0.3049 - sparse_categorical_accuracy: 0.9314 - lr: 5.0000e-04\n",
            "Epoch 135/500\n",
            "83/83 [==============================] - 1s 11ms/step - loss: 0.2995 - sparse_categorical_accuracy: 0.9299 - lr: 5.0000e-04\n",
            "Epoch 136/500\n",
            "83/83 [==============================] - 1s 11ms/step - loss: 0.3252 - sparse_categorical_accuracy: 0.9189 - lr: 5.0000e-04\n",
            "Epoch 137/500\n",
            "83/83 [==============================] - 1s 11ms/step - loss: 0.3205 - sparse_categorical_accuracy: 0.9238 - lr: 5.0000e-04\n",
            "Epoch 138/500\n",
            "83/83 [==============================] - 1s 11ms/step - loss: 0.2902 - sparse_categorical_accuracy: 0.9386 - lr: 5.0000e-04\n",
            "Epoch 139/500\n",
            "83/83 [==============================] - 1s 11ms/step - loss: 0.3000 - sparse_categorical_accuracy: 0.9325 - lr: 5.0000e-04\n",
            "Epoch 140/500\n",
            "83/83 [==============================] - 1s 11ms/step - loss: 0.2978 - sparse_categorical_accuracy: 0.9337 - lr: 5.0000e-04\n",
            "Epoch 141/500\n",
            "83/83 [==============================] - 1s 11ms/step - loss: 0.3059 - sparse_categorical_accuracy: 0.9280 - lr: 5.0000e-04\n",
            "Epoch 142/500\n",
            "83/83 [==============================] - 1s 11ms/step - loss: 0.2843 - sparse_categorical_accuracy: 0.9401 - lr: 5.0000e-04\n",
            "Epoch 143/500\n",
            "83/83 [==============================] - 1s 11ms/step - loss: 0.2888 - sparse_categorical_accuracy: 0.9337 - lr: 5.0000e-04\n",
            "Epoch 144/500\n",
            "83/83 [==============================] - 1s 11ms/step - loss: 0.2891 - sparse_categorical_accuracy: 0.9318 - lr: 5.0000e-04\n",
            "Epoch 145/500\n",
            "83/83 [==============================] - 1s 11ms/step - loss: 0.2918 - sparse_categorical_accuracy: 0.9333 - lr: 5.0000e-04\n",
            "Epoch 146/500\n",
            "83/83 [==============================] - 1s 11ms/step - loss: 0.2979 - sparse_categorical_accuracy: 0.9295 - lr: 5.0000e-04\n",
            "Epoch 147/500\n",
            "83/83 [==============================] - 1s 12ms/step - loss: 0.2720 - sparse_categorical_accuracy: 0.9416 - lr: 5.0000e-04\n",
            "Epoch 148/500\n",
            "83/83 [==============================] - 1s 12ms/step - loss: 0.2715 - sparse_categorical_accuracy: 0.9382 - lr: 5.0000e-04\n",
            "Epoch 149/500\n",
            "83/83 [==============================] - 1s 11ms/step - loss: 0.2956 - sparse_categorical_accuracy: 0.9299 - lr: 5.0000e-04\n",
            "Epoch 150/500\n",
            "83/83 [==============================] - 1s 11ms/step - loss: 0.2966 - sparse_categorical_accuracy: 0.9306 - lr: 5.0000e-04\n",
            "Epoch 151/500\n",
            "83/83 [==============================] - 1s 11ms/step - loss: 0.2957 - sparse_categorical_accuracy: 0.9363 - lr: 5.0000e-04\n",
            "Epoch 152/500\n",
            "83/83 [==============================] - 1s 11ms/step - loss: 0.3070 - sparse_categorical_accuracy: 0.9329 - lr: 5.0000e-04\n",
            "Epoch 153/500\n",
            "83/83 [==============================] - 1s 11ms/step - loss: 0.2917 - sparse_categorical_accuracy: 0.9397 - lr: 5.0000e-04\n",
            "Epoch 154/500\n",
            "83/83 [==============================] - 1s 11ms/step - loss: 0.2852 - sparse_categorical_accuracy: 0.9378 - lr: 5.0000e-04\n",
            "Epoch 155/500\n",
            "83/83 [==============================] - 1s 11ms/step - loss: 0.2874 - sparse_categorical_accuracy: 0.9378 - lr: 5.0000e-04\n",
            "Epoch 156/500\n",
            "83/83 [==============================] - 1s 11ms/step - loss: 0.3004 - sparse_categorical_accuracy: 0.9363 - lr: 5.0000e-04\n",
            "Epoch 157/500\n",
            "83/83 [==============================] - 1s 11ms/step - loss: 0.3202 - sparse_categorical_accuracy: 0.9268 - lr: 5.0000e-04\n",
            "Epoch 158/500\n",
            "83/83 [==============================] - 1s 11ms/step - loss: 0.3119 - sparse_categorical_accuracy: 0.9284 - lr: 5.0000e-04\n",
            "Epoch 159/500\n",
            "83/83 [==============================] - 1s 11ms/step - loss: 0.3105 - sparse_categorical_accuracy: 0.9340 - lr: 5.0000e-04\n",
            "Epoch 160/500\n",
            "83/83 [==============================] - 1s 11ms/step - loss: 0.3019 - sparse_categorical_accuracy: 0.9340 - lr: 5.0000e-04\n",
            "Epoch 161/500\n",
            "83/83 [==============================] - 1s 11ms/step - loss: 0.3099 - sparse_categorical_accuracy: 0.9318 - lr: 5.0000e-04\n",
            "Epoch 162/500\n",
            "83/83 [==============================] - 1s 11ms/step - loss: 0.2994 - sparse_categorical_accuracy: 0.9359 - lr: 5.0000e-04\n",
            "Epoch 163/500\n",
            "83/83 [==============================] - 1s 11ms/step - loss: 0.2948 - sparse_categorical_accuracy: 0.9352 - lr: 5.0000e-04\n",
            "Epoch 164/500\n",
            "83/83 [==============================] - 1s 11ms/step - loss: 0.2993 - sparse_categorical_accuracy: 0.9356 - lr: 5.0000e-04\n",
            "Epoch 165/500\n",
            "83/83 [==============================] - 1s 11ms/step - loss: 0.2993 - sparse_categorical_accuracy: 0.9348 - lr: 5.0000e-04\n",
            "Epoch 166/500\n",
            "83/83 [==============================] - 1s 11ms/step - loss: 0.2868 - sparse_categorical_accuracy: 0.9356 - lr: 5.0000e-04\n",
            "Epoch 167/500\n",
            "83/83 [==============================] - 1s 11ms/step - loss: 0.2821 - sparse_categorical_accuracy: 0.9412 - lr: 5.0000e-04\n",
            "Epoch 168/500\n",
            "83/83 [==============================] - 1s 11ms/step - loss: 0.3012 - sparse_categorical_accuracy: 0.9276 - lr: 5.0000e-04\n",
            "Epoch 169/500\n",
            "83/83 [==============================] - 1s 12ms/step - loss: 0.2581 - sparse_categorical_accuracy: 0.9397 - lr: 2.5000e-04\n",
            "Epoch 170/500\n",
            "83/83 [==============================] - 1s 12ms/step - loss: 0.2471 - sparse_categorical_accuracy: 0.9481 - lr: 2.5000e-04\n",
            "Epoch 171/500\n",
            "83/83 [==============================] - 1s 11ms/step - loss: 0.2475 - sparse_categorical_accuracy: 0.9484 - lr: 2.5000e-04\n",
            "Epoch 172/500\n",
            "83/83 [==============================] - 1s 11ms/step - loss: 0.2598 - sparse_categorical_accuracy: 0.9393 - lr: 2.5000e-04\n",
            "Epoch 173/500\n",
            "83/83 [==============================] - 1s 11ms/step - loss: 0.2496 - sparse_categorical_accuracy: 0.9469 - lr: 2.5000e-04\n",
            "Epoch 174/500\n",
            "83/83 [==============================] - 1s 11ms/step - loss: 0.2654 - sparse_categorical_accuracy: 0.9378 - lr: 2.5000e-04\n",
            "Epoch 175/500\n",
            "83/83 [==============================] - 1s 11ms/step - loss: 0.2590 - sparse_categorical_accuracy: 0.9337 - lr: 2.5000e-04\n",
            "Epoch 176/500\n",
            "83/83 [==============================] - 1s 11ms/step - loss: 0.2867 - sparse_categorical_accuracy: 0.9378 - lr: 2.5000e-04\n",
            "Epoch 177/500\n",
            "83/83 [==============================] - 1s 11ms/step - loss: 0.3133 - sparse_categorical_accuracy: 0.9310 - lr: 2.5000e-04\n",
            "Epoch 178/500\n",
            "83/83 [==============================] - 1s 11ms/step - loss: 0.2501 - sparse_categorical_accuracy: 0.9534 - lr: 2.5000e-04\n",
            "Epoch 179/500\n",
            "83/83 [==============================] - 1s 11ms/step - loss: 0.2520 - sparse_categorical_accuracy: 0.9454 - lr: 2.5000e-04\n",
            "Epoch 180/500\n",
            "83/83 [==============================] - 1s 11ms/step - loss: 0.2523 - sparse_categorical_accuracy: 0.9447 - lr: 2.5000e-04\n",
            "Epoch 181/500\n",
            "83/83 [==============================] - 1s 12ms/step - loss: 0.2446 - sparse_categorical_accuracy: 0.9484 - lr: 2.5000e-04\n",
            "Epoch 182/500\n",
            "83/83 [==============================] - 1s 11ms/step - loss: 0.2542 - sparse_categorical_accuracy: 0.9393 - lr: 2.5000e-04\n",
            "Epoch 183/500\n",
            "83/83 [==============================] - 1s 12ms/step - loss: 0.2359 - sparse_categorical_accuracy: 0.9488 - lr: 2.5000e-04\n",
            "Epoch 184/500\n",
            "83/83 [==============================] - 1s 11ms/step - loss: 0.2416 - sparse_categorical_accuracy: 0.9469 - lr: 2.5000e-04\n",
            "Epoch 185/500\n",
            "83/83 [==============================] - 1s 11ms/step - loss: 0.2572 - sparse_categorical_accuracy: 0.9424 - lr: 2.5000e-04\n",
            "Epoch 186/500\n",
            "83/83 [==============================] - 1s 11ms/step - loss: 0.2473 - sparse_categorical_accuracy: 0.9462 - lr: 2.5000e-04\n",
            "Epoch 187/500\n",
            "83/83 [==============================] - 1s 11ms/step - loss: 0.2516 - sparse_categorical_accuracy: 0.9401 - lr: 2.5000e-04\n",
            "Epoch 188/500\n",
            "83/83 [==============================] - 1s 11ms/step - loss: 0.2421 - sparse_categorical_accuracy: 0.9420 - lr: 2.5000e-04\n",
            "Epoch 189/500\n",
            "83/83 [==============================] - 1s 11ms/step - loss: 0.2496 - sparse_categorical_accuracy: 0.9443 - lr: 2.5000e-04\n",
            "Epoch 190/500\n",
            "83/83 [==============================] - 1s 11ms/step - loss: 0.2448 - sparse_categorical_accuracy: 0.9412 - lr: 2.5000e-04\n",
            "Epoch 191/500\n",
            "83/83 [==============================] - 1s 12ms/step - loss: 0.2351 - sparse_categorical_accuracy: 0.9481 - lr: 2.5000e-04\n",
            "Epoch 192/500\n",
            "83/83 [==============================] - 1s 11ms/step - loss: 0.2367 - sparse_categorical_accuracy: 0.9435 - lr: 2.5000e-04\n",
            "Epoch 193/500\n",
            "83/83 [==============================] - 1s 11ms/step - loss: 0.2433 - sparse_categorical_accuracy: 0.9409 - lr: 2.5000e-04\n",
            "Epoch 194/500\n",
            "83/83 [==============================] - 1s 11ms/step - loss: 0.2457 - sparse_categorical_accuracy: 0.9469 - lr: 2.5000e-04\n",
            "Epoch 195/500\n",
            "83/83 [==============================] - 1s 11ms/step - loss: 0.2359 - sparse_categorical_accuracy: 0.9477 - lr: 2.5000e-04\n",
            "Epoch 196/500\n",
            "83/83 [==============================] - 1s 11ms/step - loss: 0.2358 - sparse_categorical_accuracy: 0.9488 - lr: 2.5000e-04\n",
            "Epoch 197/500\n",
            "83/83 [==============================] - 1s 12ms/step - loss: 0.2276 - sparse_categorical_accuracy: 0.9496 - lr: 2.5000e-04\n",
            "Epoch 198/500\n",
            "83/83 [==============================] - 1s 12ms/step - loss: 0.2242 - sparse_categorical_accuracy: 0.9507 - lr: 2.5000e-04\n",
            "Epoch 199/500\n",
            "83/83 [==============================] - 1s 11ms/step - loss: 0.2467 - sparse_categorical_accuracy: 0.9397 - lr: 2.5000e-04\n",
            "Epoch 200/500\n",
            "83/83 [==============================] - 1s 11ms/step - loss: 0.2360 - sparse_categorical_accuracy: 0.9424 - lr: 2.5000e-04\n",
            "Epoch 201/500\n",
            "83/83 [==============================] - 1s 11ms/step - loss: 0.2522 - sparse_categorical_accuracy: 0.9439 - lr: 2.5000e-04\n",
            "Epoch 202/500\n",
            "83/83 [==============================] - 1s 11ms/step - loss: 0.2380 - sparse_categorical_accuracy: 0.9424 - lr: 2.5000e-04\n",
            "Epoch 203/500\n",
            "83/83 [==============================] - 1s 11ms/step - loss: 0.2473 - sparse_categorical_accuracy: 0.9412 - lr: 2.5000e-04\n",
            "Epoch 204/500\n",
            "83/83 [==============================] - 1s 11ms/step - loss: 0.2475 - sparse_categorical_accuracy: 0.9382 - lr: 2.5000e-04\n",
            "Epoch 205/500\n",
            "83/83 [==============================] - 1s 11ms/step - loss: 0.2581 - sparse_categorical_accuracy: 0.9337 - lr: 2.5000e-04\n",
            "Epoch 206/500\n",
            "83/83 [==============================] - 1s 11ms/step - loss: 0.2312 - sparse_categorical_accuracy: 0.9481 - lr: 2.5000e-04\n",
            "Epoch 207/500\n",
            "83/83 [==============================] - 1s 11ms/step - loss: 0.2367 - sparse_categorical_accuracy: 0.9454 - lr: 2.5000e-04\n",
            "Epoch 208/500\n",
            "83/83 [==============================] - 1s 11ms/step - loss: 0.2450 - sparse_categorical_accuracy: 0.9439 - lr: 2.5000e-04\n",
            "Epoch 209/500\n",
            "83/83 [==============================] - 1s 11ms/step - loss: 0.2639 - sparse_categorical_accuracy: 0.9329 - lr: 2.5000e-04\n",
            "Epoch 210/500\n",
            "83/83 [==============================] - 1s 11ms/step - loss: 0.2460 - sparse_categorical_accuracy: 0.9401 - lr: 2.5000e-04\n",
            "Epoch 211/500\n",
            "83/83 [==============================] - 1s 11ms/step - loss: 0.2469 - sparse_categorical_accuracy: 0.9443 - lr: 2.5000e-04\n",
            "Epoch 212/500\n",
            "83/83 [==============================] - 1s 11ms/step - loss: 0.2314 - sparse_categorical_accuracy: 0.9477 - lr: 2.5000e-04\n",
            "Epoch 213/500\n",
            "83/83 [==============================] - 1s 11ms/step - loss: 0.2346 - sparse_categorical_accuracy: 0.9416 - lr: 2.5000e-04\n",
            "Epoch 214/500\n",
            "83/83 [==============================] - 1s 11ms/step - loss: 0.2313 - sparse_categorical_accuracy: 0.9492 - lr: 2.5000e-04\n",
            "Epoch 215/500\n",
            "83/83 [==============================] - 1s 11ms/step - loss: 0.2451 - sparse_categorical_accuracy: 0.9439 - lr: 2.5000e-04\n",
            "Epoch 216/500\n",
            "83/83 [==============================] - 1s 12ms/step - loss: 0.2236 - sparse_categorical_accuracy: 0.9549 - lr: 2.5000e-04\n",
            "Epoch 217/500\n",
            "83/83 [==============================] - 1s 11ms/step - loss: 0.2330 - sparse_categorical_accuracy: 0.9477 - lr: 2.5000e-04\n",
            "Epoch 218/500\n",
            "83/83 [==============================] - 1s 11ms/step - loss: 0.2316 - sparse_categorical_accuracy: 0.9496 - lr: 2.5000e-04\n",
            "Epoch 219/500\n",
            "83/83 [==============================] - 1s 11ms/step - loss: 0.2364 - sparse_categorical_accuracy: 0.9443 - lr: 2.5000e-04\n",
            "Epoch 220/500\n",
            "83/83 [==============================] - 1s 11ms/step - loss: 0.2337 - sparse_categorical_accuracy: 0.9443 - lr: 2.5000e-04\n",
            "Epoch 221/500\n",
            "83/83 [==============================] - 1s 11ms/step - loss: 0.2321 - sparse_categorical_accuracy: 0.9500 - lr: 2.5000e-04\n",
            "Epoch 222/500\n",
            "83/83 [==============================] - 1s 11ms/step - loss: 0.2414 - sparse_categorical_accuracy: 0.9393 - lr: 2.5000e-04\n",
            "Epoch 223/500\n",
            "83/83 [==============================] - 1s 11ms/step - loss: 0.2465 - sparse_categorical_accuracy: 0.9443 - lr: 2.5000e-04\n",
            "Epoch 224/500\n",
            "83/83 [==============================] - 1s 11ms/step - loss: 0.2356 - sparse_categorical_accuracy: 0.9477 - lr: 2.5000e-04\n",
            "Epoch 225/500\n",
            "83/83 [==============================] - 1s 11ms/step - loss: 0.2329 - sparse_categorical_accuracy: 0.9466 - lr: 2.5000e-04\n",
            "Epoch 226/500\n",
            "83/83 [==============================] - 1s 11ms/step - loss: 0.2430 - sparse_categorical_accuracy: 0.9435 - lr: 2.5000e-04\n",
            "Epoch 227/500\n",
            "83/83 [==============================] - 1s 11ms/step - loss: 0.2322 - sparse_categorical_accuracy: 0.9443 - lr: 2.5000e-04\n",
            "Epoch 228/500\n",
            "83/83 [==============================] - 1s 12ms/step - loss: 0.2218 - sparse_categorical_accuracy: 0.9519 - lr: 2.5000e-04\n",
            "Epoch 229/500\n",
            "83/83 [==============================] - 1s 11ms/step - loss: 0.2463 - sparse_categorical_accuracy: 0.9435 - lr: 2.5000e-04\n",
            "Epoch 230/500\n",
            "83/83 [==============================] - 1s 11ms/step - loss: 0.2315 - sparse_categorical_accuracy: 0.9500 - lr: 2.5000e-04\n",
            "Epoch 231/500\n",
            "83/83 [==============================] - 1s 12ms/step - loss: 0.2118 - sparse_categorical_accuracy: 0.9549 - lr: 2.5000e-04\n",
            "Epoch 232/500\n",
            "83/83 [==============================] - 1s 11ms/step - loss: 0.2257 - sparse_categorical_accuracy: 0.9503 - lr: 2.5000e-04\n",
            "Epoch 233/500\n",
            "83/83 [==============================] - 1s 11ms/step - loss: 0.2187 - sparse_categorical_accuracy: 0.9503 - lr: 2.5000e-04\n",
            "Epoch 234/500\n",
            "83/83 [==============================] - 1s 11ms/step - loss: 0.2166 - sparse_categorical_accuracy: 0.9545 - lr: 2.5000e-04\n",
            "Epoch 235/500\n",
            "83/83 [==============================] - 1s 11ms/step - loss: 0.2305 - sparse_categorical_accuracy: 0.9466 - lr: 2.5000e-04\n",
            "Epoch 236/500\n",
            "83/83 [==============================] - 1s 11ms/step - loss: 0.2887 - sparse_categorical_accuracy: 0.9257 - lr: 2.5000e-04\n",
            "Epoch 237/500\n",
            "83/83 [==============================] - 1s 11ms/step - loss: 0.2359 - sparse_categorical_accuracy: 0.9473 - lr: 2.5000e-04\n",
            "Epoch 238/500\n",
            "83/83 [==============================] - 1s 11ms/step - loss: 0.2286 - sparse_categorical_accuracy: 0.9481 - lr: 2.5000e-04\n",
            "Epoch 239/500\n",
            "83/83 [==============================] - 1s 11ms/step - loss: 0.2280 - sparse_categorical_accuracy: 0.9488 - lr: 2.5000e-04\n",
            "Epoch 240/500\n",
            "83/83 [==============================] - 1s 11ms/step - loss: 0.2188 - sparse_categorical_accuracy: 0.9503 - lr: 2.5000e-04\n",
            "Epoch 241/500\n",
            "83/83 [==============================] - 1s 11ms/step - loss: 0.2235 - sparse_categorical_accuracy: 0.9481 - lr: 2.5000e-04\n",
            "Epoch 242/500\n",
            "83/83 [==============================] - 1s 11ms/step - loss: 0.2446 - sparse_categorical_accuracy: 0.9431 - lr: 2.5000e-04\n",
            "Epoch 243/500\n",
            "83/83 [==============================] - 1s 11ms/step - loss: 0.2381 - sparse_categorical_accuracy: 0.9473 - lr: 2.5000e-04\n",
            "Epoch 244/500\n",
            "83/83 [==============================] - 1s 11ms/step - loss: 0.2323 - sparse_categorical_accuracy: 0.9431 - lr: 2.5000e-04\n",
            "Epoch 245/500\n",
            "83/83 [==============================] - 1s 11ms/step - loss: 0.2293 - sparse_categorical_accuracy: 0.9473 - lr: 2.5000e-04\n",
            "Epoch 246/500\n",
            "83/83 [==============================] - 1s 11ms/step - loss: 0.2207 - sparse_categorical_accuracy: 0.9541 - lr: 2.5000e-04\n",
            "Epoch 247/500\n",
            "83/83 [==============================] - 1s 11ms/step - loss: 0.2192 - sparse_categorical_accuracy: 0.9488 - lr: 2.5000e-04\n",
            "Epoch 248/500\n",
            "83/83 [==============================] - 1s 11ms/step - loss: 0.2432 - sparse_categorical_accuracy: 0.9435 - lr: 2.5000e-04\n",
            "Epoch 249/500\n",
            "83/83 [==============================] - 1s 11ms/step - loss: 0.2270 - sparse_categorical_accuracy: 0.9522 - lr: 2.5000e-04\n",
            "Epoch 250/500\n",
            "83/83 [==============================] - 1s 11ms/step - loss: 0.2321 - sparse_categorical_accuracy: 0.9393 - lr: 2.5000e-04\n",
            "Epoch 251/500\n",
            "83/83 [==============================] - 1s 11ms/step - loss: 0.2176 - sparse_categorical_accuracy: 0.9579 - lr: 2.5000e-04\n",
            "Epoch 252/500\n",
            "83/83 [==============================] - 1s 11ms/step - loss: 0.2261 - sparse_categorical_accuracy: 0.9469 - lr: 1.2500e-04\n",
            "Epoch 253/500\n",
            "83/83 [==============================] - 1s 11ms/step - loss: 0.2130 - sparse_categorical_accuracy: 0.9526 - lr: 1.2500e-04\n",
            "Epoch 254/500\n",
            "83/83 [==============================] - 1s 12ms/step - loss: 0.2077 - sparse_categorical_accuracy: 0.9500 - lr: 1.2500e-04\n",
            "Epoch 255/500\n",
            "83/83 [==============================] - 1s 12ms/step - loss: 0.2074 - sparse_categorical_accuracy: 0.9515 - lr: 1.2500e-04\n",
            "Epoch 256/500\n",
            "83/83 [==============================] - 1s 11ms/step - loss: 0.2083 - sparse_categorical_accuracy: 0.9534 - lr: 1.2500e-04\n",
            "Epoch 257/500\n",
            "83/83 [==============================] - 1s 11ms/step - loss: 0.2117 - sparse_categorical_accuracy: 0.9473 - lr: 1.2500e-04\n",
            "Epoch 258/500\n",
            "83/83 [==============================] - 1s 11ms/step - loss: 0.2161 - sparse_categorical_accuracy: 0.9481 - lr: 1.2500e-04\n",
            "Epoch 259/500\n",
            "83/83 [==============================] - 1s 11ms/step - loss: 0.2094 - sparse_categorical_accuracy: 0.9488 - lr: 1.2500e-04\n",
            "Epoch 260/500\n",
            "83/83 [==============================] - 1s 12ms/step - loss: 0.2069 - sparse_categorical_accuracy: 0.9507 - lr: 1.2500e-04\n",
            "Epoch 261/500\n",
            "83/83 [==============================] - 1s 11ms/step - loss: 0.2158 - sparse_categorical_accuracy: 0.9534 - lr: 1.2500e-04\n",
            "Epoch 262/500\n",
            "83/83 [==============================] - 1s 11ms/step - loss: 0.2069 - sparse_categorical_accuracy: 0.9507 - lr: 1.2500e-04\n",
            "Epoch 263/500\n",
            "83/83 [==============================] - 1s 12ms/step - loss: 0.2015 - sparse_categorical_accuracy: 0.9538 - lr: 1.2500e-04\n",
            "Epoch 264/500\n",
            "83/83 [==============================] - 1s 11ms/step - loss: 0.2040 - sparse_categorical_accuracy: 0.9564 - lr: 1.2500e-04\n",
            "Epoch 265/500\n",
            "83/83 [==============================] - 1s 11ms/step - loss: 0.2062 - sparse_categorical_accuracy: 0.9515 - lr: 1.2500e-04\n",
            "Epoch 266/500\n",
            "83/83 [==============================] - 1s 11ms/step - loss: 0.2096 - sparse_categorical_accuracy: 0.9492 - lr: 1.2500e-04\n",
            "Epoch 267/500\n",
            "83/83 [==============================] - 1s 11ms/step - loss: 0.2038 - sparse_categorical_accuracy: 0.9519 - lr: 1.2500e-04\n",
            "Epoch 268/500\n",
            "83/83 [==============================] - 1s 11ms/step - loss: 0.2024 - sparse_categorical_accuracy: 0.9549 - lr: 1.2500e-04\n",
            "Epoch 269/500\n",
            "83/83 [==============================] - 1s 11ms/step - loss: 0.2096 - sparse_categorical_accuracy: 0.9500 - lr: 1.2500e-04\n",
            "Epoch 270/500\n",
            "83/83 [==============================] - 1s 11ms/step - loss: 0.2065 - sparse_categorical_accuracy: 0.9526 - lr: 1.2500e-04\n",
            "Epoch 271/500\n",
            "83/83 [==============================] - 1s 11ms/step - loss: 0.2039 - sparse_categorical_accuracy: 0.9549 - lr: 1.2500e-04\n",
            "Epoch 272/500\n",
            "83/83 [==============================] - 1s 12ms/step - loss: 0.1966 - sparse_categorical_accuracy: 0.9534 - lr: 1.2500e-04\n",
            "Epoch 273/500\n",
            "83/83 [==============================] - 1s 11ms/step - loss: 0.2024 - sparse_categorical_accuracy: 0.9538 - lr: 1.2500e-04\n",
            "Epoch 274/500\n",
            "83/83 [==============================] - 1s 11ms/step - loss: 0.2130 - sparse_categorical_accuracy: 0.9507 - lr: 1.2500e-04\n",
            "Epoch 275/500\n",
            "83/83 [==============================] - 1s 11ms/step - loss: 0.2116 - sparse_categorical_accuracy: 0.9496 - lr: 1.2500e-04\n",
            "Epoch 276/500\n",
            "83/83 [==============================] - 1s 11ms/step - loss: 0.2055 - sparse_categorical_accuracy: 0.9515 - lr: 1.2500e-04\n",
            "Epoch 277/500\n",
            "83/83 [==============================] - 1s 11ms/step - loss: 0.1991 - sparse_categorical_accuracy: 0.9564 - lr: 1.2500e-04\n",
            "Epoch 278/500\n",
            "83/83 [==============================] - 1s 11ms/step - loss: 0.2086 - sparse_categorical_accuracy: 0.9503 - lr: 1.2500e-04\n",
            "Epoch 279/500\n",
            "83/83 [==============================] - 1s 12ms/step - loss: 0.1917 - sparse_categorical_accuracy: 0.9583 - lr: 1.2500e-04\n",
            "Epoch 280/500\n",
            "83/83 [==============================] - 1s 11ms/step - loss: 0.1969 - sparse_categorical_accuracy: 0.9538 - lr: 1.2500e-04\n",
            "Epoch 281/500\n",
            "83/83 [==============================] - 1s 12ms/step - loss: 0.1917 - sparse_categorical_accuracy: 0.9587 - lr: 1.2500e-04\n",
            "Epoch 282/500\n",
            "83/83 [==============================] - 1s 11ms/step - loss: 0.2080 - sparse_categorical_accuracy: 0.9477 - lr: 1.2500e-04\n",
            "Epoch 283/500\n",
            "83/83 [==============================] - 1s 11ms/step - loss: 0.2008 - sparse_categorical_accuracy: 0.9545 - lr: 1.2500e-04\n",
            "Epoch 284/500\n",
            "83/83 [==============================] - 1s 11ms/step - loss: 0.1999 - sparse_categorical_accuracy: 0.9526 - lr: 1.2500e-04\n",
            "Epoch 285/500\n",
            "83/83 [==============================] - 1s 11ms/step - loss: 0.2014 - sparse_categorical_accuracy: 0.9511 - lr: 1.2500e-04\n",
            "Epoch 286/500\n",
            "83/83 [==============================] - 1s 11ms/step - loss: 0.2028 - sparse_categorical_accuracy: 0.9507 - lr: 1.2500e-04\n",
            "Epoch 287/500\n",
            "83/83 [==============================] - 1s 11ms/step - loss: 0.2125 - sparse_categorical_accuracy: 0.9526 - lr: 1.2500e-04\n",
            "Epoch 288/500\n",
            "83/83 [==============================] - 1s 11ms/step - loss: 0.1972 - sparse_categorical_accuracy: 0.9579 - lr: 1.2500e-04\n",
            "Epoch 289/500\n",
            "83/83 [==============================] - 1s 11ms/step - loss: 0.1950 - sparse_categorical_accuracy: 0.9530 - lr: 1.2500e-04\n",
            "Epoch 290/500\n",
            "83/83 [==============================] - 1s 11ms/step - loss: 0.1940 - sparse_categorical_accuracy: 0.9549 - lr: 1.2500e-04\n",
            "Epoch 291/500\n",
            "83/83 [==============================] - 1s 11ms/step - loss: 0.1977 - sparse_categorical_accuracy: 0.9549 - lr: 1.2500e-04\n",
            "Epoch 292/500\n",
            "83/83 [==============================] - 1s 11ms/step - loss: 0.1965 - sparse_categorical_accuracy: 0.9553 - lr: 1.2500e-04\n",
            "Epoch 293/500\n",
            "83/83 [==============================] - 1s 11ms/step - loss: 0.2014 - sparse_categorical_accuracy: 0.9556 - lr: 1.2500e-04\n",
            "Epoch 294/500\n",
            "83/83 [==============================] - 1s 11ms/step - loss: 0.1941 - sparse_categorical_accuracy: 0.9534 - lr: 1.2500e-04\n",
            "Epoch 295/500\n",
            "83/83 [==============================] - 1s 11ms/step - loss: 0.2021 - sparse_categorical_accuracy: 0.9541 - lr: 1.2500e-04\n",
            "Epoch 296/500\n",
            "83/83 [==============================] - 1s 11ms/step - loss: 0.2249 - sparse_categorical_accuracy: 0.9428 - lr: 1.2500e-04\n",
            "Epoch 297/500\n",
            "83/83 [==============================] - 1s 11ms/step - loss: 0.1930 - sparse_categorical_accuracy: 0.9568 - lr: 1.2500e-04\n",
            "Epoch 298/500\n",
            "83/83 [==============================] - 1s 11ms/step - loss: 0.2085 - sparse_categorical_accuracy: 0.9507 - lr: 1.2500e-04\n",
            "Epoch 299/500\n",
            "83/83 [==============================] - 1s 11ms/step - loss: 0.2034 - sparse_categorical_accuracy: 0.9538 - lr: 1.2500e-04\n",
            "Epoch 300/500\n",
            "83/83 [==============================] - 1s 11ms/step - loss: 0.1925 - sparse_categorical_accuracy: 0.9549 - lr: 1.0000e-04\n",
            "Epoch 301/500\n",
            "83/83 [==============================] - 1s 11ms/step - loss: 0.1968 - sparse_categorical_accuracy: 0.9507 - lr: 1.0000e-04\n",
            "Epoch 302/500\n",
            "83/83 [==============================] - 1s 11ms/step - loss: 0.1966 - sparse_categorical_accuracy: 0.9545 - lr: 1.0000e-04\n",
            "Epoch 303/500\n",
            "83/83 [==============================] - 1s 12ms/step - loss: 0.1881 - sparse_categorical_accuracy: 0.9572 - lr: 1.0000e-04\n",
            "Epoch 304/500\n",
            "83/83 [==============================] - 1s 11ms/step - loss: 0.1903 - sparse_categorical_accuracy: 0.9594 - lr: 1.0000e-04\n",
            "Epoch 305/500\n",
            "83/83 [==============================] - 1s 11ms/step - loss: 0.1899 - sparse_categorical_accuracy: 0.9564 - lr: 1.0000e-04\n",
            "Epoch 306/500\n",
            "83/83 [==============================] - 1s 11ms/step - loss: 0.1994 - sparse_categorical_accuracy: 0.9507 - lr: 1.0000e-04\n",
            "Epoch 307/500\n",
            "83/83 [==============================] - 1s 11ms/step - loss: 0.1953 - sparse_categorical_accuracy: 0.9534 - lr: 1.0000e-04\n",
            "Epoch 308/500\n",
            "83/83 [==============================] - 1s 11ms/step - loss: 0.1907 - sparse_categorical_accuracy: 0.9545 - lr: 1.0000e-04\n",
            "Epoch 309/500\n",
            "83/83 [==============================] - 1s 12ms/step - loss: 0.1853 - sparse_categorical_accuracy: 0.9583 - lr: 1.0000e-04\n",
            "Epoch 310/500\n",
            "83/83 [==============================] - 1s 12ms/step - loss: 0.1829 - sparse_categorical_accuracy: 0.9613 - lr: 1.0000e-04\n",
            "Epoch 311/500\n",
            "83/83 [==============================] - 1s 11ms/step - loss: 0.2044 - sparse_categorical_accuracy: 0.9500 - lr: 1.0000e-04\n",
            "Epoch 312/500\n",
            "83/83 [==============================] - 1s 11ms/step - loss: 0.1987 - sparse_categorical_accuracy: 0.9530 - lr: 1.0000e-04\n",
            "Epoch 313/500\n",
            "83/83 [==============================] - 1s 11ms/step - loss: 0.1983 - sparse_categorical_accuracy: 0.9556 - lr: 1.0000e-04\n",
            "Epoch 314/500\n",
            "83/83 [==============================] - 1s 11ms/step - loss: 0.1915 - sparse_categorical_accuracy: 0.9583 - lr: 1.0000e-04\n",
            "Epoch 315/500\n",
            "83/83 [==============================] - 1s 11ms/step - loss: 0.1834 - sparse_categorical_accuracy: 0.9564 - lr: 1.0000e-04\n",
            "Epoch 316/500\n",
            "83/83 [==============================] - 1s 11ms/step - loss: 0.2045 - sparse_categorical_accuracy: 0.9473 - lr: 1.0000e-04\n",
            "Epoch 317/500\n",
            "83/83 [==============================] - 1s 11ms/step - loss: 0.1948 - sparse_categorical_accuracy: 0.9564 - lr: 1.0000e-04\n",
            "Epoch 318/500\n",
            "83/83 [==============================] - 1s 11ms/step - loss: 0.1857 - sparse_categorical_accuracy: 0.9549 - lr: 1.0000e-04\n",
            "Epoch 319/500\n",
            "83/83 [==============================] - 1s 11ms/step - loss: 0.1943 - sparse_categorical_accuracy: 0.9530 - lr: 1.0000e-04\n",
            "Epoch 320/500\n",
            "83/83 [==============================] - 1s 11ms/step - loss: 0.1847 - sparse_categorical_accuracy: 0.9587 - lr: 1.0000e-04\n",
            "Epoch 321/500\n",
            "83/83 [==============================] - 1s 11ms/step - loss: 0.1906 - sparse_categorical_accuracy: 0.9553 - lr: 1.0000e-04\n",
            "Epoch 322/500\n",
            "83/83 [==============================] - 1s 11ms/step - loss: 0.1899 - sparse_categorical_accuracy: 0.9541 - lr: 1.0000e-04\n",
            "Epoch 323/500\n",
            "83/83 [==============================] - 1s 11ms/step - loss: 0.1914 - sparse_categorical_accuracy: 0.9556 - lr: 1.0000e-04\n",
            "Epoch 324/500\n",
            "83/83 [==============================] - 1s 11ms/step - loss: 0.1912 - sparse_categorical_accuracy: 0.9575 - lr: 1.0000e-04\n",
            "Epoch 325/500\n",
            "83/83 [==============================] - 1s 11ms/step - loss: 0.1877 - sparse_categorical_accuracy: 0.9549 - lr: 1.0000e-04\n",
            "Epoch 326/500\n",
            "83/83 [==============================] - 1s 11ms/step - loss: 0.1873 - sparse_categorical_accuracy: 0.9556 - lr: 1.0000e-04\n",
            "Epoch 327/500\n",
            "83/83 [==============================] - 1s 11ms/step - loss: 0.1953 - sparse_categorical_accuracy: 0.9564 - lr: 1.0000e-04\n",
            "Epoch 328/500\n",
            "83/83 [==============================] - 1s 11ms/step - loss: 0.1916 - sparse_categorical_accuracy: 0.9538 - lr: 1.0000e-04\n",
            "Epoch 329/500\n",
            "83/83 [==============================] - 1s 11ms/step - loss: 0.1833 - sparse_categorical_accuracy: 0.9564 - lr: 1.0000e-04\n",
            "Epoch 330/500\n",
            "83/83 [==============================] - 1s 11ms/step - loss: 0.1878 - sparse_categorical_accuracy: 0.9541 - lr: 1.0000e-04\n",
            "Epoch 331/500\n",
            "83/83 [==============================] - 1s 11ms/step - loss: 0.1846 - sparse_categorical_accuracy: 0.9594 - lr: 1.0000e-04\n",
            "Epoch 332/500\n",
            "83/83 [==============================] - 1s 11ms/step - loss: 0.1873 - sparse_categorical_accuracy: 0.9534 - lr: 1.0000e-04\n",
            "Epoch 333/500\n",
            "83/83 [==============================] - 1s 11ms/step - loss: 0.1917 - sparse_categorical_accuracy: 0.9549 - lr: 1.0000e-04\n",
            "Epoch 334/500\n",
            "83/83 [==============================] - 1s 11ms/step - loss: 0.1834 - sparse_categorical_accuracy: 0.9587 - lr: 1.0000e-04\n",
            "Epoch 335/500\n",
            "83/83 [==============================] - 1s 11ms/step - loss: 0.1852 - sparse_categorical_accuracy: 0.9594 - lr: 1.0000e-04\n",
            "Epoch 336/500\n",
            "83/83 [==============================] - 1s 11ms/step - loss: 0.1890 - sparse_categorical_accuracy: 0.9526 - lr: 1.0000e-04\n",
            "Epoch 337/500\n",
            "83/83 [==============================] - 1s 11ms/step - loss: 0.1832 - sparse_categorical_accuracy: 0.9553 - lr: 1.0000e-04\n",
            "Epoch 338/500\n",
            "83/83 [==============================] - 1s 11ms/step - loss: 0.1889 - sparse_categorical_accuracy: 0.9583 - lr: 1.0000e-04\n",
            "Epoch 339/500\n",
            "83/83 [==============================] - 1s 11ms/step - loss: 0.1841 - sparse_categorical_accuracy: 0.9560 - lr: 1.0000e-04\n",
            "Epoch 340/500\n",
            "83/83 [==============================] - 1s 12ms/step - loss: 0.1829 - sparse_categorical_accuracy: 0.9556 - lr: 1.0000e-04\n",
            "Epoch 341/500\n",
            "83/83 [==============================] - 1s 12ms/step - loss: 0.1800 - sparse_categorical_accuracy: 0.9602 - lr: 1.0000e-04\n",
            "Epoch 342/500\n",
            "83/83 [==============================] - 1s 11ms/step - loss: 0.1884 - sparse_categorical_accuracy: 0.9568 - lr: 1.0000e-04\n",
            "Epoch 343/500\n",
            "83/83 [==============================] - 1s 11ms/step - loss: 0.2026 - sparse_categorical_accuracy: 0.9522 - lr: 1.0000e-04\n",
            "Epoch 344/500\n",
            "83/83 [==============================] - 1s 11ms/step - loss: 0.1895 - sparse_categorical_accuracy: 0.9564 - lr: 1.0000e-04\n",
            "Epoch 345/500\n",
            "83/83 [==============================] - 1s 11ms/step - loss: 0.1921 - sparse_categorical_accuracy: 0.9481 - lr: 1.0000e-04\n",
            "Epoch 346/500\n",
            "83/83 [==============================] - 1s 11ms/step - loss: 0.1967 - sparse_categorical_accuracy: 0.9519 - lr: 1.0000e-04\n",
            "Epoch 347/500\n",
            "83/83 [==============================] - 1s 11ms/step - loss: 0.1813 - sparse_categorical_accuracy: 0.9556 - lr: 1.0000e-04\n",
            "Epoch 348/500\n",
            "83/83 [==============================] - 1s 12ms/step - loss: 0.1766 - sparse_categorical_accuracy: 0.9606 - lr: 1.0000e-04\n",
            "Epoch 349/500\n",
            "83/83 [==============================] - 1s 11ms/step - loss: 0.1955 - sparse_categorical_accuracy: 0.9534 - lr: 1.0000e-04\n",
            "Epoch 350/500\n",
            "83/83 [==============================] - 1s 11ms/step - loss: 0.1815 - sparse_categorical_accuracy: 0.9579 - lr: 1.0000e-04\n",
            "Epoch 351/500\n",
            "83/83 [==============================] - 1s 11ms/step - loss: 0.1850 - sparse_categorical_accuracy: 0.9556 - lr: 1.0000e-04\n",
            "Epoch 352/500\n",
            "83/83 [==============================] - 1s 11ms/step - loss: 0.1820 - sparse_categorical_accuracy: 0.9583 - lr: 1.0000e-04\n",
            "Epoch 353/500\n",
            "83/83 [==============================] - 1s 11ms/step - loss: 0.1874 - sparse_categorical_accuracy: 0.9568 - lr: 1.0000e-04\n",
            "Epoch 354/500\n",
            "83/83 [==============================] - 1s 11ms/step - loss: 0.1928 - sparse_categorical_accuracy: 0.9526 - lr: 1.0000e-04\n",
            "Epoch 355/500\n",
            "83/83 [==============================] - 1s 11ms/step - loss: 0.2002 - sparse_categorical_accuracy: 0.9519 - lr: 1.0000e-04\n",
            "Epoch 356/500\n",
            "83/83 [==============================] - 1s 11ms/step - loss: 0.1904 - sparse_categorical_accuracy: 0.9530 - lr: 1.0000e-04\n",
            "Epoch 357/500\n",
            "83/83 [==============================] - 1s 11ms/step - loss: 0.1767 - sparse_categorical_accuracy: 0.9587 - lr: 1.0000e-04\n",
            "Epoch 358/500\n",
            "83/83 [==============================] - 1s 11ms/step - loss: 0.1878 - sparse_categorical_accuracy: 0.9541 - lr: 1.0000e-04\n",
            "Epoch 359/500\n",
            "83/83 [==============================] - 1s 11ms/step - loss: 0.1774 - sparse_categorical_accuracy: 0.9598 - lr: 1.0000e-04\n",
            "Epoch 360/500\n",
            "83/83 [==============================] - 1s 11ms/step - loss: 0.1913 - sparse_categorical_accuracy: 0.9553 - lr: 1.0000e-04\n",
            "Epoch 361/500\n",
            "83/83 [==============================] - 1s 12ms/step - loss: 0.1751 - sparse_categorical_accuracy: 0.9587 - lr: 1.0000e-04\n",
            "Epoch 362/500\n",
            "83/83 [==============================] - 1s 11ms/step - loss: 0.1998 - sparse_categorical_accuracy: 0.9484 - lr: 1.0000e-04\n",
            "Epoch 363/500\n",
            "83/83 [==============================] - 1s 11ms/step - loss: 0.1824 - sparse_categorical_accuracy: 0.9602 - lr: 1.0000e-04\n",
            "Epoch 364/500\n",
            "83/83 [==============================] - 1s 11ms/step - loss: 0.1920 - sparse_categorical_accuracy: 0.9541 - lr: 1.0000e-04\n",
            "Epoch 365/500\n",
            "83/83 [==============================] - 1s 11ms/step - loss: 0.1889 - sparse_categorical_accuracy: 0.9579 - lr: 1.0000e-04\n",
            "Epoch 366/500\n",
            "83/83 [==============================] - 1s 11ms/step - loss: 0.1826 - sparse_categorical_accuracy: 0.9568 - lr: 1.0000e-04\n",
            "Epoch 367/500\n",
            "83/83 [==============================] - 1s 11ms/step - loss: 0.1843 - sparse_categorical_accuracy: 0.9568 - lr: 1.0000e-04\n",
            "Epoch 368/500\n",
            "83/83 [==============================] - 1s 11ms/step - loss: 0.1838 - sparse_categorical_accuracy: 0.9575 - lr: 1.0000e-04\n",
            "Epoch 369/500\n",
            "83/83 [==============================] - 1s 11ms/step - loss: 0.1790 - sparse_categorical_accuracy: 0.9602 - lr: 1.0000e-04\n",
            "Epoch 370/500\n",
            "83/83 [==============================] - 1s 11ms/step - loss: 0.1818 - sparse_categorical_accuracy: 0.9610 - lr: 1.0000e-04\n",
            "Epoch 371/500\n",
            "83/83 [==============================] - 1s 11ms/step - loss: 0.1826 - sparse_categorical_accuracy: 0.9591 - lr: 1.0000e-04\n",
            "Epoch 372/500\n",
            "83/83 [==============================] - 1s 11ms/step - loss: 0.1852 - sparse_categorical_accuracy: 0.9579 - lr: 1.0000e-04\n",
            "Epoch 373/500\n",
            "83/83 [==============================] - 1s 11ms/step - loss: 0.1816 - sparse_categorical_accuracy: 0.9617 - lr: 1.0000e-04\n",
            "Epoch 374/500\n",
            "83/83 [==============================] - 1s 11ms/step - loss: 0.1774 - sparse_categorical_accuracy: 0.9598 - lr: 1.0000e-04\n",
            "Epoch 375/500\n",
            "83/83 [==============================] - 1s 11ms/step - loss: 0.1801 - sparse_categorical_accuracy: 0.9553 - lr: 1.0000e-04\n",
            "Epoch 376/500\n",
            "83/83 [==============================] - 1s 11ms/step - loss: 0.1874 - sparse_categorical_accuracy: 0.9556 - lr: 1.0000e-04\n",
            "Epoch 377/500\n",
            "83/83 [==============================] - 1s 11ms/step - loss: 0.1882 - sparse_categorical_accuracy: 0.9583 - lr: 1.0000e-04\n",
            "Epoch 378/500\n",
            "83/83 [==============================] - 1s 11ms/step - loss: 0.1838 - sparse_categorical_accuracy: 0.9579 - lr: 1.0000e-04\n",
            "Epoch 379/500\n",
            "83/83 [==============================] - 1s 11ms/step - loss: 0.1843 - sparse_categorical_accuracy: 0.9541 - lr: 1.0000e-04\n",
            "Epoch 380/500\n",
            "83/83 [==============================] - 1s 11ms/step - loss: 0.1808 - sparse_categorical_accuracy: 0.9598 - lr: 1.0000e-04\n",
            "Epoch 381/500\n",
            "83/83 [==============================] - 1s 11ms/step - loss: 0.1883 - sparse_categorical_accuracy: 0.9538 - lr: 1.0000e-04\n",
            "Epoch 382/500\n",
            "83/83 [==============================] - 1s 11ms/step - loss: 0.1850 - sparse_categorical_accuracy: 0.9553 - lr: 1.0000e-04\n",
            "Epoch 383/500\n",
            "83/83 [==============================] - 1s 11ms/step - loss: 0.1845 - sparse_categorical_accuracy: 0.9545 - lr: 1.0000e-04\n",
            "Epoch 384/500\n",
            "83/83 [==============================] - 1s 11ms/step - loss: 0.1842 - sparse_categorical_accuracy: 0.9583 - lr: 1.0000e-04\n",
            "Epoch 385/500\n",
            "83/83 [==============================] - 1s 11ms/step - loss: 0.1829 - sparse_categorical_accuracy: 0.9572 - lr: 1.0000e-04\n",
            "Epoch 386/500\n",
            "83/83 [==============================] - 1s 11ms/step - loss: 0.1829 - sparse_categorical_accuracy: 0.9587 - lr: 1.0000e-04\n",
            "Epoch 387/500\n",
            "83/83 [==============================] - 1s 11ms/step - loss: 0.1789 - sparse_categorical_accuracy: 0.9613 - lr: 1.0000e-04\n",
            "Epoch 388/500\n",
            "83/83 [==============================] - 1s 12ms/step - loss: 0.1695 - sparse_categorical_accuracy: 0.9636 - lr: 1.0000e-04\n",
            "Epoch 389/500\n",
            "83/83 [==============================] - 1s 11ms/step - loss: 0.1855 - sparse_categorical_accuracy: 0.9587 - lr: 1.0000e-04\n",
            "Epoch 390/500\n",
            "83/83 [==============================] - 1s 11ms/step - loss: 0.1893 - sparse_categorical_accuracy: 0.9556 - lr: 1.0000e-04\n",
            "Epoch 391/500\n",
            "83/83 [==============================] - 1s 11ms/step - loss: 0.1820 - sparse_categorical_accuracy: 0.9545 - lr: 1.0000e-04\n",
            "Epoch 392/500\n",
            "83/83 [==============================] - 1s 11ms/step - loss: 0.1760 - sparse_categorical_accuracy: 0.9591 - lr: 1.0000e-04\n",
            "Epoch 393/500\n",
            "83/83 [==============================] - 1s 11ms/step - loss: 0.1806 - sparse_categorical_accuracy: 0.9583 - lr: 1.0000e-04\n",
            "Epoch 394/500\n",
            "83/83 [==============================] - 1s 11ms/step - loss: 0.1906 - sparse_categorical_accuracy: 0.9538 - lr: 1.0000e-04\n",
            "Epoch 395/500\n",
            "83/83 [==============================] - 1s 11ms/step - loss: 0.1853 - sparse_categorical_accuracy: 0.9545 - lr: 1.0000e-04\n",
            "Epoch 396/500\n",
            "83/83 [==============================] - 1s 11ms/step - loss: 0.1837 - sparse_categorical_accuracy: 0.9598 - lr: 1.0000e-04\n",
            "Epoch 397/500\n",
            "83/83 [==============================] - 1s 11ms/step - loss: 0.1845 - sparse_categorical_accuracy: 0.9587 - lr: 1.0000e-04\n",
            "Epoch 398/500\n",
            "83/83 [==============================] - 1s 11ms/step - loss: 0.1837 - sparse_categorical_accuracy: 0.9538 - lr: 1.0000e-04\n",
            "Epoch 399/500\n",
            "83/83 [==============================] - 1s 11ms/step - loss: 0.1799 - sparse_categorical_accuracy: 0.9591 - lr: 1.0000e-04\n",
            "Epoch 400/500\n",
            "83/83 [==============================] - 1s 11ms/step - loss: 0.1764 - sparse_categorical_accuracy: 0.9598 - lr: 1.0000e-04\n",
            "Epoch 401/500\n",
            "83/83 [==============================] - 1s 11ms/step - loss: 0.1800 - sparse_categorical_accuracy: 0.9575 - lr: 1.0000e-04\n",
            "Epoch 402/500\n",
            "83/83 [==============================] - 1s 11ms/step - loss: 0.1772 - sparse_categorical_accuracy: 0.9556 - lr: 1.0000e-04\n",
            "Epoch 403/500\n",
            "83/83 [==============================] - 1s 11ms/step - loss: 0.1761 - sparse_categorical_accuracy: 0.9598 - lr: 1.0000e-04\n",
            "Epoch 404/500\n",
            "83/83 [==============================] - 1s 11ms/step - loss: 0.1796 - sparse_categorical_accuracy: 0.9549 - lr: 1.0000e-04\n",
            "Epoch 405/500\n",
            "83/83 [==============================] - 1s 11ms/step - loss: 0.1894 - sparse_categorical_accuracy: 0.9507 - lr: 1.0000e-04\n",
            "Epoch 406/500\n",
            "83/83 [==============================] - 1s 11ms/step - loss: 0.1793 - sparse_categorical_accuracy: 0.9572 - lr: 1.0000e-04\n",
            "Epoch 407/500\n",
            "83/83 [==============================] - 1s 11ms/step - loss: 0.1881 - sparse_categorical_accuracy: 0.9572 - lr: 1.0000e-04\n",
            "Epoch 408/500\n",
            "83/83 [==============================] - 1s 11ms/step - loss: 0.1791 - sparse_categorical_accuracy: 0.9594 - lr: 1.0000e-04\n",
            "Epoch 409/500\n",
            "83/83 [==============================] - 1s 11ms/step - loss: 0.1757 - sparse_categorical_accuracy: 0.9575 - lr: 1.0000e-04\n",
            "Epoch 410/500\n",
            "83/83 [==============================] - 1s 11ms/step - loss: 0.1922 - sparse_categorical_accuracy: 0.9496 - lr: 1.0000e-04\n",
            "Epoch 411/500\n",
            "83/83 [==============================] - 1s 11ms/step - loss: 0.1835 - sparse_categorical_accuracy: 0.9553 - lr: 1.0000e-04\n",
            "Epoch 412/500\n",
            "83/83 [==============================] - 1s 11ms/step - loss: 0.1882 - sparse_categorical_accuracy: 0.9530 - lr: 1.0000e-04\n",
            "Epoch 413/500\n",
            "83/83 [==============================] - 1s 11ms/step - loss: 0.1757 - sparse_categorical_accuracy: 0.9572 - lr: 1.0000e-04\n",
            "Epoch 414/500\n",
            "83/83 [==============================] - 1s 11ms/step - loss: 0.1796 - sparse_categorical_accuracy: 0.9530 - lr: 1.0000e-04\n",
            "Epoch 415/500\n",
            "83/83 [==============================] - 1s 11ms/step - loss: 0.1857 - sparse_categorical_accuracy: 0.9579 - lr: 1.0000e-04\n",
            "Epoch 416/500\n",
            "83/83 [==============================] - 1s 11ms/step - loss: 0.1900 - sparse_categorical_accuracy: 0.9556 - lr: 1.0000e-04\n",
            "Epoch 417/500\n",
            "83/83 [==============================] - 1s 11ms/step - loss: 0.1881 - sparse_categorical_accuracy: 0.9553 - lr: 1.0000e-04\n",
            "Epoch 418/500\n",
            "83/83 [==============================] - 1s 11ms/step - loss: 0.1785 - sparse_categorical_accuracy: 0.9594 - lr: 1.0000e-04\n",
            "Epoch 419/500\n",
            "83/83 [==============================] - 1s 11ms/step - loss: 0.1863 - sparse_categorical_accuracy: 0.9553 - lr: 1.0000e-04\n",
            "Epoch 420/500\n",
            "83/83 [==============================] - 1s 11ms/step - loss: 0.1841 - sparse_categorical_accuracy: 0.9583 - lr: 1.0000e-04\n",
            "Epoch 421/500\n",
            "83/83 [==============================] - 1s 11ms/step - loss: 0.1900 - sparse_categorical_accuracy: 0.9511 - lr: 1.0000e-04\n",
            "Epoch 422/500\n",
            "83/83 [==============================] - 1s 11ms/step - loss: 0.1801 - sparse_categorical_accuracy: 0.9549 - lr: 1.0000e-04\n",
            "Epoch 423/500\n",
            "83/83 [==============================] - 1s 11ms/step - loss: 0.1828 - sparse_categorical_accuracy: 0.9568 - lr: 1.0000e-04\n",
            "Epoch 424/500\n",
            "83/83 [==============================] - 1s 11ms/step - loss: 0.1856 - sparse_categorical_accuracy: 0.9591 - lr: 1.0000e-04\n",
            "Epoch 425/500\n",
            "83/83 [==============================] - 1s 11ms/step - loss: 0.1820 - sparse_categorical_accuracy: 0.9564 - lr: 1.0000e-04\n",
            "Epoch 426/500\n",
            "83/83 [==============================] - 1s 11ms/step - loss: 0.1711 - sparse_categorical_accuracy: 0.9583 - lr: 1.0000e-04\n",
            "Epoch 427/500\n",
            "83/83 [==============================] - 1s 11ms/step - loss: 0.1747 - sparse_categorical_accuracy: 0.9613 - lr: 1.0000e-04\n",
            "Epoch 428/500\n",
            "83/83 [==============================] - 1s 11ms/step - loss: 0.1747 - sparse_categorical_accuracy: 0.9598 - lr: 1.0000e-04\n",
            "Epoch 429/500\n",
            "83/83 [==============================] - 1s 11ms/step - loss: 0.1782 - sparse_categorical_accuracy: 0.9591 - lr: 1.0000e-04\n",
            "Epoch 430/500\n",
            "83/83 [==============================] - 1s 11ms/step - loss: 0.1817 - sparse_categorical_accuracy: 0.9587 - lr: 1.0000e-04\n",
            "Epoch 431/500\n",
            "83/83 [==============================] - 1s 11ms/step - loss: 0.1900 - sparse_categorical_accuracy: 0.9503 - lr: 1.0000e-04\n",
            "Epoch 432/500\n",
            "83/83 [==============================] - 1s 11ms/step - loss: 0.1767 - sparse_categorical_accuracy: 0.9575 - lr: 1.0000e-04\n",
            "Epoch 433/500\n",
            "83/83 [==============================] - 1s 11ms/step - loss: 0.1762 - sparse_categorical_accuracy: 0.9632 - lr: 1.0000e-04\n",
            "Epoch 434/500\n",
            "83/83 [==============================] - 1s 11ms/step - loss: 0.1852 - sparse_categorical_accuracy: 0.9549 - lr: 1.0000e-04\n",
            "Epoch 435/500\n",
            "83/83 [==============================] - 1s 11ms/step - loss: 0.1754 - sparse_categorical_accuracy: 0.9610 - lr: 1.0000e-04\n",
            "Epoch 436/500\n",
            "83/83 [==============================] - 1s 11ms/step - loss: 0.1786 - sparse_categorical_accuracy: 0.9575 - lr: 1.0000e-04\n",
            "Epoch 437/500\n",
            "83/83 [==============================] - 1s 11ms/step - loss: 0.1755 - sparse_categorical_accuracy: 0.9602 - lr: 1.0000e-04\n",
            "Epoch 438/500\n",
            "83/83 [==============================] - 1s 11ms/step - loss: 0.1765 - sparse_categorical_accuracy: 0.9602 - lr: 1.0000e-04\n",
            "Epoch 438: early stopping\n"
          ]
        }
      ]
    },
    {
      "cell_type": "code",
      "source": [
        "metric = \"sparse_categorical_accuracy\"\n",
        "\n",
        "plt.plot(history.history[metric])\n",
        "plt.title(\"model \" + metric)\n",
        "plt.ylabel(metric, fontsize=\"large\")\n",
        "plt.xlabel(\"epoch\", fontsize=\"large\")\n",
        "plt.legend([\"train\"], loc=\"best\")\n",
        "plt.show()\n",
        "plt.close()\n",
        "\n",
        "plt.plot(history.history['loss'])\n",
        "plt.title(\"model \" + metric)\n",
        "plt.ylabel('loss', fontsize=\"large\")\n",
        "plt.xlabel(\"epoch\", fontsize=\"large\")\n",
        "plt.legend([\"train\"], loc=\"best\")\n",
        "plt.show()\n",
        "plt.close()"
      ],
      "metadata": {
        "id": "4lB79kPpTVhp",
        "colab": {
          "base_uri": "https://localhost:8080/",
          "height": 579
        },
        "outputId": "8de48b14-0168-41e8-f0e9-4446f1ecf045"
      },
      "execution_count": 7,
      "outputs": [
        {
          "output_type": "display_data",
          "data": {
            "text/plain": [
              "<Figure size 432x288 with 1 Axes>"
            ],
            "image/png": "[encoded data removed]"
          },
          "metadata": {
            "needs_background": "light"
          }
        },
        {
          "output_type": "display_data",
          "data": {
            "text/plain": [
              "<Figure size 432x288 with 1 Axes>"
            ],
            "image/png": "[encoded data removed]"
          },
          "metadata": {
            "needs_background": "light"
          }
        }
      ]
    },
    {
      "cell_type": "code",
      "source": [
        "final_model = keras.models.load_model(\"model_train_all5.h5\")\n",
        "\n",
        "test_loss, test_acc = model.evaluate(X_test1, y_test1)\n",
        "\n",
        "print(\"Test accuracy\", test_acc)\n",
        "print(\"Test loss\", test_loss)"
      ],
      "metadata": {
        "id": "HhT1eJcDTk2E",
        "colab": {
          "base_uri": "https://localhost:8080/"
        },
        "outputId": "b80d5788-1755-477f-bdb7-dda229ee7f1a"
      },
      "execution_count": 8,
      "outputs": [
        {
          "output_type": "stream",
          "name": "stdout",
          "text": [
            "22/22 [==============================] - 0s 5ms/step - loss: 0.2714 - sparse_categorical_accuracy: 0.9369\n",
            "Test accuracy 0.9368575811386108\n",
            "Test loss 0.2713924050331116\n"
          ]
        }
      ]
    },
    {
      "cell_type": "code",
      "source": [
        "labels = ['BH', 'OT', 'Other', 'Pass', 'Rest', 'SS', 'WS']\n",
        "\n",
        "predict_X_test = model.predict(X_test1) \n",
        "y_pred = np.argmax(predict_X_test,axis=1)\n",
        "\n",
        "print(classification_report(y_test1, y_pred, target_names=labels, digits=4))"
      ],
      "metadata": {
        "colab": {
          "base_uri": "https://localhost:8080/"
        },
        "id": "fgR09yTlUqE9",
        "outputId": "aca20ff5-3450-4573-9c7c-fefa3030f445"
      },
      "execution_count": 23,
      "outputs": [
        {
          "output_type": "stream",
          "name": "stdout",
          "text": [
            "              precision    recall  f1-score   support\n",
            "\n",
            "          BH     0.9877    1.0000    0.9938        80\n",
            "          OT     1.0000    0.8750    0.9333        80\n",
            "       Other     0.9027    0.8500    0.8755       120\n",
            "        Pass     1.0000    0.8000    0.8889        40\n",
            "        Rest     0.8692    0.9417    0.9040       120\n",
            "          SS     0.9023    1.0000    0.9486       120\n",
            "          WS     0.9918    1.0000    0.9959       121\n",
            "\n",
            "    accuracy                         0.9369       681\n",
            "   macro avg     0.9505    0.9238    0.9343       681\n",
            "weighted avg     0.9397    0.9369    0.9363       681\n",
            "\n"
          ]
        }
      ]
    },
    {
      "cell_type": "code",
      "source": [
        "confusion_matrix = confusion_matrix(y_test1, y_pred)"
      ],
      "metadata": {
        "id": "cbmbu1EEMz0i"
      },
      "execution_count": null,
      "outputs": []
    },
    {
      "cell_type": "code",
      "source": [
        "FP = confusion_matrix.sum(axis=0) - np.diag(confusion_matrix)  \n",
        "FN = confusion_matrix.sum(axis=1) - np.diag(confusion_matrix)\n",
        "TP = np.diag(confusion_matrix)\n",
        "TN = confusion_matrix.sum() - (FP + FN + TP)\n",
        "\n",
        "specificity = TN / (TN + FP)\n",
        "\n",
        "print(\"Specificity BH:\", specificity[0])\n",
        "print(\"Specificity OT:\", specificity[1])\n",
        "print(\"Specificity Other:\", specificity[2])\n",
        "print(\"Specificity Pass:\", specificity[3])\n",
        "print(\"Specificity Rest:\", specificity[4])\n",
        "print(\"Specificity SS:\", specificity[5])\n",
        "print(\"Specificity WS:\", specificity[6])"
      ],
      "metadata": {
        "colab": {
          "base_uri": "https://localhost:8080/"
        },
        "id": "Ifsb3ZMdpRTr",
        "outputId": "057493f0-08d0-4d00-b4ca-445be0b9c000"
      },
      "execution_count": 25,
      "outputs": [
        {
          "output_type": "stream",
          "name": "stdout",
          "text": [
            "Specificity BH: 0.9983361064891847\n",
            "Specificity OT: 1.0\n",
            "Specificity Other: 0.9803921568627451\n",
            "Specificity Pass: 1.0\n",
            "Specificity Rest: 0.9696969696969697\n",
            "Specificity SS: 0.9768270944741533\n",
            "Specificity WS: 0.9982142857142857\n"
          ]
        }
      ]
    },
    {
      "cell_type": "code",
      "source": [
        "cmd = ConfusionMatrixDisplay.from_predictions(y_test1,\n",
        "                                              y_pred,\n",
        "                                              display_labels=labels,\n",
        "                                              normalize='true',\n",
        "                                              cmap=plt.cm.Blues)\n",
        "cmd.ax_.set_title(\"Normalized Confusion Matrix Hands Sensor Configuration\")\n",
        "plt.show()"
      ],
      "metadata": {
        "colab": {
          "base_uri": "https://localhost:8080/",
          "height": 295
        },
        "outputId": "493f328a-b5ef-4fd1-a097-d682117d687e",
        "id": "oSrPO9nuL14e"
      },
      "execution_count": 21,
      "outputs": [
        {
          "output_type": "display_data",
          "data": {
            "text/plain": [
              "<Figure size 432x288 with 2 Axes>"
            ],
            "image/png": "[encoded data removed]"
          },
          "metadata": {
            "needs_background": "light"
          }
        }
      ]
    },
    {
      "cell_type": "code",
      "source": [
        "cmd = ConfusionMatrixDisplay.from_predictions(y_test1,\n",
        "                                              y_pred,\n",
        "                                              display_labels=labels,\n",
        "                                              cmap=plt.cm.Blues)\n",
        "cmd.ax_.set_title(\"Confusion Matrix Hands Sensor Configuration\")\n",
        "plt.show()"
      ],
      "metadata": {
        "id": "_TKeYiVEm_2V",
        "colab": {
          "base_uri": "https://localhost:8080/",
          "height": 295
        },
        "outputId": "ca204c35-ba0f-4155-d2c8-1cc224097409"
      },
      "execution_count": 22,
      "outputs": [
        {
          "output_type": "display_data",
          "data": {
            "text/plain": [
              "<Figure size 432x288 with 2 Axes>"
            ],
            "image/png": "[encoded data removed]"
          },
          "metadata": {
            "needs_background": "light"
          }
        }
      ]
    }
  ]
}