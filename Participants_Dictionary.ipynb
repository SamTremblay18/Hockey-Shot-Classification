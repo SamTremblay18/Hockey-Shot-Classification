{
  "nbformat": 4,
  "nbformat_minor": 0,
  "metadata": {
    "colab": {
      "name": "Participants_Dictionary.ipynb",
      "provenance": [],
      "collapsed_sections": [
        "9Vuma82EmrcC",
        "VQOWdgi0qOdc",
        "j_8kqx9um0fD"
      ],
      "machine_shape": "hm",
      "authorship_tag": "ABX9TyNAMYUqErlhAHEUo6tWRE5M"
    },
    "kernelspec": {
      "name": "python3",
      "display_name": "Python 3"
    },
    "language_info": {
      "name": "python"
    },
    "accelerator": "GPU"
  },
  "cells": [
    {
      "cell_type": "code",
      "execution_count": null,
      "metadata": {
        "colab": {
          "base_uri": "https://localhost:8080/"
        },
        "id": "aYjLtuuFmbc9",
        "outputId": "93305a63-bfbe-4758-e932-05331059b836"
      },
      "outputs": [
        {
          "output_type": "stream",
          "name": "stdout",
          "text": [
            "Mounted at /content/drive\n"
          ]
        }
      ],
      "source": [
        "import pandas as pd\n",
        "from google.colab import drive \n",
        "drive.mount('/content/drive')\n",
        "import pickle"
      ]
    },
    {
      "cell_type": "markdown",
      "source": [
        "# Functions"
      ],
      "metadata": {
        "id": "9Vuma82EmrcC"
      }
    },
    {
      "cell_type": "markdown",
      "source": [
        "Load the acceleration and markers sheet from the Xsens excel file"
      ],
      "metadata": {
        "id": "qGQ3iqKfIW2p"
      }
    },
    {
      "cell_type": "code",
      "source": [
        "def load_data(fpath):\n",
        "  P_acc = pd.read_excel(fpath,sheet_name='Sensor Free Acceleration',  usecols = 'A,B,C,D,N,O,P,T,U,V,W,X,Y,Z,AA,AB,AC,AD,AE,AF,AG,AH,AI,AJ,AK,AL,AM,AN,AO,AP,AQ,AR,AS,AT,AU,AV,AW,AX,AY,AZ,BA,BB,BC,BG,BH,BI,BJ,BK,BL,BM,BN,BO,BS')\n",
        "  P_markers = pd.read_excel(fpath,sheet_name='Markers',  usecols ='B,C,D')\n",
        "  \n",
        "  return P_acc, P_markers"
      ],
      "metadata": {
        "id": "sJq77IK1IYWm"
      },
      "execution_count": null,
      "outputs": []
    },
    {
      "cell_type": "markdown",
      "source": [
        "Save and open files with pickle"
      ],
      "metadata": {
        "id": "hGWXMnsEIg08"
      }
    },
    {
      "cell_type": "code",
      "source": [
        "def save_pickle(path_pickle,P):\n",
        "  f = open(path_pickle, 'wb')\n",
        "  pickle.dump(P, f)\n",
        "  f.close()\n",
        "\n",
        "  return f \n",
        "\n",
        "def open_pickle(path_pickle):\n",
        "  f = open(path_pickle, 'rb')\n",
        "  P = pickle.load(f)\n",
        "  f.close()\n",
        "\n",
        "  return P"
      ],
      "metadata": {
        "id": "G2ybYQIQIgp_"
      },
      "execution_count": null,
      "outputs": []
    },
    {
      "cell_type": "markdown",
      "source": [
        "#  Opening participants' dataset and saving to pickle"
      ],
      "metadata": {
        "id": "VQOWdgi0qOdc"
      }
    },
    {
      "cell_type": "code",
      "source": [
        "# P01\n",
        "P01_acc, P01_markers = load_data('/content/drive/MyDrive/Sam/Labelled Data/P01_SensFreeAcc.xlsx')\n",
        "f1_acc = save_pickle('/content/drive/MyDrive/Sam/File_saved/P01_acc.pickle',P01_acc)\n",
        "f1_markers = save_pickle('/content/drive/MyDrive/Sam/File_saved/P01_markers.pickle',P01_markers)\n",
        "# P02\n",
        "P02_acc, P02_markers = load_data('/content/drive/MyDrive/Sam/Labelled Data/P02_SensFreeAcc.xlsx')\n",
        "f2_acc = save_pickle('/content/drive/MyDrive/Sam/File_saved/P02_acc.pickle',P02_acc)\n",
        "f2_markers = save_pickle('/content/drive/MyDrive/Sam/File_saved/P02_markers.pickle',P02_markers)\n",
        "# P03\n",
        "P03_acc, P03_markers = load_data('/content/drive/MyDrive/Sam/Labelled Data/P03_SensFreeAcc.xlsx')\n",
        "f3_acc = save_pickle('/content/drive/MyDrive/Sam/File_saved/P03_acc.pickle',P03_acc)\n",
        "f3_markers = save_pickle('/content/drive/MyDrive/Sam/File_saved/P03_markers.pickle',P03_markers)\n",
        "# P04\n",
        "P04_acc, P04_markers = load_data('/content/drive/MyDrive/Sam/Labelled Data/P04_SensFreeAcc.xlsx')\n",
        "f4_acc = save_pickle('/content/drive/MyDrive/Sam/File_saved/P04_acc.pickle',P04_acc)\n",
        "f4_markers = save_pickle('/content/drive/MyDrive/Sam/File_saved/P04_markers.pickle',P04_markers)\n",
        "# P05\n",
        "P05_acc, P05_markers = load_data('/content/drive/MyDrive/Sam/Labelled Data/P05_SensFreeAcc.xlsx')\n",
        "f5_acc = save_pickle('/content/drive/MyDrive/Sam/File_saved/P05_acc.pickle',P05_acc)\n",
        "f5_markers = save_pickle('/content/drive/MyDrive/Sam/File_saved/P05_markers.pickle',P05_markers)\n",
        "# P07\n",
        "P07_acc, P07_markers = load_data('/content/drive/MyDrive/Sam/Labelled Data/P07_SensFreeAcc.xlsx')\n",
        "f7_acc = save_pickle('/content/drive/MyDrive/Sam/File_saved/P07_acc.pickle',P07_acc)\n",
        "f7_markers = save_pickle('/content/drive/MyDrive/Sam/File_saved/P07_markers.pickle',P07_markers)\n",
        "# P08\n",
        "P08_acc, P08_markers = load_data('/content/drive/MyDrive/Sam/Labelled Data/P08_SensFreeAcc.xlsx')\n",
        "f8_acc = save_pickle('/content/drive/MyDrive/Sam/File_saved/P08_acc.pickle',P08_acc)\n",
        "f8_markers = save_pickle('/content/drive/MyDrive/Sam/File_saved/P08_markers.pickle',P08_markers)\n",
        "# P09\n",
        "P09_acc, P09_markers = load_data('/content/drive/MyDrive/Sam/Labelled Data/P09_SensFreeAcc.xlsx')\n",
        "f9_acc = save_pickle('/content/drive/MyDrive/Sam/File_saved/P09_acc.pickle',P09_acc)\n",
        "f9_markers = save_pickle('/content/drive/MyDrive/Sam/File_saved/P09_markers.pickle',P09_markers)\n",
        "# P10\n",
        "P10_acc, P10_markers = load_data('/content/drive/MyDrive/Sam/Labelled Data/P10_SensFreeAcc.xlsx')\n",
        "f10_acc = save_pickle('/content/drive/MyDrive/Sam/File_saved/P10_acc.pickle',P10_acc)\n",
        "f10_markers = save_pickle('/content/drive/MyDrive/Sam/File_saved/P10_markers.pickle',P10_markers)\n",
        "# P11\n",
        "P11_acc, P11_markers = load_data('/content/drive/MyDrive/Sam/Labelled Data/P11_SensFreeAcc.xlsx')\n",
        "f11_acc = save_pickle('/content/drive/MyDrive/Sam/File_saved/P11_acc.pickle',P11_acc)\n",
        "f11_markers = save_pickle('/content/drive/MyDrive/Sam/File_saved/P11_markers.pickle',P11_markers)\n",
        "# P12\n",
        "P12_acc, P12_markers = load_data('/content/drive/MyDrive/Sam/Labelled Data/P12_SensFreeAcc.xlsx')\n",
        "f12_acc = save_pickle('/content/drive/MyDrive/Sam/File_saved/P12_acc.pickle',P12_acc)\n",
        "f12_markers = save_pickle('/content/drive/MyDrive/Sam/File_saved/P12_markers.pickle',P12_markers)\n",
        "# P13\n",
        "P13_acc, P13_markers = load_data('/content/drive/MyDrive/Sam/Labelled Data/P13_SensFreeAcc.xlsx')\n",
        "f13_acc = save_pickle('/content/drive/MyDrive/Sam/File_saved/P13_acc.pickle',P13_acc)\n",
        "f13_markers = save_pickle('/content/drive/MyDrive/Sam/File_saved/P13_markers.pickle',P13_markers)\n",
        "# P14\n",
        "P14_acc, P14_markers = load_data('/content/drive/MyDrive/Sam/Labelled Data/P14_SensFreeAcc.xlsx')\n",
        "f14_acc = save_pickle('/content/drive/MyDrive/Sam/File_saved/P14_acc.pickle',P14_acc)\n",
        "f14_markers = save_pickle('/content/drive/MyDrive/Sam/File_saved/P14_markers.pickle',P14_markers)\n",
        "# P15\n",
        "P15_acc, P15_markers = load_data('/content/drive/MyDrive/Sam/Labelled Data/P15_SensFreeAcc.xlsx')\n",
        "f15_acc = save_pickle('/content/drive/MyDrive/Sam/File_saved/P15_acc.pickle',P15_acc)\n",
        "f15_markers = save_pickle('/content/drive/MyDrive/Sam/File_saved/P15_markers.pickle',P15_markers)\n",
        "# P17\n",
        "P17_acc, P17_markers = load_data('/content/drive/MyDrive/Sam/Labelled Data/P17_SensFreeAcc.xlsx')\n",
        "f17_acc = save_pickle('/content/drive/MyDrive/Sam/File_saved/P17_acc.pickle',P17_acc)\n",
        "f17_markers = save_pickle('/content/drive/MyDrive/Sam/File_saved/P17_markers.pickle',P17_markers)\n",
        "# P19\n",
        "P19_acc, P19_markers = load_data('/content/drive/MyDrive/Sam/Labelled Data/P19_SensFreeAcc.xlsx')\n",
        "f19_acc = save_pickle('/content/drive/MyDrive/Sam/File_saved/P19_acc.pickle',P19_acc)\n",
        "f19_markers = save_pickle('/content/drive/MyDrive/Sam/File_saved/P19_markers.pickle',P19_markers)\n",
        "# P20\n",
        "P20_acc, P20_markers = load_data('/content/drive/MyDrive/Sam/Labelled Data/P20_SensFreeAcc.xlsx')\n",
        "f20_acc = save_pickle('/content/drive/MyDrive/Sam/File_saved/P20_acc.pickle',P20_acc)\n",
        "f20_markers = save_pickle('/content/drive/MyDrive/Sam/File_saved/P20_markers.pickle',P20_markers)\n",
        "# P21\n",
        "P21_acc, P21_markers = load_data('/content/drive/MyDrive/Sam/Labelled Data/P21_SensFreeAcc.xlsx')\n",
        "f21_acc = save_pickle('/content/drive/MyDrive/Sam/File_saved/P21_acc.pickle',P21_acc)\n",
        "f21_markers = save_pickle('/content/drive/MyDrive/Sam/File_saved/P21_markers.pickle',P21_markers)\n",
        "# P22\n",
        "P22_acc, P22_markers = load_data('/content/drive/MyDrive/Sam/Labelled Data/P22_SensFreeAcc.xlsx')\n",
        "f22_acc = save_pickle('/content/drive/MyDrive/Sam/File_saved/P22_acc.pickle',P22_acc)\n",
        "f22_markers = save_pickle('/content/drive/MyDrive/Sam/File_saved/P22_markers.pickle',P22_markers)\n",
        "# P23\n",
        "P23_acc, P23_markers = load_data('/content/drive/MyDrive/Sam/Labelled Data/P23_SensFreeAcc.xlsx')\n",
        "f23_acc = save_pickle('/content/drive/MyDrive/Sam/File_saved/P23_acc.pickle',P23_acc)\n",
        "f23_markers = save_pickle('/content/drive/MyDrive/Sam/File_saved/P23_markers.pickle',P23_markers)\n",
        "# P24\n",
        "P24_acc, P24_markers = load_data('/content/drive/MyDrive/Sam/Labelled Data/P24_SensFreeAcc.xlsx')\n",
        "f24_acc = save_pickle('/content/drive/MyDrive/Sam/File_saved/P24_acc.pickle',P24_acc)\n",
        "f24_markers = save_pickle('/content/drive/MyDrive/Sam/File_saved/P24_markers.pickle',P24_markers)\n",
        "# P25\n",
        "P25_acc, P25_markers = load_data('/content/drive/MyDrive/Sam/Labelled Data/P25_SensFreeAcc.xlsx')\n",
        "f25_acc = save_pickle('/content/drive/MyDrive/Sam/File_saved/P25_acc.pickle',P25_acc)\n",
        "f25_markers = save_pickle('/content/drive/MyDrive/Sam/File_saved/P25_markers.pickle',P25_markers)\n",
        "# P27\n",
        "P27_acc, P27_markers = load_data('/content/drive/MyDrive/Sam/Labelled Data/P27_SensFreeAcc.xlsx')\n",
        "f27_acc = save_pickle('/content/drive/MyDrive/Sam/File_saved/P27_acc.pickle',P27_acc)\n",
        "f27_markers = save_pickle('/content/drive/MyDrive/Sam/File_saved/P27_markers.pickle',P27_markers)\n",
        "# P28\n",
        "P28_acc, P28_markers = load_data('/content/drive/MyDrive/Sam/Labelled Data/P28_SensFreeAcc.xlsx')\n",
        "f28_acc = save_pickle('/content/drive/MyDrive/Sam/File_saved/P28_acc.pickle',P28_acc)\n",
        "f28_markers = save_pickle('/content/drive/MyDrive/Sam/File_saved/P28_markers.pickle',P28_markers)\n",
        "# P29\n",
        "P29_acc, P29_markers = load_data('/content/drive/MyDrive/Sam/Labelled Data/P29_SensFreeAcc.xlsx')\n",
        "f29_acc = save_pickle('/content/drive/MyDrive/Sam/File_saved/P29_acc.pickle',P29_acc)\n",
        "f29_markers = save_pickle('/content/drive/MyDrive/Sam/File_saved/P29_markers.pickle',P29_markers)\n",
        "# P32\n",
        "P32_acc, P32_markers = load_data('/content/drive/MyDrive/Sam/Labelled Data/P32_SensFreeAcc.xlsx')\n",
        "f32_acc = save_pickle('/content/drive/MyDrive/Sam/File_saved/P32_acc.pickle',P32_acc)\n",
        "f32_markers = save_pickle('/content/drive/MyDrive/Sam/File_saved/P32_markers.pickle',P32_markers)\n",
        "# P34\n",
        "P34_acc, P34_markers = load_data('/content/drive/MyDrive/Sam/Labelled Data/P34_SensFreeAcc.xlsx')\n",
        "f34_acc = save_pickle('/content/drive/MyDrive/Sam/File_saved/P34_acc.pickle',P34_acc)\n",
        "f34_markers = save_pickle('/content/drive/MyDrive/Sam/File_saved/P34_markers.pickle',P34_markers)\n",
        "# P36\n",
        "P36_acc, P36_markers = load_data('/content/drive/MyDrive/Sam/Labelled Data/P36_SensFreeAcc.xlsx')\n",
        "f36_acc = save_pickle('/content/drive/MyDrive/Sam/File_saved/P36_acc.pickle',P36_acc)\n",
        "f36_markers = save_pickle('/content/drive/MyDrive/Sam/File_saved/P36_markers.pickle',P36_markers)\n",
        "# P37\n",
        "P37_acc, P37_markers = load_data('/content/drive/MyDrive/Sam/Labelled Data/P37_SensFreeAcc.xlsx')\n",
        "f37_acc = save_pickle('/content/drive/MyDrive/Sam/File_saved/P37_acc.pickle',P37_acc)\n",
        "f37_markers = save_pickle('/content/drive/MyDrive/Sam/File_saved/P37_markers.pickle',P37_markers)\n",
        "# 39\n",
        "P39_acc, P39_markers = load_data('/content/drive/MyDrive/Sam/Labelled Data/P39_SensFreeAcc.xlsx')\n",
        "f39_acc = save_pickle('/content/drive/MyDrive/Sam/File_saved/P39_acc.pickle',P39_acc)\n",
        "f39_markers = save_pickle('/content/drive/MyDrive/Sam/File_saved/P39_markers.pickle',P39_markers)\n",
        "# P40\n",
        "P40_acc, P40_markers = load_data('/content/drive/MyDrive/Sam/Labelled Data/P40_SensFreeAcc.xlsx')\n",
        "f40_acc = save_pickle('/content/drive/MyDrive/Sam/File_saved/P40_acc.pickle',P40_acc)\n",
        "f40_markers = save_pickle('/content/drive/MyDrive/Sam/File_saved/P40_markers.pickle',P40_markers)\n",
        "# P42\n",
        "P42_acc, P42_markers = load_data('/content/drive/MyDrive/Sam/Labelled Data/P42_SensFreeAcc.xlsx')\n",
        "f42_acc = save_pickle('/content/drive/MyDrive/Sam/File_saved/P42_acc.pickle',P42_acc)\n",
        "f42_markers = save_pickle('/content/drive/MyDrive/Sam/File_saved/P42_markers.pickle',P42_markers)\n",
        "# P43\n",
        "P43_acc, P43_markers = load_data('/content/drive/MyDrive/Sam/Labelled Data/P43_SensFreeAcc.xlsx')\n",
        "f43_acc = save_pickle('/content/drive/MyDrive/Sam/File_saved/P43_acc.pickle',P43_acc)\n",
        "f43_markers = save_pickle('/content/drive/MyDrive/Sam/File_saved/P43_markers.pickle',P43_markers)\n",
        "# P18\n",
        "P18_acc, P18_markers = load_data('/content/drive/MyDrive/Sam/Labelled Data/P18_SensFreeAcc.xlsx')\n",
        "f18_acc = save_pickle('/content/drive/MyDrive/Sam/File_saved/P18_acc.pickle',P18_acc)\n",
        "f18_markers = save_pickle('/content/drive/MyDrive/Sam/File_saved/P18_markers.pickle',P18_markers)\n",
        "# P26\n",
        "P26_acc, P26_markers = load_data('/content/drive/MyDrive/Sam/Labelled Data/P26_SensFreeAcc.xlsx')\n",
        "f26_acc = save_pickle('/content/drive/MyDrive/Sam/File_saved/P26_acc.pickle',P26_acc)\n",
        "f26_markers = save_pickle('/content/drive/MyDrive/Sam/File_saved/P26_markers.pickle',P26_markers)\n",
        "# P35\n",
        "P35_acc, P35_markers = load_data('/content/drive/MyDrive/Sam/Labelled Data/P35_SensFreeAcc.xlsx')\n",
        "f35_acc = save_pickle('/content/drive/MyDrive/Sam/File_saved/P35_acc.pickle',P35_acc)\n",
        "f35_markers = save_pickle('/content/drive/MyDrive/Sam/File_saved/P35_markers.pickle',P35_markers)\n",
        "# 16\n",
        "P16_acc, P16_markers = load_data('/content/drive/MyDrive/Sam/Labelled Data/P16_SensFreeAcc.xlsx')\n",
        "f16_acc = save_pickle('/content/drive/MyDrive/Sam/File_saved/P16_acc.pickle',P16_acc)\n",
        "f16_markers = save_pickle('/content/drive/MyDrive/Sam/File_saved/P16_markers.pickle',P16_markers)\n",
        "# P41\n",
        "P41_acc, P41_markers = load_data('/content/drive/MyDrive/Sam/Labelled Data/P41_SensFreeAcc.xlsx')\n",
        "f41_acc = save_pickle('/content/drive/MyDrive/Sam/File_saved/P41_acc.pickle',P41_acc)\n",
        "f41_markers = save_pickle('/content/drive/MyDrive/Sam/File_saved/P41_markers.pickle',P41_markers)\n",
        "# P33\n",
        "P33_acc, P33_markers = load_data('/content/drive/MyDrive/Sam/Labelled Data/P33_SensFreeAcc.xlsx')\n",
        "f33_acc = save_pickle('/content/drive/MyDrive/Sam/File_saved/P33_acc.pickle',P33_acc)\n",
        "f33_markers = save_pickle('/content/drive/MyDrive/Sam/File_saved/P33_markers.pickle',P33_markers)"
      ],
      "metadata": {
        "id": "A5wJZigip2mZ"
      },
      "execution_count": null,
      "outputs": []
    },
    {
      "cell_type": "markdown",
      "source": [
        "# Creating participant's and marker's dictionnary"
      ],
      "metadata": {
        "id": "j_8kqx9um0fD"
      }
    },
    {
      "cell_type": "code",
      "source": [
        "# P01\n",
        "P01_acc = open_pickle('/content/drive/MyDrive/Sam/File_saved/P01_acc.pickle')\n",
        "P01_markers = open_pickle('/content/drive/MyDrive/Sam/File_saved/P01_markers.pickle')\n",
        "# P02\n",
        "P02_acc = open_pickle('/content/drive/MyDrive/Sam/File_saved/P02_acc.pickle')\n",
        "P02_markers = open_pickle('/content/drive/MyDrive/Sam/File_saved/P02_markers.pickle')\n",
        "# P03\n",
        "P03_acc = open_pickle('/content/drive/MyDrive/Sam/File_saved/P03_acc.pickle')\n",
        "P03_markers = open_pickle('/content/drive/MyDrive/Sam/File_saved/P03_markers.pickle')\n",
        "# P04\n",
        "P04_acc = open_pickle('/content/drive/MyDrive/Sam/File_saved/P04_acc.pickle')\n",
        "P04_markers = open_pickle('/content/drive/MyDrive/Sam/File_saved/P04_markers.pickle')\n",
        "# P05\n",
        "P05_acc = open_pickle('/content/drive/MyDrive/Sam/File_saved/P05_acc.pickle')\n",
        "P05_markers = open_pickle('/content/drive/MyDrive/Sam/File_saved/P05_markers.pickle')"
      ],
      "metadata": {
        "id": "ubWFPFkK_DyQ"
      },
      "execution_count": null,
      "outputs": []
    },
    {
      "cell_type": "code",
      "source": [
        "# P07\n",
        "P07_acc = open_pickle('/content/drive/MyDrive/Sam/File_saved/P07_acc.pickle')\n",
        "P07_markers = open_pickle('/content/drive/MyDrive/Sam/File_saved/P07_markers.pickle')\n",
        "# P08\n",
        "P08_acc = open_pickle('/content/drive/MyDrive/Sam/File_saved/P08_acc.pickle')\n",
        "P08_markers = open_pickle('/content/drive/MyDrive/Sam/File_saved/P08_markers.pickle')\n",
        "# P09\n",
        "P09_acc = open_pickle('/content/drive/MyDrive/Sam/File_saved/P09_acc.pickle')\n",
        "P09_markers = open_pickle('/content/drive/MyDrive/Sam/File_saved/P09_markers.pickle')\n",
        "# P11\n",
        "P11_acc = open_pickle('/content/drive/MyDrive/Sam/File_saved/P11_acc.pickle')\n",
        "P11_markers = open_pickle('/content/drive/MyDrive/Sam/File_saved/P11_markers.pickle')\n",
        "# P12\n",
        "P12_acc = open_pickle('/content/drive/MyDrive/Sam/File_saved/P12_acc.pickle')\n",
        "P12_markers = open_pickle('/content/drive/MyDrive/Sam/File_saved/P12_markers.pickle')"
      ],
      "metadata": {
        "id": "n0VQ4u-v_IF4"
      },
      "execution_count": null,
      "outputs": []
    },
    {
      "cell_type": "code",
      "source": [
        "# P13\n",
        "P13_acc = open_pickle('/content/drive/MyDrive/Sam/File_saved/P13_acc.pickle')\n",
        "P13_markers = open_pickle('/content/drive/MyDrive/Sam/File_saved/P13_markers.pickle')\n",
        "# P14\n",
        "P14_acc = open_pickle('/content/drive/MyDrive/Sam/File_saved/P14_acc.pickle')\n",
        "P14_markers = open_pickle('/content/drive/MyDrive/Sam/File_saved/P14_markers.pickle')\n",
        "# P15\n",
        "P15_acc = open_pickle('/content/drive/MyDrive/Sam/File_saved/P15_acc.pickle')\n",
        "P15_markers = open_pickle('/content/drive/MyDrive/Sam/File_saved/P15_markers.pickle')\n",
        "# P17\n",
        "P17_acc = open_pickle('/content/drive/MyDrive/Sam/File_saved/P17_acc.pickle')\n",
        "P17_markers = open_pickle('/content/drive/MyDrive/Sam/File_saved/P17_markers.pickle')\n",
        "# P18\n",
        "P18_acc = open_pickle('/content/drive/MyDrive/Sam/File_saved/P18_acc.pickle')\n",
        "P18_markers = open_pickle('/content/drive/MyDrive/Sam/File_saved/P18_markers.pickle')\n",
        "# P19\n",
        "P19_acc = open_pickle('/content/drive/MyDrive/Sam/File_saved/P19_acc.pickle')\n",
        "P19_markers = open_pickle('/content/drive/MyDrive/Sam/File_saved/P19_markers.pickle')"
      ],
      "metadata": {
        "id": "7xGlyBAY_M91"
      },
      "execution_count": null,
      "outputs": []
    },
    {
      "cell_type": "code",
      "source": [
        "# P20\n",
        "P20_acc = open_pickle('/content/drive/MyDrive/Sam/File_saved/P20_acc.pickle')\n",
        "P20_markers = open_pickle('/content/drive/MyDrive/Sam/File_saved/P20_markers.pickle')\n",
        "# P21\n",
        "P21_acc = open_pickle('/content/drive/MyDrive/Sam/File_saved/P21_acc.pickle')\n",
        "P21_markers = open_pickle('/content/drive/MyDrive/Sam/File_saved/P21_markers.pickle')\n",
        "# P22\n",
        "P22_acc = open_pickle('/content/drive/MyDrive/Sam/File_saved/P22_acc.pickle')\n",
        "P22_markers = open_pickle('/content/drive/MyDrive/Sam/File_saved/P22_markers.pickle')\n",
        "# P23\n",
        "P23_acc = open_pickle('/content/drive/MyDrive/Sam/File_saved/P23_acc.pickle')\n",
        "P23_markers = open_pickle('/content/drive/MyDrive/Sam/File_saved/P23_markers.pickle')\n",
        "# P24\n",
        "P24_acc = open_pickle('/content/drive/MyDrive/Sam/File_saved/P24_acc.pickle')\n",
        "P24_markers = open_pickle('/content/drive/MyDrive/Sam/File_saved/P24_markers.pickle')\n",
        "# P25\n",
        "P25_acc = open_pickle('/content/drive/MyDrive/Sam/File_saved/P25_acc.pickle')\n",
        "P25_markers = open_pickle('/content/drive/MyDrive/Sam/File_saved/P25_markers.pickle')\n"
      ],
      "metadata": {
        "id": "PDCPnvgI_Si0"
      },
      "execution_count": null,
      "outputs": []
    },
    {
      "cell_type": "code",
      "source": [
        "# P26\n",
        "P26_acc = open_pickle('/content/drive/MyDrive/Sam/File_saved/P26_acc.pickle')\n",
        "P26_markers = open_pickle('/content/drive/MyDrive/Sam/File_saved/P26_markers.pickle')\n",
        "# P27\n",
        "P27_acc = open_pickle('/content/drive/MyDrive/Sam/File_saved/P27_acc.pickle')\n",
        "P27_markers = open_pickle('/content/drive/MyDrive/Sam/File_saved/P27_markers.pickle')\n",
        "# P28\n",
        "P28_acc = open_pickle('/content/drive/MyDrive/Sam/File_saved/P28_acc.pickle')\n",
        "P28_markers = open_pickle('/content/drive/MyDrive/Sam/File_saved/P28_markers.pickle')\n",
        "# P29\n",
        "P29_acc = open_pickle('/content/drive/MyDrive/Sam/File_saved/P29_acc.pickle')\n",
        "P29_markers = open_pickle('/content/drive/MyDrive/Sam/File_saved/P29_markers.pickle')\n",
        "# P32\n",
        "P32_acc = open_pickle('/content/drive/MyDrive/Sam/File_saved/P32_acc.pickle')\n",
        "P32_markers = open_pickle('/content/drive/MyDrive/Sam/File_saved/P32_markers.pickle')\n",
        "# P34\n",
        "P34_acc = open_pickle('/content/drive/MyDrive/Sam/File_saved/P34_acc.pickle')\n",
        "P34_markers = open_pickle('/content/drive/MyDrive/Sam/File_saved/P34_markers.pickle')\n"
      ],
      "metadata": {
        "id": "iunxByzY_W82"
      },
      "execution_count": null,
      "outputs": []
    },
    {
      "cell_type": "code",
      "source": [
        "# P35\n",
        "P35_acc = open_pickle('/content/drive/MyDrive/Sam/File_saved/P35_acc.pickle')\n",
        "P35_markers = open_pickle('/content/drive/MyDrive/Sam/File_saved/P35_markers.pickle')\n",
        "# P36\n",
        "P36_acc = open_pickle('/content/drive/MyDrive/Sam/File_saved/P36_acc.pickle')\n",
        "P36_markers = open_pickle('/content/drive/MyDrive/Sam/File_saved/P36_markers.pickle')\n",
        "# P37\n",
        "P37_acc = open_pickle('/content/drive/MyDrive/Sam/File_saved/P37_acc.pickle')\n",
        "P37_markers = open_pickle('/content/drive/MyDrive/Sam/File_saved/P37_markers.pickle')\n",
        "# P39\n",
        "P39_acc = open_pickle('/content/drive/MyDrive/Sam/File_saved/P39_acc.pickle')\n",
        "P39_markers = open_pickle('/content/drive/MyDrive/Sam/File_saved/P39_markers.pickle')\n",
        "# P40\n",
        "P40_acc = open_pickle('/content/drive/MyDrive/Sam/File_saved/P40_acc.pickle')\n",
        "P40_markers = open_pickle('/content/drive/MyDrive/Sam/File_saved/P40_markers.pickle')\n",
        "# P42\n",
        "P42_acc = open_pickle('/content/drive/MyDrive/Sam/File_saved/P42_acc.pickle')\n",
        "P42_markers = open_pickle('/content/drive/MyDrive/Sam/File_saved/P42_markers.pickle')\n",
        "# P43\n",
        "P43_acc = open_pickle('/content/drive/MyDrive/Sam/File_saved/P43_acc.pickle')\n",
        "P43_markers = open_pickle('/content/drive/MyDrive/Sam/File_saved/P43_markers.pickle')"
      ],
      "metadata": {
        "id": "uZ-e_xhytbbN"
      },
      "execution_count": null,
      "outputs": []
    },
    {
      "cell_type": "code",
      "source": [
        "# P10\n",
        "P10_acc = open_pickle('/content/drive/MyDrive/Sam/File_saved/P10_acc.pickle')\n",
        "P10_markers = open_pickle('/content/drive/MyDrive/Sam/File_saved/P10_markers.pickle')"
      ],
      "metadata": {
        "id": "KmmrIJdQEZGC"
      },
      "execution_count": null,
      "outputs": []
    },
    {
      "cell_type": "code",
      "source": [
        "# P16\n",
        "P16_acc = open_pickle('/content/drive/MyDrive/Sam/File_saved/P16_acc.pickle')\n",
        "P16_markers = open_pickle('/content/drive/MyDrive/Sam/File_saved/P16_markers.pickle')\n",
        "# P41\n",
        "P41_acc = open_pickle('/content/drive/MyDrive/Sam/File_saved/P41_acc.pickle')\n",
        "P41_markers = open_pickle('/content/drive/MyDrive/Sam/File_saved/P41_markers.pickle')\n",
        "# P33\n",
        "P33_acc = open_pickle('/content/drive/MyDrive/Sam/File_saved/P33_acc.pickle')\n",
        "P33_markers = open_pickle('/content/drive/MyDrive/Sam/File_saved/P33_markers.pickle')"
      ],
      "metadata": {
        "id": "sj2tXHea2kqJ"
      },
      "execution_count": null,
      "outputs": []
    },
    {
      "cell_type": "code",
      "source": [
        "P_dct = {'P01_acc':P01_acc,'P02_acc':P02_acc,'P03_acc':P03_acc,'P04_acc':P04_acc,'P05_acc':P05_acc,\n",
        "         'P07_acc':P07_acc,'P08_acc':P08_acc,'P09_acc':P09_acc,'P10_acc':P10_acc,'P11_acc':P11_acc,\n",
        "         'P12_acc':P12_acc,'P13_acc':P13_acc,'P14_acc':P14_acc,'P15_acc':P15_acc,'P16_acc':P16_acc,\n",
        "         'P17_acc':P17_acc,'P18_acc':P18_acc,'P19_acc':P19_acc,'P20_acc':P20_acc,'P21_acc':P21_acc,\n",
        "         'P22_acc':P22_acc,'P23_acc':P23_acc,'P24_acc':P24_acc,'P25_acc':P25_acc,'P26_acc':P26_acc,\n",
        "         'P27_acc':P27_acc,'P28_acc':P28_acc,'P29_acc':P29_acc,'P32_acc':P32_acc,'P33_acc':P33_acc,\n",
        "         'P34_acc':P34_acc,'P35_acc':P35_acc,'P36_acc':P36_acc,'P37_acc':P37_acc,'P39_acc':P39_acc,\n",
        "         'P40_acc':P40_acc,'P41_acc':P41_acc,'P42_acc':P42_acc,'P43_acc':P43_acc}"
      ],
      "metadata": {
        "id": "E-VLl-Vim0PO"
      },
      "execution_count": null,
      "outputs": []
    },
    {
      "cell_type": "code",
      "source": [
        "markers_dct = {'P01_markers':P01_markers,'P02_markers':P02_markers,'P03_markers':P03_markers,'P04_markers':P04_markers,\n",
        "               'P05_markers':P05_markers,'P07_markers':P07_markers,'P08_markers':P08_markers,'P09_markers':P09_markers,\n",
        "               'P10_markers':P10_markers,'P11_markers':P11_markers,'P12_markers':P12_markers,'P13_markers':P13_markers,\n",
        "               'P14_markers':P14_markers,'P15_markers':P15_markers,'P16_markers':P16_markers,'P17_markers':P17_markers,\n",
        "               'P18_markers':P18_markers,'P19_markers':P19_markers,'P20_markers':P20_markers,'P21_markers':P21_markers,\n",
        "               'P22_markers':P22_markers,'P23_markers':P23_markers,'P24_markers':P24_markers,'P25_markers':P25_markers,\n",
        "               'P26_markers':P26_markers,'P27_markers':P27_markers,'P28_markers':P28_markers,'P29_markers':P29_markers,\n",
        "               'P32_markers':P32_markers,'P33_markers':P33_markers,'P34_markers':P34_markers,'P35_markers':P35_markers,\n",
        "               'P36_markers':P36_markers,'P37_markers':P37_markers,'P39_markers':P39_markers,'P40_markers':P40_markers,\n",
        "               'P41_markers':P41_markers,'P42_markers':P42_markers,'P43_markers':P43_markers}"
      ],
      "metadata": {
        "id": "j5PSyssLcO19"
      },
      "execution_count": null,
      "outputs": []
    },
    {
      "cell_type": "code",
      "source": [
        "save_pickle('/content/drive/MyDrive/Sam/File_saved/P_dct.pickle',P_dct)"
      ],
      "metadata": {
        "id": "gbenm9Dlsrip"
      },
      "execution_count": null,
      "outputs": []
    },
    {
      "cell_type": "code",
      "source": [
        "save_pickle('/content/drive/MyDrive/Sam/File_saved/markers_dct.pickle',markers_dct)"
      ],
      "metadata": {
        "id": "7KxPIu5Z7W7g"
      },
      "execution_count": null,
      "outputs": []
    }
  ]
}