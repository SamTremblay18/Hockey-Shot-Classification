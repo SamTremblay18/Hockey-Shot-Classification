{
  "nbformat": 4,
  "nbformat_minor": 0,
  "metadata": {
    "colab": {
      "name": "Preprocessing.ipynb",
      "provenance": [],
      "collapsed_sections": [
        "2kIGB3Np_xWf",
        "GcYcsld7sTce"
      ],
      "machine_shape": "hm",
      "authorship_tag": "ABX9TyPS/uJOqersiRJJUZ+K4DEi",
      "include_colab_link": true
    },
    "kernelspec": {
      "name": "python3",
      "display_name": "Python 3"
    },
    "language_info": {
      "name": "python"
    },
    "accelerator": "GPU"
  },
  "cells": [
    {
      "cell_type": "markdown",
      "metadata": {
        "id": "view-in-github",
        "colab_type": "text"
      },
      "source": [
        "<a href=\"https://colab.research.google.com/github/SamTremblay18/Hockey-Shot-Classification/blob/main/Preprocessing.ipynb\" target=\"_parent\"><img src=\"https://colab.research.google.com/assets/colab-badge.svg\" alt=\"Open In Colab\"/></a>"
      ]
    },
    {
      "cell_type": "markdown",
      "source": [
        "# Importing Libraries "
      ],
      "metadata": {
        "id": "2kIGB3Np_xWf"
      }
    },
    {
      "cell_type": "code",
      "execution_count": null,
      "metadata": {
        "id": "o8N8YlkOUnBb",
        "colab": {
          "base_uri": "https://localhost:8080/"
        },
        "outputId": "37c6b7ee-913e-4fd8-d677-9a73347b2793"
      },
      "outputs": [
        {
          "output_type": "stream",
          "name": "stdout",
          "text": [
            "Drive already mounted at /content/drive; to attempt to forcibly remount, call drive.mount(\"/content/drive\", force_remount=True).\n"
          ]
        }
      ],
      "source": [
        "import pandas as pd\n",
        "import numpy as np\n",
        "import tensorflow as tf\n",
        "import random\n",
        "from google.colab import drive \n",
        "drive.mount('/content/drive')\n",
        "import pickle\n",
        "from sklearn.preprocessing import LabelEncoder, MaxAbsScaler\n",
        "import matplotlib.pyplot as plt\n",
        "from scipy import signal\n",
        "from sklearn.model_selection import train_test_split"
      ]
    },
    {
      "cell_type": "markdown",
      "source": [
        "# Functions"
      ],
      "metadata": {
        "id": "PxkV24zl_pbq"
      }
    },
    {
      "cell_type": "markdown",
      "source": [
        "Save and open files with pickle"
      ],
      "metadata": {
        "id": "04W0u7GAwkQd"
      }
    },
    {
      "cell_type": "code",
      "source": [
        "def save_pickle(path_pickle,P):\n",
        "  f = open(path_pickle, 'wb')\n",
        "  pickle.dump(P, f)\n",
        "  f.close()\n",
        "\n",
        "  return f\n",
        "\n",
        "def open_pickle(path_pickle):\n",
        "  f = open(path_pickle, 'rb')\n",
        "  P = pickle.load(f)\n",
        "  f.close()\n",
        "\n",
        "  return P  "
      ],
      "metadata": {
        "id": "vnHKEBKGwkkI"
      },
      "execution_count": null,
      "outputs": []
    },
    {
      "cell_type": "markdown",
      "source": [
        "Regroups all the Pre, SH and Post trials together to the label 'Other'"
      ],
      "metadata": {
        "id": "ROkJ6uuywS3-"
      }
    },
    {
      "cell_type": "code",
      "source": [
        "def regroup_other(P_markers,P_acc):\n",
        "  for i in range(0,len(P_markers.iloc[:,0])):\n",
        "    \n",
        "    length_trial = P_markers.iloc[i,2] # Frame length of a trial\n",
        "    start_trial = P_markers.iloc[i,0]\n",
        "   \n",
        "    if P_markers.iloc[i,1] == 'Pre' or P_markers.iloc[i,1] == 'SH' or P_markers.iloc[i,1] == 'post':\n",
        "      P_acc.loc[(start_trial):(start_trial)+((length_trial)-1),'Label'] = 'Other'\n",
        "\n",
        "  return P_acc"
      ],
      "metadata": {
        "id": "pP3TROVbwTd4"
      },
      "execution_count": null,
      "outputs": []
    },
    {
      "cell_type": "markdown",
      "source": [
        "Reframe all the shooting trials the same frame length"
      ],
      "metadata": {
        "id": "4y3s5MQQwdBU"
      }
    },
    {
      "cell_type": "code",
      "source": [
        "def reframe(P_markers,P_acc,f_length):\n",
        "  for i in range(0,len(P_markers.iloc[:,0])):\n",
        "\n",
        "    length_trial = P_markers.iloc[i,2]\n",
        "    start_trial = P_markers.iloc[i,0]\n",
        "    type_shot = P_markers.iloc[i,1]\n",
        "\n",
        "    if P_markers.iloc[i,1] == 'BH' or P_markers.iloc[i,1] == 'Pass' or P_markers.iloc[i,1] == 'SS' or P_markers.iloc[i,1] == 'WS' or P_markers.iloc[i,1] == 'OT':\n",
        "        diff = int(f_length-length_trial) # Identifying how many frames are missing to have a length desired\n",
        "        P_acc.iloc[int(start_trial)-diff:int(start_trial)+int(length_trial),-1] = type_shot # Adding the new labels to the 'Label' column\n",
        "\n",
        "  return P_acc"
      ],
      "metadata": {
        "id": "152LEKjzwdX0"
      },
      "execution_count": null,
      "outputs": []
    },
    {
      "cell_type": "markdown",
      "source": [
        "Encode the labels"
      ],
      "metadata": {
        "id": "T53SPcWMwziW"
      }
    },
    {
      "cell_type": "code",
      "source": [
        "def label_encoder(P_acc):\n",
        "  le = LabelEncoder()\n",
        "  P_acc['Label'] = le.fit_transform(P_acc['Label'])\n",
        "  classes = le.classes_\n",
        "\n",
        "  return P_acc,classes"
      ],
      "metadata": {
        "id": "Hrg_BG3vwz2i"
      },
      "execution_count": null,
      "outputs": []
    },
    {
      "cell_type": "markdown",
      "source": [
        "Standardize then normalize [-1,1] the dataframe"
      ],
      "metadata": {
        "id": "U9Iajr43w4Mp"
      }
    },
    {
      "cell_type": "code",
      "source": [
        "def P_stand_norm(P_acc):\n",
        "  max_abs_scaler = MaxAbsScaler()\n",
        "  P_acc_stand_all = pd.DataFrame()\n",
        "  for i in range(1, P_acc.shape[-1]-1):\n",
        "    mu = np.mean(P_acc.iloc[:,i],axis = 0)\n",
        "    sigma = np.std(P_acc.iloc[:,i],axis = 0)\n",
        "    P_acc_stand = (P_acc.iloc[:,i] - mu)/sigma\n",
        "    P_acc_stand_all = pd.concat([P_acc_stand_all, P_acc_stand],axis=1)\n",
        "    P_acc_stand_all = max_abs_scaler.fit_transform(P_acc_stand_all)\n",
        "    P_acc_stand_all = pd.DataFrame(P_acc_stand_all)\n",
        "  P_acc_stand_all = pd.concat([P_acc_stand_all, P_acc.iloc[:,-1]],axis=1)\n",
        "    \n",
        "  return P_acc_stand_all "
      ],
      "metadata": {
        "id": "BiaxxVTgRTJ-"
      },
      "execution_count": null,
      "outputs": []
    },
    {
      "cell_type": "markdown",
      "source": [
        "Create tensors of specific shape"
      ],
      "metadata": {
        "id": "tDr3-TSyw88Y"
      }
    },
    {
      "cell_type": "code",
      "source": [
        "def create_tensor(P_acc,f_length):\n",
        "  trials_length = len(P_acc)/f_length\n",
        "  T = np.stack(np.split(P_acc.values, trials_length), axis=1)\n",
        "  Tensors = tf.constant(T.astype('float32'))\n",
        "\n",
        "  return Tensors"
      ],
      "metadata": {
        "id": "-s1ahHfVw8z1"
      },
      "execution_count": null,
      "outputs": []
    },
    {
      "cell_type": "markdown",
      "source": [
        "Create 15 trials of 'Other' with specific length"
      ],
      "metadata": {
        "id": "02g3hlKOxB9j"
      }
    },
    {
      "cell_type": "code",
      "source": [
        "def other_class(P_other,f_length):\n",
        "  random.seed(4)\n",
        "  num_list = random.sample(range(0,len(P_other),f_length),15)\n",
        "  Other_all = pd.DataFrame()\n",
        "  for i in num_list:\n",
        "    other = P_other.iloc[i:(i+f_length),:]\n",
        "    Other_all = pd.concat([Other_all, other], ignore_index = True)\n",
        "\n",
        "  return Other_all"
      ],
      "metadata": {
        "id": "d19iSioSxCUv"
      },
      "execution_count": null,
      "outputs": []
    },
    {
      "cell_type": "markdown",
      "source": [
        "Runs all the preprocessing steps for Method 1"
      ],
      "metadata": {
        "id": "AcuvKMsTxG-3"
      }
    },
    {
      "cell_type": "code",
      "source": [
        "def Preprocess_1(P_markers, P_acc):\n",
        "  P_data = regroup_other(P_markers,P_acc)\n",
        "  P_data = reframe(P_markers,P_data,576)\n",
        "  P_other = P_data[(P_data['Label'] == 'Other')]\n",
        "  P_other_all = other_class(P_other,576)\n",
        "  P_data = P_data.drop(P_data[(P_data['Label'] == 'Do not use')].index)\n",
        "  P_data = P_data.drop(P_data[(P_data['Label'] == 'Other')].index)\n",
        "  P_data = pd.concat([P_data, P_other_all], ignore_index = True)\n",
        "  P_data = P_stand_norm(P_data)\n",
        "  P_data, classes = label_encoder(P_data)\n",
        "  P_data = create_tensor(P_data,576)\n",
        "  \n",
        "  return P_data, classes"
      ],
      "metadata": {
        "id": "mU9PHsphxGjH"
      },
      "execution_count": 370,
      "outputs": []
    },
    {
      "cell_type": "markdown",
      "source": [
        "Runs all the preprocessing steps for Method 2"
      ],
      "metadata": {
        "id": "KXw_AO9NUJLU"
      }
    },
    {
      "cell_type": "code",
      "source": [
        "def Preprocess_2(P_markers, P_acc):\n",
        "  P_data = P_acc.loc[:,('Frame','Right Hand x','Right Hand y','Right Hand z','Left Hand x','Left Hand y','Left Hand z',\n",
        "                  'Right Foot x','Right Foot y','Right Foot z','Left Foot x','Left Foot y','Left Foot z',\n",
        "                  'Pelvis x','Pelvis y','Pelvis z','Label')]\n",
        "  P_data = regroup_other(P_markers,P_data)\n",
        "  P_data = reframe(P_markers,P_data,576)\n",
        "  P_other = P_data[(P_data['Label'] == 'Other')]\n",
        "  P_other_all = other_class(P_other,576)\n",
        "  P_data = P_data.drop(P_data[(P_data['Label'] == 'Do not use')].index)\n",
        "  P_data = P_data.drop(P_data[(P_data['Label'] == 'Other')].index)\n",
        "  P_data = pd.concat([P_data, P_other_all], ignore_index = True)\n",
        "  P_data = P_stand_norm(P_data)\n",
        "  P_data, classes = label_encoder(P_data)\n",
        "  P_data = create_tensor(P_data,576)\n",
        "  \n",
        "  return P_data, classes"
      ],
      "metadata": {
        "id": "pZaWBZ3rUC8e"
      },
      "execution_count": 371,
      "outputs": []
    },
    {
      "cell_type": "markdown",
      "source": [
        "Shuffle the tensors"
      ],
      "metadata": {
        "id": "mstIs9pmxLkQ"
      }
    },
    {
      "cell_type": "code",
      "source": [
        "def tf_shuffle_axis(value, axis=0, seed=None):\n",
        "    perm = list(range(tf.rank(value)))\n",
        "    perm[axis], perm[0] = perm[0], perm[axis]\n",
        "    value = tf.random.shuffle(tf.transpose(value, perm=perm))\n",
        "    value = tf.transpose(value, perm=perm)\n",
        "    return value"
      ],
      "metadata": {
        "id": "-Wj5QfBVxLXH"
      },
      "execution_count": null,
      "outputs": []
    },
    {
      "cell_type": "markdown",
      "source": [
        "Resample the shot trials to a set frequency"
      ],
      "metadata": {
        "id": "7pfuNjGUJnbu"
      }
    },
    {
      "cell_type": "code",
      "source": [
        "def resampling_data(markers_number, p_resample, p_acc, sampling_freq):\n",
        "\n",
        "  for i in range(0,len(markers[markers_number].iloc[:-1,2])):\n",
        "\n",
        "          trial_start = markers[markers_number].iloc[i,0]\n",
        "          typeshot = markers[markers_number].iloc[i,1]\n",
        "          trial_len = markers[markers_number].iloc[i,2]\n",
        "\n",
        "          if typeshot == 'WS':\n",
        "            data_resample[p_resample][f'WS_{i}'] = signal.resample(data_biomech_config[p_acc].iloc[int(trial_start):(int(trial_start)+int(trial_len)),1:-1],sampling_freq)\n",
        "            data_resample[p_resample][f'WS_{i}'] = np.append(data_resample[p_resample][f'WS_{i}'], np.full((sampling_freq,1), 6), axis=1)\n",
        "\n",
        "          elif typeshot == 'BH':\n",
        "            data_resample[p_resample][f'BH_{i}'] = signal.resample(data_biomech_config[p_acc].iloc[int(trial_start):(int(trial_start)+int(trial_len)),1:-1],sampling_freq)\n",
        "            data_resample[p_resample][f'BH_{i}'] = np.append(data_resample[p_resample][f'BH_{i}'], np.full((sampling_freq,1), 0), axis=1)\n",
        "\n",
        "          elif typeshot == 'OT':\n",
        "            data_resample[p_resample][f'OT_{i}'] = signal.resample(data_biomech_config[p_acc].iloc[int(trial_start):(int(trial_start)+int(trial_len)),1:-1],sampling_freq)\n",
        "            data_resample[p_resample][f'OT_{i}'] = np.append(data_resample[p_resample][f'OT_{i}'], np.full((sampling_freq,1), 1), axis=1)\n",
        "\n",
        "          elif typeshot == 'SS':\n",
        "            data_resample[p_resample][f'SS_{i}'] = signal.resample(data_biomech_config[p_acc].iloc[int(trial_start):(int(trial_start)+int(trial_len)),1:-1],sampling_freq)\n",
        "            data_resample[p_resample][f'SS_{i}'] = np.append(data_resample[p_resample][f'SS_{i}'], np.full((sampling_freq,1), 5), axis=1)\n",
        "\n",
        "          elif typeshot == 'Pass':\n",
        "            data_resample[p_resample][f'Pass_{i}'] = signal.resample(data_biomech_config[p_acc].iloc[int(trial_start):(int(trial_start)+int(trial_len)),1:-1],sampling_freq)\n",
        "            data_resample[p_resample][f'Pass_{i}'] = np.append(data_resample[p_resample][f'Pass_{i}'], np.full((sampling_freq,1), 3), axis=1)\n",
        "\n",
        "          else:\n",
        "            continue"
      ],
      "metadata": {
        "id": "x-x5GqpLJnBr"
      },
      "execution_count": null,
      "outputs": []
    },
    {
      "cell_type": "markdown",
      "source": [
        "#Method 1 - Reframe to 576 frames and All Sensors Configuration"
      ],
      "metadata": {
        "id": "GcYcsld7sTce"
      }
    },
    {
      "cell_type": "markdown",
      "source": [
        "Preprocessing participants\n"
      ],
      "metadata": {
        "id": "5ZvfR0vwtcVK"
      }
    },
    {
      "cell_type": "code",
      "source": [
        "# Participants' and markers' dictionnary\n",
        "data = open_pickle('/content/drive/MyDrive/Sam/File_saved/P_dct.pickle')\n",
        "markers = open_pickle('/content/drive/MyDrive/Sam/File_saved/markers_dct.pickle')"
      ],
      "metadata": {
        "id": "ilTTaC4lblva"
      },
      "execution_count": 379,
      "outputs": []
    },
    {
      "cell_type": "markdown",
      "source": [
        "Dictionary containing the preprocessed data for each participant"
      ],
      "metadata": {
        "id": "zTYTSFzSLPl7"
      }
    },
    {
      "cell_type": "code",
      "source": [
        "P_processed1 = {}\n",
        "for l,n in zip(markers, data):\n",
        "  P_processed1[f'{n}_processed'], data_classes1 = Preprocess_1(markers[l],data[n])"
      ],
      "metadata": {
        "id": "XJfENgctbnC4"
      },
      "execution_count": null,
      "outputs": []
    },
    {
      "cell_type": "markdown",
      "source": [
        "Final reshaping"
      ],
      "metadata": {
        "id": "_BbPFO8xoVHP"
      }
    },
    {
      "cell_type": "markdown",
      "source": [
        "Labels:\n",
        "\n",
        "0 = BH (10 trials)\n",
        "\n",
        "1 = OT (10 trials)\n",
        "\n",
        "2 = Other (15 trials)\n",
        "\n",
        "3 = Pass (5 trials)\n",
        "\n",
        "4 = Rest (15 trials)\n",
        "\n",
        "5 = SS (15 trials)\n",
        "\n",
        "6 = WS (15 trials)\n",
        "\n",
        "total = 85 trials (few participants have +/- 1-2 trials)\n",
        "\n",
        "original shape: (frames, trials, channels)\n",
        "\n",
        "need to reshape: (trials, frames, channels)"
      ],
      "metadata": {
        "id": "BK1bfIIcOoSA"
      }
    },
    {
      "cell_type": "code",
      "source": [
        "#P_list = [*range(1,44)]\n",
        "#P_list.remove(6)\n",
        "#P_list.remove(30)\n",
        "#P_list.remove(31)\n",
        "#P_list.remove(38)"
      ],
      "metadata": {
        "id": "knsanK68CtQL"
      },
      "execution_count": null,
      "outputs": []
    },
    {
      "cell_type": "code",
      "source": [
        "#random.shuffle(P_list)"
      ],
      "metadata": {
        "id": "nBMyW046Zp63"
      },
      "execution_count": null,
      "outputs": []
    },
    {
      "cell_type": "code",
      "source": [
        "#P_list"
      ],
      "metadata": {
        "id": "Yegxp4SaZ27K"
      },
      "execution_count": null,
      "outputs": []
    },
    {
      "cell_type": "markdown",
      "source": [
        "Splitting the participants' data randomly into train/valid/test sets (70/10/20)  ➡  27 train, 4 valid, 8 test"
      ],
      "metadata": {
        "id": "6pRX99T-L0kY"
      }
    },
    {
      "cell_type": "code",
      "source": [
        "P_train1 = tf.concat([P_processed1['P28_acc_processed'],P_processed1['P43_acc_processed'],P_processed1['P03_acc_processed'],\n",
        "                      P_processed1['P10_acc_processed'],P_processed1['P09_acc_processed'],P_processed1['P26_acc_processed'],\n",
        "                      P_processed1['P33_acc_processed'],P_processed1['P41_acc_processed'],P_processed1['P32_acc_processed'],\n",
        "                      P_processed1['P24_acc_processed'],P_processed1['P21_acc_processed'],P_processed1['P27_acc_processed'],\n",
        "                      P_processed1['P02_acc_processed'],P_processed1['P35_acc_processed'],P_processed1['P37_acc_processed'],\n",
        "                      P_processed1['P16_acc_processed'],P_processed1['P40_acc_processed'],P_processed1['P20_acc_processed'],\n",
        "                      P_processed1['P11_acc_processed'],P_processed1['P17_acc_processed'],P_processed1['P14_acc_processed'],\n",
        "                      P_processed1['P25_acc_processed'],P_processed1['P42_acc_processed'],P_processed1['P05_acc_processed'],\n",
        "                      P_processed1['P39_acc_processed'],P_processed1['P22_acc_processed'],P_processed1['P15_acc_processed']]\n",
        "                     , axis = 1)\n",
        "\n",
        "P_valid1 = tf.concat([P_processed1['P12_acc_processed'],P_processed1['P34_acc_processed'],P_processed1['P23_acc_processed'],\n",
        "                      P_processed1['P18_acc_processed']], axis = 1)\n",
        "\n",
        "P_test1 = tf.concat([P_processed1['P13_acc_processed'],P_processed1['P04_acc_processed'],P_processed1['P36_acc_processed'],\n",
        "                     P_processed1['P29_acc_processed'],P_processed1['P08_acc_processed'],P_processed1['P01_acc_processed'],\n",
        "                     P_processed1['P19_acc_processed'],P_processed1['P07_acc_processed']], axis = 1)"
      ],
      "metadata": {
        "id": "ORyax-MgN1W8"
      },
      "execution_count": 381,
      "outputs": []
    },
    {
      "cell_type": "markdown",
      "source": [
        "Shuffling participants"
      ],
      "metadata": {
        "id": "ZMlF9xl-srBz"
      }
    },
    {
      "cell_type": "code",
      "source": [
        "X_train1_shuffle = tf_shuffle_axis(P_train1[:,:,0:52], axis=1) \n",
        "X_valid1_shuffle = tf_shuffle_axis(P_valid1[:,:,0:52], axis=1)\n",
        "X_test1_shuffle = tf_shuffle_axis(P_test1[:,:,0:52], axis=1)"
      ],
      "metadata": {
        "id": "nRItAcyCsq3n"
      },
      "execution_count": 382,
      "outputs": []
    },
    {
      "cell_type": "markdown",
      "source": [
        "Swaping axes of the train/valid/test datasets in the proper input shape for the CNN model (#trials, frames, #channels)"
      ],
      "metadata": {
        "id": "46SelEzXs2dm"
      }
    },
    {
      "cell_type": "code",
      "source": [
        "X_train1 = (X_train1_shuffle[:,:,0:51]).numpy() \n",
        "X_train1 = X_train1.swapaxes(0,1)\n",
        " \n",
        "X_valid1 = X_valid1_shuffle[:,:,0:51].numpy() \n",
        "X_valid1 = X_valid1.swapaxes(0,1) \n",
        "\n",
        "X_test1 = X_test1_shuffle[:,:,0:51].numpy() \n",
        "X_test1 = X_test1.swapaxes(0,1)\n",
        "\n",
        "print(\"Data shape train:\",X_train1.shape,\n",
        "      \"Data shape test:\",X_valid1.shape,\n",
        "      \"Data shape test:\",X_test1.shape)"
      ],
      "metadata": {
        "colab": {
          "base_uri": "https://localhost:8080/"
        },
        "id": "Kx0mK4QQs2PP",
        "outputId": "134d33cd-aa90-4417-8dd4-aad5cbc2ed68"
      },
      "execution_count": 383,
      "outputs": [
        {
          "output_type": "stream",
          "name": "stdout",
          "text": [
            "Data shape train: (2297, 576, 51) Data shape test: (340, 576, 51) Data shape test: (682, 576, 51)\n"
          ]
        }
      ]
    },
    {
      "cell_type": "markdown",
      "source": [
        "Creating the label inputs"
      ],
      "metadata": {
        "id": "6JOm6RUXtUj_"
      }
    },
    {
      "cell_type": "code",
      "source": [
        "y_train1 = X_train1_shuffle[:,:,51].numpy() \n",
        "y_train1 = y_train1[0]\n",
        "\n",
        "y_valid1 = X_valid1_shuffle[:,:,51].numpy() \n",
        "y_valid1 = y_valid1[0]\n",
        "\n",
        "y_test1 = X_test1_shuffle[:,:,51].numpy() \n",
        "y_test1 = y_test1[0]\n",
        "\n",
        "print(\"Label shape train:\",y_train1.shape,\n",
        "      \"Label shape train:\",y_valid1.shape,\n",
        "      \"Label shape test:\",y_test1.shape)"
      ],
      "metadata": {
        "colab": {
          "base_uri": "https://localhost:8080/"
        },
        "id": "85SghnYttUR5",
        "outputId": "c4e8a5d2-7766-4b28-ad3e-3acbd9fe5b95"
      },
      "execution_count": 384,
      "outputs": [
        {
          "output_type": "stream",
          "name": "stdout",
          "text": [
            "Label shape train: (2297,) Label shape train: (340,) Label shape test: (682,)\n"
          ]
        }
      ]
    },
    {
      "cell_type": "code",
      "source": [
        "save_pickle('/content/drive/MyDrive/Sam/File_saved/X_test1.pickle',X_test1)\n",
        "save_pickle('/content/drive/MyDrive/Sam/File_saved/X_train1.pickle',X_train1)\n",
        "save_pickle('/content/drive/MyDrive/Sam/File_saved/X_valid1.pickle',X_valid1)\n",
        "save_pickle('/content/drive/MyDrive/Sam/File_saved/y_test1.pickle',y_test1)\n",
        "save_pickle('/content/drive/MyDrive/Sam/File_saved/y_valid1.pickle',y_valid1)\n",
        "save_pickle('/content/drive/MyDrive/Sam/File_saved/y_train1.pickle',y_train1)"
      ],
      "metadata": {
        "id": "rWXOXIjcnH2e",
        "colab": {
          "base_uri": "https://localhost:8080/"
        },
        "outputId": "be3768d2-18a4-4227-b289-fe22fa5b4680"
      },
      "execution_count": 385,
      "outputs": [
        {
          "output_type": "execute_result",
          "data": {
            "text/plain": [
              "<_io.BufferedWriter name='/content/drive/MyDrive/Sam/File_saved/y_train1.pickle'>"
            ]
          },
          "metadata": {},
          "execution_count": 385
        }
      ]
    },
    {
      "cell_type": "markdown",
      "source": [
        "# Method 2 - Reframe to 576 frames and Biomechanics Sensor Configuration\n",
        " "
      ],
      "metadata": {
        "id": "9GULq5awUgPV"
      }
    },
    {
      "cell_type": "markdown",
      "source": [
        "Same method as above, but only the hands, foot and pelvis sensors are selected (Biomechanics Sensor Configuration)"
      ],
      "metadata": {
        "id": "26sFStEn-F8W"
      }
    },
    {
      "cell_type": "code",
      "source": [
        "# Participants' and markers' dictionnary\n",
        "data = open_pickle('/content/drive/MyDrive/Sam/File_saved/P_dct.pickle')\n",
        "markers = open_pickle('/content/drive/MyDrive/Sam/File_saved/markers_dct.pickle')"
      ],
      "metadata": {
        "id": "e3-XJ3v7UtZM"
      },
      "execution_count": null,
      "outputs": []
    },
    {
      "cell_type": "code",
      "source": [
        "P_processed2 = {}\n",
        "for l,n in zip(markers, data):\n",
        "  P_processed2[f'{n}_processed2'], data_classes2 = Preprocess_2(markers[l],data[n])"
      ],
      "metadata": {
        "id": "_2-avzBfLL88"
      },
      "execution_count": null,
      "outputs": []
    },
    {
      "cell_type": "code",
      "source": [
        "P_train2 = tf.concat([P_processed2['P28_acc_processed2'],P_processed2['P43_acc_processed2'],P_processed2['P03_acc_processed2'],\n",
        "                      P_processed2['P10_acc_processed2'],P_processed2['P09_acc_processed2'],P_processed2['P26_acc_processed2'],\n",
        "                      P_processed2['P33_acc_processed2'],P_processed2['P41_acc_processed2'],P_processed2['P32_acc_processed2'],\n",
        "                      P_processed2['P24_acc_processed2'],P_processed2['P21_acc_processed2'],P_processed2['P27_acc_processed2'],\n",
        "                      P_processed2['P02_acc_processed2'],P_processed2['P35_acc_processed2'],P_processed2['P37_acc_processed2'],\n",
        "                      P_processed2['P16_acc_processed2'],P_processed2['P40_acc_processed2'],P_processed2['P20_acc_processed2'],\n",
        "                      P_processed2['P11_acc_processed2'],P_processed2['P17_acc_processed2'],P_processed2['P14_acc_processed2'],\n",
        "                      P_processed2['P25_acc_processed2'],P_processed2['P42_acc_processed2'],P_processed2['P05_acc_processed2'],\n",
        "                      P_processed2['P39_acc_processed2'],P_processed2['P22_acc_processed2'],P_processed2['P15_acc_processed2']]\n",
        "                     , axis = 1)\n",
        "\n",
        "P_valid2 = tf.concat([P_processed2['P12_acc_processed2'],P_processed2['P34_acc_processed2'],P_processed2['P23_acc_processed2'],\n",
        "                      P_processed2['P18_acc_processed2']], axis = 1)\n",
        "\n",
        "P_test2 = tf.concat([P_processed2['P13_acc_processed2'],P_processed2['P04_acc_processed2'],P_processed2['P36_acc_processed2'],\n",
        "                     P_processed2['P29_acc_processed2'],P_processed2['P08_acc_processed2'],P_processed2['P01_acc_processed2'],\n",
        "                     P_processed2['P19_acc_processed2'],P_processed2['P07_acc_processed2']], axis = 1)"
      ],
      "metadata": {
        "id": "KSLGW0a7NjVK"
      },
      "execution_count": 373,
      "outputs": []
    },
    {
      "cell_type": "code",
      "source": [
        "X_train2_shuffle = tf_shuffle_axis(P_train2[:,:,0:16], axis=1) \n",
        "X_valid2_shuffle = tf_shuffle_axis(P_valid2[:,:,0:16], axis=1)\n",
        "X_test2_shuffle = tf_shuffle_axis(P_test2[:,:,0:16], axis=1)"
      ],
      "metadata": {
        "id": "vHZBJ2Q7OkJR"
      },
      "execution_count": 374,
      "outputs": []
    },
    {
      "cell_type": "code",
      "source": [
        "X_train2 = (X_train2_shuffle[:,:,0:15]).numpy() \n",
        "X_train2 = X_train2.swapaxes(0,1)\n",
        " \n",
        "X_valid2 = X_valid2_shuffle[:,:,0:15].numpy() \n",
        "X_valid2 = X_valid2.swapaxes(0,1) \n",
        "\n",
        "X_test2 = X_test2_shuffle[:,:,0:15].numpy() \n",
        "X_test2 = X_test2.swapaxes(0,1)\n",
        "\n",
        "print(\"Data shape train:\",X_train2.shape,\n",
        "      \"Data shape test:\",X_valid2.shape,\n",
        "      \"Data shape test:\",X_test2.shape)"
      ],
      "metadata": {
        "colab": {
          "base_uri": "https://localhost:8080/"
        },
        "id": "Jmn6viloOm9P",
        "outputId": "22c54335-410b-4df8-f309-4e2f5dafaa61"
      },
      "execution_count": 375,
      "outputs": [
        {
          "output_type": "stream",
          "name": "stdout",
          "text": [
            "Data shape train: (2297, 576, 15) Data shape test: (340, 576, 15) Data shape test: (682, 576, 15)\n"
          ]
        }
      ]
    },
    {
      "cell_type": "code",
      "source": [
        "y_train2 = X_train2_shuffle[:,:,15].numpy() \n",
        "y_train2 = y_train2[0]\n",
        "\n",
        "y_valid2 = X_valid2_shuffle[:,:,15].numpy() \n",
        "y_valid2 = y_valid2[0]\n",
        "\n",
        "y_test2 = X_test2_shuffle[:,:,15].numpy() \n",
        "y_test2 = y_test2[0]\n",
        "\n",
        "print(\"Label shape train:\",y_train2.shape,\n",
        "      \"Label shape train:\",y_valid2.shape,\n",
        "      \"Label shape test:\",y_test2.shape)"
      ],
      "metadata": {
        "colab": {
          "base_uri": "https://localhost:8080/"
        },
        "id": "Ujk1T3UaOzas",
        "outputId": "99eba38f-7880-4f44-b5d6-30aeb2b8e6a6"
      },
      "execution_count": 377,
      "outputs": [
        {
          "output_type": "stream",
          "name": "stdout",
          "text": [
            "Label shape train: (2297,) Label shape train: (340,) Label shape test: (682,)\n"
          ]
        }
      ]
    },
    {
      "cell_type": "code",
      "source": [
        "save_pickle('/content/drive/MyDrive/Sam/File_saved/X_test2.pickle',X_test2)\n",
        "save_pickle('/content/drive/MyDrive/Sam/File_saved/X_train2.pickle',X_train2)\n",
        "save_pickle('/content/drive/MyDrive/Sam/File_saved/X_valid2.pickle',X_valid2)\n",
        "save_pickle('/content/drive/MyDrive/Sam/File_saved/y_test2.pickle',y_test2)\n",
        "save_pickle('/content/drive/MyDrive/Sam/File_saved/y_valid2.pickle',y_valid2)\n",
        "save_pickle('/content/drive/MyDrive/Sam/File_saved/y_train2.pickle',y_train2)"
      ],
      "metadata": {
        "id": "zs3EdRcOSdkT",
        "colab": {
          "base_uri": "https://localhost:8080/"
        },
        "outputId": "a6a8b596-2545-49a3-c2bb-4ff7c94821ff"
      },
      "execution_count": 378,
      "outputs": [
        {
          "output_type": "execute_result",
          "data": {
            "text/plain": [
              "<_io.BufferedWriter name='/content/drive/MyDrive/Sam/File_saved/y_train2.pickle'>"
            ]
          },
          "metadata": {},
          "execution_count": 378
        }
      ]
    },
    {
      "cell_type": "markdown",
      "source": [
        "# Method 3 - Resampling and Biomechanics Sensor Configuration"
      ],
      "metadata": {
        "id": "bndiBmAfs_WO"
      }
    },
    {
      "cell_type": "code",
      "source": [
        "# Participants' and markers' dictionnary\n",
        "data = open_pickle('/content/drive/MyDrive/Sam/File_saved/P_dct.pickle')\n",
        "markers = open_pickle('/content/drive/MyDrive/Sam/File_saved/markers_dct.pickle')"
      ],
      "metadata": {
        "id": "qbnE5Uza7UQq"
      },
      "execution_count": null,
      "outputs": []
    },
    {
      "cell_type": "code",
      "source": [
        "data_resample = {'P01_resample_bmech':{},'P02_resample_bmech':{},'P03_resample_bmech':{},'P04_resample_bmech':{},'P05_resample_bmech':{},'P07_resample_bmech':{},'P08_resample_bmech':{},\n",
        "                 'P09_resample_bmech':{},'P10_resample_bmech':{},'P11_resample_bmech':{},'P12_resample_bmech':{},'P13_resample_bmech':{},'P14_resample_bmech':{},'P15_resample_bmech':{},\n",
        "                 'P16_resample_bmech':{},'P17_resample_bmech':{},'P18_resample_bmech':{},'P19_resample_bmech':{},'P20_resample_bmech':{},'P21_resample_bmech':{},'P22_resample_bmech':{},\n",
        "                 'P23_resample_bmech':{},'P24_resample_bmech':{},'P25_resample_bmech':{},'P26_resample_bmech':{},'P27_resample_bmech':{},'P28_resample_bmech':{},'P29_resample_bmech':{},\n",
        "                 'P32_resample_bmech':{},'P33_resample_bmech':{},'P34_resample_bmech':{},'P35_resample_bmech':{},'P36_resample_bmech':{},'P37_resample_bmech':{},'P39_resample_bmech':{},\n",
        "                 'P40_resample_bmech':{},'P41_resample_bmech':{},'P42_resample_bmech':{},'P43_resample_bmech':{}}"
      ],
      "metadata": {
        "id": "oxZQsrwhRZMq"
      },
      "execution_count": null,
      "outputs": []
    },
    {
      "cell_type": "code",
      "source": [
        "data_biomech_config = {}\n",
        "for i in data:\n",
        "  data_biomech_config[f'{i}_bmech'] = data[i].loc[:,('Frame','Right Hand x','Right Hand y','Right Hand z','Left Hand x','Left Hand y','Left Hand z',\n",
        "                                               'Right Foot x','Right Foot y','Right Foot z','Left Foot x','Left Foot y','Left Foot z',\n",
        "                                               'Pelvis x','Pelvis y','Pelvis z','Label')]"
      ],
      "metadata": {
        "id": "h7Yu8qCGadSe"
      },
      "execution_count": 367,
      "outputs": []
    },
    {
      "cell_type": "code",
      "source": [
        "data_biomech = {}\n",
        "for j1,j2 in zip(markers, data_biomech_config):\n",
        "\n",
        "  P_data = regroup_other(markers[j1], data_biomech_config[j2])\n",
        "  P_other = P_data[(P_data['Label'] == 'Other')]\n",
        "  P_other_all = other_class(P_other,400)\n",
        "  P_data = P_data.drop(P_data[(P_data['Label'] == 'Do not use')].index)\n",
        "  P_data = P_data.drop(P_data[(P_data['Label'] == 'Other')].index)\n",
        "  P_data = pd.concat([P_data, P_other_all], ignore_index = True)\n",
        "  P_data = P_stand_norm(P_data)\n",
        "  data_biomech[f'{j2}'], data_classes = label_encoder(P_data)"
      ],
      "metadata": {
        "id": "TBJCOY0rLpy5"
      },
      "execution_count": null,
      "outputs": []
    },
    {
      "cell_type": "code",
      "source": [
        "data_classes"
      ],
      "metadata": {
        "colab": {
          "base_uri": "https://localhost:8080/"
        },
        "id": "7LiurxLymdVS",
        "outputId": "97b0125a-c6e7-4652-eae7-b57d30b964e5"
      },
      "execution_count": null,
      "outputs": [
        {
          "output_type": "execute_result",
          "data": {
            "text/plain": [
              "array(['BH', 'OT', 'Other', 'Pass', 'Rest', 'SS', 'WS'], dtype=object)"
            ]
          },
          "metadata": {},
          "execution_count": 94
        }
      ]
    },
    {
      "cell_type": "code",
      "source": [
        "data_other = {}\n",
        "data_rest = {}\n",
        "for m1,m2,m3 in zip(markers, data_resample, data_biomech):\n",
        "\n",
        "  resampling_data(m1,m2,m3, 400)\n",
        "\n",
        "  other = data_biomech[m3].iloc[-6000:,:]\n",
        "  other = create_tensor(other, 400)\n",
        "  data_other[f'{m3}_other'] = tf.transpose(other, perm = [1,0,2])\n",
        "\n",
        "  rest = data_biomech[m3][(data_biomech[m3]['Label'] == 4)]\n",
        "  rest = rest.iloc[0:6000,:]\n",
        "  rest = create_tensor(rest,400)\n",
        "  data_rest[f'{m3}_rest'] = tf.transpose(rest, perm = [1, 0, 2])"
      ],
      "metadata": {
        "id": "vKApmkrMkUkH"
      },
      "execution_count": null,
      "outputs": []
    },
    {
      "cell_type": "code",
      "source": [
        "data_tensor = {}\n",
        "for i in data_resample:\n",
        "  keys = data_resample[i].keys()\n",
        "  t = np.array([data_resample[i][j] for j in keys])\n",
        "  data_tensor[f'{i}_tensor'] = tf.convert_to_tensor(t, dtype = tf.float32)"
      ],
      "metadata": {
        "id": "Koj0HsTctBoN"
      },
      "execution_count": null,
      "outputs": []
    },
    {
      "cell_type": "code",
      "source": [
        "for n1,n2,n3 in zip(data_tensor, data_other, data_rest):\n",
        "  data_tensor[n1] = tf.concat([data_tensor[n1],data_other[n2]], 0)\n",
        "  data_tensor[n1] = tf.concat([data_tensor[n1],data_rest[n3]], 0)"
      ],
      "metadata": {
        "id": "B9xSEKmQyIae"
      },
      "execution_count": null,
      "outputs": []
    },
    {
      "cell_type": "code",
      "source": [
        "X3 = []\n",
        "for i in data_tensor:\n",
        "  X3.append(data_tensor[i][:,:,0:15])"
      ],
      "metadata": {
        "id": "kNDoXbfR-mf9"
      },
      "execution_count": null,
      "outputs": []
    },
    {
      "cell_type": "code",
      "source": [
        "y3 = []\n",
        "for i in data_tensor:\n",
        "  label = (data_tensor[i][:,:,15].numpy())\n",
        "  y3.append(label[:,0])"
      ],
      "metadata": {
        "id": "kzHrqFU3A_rY"
      },
      "execution_count": null,
      "outputs": []
    },
    {
      "cell_type": "code",
      "source": [
        "X_train3, X_test3, y_train3, y_test3 = train_test_split(X3, y3, test_size=0.2, random_state=42)"
      ],
      "metadata": {
        "id": "Pbi9Dc3VC-N6"
      },
      "execution_count": null,
      "outputs": []
    },
    {
      "cell_type": "code",
      "source": [
        "X_train3, X_valid3, y_train3, y_valid3 = train_test_split(X_train3, y_train3, test_size=0.125, random_state=42)"
      ],
      "metadata": {
        "id": "8VpGazd6FWV-"
      },
      "execution_count": null,
      "outputs": []
    },
    {
      "cell_type": "code",
      "source": [
        "from itertools import chain\n",
        "X_train3 = np.array(list(chain(*X_train3)))\n",
        "X_valid3 = np.array(list(chain(*X_valid3)))\n",
        "X_test3 = np.array(list(chain(*X_test3)))\n",
        "y_train3 = np.array(list(chain(*y_train3)))\n",
        "y_valid3 = np.array(list(chain(*y_valid3)))\n",
        "y_test3 = np.array(list(chain(*y_test3)))\n",
        "\n",
        "print(\"X_train:\",X_train3.shape,\n",
        "      \"X_test:\",X_valid3.shape,\n",
        "      \"X_test:\",X_test3.shape,\n",
        "      \"y_train:\",y_train3.shape,\n",
        "      \"y_test:\",y_valid3.shape,\n",
        "      \"y_test:\",y_test3.shape)"
      ],
      "metadata": {
        "colab": {
          "base_uri": "https://localhost:8080/"
        },
        "id": "2VBRMmhzvPLD",
        "outputId": "3d8f2c45-8cca-4aec-f07c-6fc2a5c458f5"
      },
      "execution_count": null,
      "outputs": [
        {
          "output_type": "stream",
          "name": "stdout",
          "text": [
            "X_train: (2299, 400, 15) X_test: (340, 400, 15) X_test: (680, 400, 15) y_train: (2299,) y_test: (340,) y_test: (680,)\n"
          ]
        }
      ]
    },
    {
      "cell_type": "code",
      "source": [
        "save_pickle('/content/drive/MyDrive/Sam/File_saved/X_test3.pickle',X_test3)\n",
        "save_pickle('/content/drive/MyDrive/Sam/File_saved/X_train3.pickle',X_train3)\n",
        "save_pickle('/content/drive/MyDrive/Sam/File_saved/X_valid3.pickle',X_valid3)\n",
        "save_pickle('/content/drive/MyDrive/Sam/File_saved/y_test3.pickle',y_test3)\n",
        "save_pickle('/content/drive/MyDrive/Sam/File_saved/y_valid3.pickle',y_valid3)\n",
        "save_pickle('/content/drive/MyDrive/Sam/File_saved/y_train3.pickle',y_train3)"
      ],
      "metadata": {
        "colab": {
          "base_uri": "https://localhost:8080/"
        },
        "id": "BIpa52YsI1Tr",
        "outputId": "372c4dcf-2e70-4347-b11f-98d490ffae46"
      },
      "execution_count": null,
      "outputs": [
        {
          "output_type": "execute_result",
          "data": {
            "text/plain": [
              "<_io.BufferedWriter name='/content/drive/MyDrive/Sam/File_saved/y_train3.pickle'>"
            ]
          },
          "metadata": {},
          "execution_count": 339
        }
      ]
    }
  ]
}