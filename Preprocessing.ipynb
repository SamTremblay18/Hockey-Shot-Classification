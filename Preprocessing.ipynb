{
  "nbformat": 4,
  "nbformat_minor": 0,
  "metadata": {
    "colab": {
      "name": "Preprocessing.ipynb",
      "provenance": [],
      "collapsed_sections": [
        "2kIGB3Np_xWf",
        "GcYcsld7sTce"
      ],
      "machine_shape": "hm",
      "authorship_tag": "ABX9TyNKMOIbNuiyIBXN2qwL9bEy",
      "include_colab_link": true
    },
    "kernelspec": {
      "name": "python3",
      "display_name": "Python 3"
    },
    "language_info": {
      "name": "python"
    },
    "accelerator": "GPU"
  },
  "cells": [
    {
      "cell_type": "markdown",
      "metadata": {
        "id": "view-in-github",
        "colab_type": "text"
      },
      "source": [
        "<a href=\"https://colab.research.google.com/github/SamTremblay18/Hockey-Shot-Classification/blob/main/Preprocessing.ipynb\" target=\"_parent\"><img src=\"https://colab.research.google.com/assets/colab-badge.svg\" alt=\"Open In Colab\"/></a>"
      ]
    },
    {
      "cell_type": "markdown",
      "source": [
        "# Importing Libraries "
      ],
      "metadata": {
        "id": "2kIGB3Np_xWf"
      }
    },
    {
      "cell_type": "code",
      "execution_count": 1,
      "metadata": {
        "id": "o8N8YlkOUnBb",
        "colab": {
          "base_uri": "https://localhost:8080/"
        },
        "outputId": "7c103db5-bffa-4f36-f096-cc6a5e830fcb"
      },
      "outputs": [
        {
          "output_type": "stream",
          "name": "stdout",
          "text": [
            "Mounted at /content/drive\n"
          ]
        }
      ],
      "source": [
        "import pandas as pd\n",
        "import numpy as np\n",
        "import tensorflow as tf\n",
        "import random\n",
        "from google.colab import drive \n",
        "drive.mount('/content/drive')\n",
        "import pickle\n",
        "from sklearn.preprocessing import LabelEncoder, MaxAbsScaler, StandardScaler\n",
        "import matplotlib.pyplot as plt\n",
        "from scipy import signal\n",
        "from sklearn.model_selection import train_test_split\n",
        "from itertools import chain"
      ]
    },
    {
      "cell_type": "markdown",
      "source": [
        "# Functions"
      ],
      "metadata": {
        "id": "PxkV24zl_pbq"
      }
    },
    {
      "cell_type": "markdown",
      "source": [
        "Save and open files with pickle"
      ],
      "metadata": {
        "id": "04W0u7GAwkQd"
      }
    },
    {
      "cell_type": "code",
      "source": [
        "def save_pickle(path_pickle,P):\n",
        "  f = open(path_pickle, 'wb')\n",
        "  pickle.dump(P, f)\n",
        "  f.close()\n",
        "\n",
        "  return f\n",
        "\n",
        "def open_pickle(path_pickle):\n",
        "  f = open(path_pickle, 'rb')\n",
        "  P = pickle.load(f)\n",
        "  f.close()\n",
        "\n",
        "  return P  "
      ],
      "metadata": {
        "id": "vnHKEBKGwkkI"
      },
      "execution_count": 2,
      "outputs": []
    },
    {
      "cell_type": "markdown",
      "source": [
        "Regroups all the Pre, SH and Post trials together to the label 'Other'"
      ],
      "metadata": {
        "id": "ROkJ6uuywS3-"
      }
    },
    {
      "cell_type": "code",
      "source": [
        "def regroup_other(P_markers,P_acc):\n",
        "  for i in range(0,len(P_markers.iloc[:,0])):\n",
        "    \n",
        "    length_trial = P_markers.iloc[i,2] \n",
        "    start_trial = P_markers.iloc[i,0]  \n",
        "   \n",
        "    if P_markers.iloc[i,1] == 'Pre' or P_markers.iloc[i,1] == 'SH' or P_markers.iloc[i,1] == 'post':\n",
        "      P_acc.loc[(start_trial):(start_trial)+((length_trial)-1),'Label'] = 'Other' # Swapping the label to Other\n",
        "\n",
        "  return P_acc"
      ],
      "metadata": {
        "id": "pP3TROVbwTd4"
      },
      "execution_count": 3,
      "outputs": []
    },
    {
      "cell_type": "markdown",
      "source": [
        "Reframe all the shooting trials the same frame length"
      ],
      "metadata": {
        "id": "4y3s5MQQwdBU"
      }
    },
    {
      "cell_type": "code",
      "source": [
        "def reframe(P_markers,P_acc,f_length):\n",
        "  for i in range(0,len(P_markers.iloc[:,0])):\n",
        "\n",
        "    length_trial = P_markers.iloc[i,2]\n",
        "    start_trial = P_markers.iloc[i,0]\n",
        "    type_shot = P_markers.iloc[i,1]\n",
        "\n",
        "    if P_markers.iloc[i,1] == 'BH' or P_markers.iloc[i,1] == 'Pass' or P_markers.iloc[i,1] == 'SS' or P_markers.iloc[i,1] == 'WS' or P_markers.iloc[i,1] == 'OT':\n",
        "        diff = int(f_length-length_trial) # Identifying how many frames are missing to have the desired length\n",
        "        P_acc.iloc[int(start_trial)-diff:int(start_trial)+int(length_trial),-1] = type_shot # Swapping the old labels from the difference \n",
        "                                                                                            # found above to the new label desired\n",
        "  return P_acc"
      ],
      "metadata": {
        "id": "152LEKjzwdX0"
      },
      "execution_count": 4,
      "outputs": []
    },
    {
      "cell_type": "markdown",
      "source": [
        "Standardize and label encoder function"
      ],
      "metadata": {
        "id": "7SszkSaipwx1"
      }
    },
    {
      "cell_type": "code",
      "source": [
        "def stand_labelencoder(P_acc):\n",
        "  scaler = StandardScaler()\n",
        "  le = LabelEncoder()\n",
        "  scaled = scaler.fit_transform(P_acc.iloc[:,1:-1], y = P_acc['Label'])\n",
        "  y = le.fit_transform(P_acc['Label'])\n",
        "  classes = le.classes_\n",
        "  y = y[:,None]\n",
        "  x = np.concatenate((scaled, y), axis=1)\n",
        "\n",
        "  return x, classes"
      ],
      "metadata": {
        "id": "gL0N2IPJpwd_"
      },
      "execution_count": 7,
      "outputs": []
    },
    {
      "cell_type": "markdown",
      "source": [
        "Create tensors of specific shape"
      ],
      "metadata": {
        "id": "tDr3-TSyw88Y"
      }
    },
    {
      "cell_type": "code",
      "source": [
        "def create_tensor(P_acc,f_length):\n",
        "  trials_length = len(P_acc)/f_length\n",
        "  T = np.stack(np.split(P_acc, trials_length), axis=1)\n",
        "  Tensors = tf.constant(T.astype('float32'))\n",
        "  Tensors = tf.transpose(Tensors, perm = [1, 0, 2])\n",
        "\n",
        "  return Tensors"
      ],
      "metadata": {
        "id": "-s1ahHfVw8z1"
      },
      "execution_count": 57,
      "outputs": []
    },
    {
      "cell_type": "markdown",
      "source": [
        "Create 15 trials of 'Other' with specific length"
      ],
      "metadata": {
        "id": "02g3hlKOxB9j"
      }
    },
    {
      "cell_type": "code",
      "source": [
        "# The majority of the data is in the category 'Other', so this function randomly creates\n",
        "# 15 trials from data labeled as 'Other' with the specified length\n",
        "def other_class(P_other,f_length):\n",
        "  random.seed(4)\n",
        "  num_list = random.sample(range(0,len(P_other),f_length),15) # this creates 15 numbers that are seperated with at least\n",
        "                                                              # the specified length from all the data labeled as 'Other'\n",
        "  Other_all = pd.DataFrame()\n",
        "  for i in num_list:\n",
        "    other = P_other.iloc[i:(i+f_length),:] # creates the trials with the specified length starting with number from the list\n",
        "    Other_all = pd.concat([Other_all, other], ignore_index = True)\n",
        "\n",
        "  return Other_all"
      ],
      "metadata": {
        "id": "d19iSioSxCUv"
      },
      "execution_count": 9,
      "outputs": []
    },
    {
      "cell_type": "markdown",
      "source": [
        "Runs all the preprocessing steps for Method 1"
      ],
      "metadata": {
        "id": "AcuvKMsTxG-3"
      }
    },
    {
      "cell_type": "code",
      "source": [
        "def Preprocess_1(P_markers, P_acc):\n",
        "  P_data = regroup_other(P_markers,P_acc) # regroups the 'SH', 'Pre', 'post' trials to the label 'Other'\n",
        "  P_data = reframe(P_markers,P_data,576) # reframe the dataset to 576 frames\n",
        "  P_other = P_data[(P_data['Label'] == 'Other')] # creates a variable containing all the data labeled 'Other'\n",
        "  P_other_all = other_class(P_other,576) # from the variable above, creates 15 trials of length 576\n",
        "  P_data = P_data.drop(P_data[(P_data['Label'] == 'Do not use')].index) # removing all the data labeled as 'Do not use' (junk)\n",
        "  P_data = P_data.drop(P_data[(P_data['Label'] == 'Other')].index) # removing all the data labeled as 'Other' from the original dataset\n",
        "  P_data = pd.concat([P_data, P_other_all], ignore_index = True) # adding the 15 'Other' trials of length 576 to the original dataset \n",
        "  P_data, classes = stand_labelencoder(P_data)\n",
        "  P_data = create_tensor(P_data,576) # transforming the dataset into tensors with a length of 576 frames\n",
        "  \n",
        "  return P_data, classes"
      ],
      "metadata": {
        "id": "mU9PHsphxGjH"
      },
      "execution_count": 10,
      "outputs": []
    },
    {
      "cell_type": "markdown",
      "source": [
        "Runs all the preprocessing steps for Method 2"
      ],
      "metadata": {
        "id": "KXw_AO9NUJLU"
      }
    },
    {
      "cell_type": "code",
      "source": [
        "# This function is the same as for method 1, but the biomechanics sensor configuration is selected at the start\n",
        "def Preprocess_2(P_markers, P_acc):\n",
        "  P_data = P_acc.loc[:,('Frame','Right Hand x','Right Hand y','Right Hand z','Left Hand x','Left Hand y','Left Hand z',\n",
        "                  'Right Foot x','Right Foot y','Right Foot z','Left Foot x','Left Foot y','Left Foot z',\n",
        "                  'Pelvis x','Pelvis y','Pelvis z','Label')]\n",
        "  P_data = regroup_other(P_markers,P_data)\n",
        "  P_data = reframe(P_markers,P_data,576)\n",
        "  P_other = P_data[(P_data['Label'] == 'Other')]\n",
        "  P_other_all = other_class(P_other,576)\n",
        "  P_data = P_data.drop(P_data[(P_data['Label'] == 'Do not use')].index)\n",
        "  P_data = P_data.drop(P_data[(P_data['Label'] == 'Other')].index)\n",
        "  P_data = pd.concat([P_data, P_other_all], ignore_index = True)\n",
        "  P_data, classes = stand_labelencoder(P_data)\n",
        "  P_data = create_tensor(P_data,576)\n",
        "  \n",
        "  return P_data, classes"
      ],
      "metadata": {
        "id": "pZaWBZ3rUC8e"
      },
      "execution_count": 11,
      "outputs": []
    },
    {
      "cell_type": "markdown",
      "source": [
        "Resample the shot trials to a set frequency"
      ],
      "metadata": {
        "id": "7pfuNjGUJnbu"
      }
    },
    {
      "cell_type": "code",
      "source": [
        "def resampling_data(markers_number, p_resample, p_acc, sampling_freq):\n",
        "\n",
        "  for i in range(0,len(markers[markers_number].iloc[:-1,2])):\n",
        "\n",
        "          trial_start = markers[markers_number].iloc[i,0]\n",
        "          typeshot = markers[markers_number].iloc[i,1]\n",
        "          trial_len = markers[markers_number].iloc[i,2]\n",
        "\n",
        "          if typeshot == 'WS':\n",
        "            # Resamples a trial by selecting all the data except the 'Frame' and 'label' column to a specified frequency\n",
        "            data_resample[p_resample][f'WS_{i}'] = signal.resample(data_biomech_config[p_acc].iloc[int(trial_start):(int(trial_start)+int(trial_len)),1:-1],sampling_freq)\n",
        "            # Adds the labels encoded manually at the last column position\n",
        "            data_resample[p_resample][f'WS_{i}'] = np.append(data_resample[p_resample][f'WS_{i}'], np.full((sampling_freq,1), 6), axis=1)\n",
        "\n",
        "          elif typeshot == 'BH':\n",
        "            data_resample[p_resample][f'BH_{i}'] = signal.resample(data_biomech_config[p_acc].iloc[int(trial_start):(int(trial_start)+int(trial_len)),1:-1],sampling_freq)\n",
        "            data_resample[p_resample][f'BH_{i}'] = np.append(data_resample[p_resample][f'BH_{i}'], np.full((sampling_freq,1), 0), axis=1)\n",
        "\n",
        "          elif typeshot == 'OT':\n",
        "            data_resample[p_resample][f'OT_{i}'] = signal.resample(data_biomech_config[p_acc].iloc[int(trial_start):(int(trial_start)+int(trial_len)),1:-1],sampling_freq)\n",
        "            data_resample[p_resample][f'OT_{i}'] = np.append(data_resample[p_resample][f'OT_{i}'], np.full((sampling_freq,1), 1), axis=1)\n",
        "\n",
        "          elif typeshot == 'SS':\n",
        "            data_resample[p_resample][f'SS_{i}'] = signal.resample(data_biomech_config[p_acc].iloc[int(trial_start):(int(trial_start)+int(trial_len)),1:-1],sampling_freq)\n",
        "            data_resample[p_resample][f'SS_{i}'] = np.append(data_resample[p_resample][f'SS_{i}'], np.full((sampling_freq,1), 5), axis=1)\n",
        "\n",
        "          elif typeshot == 'Pass':\n",
        "            data_resample[p_resample][f'Pass_{i}'] = signal.resample(data_biomech_config[p_acc].iloc[int(trial_start):(int(trial_start)+int(trial_len)),1:-1],sampling_freq)\n",
        "            data_resample[p_resample][f'Pass_{i}'] = np.append(data_resample[p_resample][f'Pass_{i}'], np.full((sampling_freq,1), 3), axis=1)\n",
        "\n",
        "          else:\n",
        "            continue"
      ],
      "metadata": {
        "id": "x-x5GqpLJnBr"
      },
      "execution_count": 13,
      "outputs": []
    },
    {
      "cell_type": "markdown",
      "source": [
        "#Method 1 - Reframe to 576 frames and All Sensors Configuration"
      ],
      "metadata": {
        "id": "GcYcsld7sTce"
      }
    },
    {
      "cell_type": "code",
      "source": [
        "# Participants' and markers' dictionnary\n",
        "data = open_pickle('/content/drive/MyDrive/Sam/File_saved/P_dct.pickle')\n",
        "markers = open_pickle('/content/drive/MyDrive/Sam/File_saved/markers_dct.pickle')"
      ],
      "metadata": {
        "id": "ilTTaC4lblva"
      },
      "execution_count": 119,
      "outputs": []
    },
    {
      "cell_type": "code",
      "source": [
        "# Preprocess function for method 1 and storing into P_processed1 dictionary\n",
        "P_processed1 = {}\n",
        "for l,n in zip(markers, data):\n",
        "  P_processed1[f'{n}_processed'], data_classes1 = Preprocess_1(markers[l],data[n])"
      ],
      "metadata": {
        "id": "XJfENgctbnC4"
      },
      "execution_count": 58,
      "outputs": []
    },
    {
      "cell_type": "code",
      "source": [
        "data_classes1"
      ],
      "metadata": {
        "colab": {
          "base_uri": "https://localhost:8080/"
        },
        "id": "VvdmtZc154G1",
        "outputId": "2e5bbaf2-1093-44b5-e08d-f4ee831b8e8e"
      },
      "execution_count": 59,
      "outputs": [
        {
          "output_type": "execute_result",
          "data": {
            "text/plain": [
              "array(['BH', 'OT', 'Other', 'Pass', 'Rest', 'SS', 'WS'], dtype=object)"
            ]
          },
          "metadata": {},
          "execution_count": 59
        }
      ]
    },
    {
      "cell_type": "code",
      "source": [
        "# Splitting participants' tensor into data and labels\n",
        "tensorvalues1 = list(P_processed1.values())\n",
        "all_data1 = tf.concat(tensorvalues1, axis = 0)\n",
        "X1 = all_data1[:,:,0:51].numpy()\n",
        "y1 = all_data1[:,0,51].numpy()"
      ],
      "metadata": {
        "id": "aRTWPISARA0z"
      },
      "execution_count": 79,
      "outputs": []
    },
    {
      "cell_type": "code",
      "source": [
        "# Train/test split\n",
        "X_train1, X_test1, y_train1, y_test1 = train_test_split(X1, y1, test_size=0.2, random_state=42)\n",
        "\n",
        "print(\"X_train:\",X_train1.shape,\n",
        "      \"X_test:\",X_test1.shape,\n",
        "      \"y_train:\",y_train1.shape,\n",
        "      \"y_test:\",y_test1.shape)"
      ],
      "metadata": {
        "colab": {
          "base_uri": "https://localhost:8080/"
        },
        "id": "QxpVUy6PS7Xe",
        "outputId": "c4c38e0c-6dcc-470b-c71c-f845cd17819c"
      },
      "execution_count": 80,
      "outputs": [
        {
          "output_type": "stream",
          "name": "stdout",
          "text": [
            "X_train: (2655, 576, 51) X_test: (664, 576, 51) y_train: (2655,) y_test: (664,)\n"
          ]
        }
      ]
    },
    {
      "cell_type": "code",
      "source": [
        "save_pickle('/content/drive/MyDrive/Sam/File_saved/X_test1.pickle',X_test1)\n",
        "save_pickle('/content/drive/MyDrive/Sam/File_saved/X_train1.pickle',X_train1)\n",
        "save_pickle('/content/drive/MyDrive/Sam/File_saved/y_test1.pickle',y_test1)\n",
        "save_pickle('/content/drive/MyDrive/Sam/File_saved/y_train1.pickle',y_train1)"
      ],
      "metadata": {
        "id": "rWXOXIjcnH2e",
        "colab": {
          "base_uri": "https://localhost:8080/"
        },
        "outputId": "755e4767-2736-4717-b62c-d626b365a102"
      },
      "execution_count": 78,
      "outputs": [
        {
          "output_type": "execute_result",
          "data": {
            "text/plain": [
              "<_io.BufferedWriter name='/content/drive/MyDrive/Sam/File_saved/y_train1.pickle'>"
            ]
          },
          "metadata": {},
          "execution_count": 78
        }
      ]
    },
    {
      "cell_type": "markdown",
      "source": [
        "# Method 2 - Reframe to 576 frames and Biomechanics Sensor Configuration (BSC)\n",
        " "
      ],
      "metadata": {
        "id": "9GULq5awUgPV"
      }
    },
    {
      "cell_type": "code",
      "source": [
        "data = open_pickle('/content/drive/MyDrive/Sam/File_saved/P_dct.pickle')\n",
        "markers = open_pickle('/content/drive/MyDrive/Sam/File_saved/markers_dct.pickle')"
      ],
      "metadata": {
        "id": "e3-XJ3v7UtZM"
      },
      "execution_count": null,
      "outputs": []
    },
    {
      "cell_type": "code",
      "source": [
        "# Same method as above, but only the hands, foot and pelvis sensors are selected (BSC)\n",
        "# Preprocess function for method 2 and storing into 'P_processed2' dictionary\n",
        "P_processed2 = {}\n",
        "for l,n in zip(markers, data):\n",
        "  P_processed2[f'{n}_processed2'], data_classes2 = Preprocess_2(markers[l],data[n])"
      ],
      "metadata": {
        "id": "_2-avzBfLL88"
      },
      "execution_count": 81,
      "outputs": []
    },
    {
      "cell_type": "code",
      "source": [
        "data_classes2"
      ],
      "metadata": {
        "colab": {
          "base_uri": "https://localhost:8080/"
        },
        "id": "3MR9AgK75_pi",
        "outputId": "0b6c340f-1713-4728-9203-2c66b23f6be9"
      },
      "execution_count": 137,
      "outputs": [
        {
          "output_type": "execute_result",
          "data": {
            "text/plain": [
              "array(['BH', 'OT', 'Other', 'Pass', 'Rest', 'SS', 'WS'], dtype=object)"
            ]
          },
          "metadata": {},
          "execution_count": 137
        }
      ]
    },
    {
      "cell_type": "code",
      "source": [
        "# Splitting participants' tensor into data and labels\n",
        "tensorvalues2 = list(P_processed2.values())\n",
        "all_data2 = tf.concat(tensorvalues2, axis = 0)\n",
        "X2 = all_data2[:,:,0:15].numpy()\n",
        "y2 = all_data2[:,0,15].numpy()"
      ],
      "metadata": {
        "id": "S2kad9GpVsXR"
      },
      "execution_count": 83,
      "outputs": []
    },
    {
      "cell_type": "code",
      "source": [
        "# Train/test split\n",
        "X_train2, X_test2, y_train2, y_test2 = train_test_split(X2, y2, test_size=0.2, random_state=42)\n",
        "\n",
        "print(\"X_train:\",X_train2.shape,\n",
        "      \"X_test:\",X_test2.shape,\n",
        "      \"y_train:\",y_train2.shape,\n",
        "      \"y_test:\",y_test2.shape)"
      ],
      "metadata": {
        "colab": {
          "base_uri": "https://localhost:8080/"
        },
        "outputId": "a2632a9e-da1e-4d21-8ede-6b4790f5f611",
        "id": "eHarp6KwVsXR"
      },
      "execution_count": 84,
      "outputs": [
        {
          "output_type": "stream",
          "name": "stdout",
          "text": [
            "X_train: (2655, 576, 15) X_test: (664, 576, 15) y_train: (2655,) y_test: (664,)\n"
          ]
        }
      ]
    },
    {
      "cell_type": "code",
      "source": [
        "save_pickle('/content/drive/MyDrive/Sam/File_saved/X_test2.pickle',X_test2)\n",
        "save_pickle('/content/drive/MyDrive/Sam/File_saved/X_train2.pickle',X_train2)\n",
        "save_pickle('/content/drive/MyDrive/Sam/File_saved/y_test2.pickle',y_test2)\n",
        "save_pickle('/content/drive/MyDrive/Sam/File_saved/y_train2.pickle',y_train2)"
      ],
      "metadata": {
        "id": "zs3EdRcOSdkT",
        "colab": {
          "base_uri": "https://localhost:8080/"
        },
        "outputId": "b4821979-e889-4c47-c7ec-c7effd420b97"
      },
      "execution_count": 85,
      "outputs": [
        {
          "output_type": "execute_result",
          "data": {
            "text/plain": [
              "<_io.BufferedWriter name='/content/drive/MyDrive/Sam/File_saved/y_train2.pickle'>"
            ]
          },
          "metadata": {},
          "execution_count": 85
        }
      ]
    },
    {
      "cell_type": "markdown",
      "source": [
        "# Method 3 - Resampling and BSC"
      ],
      "metadata": {
        "id": "bndiBmAfs_WO"
      }
    },
    {
      "cell_type": "code",
      "source": [
        "data = open_pickle('/content/drive/MyDrive/Sam/File_saved/P_dct.pickle')\n",
        "markers = open_pickle('/content/drive/MyDrive/Sam/File_saved/markers_dct.pickle')"
      ],
      "metadata": {
        "id": "qbnE5Uza7UQq"
      },
      "execution_count": 14,
      "outputs": []
    },
    {
      "cell_type": "code",
      "source": [
        "# Empty dictionary for place holding\n",
        "data_resample = {'P01_resample_bmech':{},'P02_resample_bmech':{},'P03_resample_bmech':{},'P04_resample_bmech':{},'P05_resample_bmech':{},'P07_resample_bmech':{},'P08_resample_bmech':{},\n",
        "                 'P09_resample_bmech':{},'P10_resample_bmech':{},'P11_resample_bmech':{},'P12_resample_bmech':{},'P13_resample_bmech':{},'P14_resample_bmech':{},'P15_resample_bmech':{},\n",
        "                 'P16_resample_bmech':{},'P17_resample_bmech':{},'P18_resample_bmech':{},'P19_resample_bmech':{},'P20_resample_bmech':{},'P21_resample_bmech':{},'P22_resample_bmech':{},\n",
        "                 'P23_resample_bmech':{},'P24_resample_bmech':{},'P25_resample_bmech':{},'P26_resample_bmech':{},'P27_resample_bmech':{},'P28_resample_bmech':{},'P29_resample_bmech':{},\n",
        "                 'P32_resample_bmech':{},'P33_resample_bmech':{},'P34_resample_bmech':{},'P35_resample_bmech':{},'P36_resample_bmech':{},'P37_resample_bmech':{},'P39_resample_bmech':{},\n",
        "                 'P40_resample_bmech':{},'P41_resample_bmech':{},'P42_resample_bmech':{},'P43_resample_bmech':{}}"
      ],
      "metadata": {
        "id": "oxZQsrwhRZMq"
      },
      "execution_count": 15,
      "outputs": []
    },
    {
      "cell_type": "code",
      "source": [
        "# Stores the data with the BSC\n",
        "data_biomech_config = {}\n",
        "for i in data:\n",
        "  data_biomech_config[f'{i}_bmech'] = data[i].loc[:,('Frame','Right Hand x','Right Hand y','Right Hand z','Left Hand x','Left Hand y','Left Hand z',\n",
        "                                               'Right Foot x','Right Foot y','Right Foot z','Left Foot x','Left Foot y','Left Foot z',\n",
        "                                               'Pelvis x','Pelvis y','Pelvis z','Label')]"
      ],
      "metadata": {
        "id": "h7Yu8qCGadSe"
      },
      "execution_count": 16,
      "outputs": []
    },
    {
      "cell_type": "code",
      "source": [
        "# Runs some preprocessing steps and storing it into a new dictionary 'data_biomech'\n",
        "data_biomech = {}\n",
        "for j1,j2 in zip(markers, data_biomech_config):\n",
        "\n",
        "  P_data = regroup_other(markers[j1], data_biomech_config[j2]) # regroups the 'SH', 'Pre', 'post' trials to the label 'Other'\n",
        "  P_other = P_data[(P_data['Label'] == 'Other')] # creates a variable containing all the data labeled 'Other'\n",
        "  P_other_all = other_class(P_other,400) # from the variable above, creates 15 trials of length 400\n",
        "  P_data = P_data.drop(P_data[(P_data['Label'] == 'Do not use')].index) # removing all the data labeled as 'Do not use' (junk)\n",
        "  P_data = P_data.drop(P_data[(P_data['Label'] == 'Other')].index) # removing all the data labeled as 'Other' from the original dataset\n",
        "  P_data = pd.concat([P_data, P_other_all], ignore_index = True) # adding the 15 'Other' trials of length 400 to the original dataset\n",
        "  #P_data = P_stand_norm(P_data) # standardize and normalize the dataset\n",
        "  #data_biomech[f'{j2}'], data_classes3 = label_encoder(P_data) # encoding the labels\n",
        "  data_biomech[f'{j2}'], data_classes3 = stand_labelencoder(P_data)"
      ],
      "metadata": {
        "id": "TBJCOY0rLpy5"
      },
      "execution_count": 17,
      "outputs": []
    },
    {
      "cell_type": "code",
      "source": [
        "data_classes3"
      ],
      "metadata": {
        "colab": {
          "base_uri": "https://localhost:8080/"
        },
        "id": "7LiurxLymdVS",
        "outputId": "97b0125a-c6e7-4652-eae7-b57d30b964e5"
      },
      "execution_count": null,
      "outputs": [
        {
          "output_type": "execute_result",
          "data": {
            "text/plain": [
              "array(['BH', 'OT', 'Other', 'Pass', 'Rest', 'SS', 'WS'], dtype=object)"
            ]
          },
          "metadata": {},
          "execution_count": 94
        }
      ]
    },
    {
      "cell_type": "code",
      "source": [
        "# This runs 3 different functions from the same 3 dictionaries\n",
        "data_other = {} \n",
        "data_rest = {}\n",
        "for m1,m2,m3 in zip(markers, data_resample, data_biomech):\n",
        "  # Resampling the shooting trials to 400 frames and store them into the 'data_resample' dictionary\n",
        "  resampling_data(m1,m2,m3, 400)\n",
        "  # Creates a tensor of 'Other' from the 'data_biomech' dictionary and swap the axes to the required shape\n",
        "  other = data_biomech[m3][-6000:,:]\n",
        "  other = create_tensor(other, 400)\n",
        "  data_other[f'{m3}_other'] = tf.transpose(other, perm = [1,0,2])\n",
        "  # Creates a tensor of 'Rest' from the data_biomech' dictionary and swap the axes to the required shape\n",
        "  rest = data_biomech[m3][(data_biomech[m3][:,-1] == 4)]\n",
        "  rest = rest[0:6000,:]\n",
        "  rest = create_tensor(rest,400)\n",
        "  data_rest[f'{m3}_rest'] = tf.transpose(rest, perm = [1, 0, 2])"
      ],
      "metadata": {
        "id": "vKApmkrMkUkH"
      },
      "execution_count": 18,
      "outputs": []
    },
    {
      "cell_type": "code",
      "source": [
        "# Converting the shots data from the 'data_resample' dictionary into tensor and store it into 'data_tensor' dictionary\n",
        "data_tensor = {}\n",
        "for i in data_resample:\n",
        "  keys = data_resample[i].keys()\n",
        "  t = np.array([data_resample[i][j] for j in keys])\n",
        "  data_tensor[f'{i}_tensor'] = tf.convert_to_tensor(t, dtype = tf.float32)"
      ],
      "metadata": {
        "id": "Koj0HsTctBoN"
      },
      "execution_count": 19,
      "outputs": []
    },
    {
      "cell_type": "code",
      "source": [
        "# Regrouping the shots, 'Other' and 'Rest' trials together in the 'data_tensor' dictionary\n",
        "for n1,n2,n3 in zip(data_tensor, data_other, data_rest):\n",
        "  data_tensor[n1] = tf.concat([data_tensor[n1],data_other[n2]], 0)\n",
        "  data_tensor[n1] = tf.concat([data_tensor[n1],data_rest[n3]], 0)"
      ],
      "metadata": {
        "id": "B9xSEKmQyIae"
      },
      "execution_count": 20,
      "outputs": []
    },
    {
      "cell_type": "code",
      "source": [
        "# Splitting participants' tensor into data and labels\n",
        "tensorvalues3 = list(data_tensor.values())\n",
        "all_data3 = tf.concat(tensorvalues3, axis = 0)\n",
        "X3 = all_data3[:,:,0:15].numpy()\n",
        "y3 = all_data3[:,0,15].numpy()"
      ],
      "metadata": {
        "id": "78A0c0byNAig"
      },
      "execution_count": 60,
      "outputs": []
    },
    {
      "cell_type": "code",
      "source": [
        "# Train/test split\n",
        "X_train3, X_test3, y_train3, y_test3 = train_test_split(X3, y3, test_size=0.2, random_state=42)\n",
        "\n",
        "print(\"X_train:\",X_train3.shape,\n",
        "      \"X_test:\",X_test3.shape,\n",
        "      \"y_train:\",y_train3.shape,\n",
        "      \"y_test:\",y_test3.shape)"
      ],
      "metadata": {
        "id": "Pbi9Dc3VC-N6",
        "colab": {
          "base_uri": "https://localhost:8080/"
        },
        "outputId": "e7ee213e-2963-4bbc-e94b-67832e4d3f09"
      },
      "execution_count": 64,
      "outputs": [
        {
          "output_type": "stream",
          "name": "stdout",
          "text": [
            "X_train: (2655, 400, 15) X_test: (664, 400, 15) y_train: (2655,) y_test: (664,)\n"
          ]
        }
      ]
    },
    {
      "cell_type": "code",
      "source": [
        "save_pickle('/content/drive/MyDrive/Sam/File_saved/X_test3.pickle',X_test3)\n",
        "save_pickle('/content/drive/MyDrive/Sam/File_saved/X_train3.pickle',X_train3)\n",
        "#save_pickle('/content/drive/MyDrive/Sam/File_saved/X_valid3.pickle',X_valid3)\n",
        "save_pickle('/content/drive/MyDrive/Sam/File_saved/y_test3.pickle',y_test3)\n",
        "#save_pickle('/content/drive/MyDrive/Sam/File_saved/y_valid3.pickle',y_valid3)\n",
        "save_pickle('/content/drive/MyDrive/Sam/File_saved/y_train3.pickle',y_train3)"
      ],
      "metadata": {
        "id": "BIpa52YsI1Tr",
        "colab": {
          "base_uri": "https://localhost:8080/"
        },
        "outputId": "e3619aa7-089c-4c5d-dcfd-68a4abe4af82"
      },
      "execution_count": 53,
      "outputs": [
        {
          "output_type": "execute_result",
          "data": {
            "text/plain": [
              "<_io.BufferedWriter name='/content/drive/MyDrive/Sam/File_saved/y_train3.pickle'>"
            ]
          },
          "metadata": {},
          "execution_count": 53
        }
      ]
    }
  ]
}