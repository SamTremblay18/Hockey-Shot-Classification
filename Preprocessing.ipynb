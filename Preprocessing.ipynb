{
  "nbformat": 4,
  "nbformat_minor": 0,
  "metadata": {
    "colab": {
      "name": "Preprocessing.ipynb",
      "provenance": [],
      "collapsed_sections": [
        "2kIGB3Np_xWf",
        "GcYcsld7sTce"
      ],
      "authorship_tag": "ABX9TyN+NYhB5vAuTwRG6xm4GgDE",
      "include_colab_link": true
    },
    "kernelspec": {
      "name": "python3",
      "display_name": "Python 3"
    },
    "language_info": {
      "name": "python"
    }
  },
  "cells": [
    {
      "cell_type": "markdown",
      "metadata": {
        "id": "view-in-github",
        "colab_type": "text"
      },
      "source": [
        "<a href=\"https://colab.research.google.com/github/SamTremblay18/Hockey-Shot-Classification/blob/main/Preprocessing.ipynb\" target=\"_parent\"><img src=\"https://colab.research.google.com/assets/colab-badge.svg\" alt=\"Open In Colab\"/></a>"
      ]
    },
    {
      "cell_type": "markdown",
      "source": [
        "# Importing Libraries "
      ],
      "metadata": {
        "id": "2kIGB3Np_xWf"
      }
    },
    {
      "cell_type": "code",
      "execution_count": 2,
      "metadata": {
        "id": "o8N8YlkOUnBb",
        "colab": {
          "base_uri": "https://localhost:8080/"
        },
        "outputId": "17b828b4-92c0-4910-ad26-9bf0add470a5"
      },
      "outputs": [
        {
          "output_type": "stream",
          "name": "stdout",
          "text": [
            "Mounted at /content/drive\n"
          ]
        }
      ],
      "source": [
        "import pandas as pd\n",
        "import numpy as np\n",
        "import tensorflow as tf\n",
        "import random\n",
        "from google.colab import drive \n",
        "drive.mount('/content/drive')\n",
        "import pickle\n",
        "from sklearn.preprocessing import LabelEncoder, MaxAbsScaler, StandardScaler\n",
        "import matplotlib.pyplot as plt\n",
        "from scipy import signal\n",
        "from sklearn.model_selection import train_test_split\n",
        "from itertools import chain"
      ]
    },
    {
      "cell_type": "markdown",
      "source": [
        "# Functions"
      ],
      "metadata": {
        "id": "PxkV24zl_pbq"
      }
    },
    {
      "cell_type": "markdown",
      "source": [
        "Save and open files with pickle"
      ],
      "metadata": {
        "id": "04W0u7GAwkQd"
      }
    },
    {
      "cell_type": "code",
      "source": [
        "def save_pickle(path_pickle,P):\n",
        "  f = open(path_pickle, 'wb')\n",
        "  pickle.dump(P, f)\n",
        "  f.close()\n",
        "\n",
        "  return f\n",
        "\n",
        "def open_pickle(path_pickle):\n",
        "  f = open(path_pickle, 'rb')\n",
        "  P = pickle.load(f)\n",
        "  f.close()\n",
        "\n",
        "  return P  "
      ],
      "metadata": {
        "id": "vnHKEBKGwkkI"
      },
      "execution_count": 3,
      "outputs": []
    },
    {
      "cell_type": "markdown",
      "source": [
        "Regroups all the Pre, SH and Post trials together to the label 'Other'"
      ],
      "metadata": {
        "id": "ROkJ6uuywS3-"
      }
    },
    {
      "cell_type": "code",
      "source": [
        "def regroup_other(P_markers,P_acc):\n",
        "  for i in range(0,len(P_markers.iloc[:,0])):\n",
        "    \n",
        "    length_trial = P_markers.iloc[i,2] \n",
        "    start_trial = P_markers.iloc[i,0]  \n",
        "   \n",
        "    if P_markers.iloc[i,1] == 'Pre' or P_markers.iloc[i,1] == 'SH' or P_markers.iloc[i,1] == 'post':\n",
        "      P_acc.loc[(start_trial):(start_trial)+((length_trial)-1),'Label'] = 'Other' # Swapping the label to Other\n",
        "\n",
        "  return P_acc"
      ],
      "metadata": {
        "id": "pP3TROVbwTd4"
      },
      "execution_count": 4,
      "outputs": []
    },
    {
      "cell_type": "markdown",
      "source": [
        "Reframe all the shooting trials the same frame length"
      ],
      "metadata": {
        "id": "4y3s5MQQwdBU"
      }
    },
    {
      "cell_type": "code",
      "source": [
        "def reframe(P_markers,P_acc,f_length):\n",
        "  for i in range(0,len(P_markers.iloc[:,0])):\n",
        "\n",
        "    length_trial = P_markers.iloc[i,2]\n",
        "    start_trial = P_markers.iloc[i,0]\n",
        "    type_shot = P_markers.iloc[i,1]\n",
        "\n",
        "    if P_markers.iloc[i,1] == 'BH' or P_markers.iloc[i,1] == 'Pass' or P_markers.iloc[i,1] == 'SS' or P_markers.iloc[i,1] == 'WS' or P_markers.iloc[i,1] == 'OT':\n",
        "        diff = int(f_length-length_trial) # Identifying how many frames are missing to have the desired length\n",
        "        P_acc.iloc[int(start_trial)-diff:int(start_trial)+int(length_trial),-1] = type_shot # Swapping the old labels from the difference \n",
        "                                                                                            # found above to the new label desired\n",
        "  return P_acc"
      ],
      "metadata": {
        "id": "152LEKjzwdX0"
      },
      "execution_count": 5,
      "outputs": []
    },
    {
      "cell_type": "markdown",
      "source": [
        "Standardize and label encoder function"
      ],
      "metadata": {
        "id": "7SszkSaipwx1"
      }
    },
    {
      "cell_type": "code",
      "source": [
        "def stand_labelencoder(P_acc):\n",
        "  scaler = StandardScaler()\n",
        "  le = LabelEncoder()\n",
        "  scaled = scaler.fit_transform(P_acc.iloc[:,1:-1], y = P_acc['Label'])\n",
        "  y = le.fit_transform(P_acc['Label'])\n",
        "  classes = le.classes_\n",
        "  y = y[:,None]\n",
        "  x = np.concatenate((scaled, y), axis=1)\n",
        "\n",
        "  return x, classes"
      ],
      "metadata": {
        "id": "gL0N2IPJpwd_"
      },
      "execution_count": 6,
      "outputs": []
    },
    {
      "cell_type": "markdown",
      "source": [
        "Create tensors of specific shape"
      ],
      "metadata": {
        "id": "tDr3-TSyw88Y"
      }
    },
    {
      "cell_type": "code",
      "source": [
        "def create_tensor(P_acc,f_length):\n",
        "  trials_length = len(P_acc)/f_length\n",
        "  T = np.stack(np.split(P_acc, trials_length), axis=1)\n",
        "  Tensors = tf.constant(T.astype('float32'))\n",
        "  Tensors = tf.transpose(Tensors, perm = [1, 0, 2])\n",
        "\n",
        "  return Tensors"
      ],
      "metadata": {
        "id": "-s1ahHfVw8z1"
      },
      "execution_count": 7,
      "outputs": []
    },
    {
      "cell_type": "markdown",
      "source": [
        "Create 15 trials of 'Other' with specific length"
      ],
      "metadata": {
        "id": "02g3hlKOxB9j"
      }
    },
    {
      "cell_type": "code",
      "source": [
        "# The majority of the data is in the category 'Other', so this function randomly creates\n",
        "# 15 trials from data labeled as 'Other' with the specified length\n",
        "def other_class(P_other,f_length):\n",
        "  random.seed(4)\n",
        "  num_list = random.sample(range(0,len(P_other),f_length),15) # this creates 15 numbers that are seperated with at least\n",
        "                                                              # the specified length from all the data labeled as 'Other'\n",
        "  Other_all = pd.DataFrame()\n",
        "  for i in num_list:\n",
        "    other = P_other.iloc[i:(i+f_length),:] # creates the trials with the specified length starting with number from the list\n",
        "    Other_all = pd.concat([Other_all, other], ignore_index = True)\n",
        "\n",
        "  return Other_all"
      ],
      "metadata": {
        "id": "d19iSioSxCUv"
      },
      "execution_count": 8,
      "outputs": []
    },
    {
      "cell_type": "markdown",
      "source": [
        "Runs all the preprocessing steps for the reframe method"
      ],
      "metadata": {
        "id": "AcuvKMsTxG-3"
      }
    },
    {
      "cell_type": "code",
      "source": [
        "def Preprocess(P_markers, P_acc):\n",
        "  P_data = regroup_other(P_markers,P_acc) # regroups the 'SH', 'Pre', 'post' trials to the label 'Other'\n",
        "  P_data = reframe(P_markers,P_data,576) # reframe the dataset to 576 frames\n",
        "  P_other = P_data[(P_data['Label'] == 'Other')] # creates a variable containing all the data labeled 'Other'\n",
        "  P_other_all = other_class(P_other,576) # from the variable above, creates 15 trials of length 576\n",
        "  P_data = P_data.drop(P_data[(P_data['Label'] == 'Do not use')].index) # removing all the data labeled as 'Do not use' (junk)\n",
        "  P_data = P_data.drop(P_data[(P_data['Label'] == 'Other')].index) # removing all the data labeled as 'Other' from the original dataset\n",
        "  P_data = pd.concat([P_data, P_other_all], ignore_index = True) # adding the 15 'Other' trials of length 576 to the original dataset \n",
        "  P_data, classes = stand_labelencoder(P_data)\n",
        "  P_data = create_tensor(P_data,576) # transforming the dataset into tensors with a length of 576 frames\n",
        "  \n",
        "  return P_data, classes"
      ],
      "metadata": {
        "id": "mU9PHsphxGjH"
      },
      "execution_count": 9,
      "outputs": []
    },
    {
      "cell_type": "markdown",
      "source": [
        "Resample the shot trials to a set frequency"
      ],
      "metadata": {
        "id": "7pfuNjGUJnbu"
      }
    },
    {
      "cell_type": "code",
      "source": [
        "def resampling_data(markers_number, p_resample, p_acc, sampling_freq):\n",
        "\n",
        "  for i in range(0,len(markers[markers_number].iloc[:-1,2])):\n",
        "\n",
        "          trial_start = markers[markers_number].iloc[i,0]\n",
        "          typeshot = markers[markers_number].iloc[i,1]\n",
        "          trial_len = markers[markers_number].iloc[i,2]\n",
        "\n",
        "          if typeshot == 'WS':\n",
        "            # Resamples a trial by selecting all the data except the 'Frame' and 'label' column to a specified frequency\n",
        "            data_resample[p_resample][f'WS_{i}'] = signal.resample(data_biomech_config[p_acc].iloc[int(trial_start):(int(trial_start)+int(trial_len)),1:-1],sampling_freq)\n",
        "            # Adds the labels encoded manually at the last column position\n",
        "            data_resample[p_resample][f'WS_{i}'] = np.append(data_resample[p_resample][f'WS_{i}'], np.full((sampling_freq,1), 6), axis=1)\n",
        "\n",
        "          elif typeshot == 'BH':\n",
        "            data_resample[p_resample][f'BH_{i}'] = signal.resample(data_biomech_config[p_acc].iloc[int(trial_start):(int(trial_start)+int(trial_len)),1:-1],sampling_freq)\n",
        "            data_resample[p_resample][f'BH_{i}'] = np.append(data_resample[p_resample][f'BH_{i}'], np.full((sampling_freq,1), 0), axis=1)\n",
        "\n",
        "          elif typeshot == 'OT':\n",
        "            data_resample[p_resample][f'OT_{i}'] = signal.resample(data_biomech_config[p_acc].iloc[int(trial_start):(int(trial_start)+int(trial_len)),1:-1],sampling_freq)\n",
        "            data_resample[p_resample][f'OT_{i}'] = np.append(data_resample[p_resample][f'OT_{i}'], np.full((sampling_freq,1), 1), axis=1)\n",
        "\n",
        "          elif typeshot == 'SS':\n",
        "            data_resample[p_resample][f'SS_{i}'] = signal.resample(data_biomech_config[p_acc].iloc[int(trial_start):(int(trial_start)+int(trial_len)),1:-1],sampling_freq)\n",
        "            data_resample[p_resample][f'SS_{i}'] = np.append(data_resample[p_resample][f'SS_{i}'], np.full((sampling_freq,1), 5), axis=1)\n",
        "\n",
        "          elif typeshot == 'Pass':\n",
        "            data_resample[p_resample][f'Pass_{i}'] = signal.resample(data_biomech_config[p_acc].iloc[int(trial_start):(int(trial_start)+int(trial_len)),1:-1],sampling_freq)\n",
        "            data_resample[p_resample][f'Pass_{i}'] = np.append(data_resample[p_resample][f'Pass_{i}'], np.full((sampling_freq,1), 3), axis=1)\n",
        "\n",
        "          else:\n",
        "            continue"
      ],
      "metadata": {
        "id": "x-x5GqpLJnBr"
      },
      "execution_count": 10,
      "outputs": []
    },
    {
      "cell_type": "markdown",
      "source": [
        "#Method 1 - Reframe to 576 frames and All Sensors Configuration"
      ],
      "metadata": {
        "id": "GcYcsld7sTce"
      }
    },
    {
      "cell_type": "code",
      "source": [
        "# Participants' and markers' dictionnary\n",
        "data = open_pickle('/content/drive/MyDrive/Sam/File_saved/P_dct.pickle')\n",
        "markers = open_pickle('/content/drive/MyDrive/Sam/File_saved/markers_dct.pickle')"
      ],
      "metadata": {
        "id": "ilTTaC4lblva"
      },
      "execution_count": null,
      "outputs": []
    },
    {
      "cell_type": "code",
      "source": [
        "# Preprocess function for method 1 and storing into P_processed1 dictionary\n",
        "P_processed1 = {}\n",
        "for l,n in zip(markers, data):\n",
        "  P_processed1[f'{n}_processed'], data_classes1 = Preprocess(markers[l],data[n])"
      ],
      "metadata": {
        "id": "XJfENgctbnC4"
      },
      "execution_count": null,
      "outputs": []
    },
    {
      "cell_type": "code",
      "source": [
        "data_classes1"
      ],
      "metadata": {
        "colab": {
          "base_uri": "https://localhost:8080/"
        },
        "id": "VvdmtZc154G1",
        "outputId": "2e5bbaf2-1093-44b5-e08d-f4ee831b8e8e"
      },
      "execution_count": null,
      "outputs": [
        {
          "output_type": "execute_result",
          "data": {
            "text/plain": [
              "array(['BH', 'OT', 'Other', 'Pass', 'Rest', 'SS', 'WS'], dtype=object)"
            ]
          },
          "metadata": {},
          "execution_count": 59
        }
      ]
    },
    {
      "cell_type": "code",
      "source": [
        "# Subject-wise shuffling\n",
        "keys = list(P_processed1.keys())\n",
        "random.seed(10)\n",
        "random.shuffle(keys)\n",
        "\n",
        "SuffledP_processed1 = dict()\n",
        "for key in keys:\n",
        "    SuffledP_processed1.update({key: P_processed1[key]})"
      ],
      "metadata": {
        "id": "OI4XdotwTiR7"
      },
      "execution_count": null,
      "outputs": []
    },
    {
      "cell_type": "code",
      "source": [
        "# Splitting data and labels in train/test\n",
        "train_values1 = list(SuffledP_processed1.values())[0:31]\n",
        "x_train1 = tf.concat(train_values1, axis = 0)\n",
        "X_train1 = x_train1[:,:,:-1].numpy()\n",
        "y_train1 = x_train1[:,0,-1].numpy()\n",
        "\n",
        "test_values1 = list(SuffledP_processed1.values())[31:39]\n",
        "x_test1 = tf.concat(test_values1, axis = 0)\n",
        "X_test1 = x_test1[:,:,:-1].numpy()\n",
        "y_test1 = x_test1[:,0,-1].numpy()\n",
        "\n",
        "print(\"X_train:\",X_train1.shape,\n",
        "      \"X_test:\",X_test1.shape,\n",
        "      \"y_train:\",y_train1.shape,\n",
        "      \"y_test:\",y_test1.shape)"
      ],
      "metadata": {
        "colab": {
          "base_uri": "https://localhost:8080/"
        },
        "id": "A4Ne8n9nX4PN",
        "outputId": "f42b7dfd-64bf-43b0-9f17-c5d47ad32e20"
      },
      "execution_count": null,
      "outputs": [
        {
          "output_type": "stream",
          "name": "stdout",
          "text": [
            "X_train: (2638, 576, 51) X_test: (681, 576, 51) y_train: (2638,) y_test: (681,)\n"
          ]
        }
      ]
    },
    {
      "cell_type": "code",
      "source": [
        "save_pickle('/content/drive/MyDrive/Sam/File_saved/X_test1.pickle',X_test1)\n",
        "save_pickle('/content/drive/MyDrive/Sam/File_saved/X_train1.pickle',X_train1)\n",
        "save_pickle('/content/drive/MyDrive/Sam/File_saved/y_test1.pickle',y_test1)\n",
        "save_pickle('/content/drive/MyDrive/Sam/File_saved/y_train1.pickle',y_train1)"
      ],
      "metadata": {
        "id": "rWXOXIjcnH2e",
        "colab": {
          "base_uri": "https://localhost:8080/"
        },
        "outputId": "ada44aef-7cfa-472a-f8d7-8dda30867b77"
      },
      "execution_count": null,
      "outputs": [
        {
          "output_type": "execute_result",
          "data": {
            "text/plain": [
              "<_io.BufferedWriter name='/content/drive/MyDrive/Sam/File_saved/y_train1.pickle'>"
            ]
          },
          "metadata": {},
          "execution_count": 54
        }
      ]
    },
    {
      "cell_type": "markdown",
      "source": [
        "# Method 2 - Reframe to 576 frames and Biomechanics Sensor Configuration (BSC)\n",
        " "
      ],
      "metadata": {
        "id": "9GULq5awUgPV"
      }
    },
    {
      "cell_type": "code",
      "source": [
        "data = open_pickle('/content/drive/MyDrive/Sam/File_saved/P_dct.pickle')\n",
        "markers = open_pickle('/content/drive/MyDrive/Sam/File_saved/markers_dct.pickle')"
      ],
      "metadata": {
        "id": "e3-XJ3v7UtZM"
      },
      "execution_count": null,
      "outputs": []
    },
    {
      "cell_type": "code",
      "source": [
        "# Selecting the sensor configuration\n",
        "data_BSC = {}\n",
        "for i in data:\n",
        "  data_BSC[f'{i}_bmech'] = data[i].loc[:,('Frame','Right Hand x','Right Hand y','Right Hand z','Left Hand x','Left Hand y','Left Hand z',\n",
        "                                                     'Right Foot x','Right Foot y','Right Foot z','Left Foot x','Left Foot y','Left Foot z',\n",
        "                                                     'Pelvis x','Pelvis y','Pelvis z','Label')]"
      ],
      "metadata": {
        "id": "kwo9TauG392s"
      },
      "execution_count": null,
      "outputs": []
    },
    {
      "cell_type": "code",
      "source": [
        "# Preprocess function for method 2 and storing into 'P_processed2' dictionary\n",
        "P_processed2 = {}\n",
        "for l,n in zip(markers, data_BSC):\n",
        "  P_processed2[f'{n}_processed2'], data_classes2 = Preprocess(markers[l],data_BSC[n])"
      ],
      "metadata": {
        "id": "_2-avzBfLL88"
      },
      "execution_count": null,
      "outputs": []
    },
    {
      "cell_type": "code",
      "source": [
        "data_classes2"
      ],
      "metadata": {
        "colab": {
          "base_uri": "https://localhost:8080/"
        },
        "id": "3MR9AgK75_pi",
        "outputId": "6d9dc480-e28f-4605-abc7-5bd295d6b6ac"
      },
      "execution_count": null,
      "outputs": [
        {
          "output_type": "execute_result",
          "data": {
            "text/plain": [
              "array(['BH', 'OT', 'Other', 'Pass', 'Rest', 'SS', 'WS'], dtype=object)"
            ]
          },
          "metadata": {},
          "execution_count": 168
        }
      ]
    },
    {
      "cell_type": "code",
      "source": [
        "# Subject-wise shuffling\n",
        "keys = list(P_processed2.keys())\n",
        "random.seed(10)\n",
        "random.shuffle(keys)\n",
        "\n",
        "SuffledP_processed2 = dict()\n",
        "for key in keys:\n",
        "    SuffledP_processed2.update({key: P_processed2[key]})"
      ],
      "metadata": {
        "id": "9o48lBy8i7lL"
      },
      "execution_count": null,
      "outputs": []
    },
    {
      "cell_type": "code",
      "source": [
        "# Splitting data and labels in train/test\n",
        "train_values2 = list(SuffledP_processed2.values())[0:31]\n",
        "x_train2 = tf.concat(train_values2, axis = 0)\n",
        "X_train2 = x_train2[:,:,:-1].numpy()\n",
        "y_train2 = x_train2[:,0,-1].numpy()\n",
        "\n",
        "test_values2 = list(SuffledP_processed2.values())[31:39]\n",
        "x_test2 = tf.concat(test_values2, axis = 0)\n",
        "X_test2 = x_test2[:,:,:-1].numpy()\n",
        "y_test2 = x_test2[:,0,-1].numpy()\n",
        "\n",
        "print(\"X_train:\",X_train2.shape,\n",
        "      \"X_test:\",X_test2.shape,\n",
        "      \"y_train:\",y_train2.shape,\n",
        "      \"y_test:\",y_test2.shape)"
      ],
      "metadata": {
        "colab": {
          "base_uri": "https://localhost:8080/"
        },
        "outputId": "cc8d6d4e-5b28-4e8c-f31d-66a2cb83e6aa",
        "id": "6AIpxP0pi7lL"
      },
      "execution_count": null,
      "outputs": [
        {
          "output_type": "stream",
          "name": "stdout",
          "text": [
            "X_train: (2638, 576, 15) X_test: (681, 576, 15) y_train: (2638,) y_test: (681,)\n"
          ]
        }
      ]
    },
    {
      "cell_type": "code",
      "source": [
        "save_pickle('/content/drive/MyDrive/Sam/File_saved/X_test2.pickle',X_test2)\n",
        "save_pickle('/content/drive/MyDrive/Sam/File_saved/X_train2.pickle',X_train2)\n",
        "save_pickle('/content/drive/MyDrive/Sam/File_saved/y_test2.pickle',y_test2)\n",
        "save_pickle('/content/drive/MyDrive/Sam/File_saved/y_train2.pickle',y_train2)"
      ],
      "metadata": {
        "id": "zs3EdRcOSdkT",
        "colab": {
          "base_uri": "https://localhost:8080/"
        },
        "outputId": "f5308bc3-a0df-45b3-8181-be9f062e7fb8"
      },
      "execution_count": null,
      "outputs": [
        {
          "output_type": "execute_result",
          "data": {
            "text/plain": [
              "<_io.BufferedWriter name='/content/drive/MyDrive/Sam/File_saved/y_train2.pickle'>"
            ]
          },
          "metadata": {},
          "execution_count": 62
        }
      ]
    },
    {
      "cell_type": "markdown",
      "source": [
        "# Method 3 - Resampling and BSC"
      ],
      "metadata": {
        "id": "bndiBmAfs_WO"
      }
    },
    {
      "cell_type": "code",
      "source": [
        "data = open_pickle('/content/drive/MyDrive/Sam/File_saved/P_dct.pickle')\n",
        "markers = open_pickle('/content/drive/MyDrive/Sam/File_saved/markers_dct.pickle')"
      ],
      "metadata": {
        "id": "qbnE5Uza7UQq"
      },
      "execution_count": null,
      "outputs": []
    },
    {
      "cell_type": "code",
      "source": [
        "# Selecting the sensor configuration\n",
        "data_biomech_config = {}\n",
        "for i in data:\n",
        "  data_biomech_config[f'{i}_bmech'] = data[i].loc[:,('Frame','Right Hand x','Right Hand y','Right Hand z','Left Hand x','Left Hand y','Left Hand z',\n",
        "                                                     'Right Foot x','Right Foot y','Right Foot z','Left Foot x','Left Foot y','Left Foot z',\n",
        "                                                     'Pelvis x','Pelvis y','Pelvis z','Label')]"
      ],
      "metadata": {
        "id": "Todp2Ru8ezlb"
      },
      "execution_count": null,
      "outputs": []
    },
    {
      "cell_type": "code",
      "source": [
        "# Empty dictionary for place holding\n",
        "data_resample = {'P01_resample_bmech':{},'P02_resample_bmech':{},'P03_resample_bmech':{},'P04_resample_bmech':{},'P05_resample_bmech':{},'P07_resample_bmech':{},'P08_resample_bmech':{},\n",
        "                 'P09_resample_bmech':{},'P10_resample_bmech':{},'P11_resample_bmech':{},'P12_resample_bmech':{},'P13_resample_bmech':{},'P14_resample_bmech':{},'P15_resample_bmech':{},\n",
        "                 'P16_resample_bmech':{},'P17_resample_bmech':{},'P18_resample_bmech':{},'P19_resample_bmech':{},'P20_resample_bmech':{},'P21_resample_bmech':{},'P22_resample_bmech':{},\n",
        "                 'P23_resample_bmech':{},'P24_resample_bmech':{},'P25_resample_bmech':{},'P26_resample_bmech':{},'P27_resample_bmech':{},'P28_resample_bmech':{},'P29_resample_bmech':{},\n",
        "                 'P32_resample_bmech':{},'P33_resample_bmech':{},'P34_resample_bmech':{},'P35_resample_bmech':{},'P36_resample_bmech':{},'P37_resample_bmech':{},'P39_resample_bmech':{},\n",
        "                 'P40_resample_bmech':{},'P41_resample_bmech':{},'P42_resample_bmech':{},'P43_resample_bmech':{}}"
      ],
      "metadata": {
        "id": "oxZQsrwhRZMq"
      },
      "execution_count": null,
      "outputs": []
    },
    {
      "cell_type": "code",
      "source": [
        "# Runs some preprocessing steps and storing it into a new dictionary 'data_biomech'\n",
        "data_biomech = {}\n",
        "for j1,j2 in zip(markers, data_biomech_config):\n",
        "\n",
        "  P_data = regroup_other(markers[j1], data_biomech_config[j2]) # regroups the 'SH', 'Pre', 'post' trials to the label 'Other'\n",
        "  P_other = P_data[(P_data['Label'] == 'Other')] # creates a variable containing all the data labeled 'Other'\n",
        "  P_other_all = other_class(P_other,400) # from the variable above, creates 15 trials of length 400\n",
        "  P_data = P_data.drop(P_data[(P_data['Label'] == 'Do not use')].index) # removing all the data labeled as 'Do not use' (junk)\n",
        "  P_data = P_data.drop(P_data[(P_data['Label'] == 'Other')].index) # removing all the data labeled as 'Other' from the original dataset\n",
        "  P_data = pd.concat([P_data, P_other_all], ignore_index = True) # adding the 15 'Other' trials of length 400 to the original dataset\n",
        "  data_biomech[f'{j2}'], data_classes3 = stand_labelencoder(P_data)"
      ],
      "metadata": {
        "id": "TBJCOY0rLpy5"
      },
      "execution_count": null,
      "outputs": []
    },
    {
      "cell_type": "code",
      "source": [
        "data_classes3"
      ],
      "metadata": {
        "colab": {
          "base_uri": "https://localhost:8080/"
        },
        "id": "7LiurxLymdVS",
        "outputId": "97b0125a-c6e7-4652-eae7-b57d30b964e5"
      },
      "execution_count": null,
      "outputs": [
        {
          "output_type": "execute_result",
          "data": {
            "text/plain": [
              "array(['BH', 'OT', 'Other', 'Pass', 'Rest', 'SS', 'WS'], dtype=object)"
            ]
          },
          "metadata": {},
          "execution_count": 94
        }
      ]
    },
    {
      "cell_type": "code",
      "source": [
        "# This runs 3 different functions from the same 3 dictionaries\n",
        "data_other = {} \n",
        "data_rest = {}\n",
        "for m1,m2,m3 in zip(markers, data_resample, data_biomech):\n",
        "  # Resampling the shooting trials to 400 frames and store them into the 'data_resample' dictionary\n",
        "  resampling_data(m1,m2,m3, 400)\n",
        "  # Creates a tensor of 'Other' from the 'data_biomech' dictionary and swap the axes to the required shape\n",
        "  other = data_biomech[m3][-6000:,:]\n",
        "  data_other[f'{m3}_other'] = create_tensor(other, 400)\n",
        "  # Creates a tensor of 'Rest' from the data_biomech' dictionary and swap the axes to the required shape\n",
        "  rest = data_biomech[m3][(data_biomech[m3][:,-1] == 4)]\n",
        "  rest = rest[0:6000,:]\n",
        "  data_rest[f'{m3}_rest'] = create_tensor(rest,400)"
      ],
      "metadata": {
        "id": "vKApmkrMkUkH"
      },
      "execution_count": null,
      "outputs": []
    },
    {
      "cell_type": "code",
      "source": [
        "# Converting the shots data from the 'data_resample' dictionary into tensor and store it into 'data_tensor' dictionary\n",
        "data_tensor = {}\n",
        "for i in data_resample:\n",
        "  keys = data_resample[i].keys()\n",
        "  t = np.array([data_resample[i][j] for j in keys])\n",
        "  data_tensor[f'{i}_tensor'] = tf.convert_to_tensor(t, dtype = tf.float32)"
      ],
      "metadata": {
        "id": "Koj0HsTctBoN"
      },
      "execution_count": null,
      "outputs": []
    },
    {
      "cell_type": "code",
      "source": [
        "# Regrouping the shots, 'Other' and 'Rest' trials together in the 'data_tensor' dictionary\n",
        "for n1,n2,n3 in zip(data_tensor, data_other, data_rest):\n",
        "  data_tensor[n1] = tf.concat([data_tensor[n1],data_other[n2]], 0)\n",
        "  data_tensor[n1] = tf.concat([data_tensor[n1],data_rest[n3]], 0)"
      ],
      "metadata": {
        "id": "B9xSEKmQyIae"
      },
      "execution_count": null,
      "outputs": []
    },
    {
      "cell_type": "code",
      "source": [
        "# Subject-wise shuffling\n",
        "keys = list(data_tensor.keys())\n",
        "random.seed(10)\n",
        "random.shuffle(keys)\n",
        "\n",
        "Shuffled_data_tensor = dict()\n",
        "for key in keys:\n",
        "    Shuffled_data_tensor.update({key: data_tensor[key]})"
      ],
      "metadata": {
        "id": "qLsPzxDs7zWi"
      },
      "execution_count": null,
      "outputs": []
    },
    {
      "cell_type": "code",
      "source": [
        "# Splitting data and labels in train/test\n",
        "train_values3 = list(Shuffled_data_tensor.values())[0:31]\n",
        "x_train3 = tf.concat(train_values3, axis = 0)\n",
        "X_train3 = x_train3[:,:,:-1].numpy()\n",
        "y_train3 = x_train3[:,0,-1].numpy()\n",
        "\n",
        "test_values3 = list(Shuffled_data_tensor.values())[31:39]\n",
        "x_test3 = tf.concat(test_values3, axis = 0)\n",
        "X_test3 = x_test3[:,:,:-1].numpy()\n",
        "y_test3 = x_test3[:,0,-1].numpy()\n",
        "\n",
        "print(\"X_train:\",X_train3.shape,\n",
        "      \"X_test:\",X_test3.shape,\n",
        "      \"y_train:\",y_train3.shape,\n",
        "      \"y_test:\",y_test3.shape)"
      ],
      "metadata": {
        "colab": {
          "base_uri": "https://localhost:8080/"
        },
        "outputId": "80b66ce7-3897-4780-e77c-c440dd4c13f3",
        "id": "VnCI3efM7zWj"
      },
      "execution_count": null,
      "outputs": [
        {
          "output_type": "stream",
          "name": "stdout",
          "text": [
            "X_train: (2638, 400, 15) X_test: (681, 400, 15) y_train: (2638,) y_test: (681,)\n"
          ]
        }
      ]
    },
    {
      "cell_type": "code",
      "source": [
        "save_pickle('/content/drive/MyDrive/Sam/File_saved/X_test3.pickle',X_test3)\n",
        "save_pickle('/content/drive/MyDrive/Sam/File_saved/X_train3.pickle',X_train3)\n",
        "save_pickle('/content/drive/MyDrive/Sam/File_saved/y_test3.pickle',y_test3)\n",
        "save_pickle('/content/drive/MyDrive/Sam/File_saved/y_train3.pickle',y_train3)"
      ],
      "metadata": {
        "id": "BIpa52YsI1Tr",
        "colab": {
          "base_uri": "https://localhost:8080/"
        },
        "outputId": "b26519e8-6af1-4f80-8ba5-5bb635808932"
      },
      "execution_count": null,
      "outputs": [
        {
          "output_type": "execute_result",
          "data": {
            "text/plain": [
              "<_io.BufferedWriter name='/content/drive/MyDrive/Sam/File_saved/y_train3.pickle'>"
            ]
          },
          "metadata": {},
          "execution_count": 83
        }
      ]
    },
    {
      "cell_type": "markdown",
      "source": [
        "# Method 4 - Reframe to 576 and hands/feet sensor configuration (HFSC)"
      ],
      "metadata": {
        "id": "K4YqlSIA3YpE"
      }
    },
    {
      "cell_type": "code",
      "source": [
        "data = open_pickle('/content/drive/MyDrive/Sam/File_saved/P_dct.pickle')\n",
        "markers = open_pickle('/content/drive/MyDrive/Sam/File_saved/markers_dct.pickle')"
      ],
      "metadata": {
        "id": "MdWqzxFA5PSa"
      },
      "execution_count": null,
      "outputs": []
    },
    {
      "cell_type": "code",
      "source": [
        "# Selecting the sensor configuration\n",
        "data_HFSC = {}\n",
        "for i in data:\n",
        "  data_HFSC[f'{i}_HF'] = data[i].loc[:,('Frame','Right Hand x','Right Hand y','Right Hand z','Left Hand x','Left Hand y','Left Hand z',\n",
        "                                        'Right Foot x','Right Foot y','Right Foot z','Left Foot x','Left Foot y','Left Foot z','Label')]"
      ],
      "metadata": {
        "id": "Pi_pXpdQ5PSb"
      },
      "execution_count": null,
      "outputs": []
    },
    {
      "cell_type": "code",
      "source": [
        "# Preprocess function for method 4 and storing into 'P_processed4' dictionary\n",
        "P_processed4 = {}\n",
        "for l,n in zip(markers, data_HFSC):\n",
        "  P_processed4[f'{n}_processed4'], data_classes4 = Preprocess(markers[l],data_HFSC[n])"
      ],
      "metadata": {
        "id": "lgL9R9aY5PSb"
      },
      "execution_count": null,
      "outputs": []
    },
    {
      "cell_type": "code",
      "source": [
        "data_classes4"
      ],
      "metadata": {
        "colab": {
          "base_uri": "https://localhost:8080/"
        },
        "outputId": "e88b8ac3-5d06-42df-a551-5911db820a56",
        "id": "Luflvhli5PSb"
      },
      "execution_count": null,
      "outputs": [
        {
          "output_type": "execute_result",
          "data": {
            "text/plain": [
              "array(['BH', 'OT', 'Other', 'Pass', 'Rest', 'SS', 'WS'], dtype=object)"
            ]
          },
          "metadata": {},
          "execution_count": 173
        }
      ]
    },
    {
      "cell_type": "code",
      "source": [
        "# Subject-wise shuffling\n",
        "keys = list(P_processed4.keys())\n",
        "random.seed(10)\n",
        "random.shuffle(keys)\n",
        "\n",
        "SuffledP_processed4 = dict()\n",
        "for key in keys:\n",
        "    SuffledP_processed4.update({key: P_processed4[key]})"
      ],
      "metadata": {
        "id": "AfcIuVzu36gk"
      },
      "execution_count": null,
      "outputs": []
    },
    {
      "cell_type": "code",
      "source": [
        "# Splitting data and labels in train/test\n",
        "train_values4 = list(SuffledP_processed4.values())[0:31]\n",
        "x_train4 = tf.concat(train_values4, axis = 0)\n",
        "X_train4 = x_train4[:,:,:-1].numpy()\n",
        "y_train4 = x_train4[:,0,-1].numpy()\n",
        "\n",
        "test_values4 = list(SuffledP_processed4.values())[31:39]\n",
        "x_test4 = tf.concat(test_values4, axis = 0)\n",
        "X_test4 = x_test4[:,:,:-1].numpy()\n",
        "y_test4 = x_test4[:,0,-1].numpy()\n",
        "\n",
        "print(\"X_train:\",X_train4.shape,\n",
        "      \"X_test:\",X_test4.shape,\n",
        "      \"y_train:\",y_train4.shape,\n",
        "      \"y_test:\",y_test4.shape)"
      ],
      "metadata": {
        "colab": {
          "base_uri": "https://localhost:8080/"
        },
        "outputId": "26ce909b-2bca-4d69-bd0f-5f99e797ab73",
        "id": "ucrdZlG036gl"
      },
      "execution_count": null,
      "outputs": [
        {
          "output_type": "stream",
          "name": "stdout",
          "text": [
            "X_train: (2638, 576, 12) X_test: (681, 576, 12) y_train: (2638,) y_test: (681,)\n"
          ]
        }
      ]
    },
    {
      "cell_type": "code",
      "source": [
        "save_pickle('/content/drive/MyDrive/Sam/File_saved/X_test4.pickle',X_test4)\n",
        "save_pickle('/content/drive/MyDrive/Sam/File_saved/X_train4.pickle',X_train4)\n",
        "save_pickle('/content/drive/MyDrive/Sam/File_saved/y_test4.pickle',y_test4)\n",
        "save_pickle('/content/drive/MyDrive/Sam/File_saved/y_train4.pickle',y_train4)"
      ],
      "metadata": {
        "colab": {
          "base_uri": "https://localhost:8080/"
        },
        "outputId": "61a480f4-d5cb-4f39-a5dd-4e64741e963a",
        "id": "xFbhuF4-5PSb"
      },
      "execution_count": null,
      "outputs": [
        {
          "output_type": "execute_result",
          "data": {
            "text/plain": [
              "<_io.BufferedWriter name='/content/drive/MyDrive/Sam/File_saved/y_train4.pickle'>"
            ]
          },
          "metadata": {},
          "execution_count": 67
        }
      ]
    },
    {
      "cell_type": "markdown",
      "source": [
        "# Method 5 - Reframe to 576 and hands sensor configuration (HSC)"
      ],
      "metadata": {
        "id": "7R9euWUI7UaF"
      }
    },
    {
      "cell_type": "code",
      "source": [
        "data = open_pickle('/content/drive/MyDrive/Sam/File_saved/P_dct.pickle')\n",
        "markers = open_pickle('/content/drive/MyDrive/Sam/File_saved/markers_dct.pickle')"
      ],
      "metadata": {
        "id": "yNtCU9nr7k1I"
      },
      "execution_count": null,
      "outputs": []
    },
    {
      "cell_type": "code",
      "source": [
        "# Selecting the sensor configuration\n",
        "data_HSC = {}\n",
        "for i in data:\n",
        "  data_HSC[f'{i}_H'] = data[i].loc[:,('Frame','Right Hand x','Right Hand y','Right Hand z','Left Hand x','Left Hand y','Left Hand z','Label')]"
      ],
      "metadata": {
        "id": "G7L8W1Sh7k1I"
      },
      "execution_count": null,
      "outputs": []
    },
    {
      "cell_type": "code",
      "source": [
        "# Preprocess function for method 5 and storing into 'P_processed5' dictionary\n",
        "P_processed5 = {}\n",
        "for l,n in zip(markers, data_HSC):\n",
        "  P_processed5[f'{n}_processed5'], data_classes5 = Preprocess(markers[l],data_HSC[n])"
      ],
      "metadata": {
        "id": "0VygBrc37k1I"
      },
      "execution_count": null,
      "outputs": []
    },
    {
      "cell_type": "code",
      "source": [
        "data_classes5"
      ],
      "metadata": {
        "colab": {
          "base_uri": "https://localhost:8080/"
        },
        "outputId": "59baf327-e1c9-4399-acd2-8b63fe37ed43",
        "id": "D3rTXoLR7k1I"
      },
      "execution_count": null,
      "outputs": [
        {
          "output_type": "execute_result",
          "data": {
            "text/plain": [
              "array(['BH', 'OT', 'Other', 'Pass', 'Rest', 'SS', 'WS'], dtype=object)"
            ]
          },
          "metadata": {},
          "execution_count": 184
        }
      ]
    },
    {
      "cell_type": "code",
      "source": [
        "# Subject-wise shuffling\n",
        "keys = list(P_processed5.keys())\n",
        "random.seed(10)\n",
        "random.shuffle(keys)\n",
        "\n",
        "SuffledP_processed5 = dict()\n",
        "for key in keys:\n",
        "    SuffledP_processed5.update({key: P_processed5[key]})"
      ],
      "metadata": {
        "id": "njZ8ZaCX4-YD"
      },
      "execution_count": null,
      "outputs": []
    },
    {
      "cell_type": "code",
      "source": [
        "# Splitting data and labels in train/test\n",
        "train_values5 = list(SuffledP_processed5.values())[0:31]\n",
        "x_train5 = tf.concat(train_values5, axis = 0)\n",
        "X_train5 = x_train5[:,:,:-1].numpy()\n",
        "y_train5 = x_train5[:,0,-1].numpy()\n",
        "\n",
        "test_values5 = list(SuffledP_processed5.values())[31:39]\n",
        "x_test5 = tf.concat(test_values5, axis = 0)\n",
        "X_test5 = x_test5[:,:,:-1].numpy()\n",
        "y_test5 = x_test5[:,0,-1].numpy()\n",
        "\n",
        "print(\"X_train:\",X_train5.shape,\n",
        "      \"X_test:\",X_test5.shape,\n",
        "      \"y_train:\",y_train5.shape,\n",
        "      \"y_test:\",y_test5.shape)"
      ],
      "metadata": {
        "colab": {
          "base_uri": "https://localhost:8080/"
        },
        "outputId": "27ef0052-88f2-4cf5-fb69-ac84dcd442d8",
        "id": "X5xW1xTq4-YE"
      },
      "execution_count": null,
      "outputs": [
        {
          "output_type": "stream",
          "name": "stdout",
          "text": [
            "X_train: (2638, 576, 6) X_test: (681, 576, 6) y_train: (2638,) y_test: (681,)\n"
          ]
        }
      ]
    },
    {
      "cell_type": "code",
      "source": [
        "save_pickle('/content/drive/MyDrive/Sam/File_saved/X_test5.pickle',X_test5)\n",
        "save_pickle('/content/drive/MyDrive/Sam/File_saved/X_train5.pickle',X_train5)\n",
        "save_pickle('/content/drive/MyDrive/Sam/File_saved/y_test5.pickle',y_test5)\n",
        "save_pickle('/content/drive/MyDrive/Sam/File_saved/y_train5.pickle',y_train5)"
      ],
      "metadata": {
        "colab": {
          "base_uri": "https://localhost:8080/"
        },
        "outputId": "e8427371-a6f9-4686-d25b-6fe3cb9609bd",
        "id": "kIKyf7c57k1J"
      },
      "execution_count": null,
      "outputs": [
        {
          "output_type": "execute_result",
          "data": {
            "text/plain": [
              "<_io.BufferedWriter name='/content/drive/MyDrive/Sam/File_saved/y_train5.pickle'>"
            ]
          },
          "metadata": {},
          "execution_count": 74
        }
      ]
    },
    {
      "cell_type": "markdown",
      "source": [
        "# Method 6 - Reframe to 576 and hands/feet/torso sensor configuration (HFTSC)"
      ],
      "metadata": {
        "id": "4J9LX73TWllX"
      }
    },
    {
      "cell_type": "code",
      "source": [
        "data = open_pickle('/content/drive/MyDrive/Sam/File_saved/P_dct.pickle')\n",
        "markers = open_pickle('/content/drive/MyDrive/Sam/File_saved/markers_dct.pickle')"
      ],
      "metadata": {
        "id": "lJAspL9dWllX"
      },
      "execution_count": 11,
      "outputs": []
    },
    {
      "cell_type": "code",
      "source": [
        "# Selecting the sensor configuration\n",
        "data_HFTSC = {}\n",
        "for i in data:\n",
        "  data_HFTSC[f'{i}_HFT'] = data[i].loc[:,('Frame','T8 x','T8 y','T8 z','Right Hand x','Right Hand y','Right Hand z','Left Hand x','Left Hand y','Left Hand z',\n",
        "                                         'Right Foot x','Right Foot y','Right Foot z','Left Foot x','Left Foot y','Left Foot z','Label')]"
      ],
      "metadata": {
        "id": "-RmF6eNtWllX"
      },
      "execution_count": 14,
      "outputs": []
    },
    {
      "cell_type": "code",
      "source": [
        "# Preprocess function for method 4 and storing into 'P_processed4' dictionary\n",
        "P_processed6 = {}\n",
        "for l,n in zip(markers, data_HFTSC):\n",
        "  P_processed6[f'{n}_processed6'], data_classes6 = Preprocess(markers[l],data_HFTSC[n])"
      ],
      "metadata": {
        "id": "t7G1yQCHWllX"
      },
      "execution_count": 15,
      "outputs": []
    },
    {
      "cell_type": "code",
      "source": [
        "data_classes6"
      ],
      "metadata": {
        "colab": {
          "base_uri": "https://localhost:8080/"
        },
        "outputId": "eb21be5d-359a-4acf-fe0b-504098b41fd8",
        "id": "lodaN4ZKWllX"
      },
      "execution_count": 16,
      "outputs": [
        {
          "output_type": "execute_result",
          "data": {
            "text/plain": [
              "array(['BH', 'OT', 'Other', 'Pass', 'Rest', 'SS', 'WS'], dtype=object)"
            ]
          },
          "metadata": {},
          "execution_count": 16
        }
      ]
    },
    {
      "cell_type": "code",
      "source": [
        "# Subject-wise shuffling\n",
        "keys = list(P_processed6.keys())\n",
        "random.seed(10)\n",
        "random.shuffle(keys)\n",
        "\n",
        "SuffledP_processed6 = dict()\n",
        "for key in keys:\n",
        "    SuffledP_processed6.update({key: P_processed6[key]})"
      ],
      "metadata": {
        "id": "NSkjdOa4WllY"
      },
      "execution_count": 17,
      "outputs": []
    },
    {
      "cell_type": "code",
      "source": [
        "# Splitting data and labels in train/test\n",
        "train_values6 = list(SuffledP_processed6.values())[0:31]\n",
        "x_train6 = tf.concat(train_values6, axis = 0)\n",
        "X_train6 = x_train6[:,:,:-1].numpy()\n",
        "y_train6 = x_train6[:,0,-1].numpy()\n",
        "\n",
        "test_values6 = list(SuffledP_processed6.values())[31:39]\n",
        "x_test6 = tf.concat(test_values6, axis = 0)\n",
        "X_test6 = x_test6[:,:,:-1].numpy()\n",
        "y_test6 = x_test6[:,0,-1].numpy()\n",
        "\n",
        "print(\"X_train:\",X_train6.shape,\n",
        "      \"X_test:\",X_test6.shape,\n",
        "      \"y_train:\",y_train6.shape,\n",
        "      \"y_test:\",y_test6.shape)"
      ],
      "metadata": {
        "colab": {
          "base_uri": "https://localhost:8080/"
        },
        "outputId": "c5c68a93-d812-495d-96a5-3fea5315b84c",
        "id": "coWo_SJSWllY"
      },
      "execution_count": 18,
      "outputs": [
        {
          "output_type": "stream",
          "name": "stdout",
          "text": [
            "X_train: (2638, 576, 15) X_test: (681, 576, 15) y_train: (2638,) y_test: (681,)\n"
          ]
        }
      ]
    },
    {
      "cell_type": "code",
      "source": [
        "save_pickle('/content/drive/MyDrive/Sam/File_saved/X_test6.pickle',X_test6)\n",
        "save_pickle('/content/drive/MyDrive/Sam/File_saved/X_train6.pickle',X_train6)\n",
        "save_pickle('/content/drive/MyDrive/Sam/File_saved/y_test6.pickle',y_test6)\n",
        "save_pickle('/content/drive/MyDrive/Sam/File_saved/y_train6.pickle',y_train6)"
      ],
      "metadata": {
        "colab": {
          "base_uri": "https://localhost:8080/"
        },
        "outputId": "8c3d1fe5-3769-482d-e99c-a7841d0aa523",
        "id": "gych1ahTWllY"
      },
      "execution_count": 19,
      "outputs": [
        {
          "output_type": "execute_result",
          "data": {
            "text/plain": [
              "<_io.BufferedWriter name='/content/drive/MyDrive/Sam/File_saved/y_train6.pickle'>"
            ]
          },
          "metadata": {},
          "execution_count": 19
        }
      ]
    },
    {
      "cell_type": "markdown",
      "source": [
        "# Method 7 - Reframe to 576 and hands/Torso sensor configuration (HTSC)"
      ],
      "metadata": {
        "id": "IEE7iknSZ2_w"
      }
    },
    {
      "cell_type": "code",
      "source": [
        "data = open_pickle('/content/drive/MyDrive/Sam/File_saved/P_dct.pickle')\n",
        "markers = open_pickle('/content/drive/MyDrive/Sam/File_saved/markers_dct.pickle')"
      ],
      "metadata": {
        "id": "WKY8p_Y-Z2_4"
      },
      "execution_count": null,
      "outputs": []
    },
    {
      "cell_type": "code",
      "source": [
        "# Selecting the sensor configuration\n",
        "data_HTSC = {}\n",
        "for i in data:\n",
        "  data_HTSC[f'{i}_HT'] = data[i].loc[:,('Frame','T8 x','T8 y','T8 z','Right Hand x','Right Hand y','Right Hand z','Left Hand x','Left Hand y','Left Hand z',\n",
        "                                        'Label')]"
      ],
      "metadata": {
        "id": "hvnwj-aIZ2_4"
      },
      "execution_count": 20,
      "outputs": []
    },
    {
      "cell_type": "code",
      "source": [
        "# Preprocess function for method 4 and storing into 'P_processed4' dictionary\n",
        "P_processed7 = {}\n",
        "for l,n in zip(markers, data_HTSC):\n",
        "  P_processed7[f'{n}_processed7'], data_classes7 = Preprocess(markers[l],data_HTSC[n])"
      ],
      "metadata": {
        "id": "cQX5RCrEZ2_4"
      },
      "execution_count": 21,
      "outputs": []
    },
    {
      "cell_type": "code",
      "source": [
        "data_classes7"
      ],
      "metadata": {
        "colab": {
          "base_uri": "https://localhost:8080/"
        },
        "outputId": "4aea3882-d71b-4b70-beca-050e4061fb95",
        "id": "LM_WKG9AZ2_4"
      },
      "execution_count": 22,
      "outputs": [
        {
          "output_type": "execute_result",
          "data": {
            "text/plain": [
              "array(['BH', 'OT', 'Other', 'Pass', 'Rest', 'SS', 'WS'], dtype=object)"
            ]
          },
          "metadata": {},
          "execution_count": 22
        }
      ]
    },
    {
      "cell_type": "code",
      "source": [
        "# Subject-wise shuffling\n",
        "keys = list(P_processed7.keys())\n",
        "random.seed(10)\n",
        "random.shuffle(keys)\n",
        "\n",
        "SuffledP_processed7 = dict()\n",
        "for key in keys:\n",
        "    SuffledP_processed7.update({key: P_processed7[key]})"
      ],
      "metadata": {
        "id": "2Q45I1UhZ2_5"
      },
      "execution_count": 23,
      "outputs": []
    },
    {
      "cell_type": "code",
      "source": [
        "# Splitting data and labels in train/test\n",
        "train_values7 = list(SuffledP_processed7.values())[0:31]\n",
        "x_train7 = tf.concat(train_values7, axis = 0)\n",
        "X_train7 = x_train7[:,:,:-1].numpy()\n",
        "y_train7 = x_train7[:,0,-1].numpy()\n",
        "\n",
        "test_values7 = list(SuffledP_processed7.values())[31:39]\n",
        "x_test7 = tf.concat(test_values7, axis = 0)\n",
        "X_test7 = x_test7[:,:,:-1].numpy()\n",
        "y_test7 = x_test7[:,0,-1].numpy()\n",
        "\n",
        "print(\"X_train:\",X_train7.shape,\n",
        "      \"X_test:\",X_test7.shape,\n",
        "      \"y_train:\",y_train7.shape,\n",
        "      \"y_test:\",y_test7.shape)"
      ],
      "metadata": {
        "colab": {
          "base_uri": "https://localhost:8080/"
        },
        "outputId": "523f2a85-aabf-4520-b622-a5f6ba6cc4d3",
        "id": "8azYc1qHZ2_5"
      },
      "execution_count": 24,
      "outputs": [
        {
          "output_type": "stream",
          "name": "stdout",
          "text": [
            "X_train: (2638, 576, 9) X_test: (681, 576, 9) y_train: (2638,) y_test: (681,)\n"
          ]
        }
      ]
    },
    {
      "cell_type": "code",
      "source": [
        "save_pickle('/content/drive/MyDrive/Sam/File_saved/X_test7.pickle',X_test7)\n",
        "save_pickle('/content/drive/MyDrive/Sam/File_saved/X_train7.pickle',X_train7)\n",
        "save_pickle('/content/drive/MyDrive/Sam/File_saved/y_test7.pickle',y_test7)\n",
        "save_pickle('/content/drive/MyDrive/Sam/File_saved/y_train7.pickle',y_train7)"
      ],
      "metadata": {
        "colab": {
          "base_uri": "https://localhost:8080/"
        },
        "outputId": "7ee40a8e-c3f5-4b45-9ac2-a8ab2a228398",
        "id": "qF-b_sflZ2_5"
      },
      "execution_count": 25,
      "outputs": [
        {
          "output_type": "execute_result",
          "data": {
            "text/plain": [
              "<_io.BufferedWriter name='/content/drive/MyDrive/Sam/File_saved/y_train7.pickle'>"
            ]
          },
          "metadata": {},
          "execution_count": 25
        }
      ]
    }
  ]
}