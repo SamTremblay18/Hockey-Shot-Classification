{
  "nbformat": 4,
  "nbformat_minor": 0,
  "metadata": {
    "colab": {
      "name": "1 - Preprocessing + CNN.ipynb",
      "provenance": [],
      "collapsed_sections": [
        "2kIGB3Np_xWf",
        "0aSMDkLrPJt1",
        "5ZvfR0vwtcVK",
        "GGyhkmIBxdn_",
        "g06VHCfZxld_"
      ],
      "machine_shape": "hm",
      "authorship_tag": "ABX9TyPHjFR4/+ALwU3D02qFaGUT",
      "include_colab_link": true
    },
    "kernelspec": {
      "name": "python3",
      "display_name": "Python 3"
    },
    "language_info": {
      "name": "python"
    },
    "accelerator": "GPU"
  },
  "cells": [
    {
      "cell_type": "markdown",
      "metadata": {
        "id": "view-in-github",
        "colab_type": "text"
      },
      "source": [
        "<a href=\"https://colab.research.google.com/github/SamTremblay18/Hockey-Shot-Classification/blob/main/1_Preprocessing_%2B_CNN.ipynb\" target=\"_parent\"><img src=\"https://colab.research.google.com/assets/colab-badge.svg\" alt=\"Open In Colab\"/></a>"
      ]
    },
    {
      "cell_type": "markdown",
      "source": [
        "# 🟢  Importing Libraries "
      ],
      "metadata": {
        "id": "2kIGB3Np_xWf"
      }
    },
    {
      "cell_type": "code",
      "execution_count": 1,
      "metadata": {
        "id": "o8N8YlkOUnBb",
        "colab": {
          "base_uri": "https://localhost:8080/"
        },
        "outputId": "1c887e4b-4d7b-490d-8476-275bb56d52be"
      },
      "outputs": [
        {
          "output_type": "stream",
          "name": "stdout",
          "text": [
            "Mounted at /content/drive\n"
          ]
        }
      ],
      "source": [
        "import pandas as pd\n",
        "import numpy as np\n",
        "import tensorflow as tf\n",
        "import random\n",
        "import torch\n",
        "from google.colab import drive \n",
        "drive.mount('/content/drive')\n",
        "import pickle\n",
        "from sklearn.preprocessing import LabelEncoder\n",
        "import matplotlib.pyplot as plt\n",
        "\n",
        "from keras import layers \n",
        "from keras import models\n",
        "from sklearn.model_selection import train_test_split\n",
        "from keras import regularizers\n",
        "\n",
        "from sklearn.model_selection import KFold\n",
        "from tensorflow.keras.models import Sequential\n",
        "from tensorflow.keras.layers import Dense, Flatten, Conv1D, MaxPooling1D\n",
        "from tensorflow.keras.optimizers import Adam\n",
        "from tensorflow.keras.optimizers import SGD\n",
        "from tensorflow.keras.optimizers import RMSprop\n",
        "\n",
        "\n",
        "from sklearn.model_selection import GridSearchCV\n",
        "from keras.wrappers.scikit_learn import KerasClassifier"
      ]
    },
    {
      "cell_type": "markdown",
      "source": [
        "# 🟢 Functions"
      ],
      "metadata": {
        "id": "PxkV24zl_pbq"
      }
    },
    {
      "cell_type": "code",
      "source": [
        "#~~~~~~~~~~~~~~~~~~~~~ Function to load the acceleration and markers sheet from the Xsens excel file ~~~~~~~~~~~~~~~~~~~~~\n",
        "\n",
        "def load_data(fpath):\n",
        "  P_acc = pd.read_excel(fpath,sheet_name='Sensor Free Acceleration',  usecols = 'A,B,C,D,N,O,P,T,U,V,W,X,Y,Z,AA,AB,AC,AD,AE,AF,AG,AH,AI,AJ,AK,AL,AM,AN,AO,AP,AQ,AR,AS,AT,AU,AV,AW,AX,AY,AZ,BA,BB,BC,BG,BH,BI,BJ,BK,BL,BM,BN,BO,BS')\n",
        "  P_markers = pd.read_excel(fpath,sheet_name='Markers',  usecols ='B,C,D')\n",
        "  \n",
        "  return P_acc, P_markers\n",
        "\n",
        "#~~~~~~~~~~~~~~~~~~~~~ Function to regroup all the Pre, SH and post task together ~~~~~~~~~~~~~~~~~~~~~\n",
        "\n",
        "def regroup_other(P_markers,P_acc):\n",
        "  for i in range(0,len(P_markers.iloc[:,0])):\n",
        "    \n",
        "    length_trial = P_markers.iloc[i,2] # Frame length of a trial\n",
        "    start_trial = P_markers.iloc[i,0]\n",
        "   \n",
        "    if P_markers.iloc[i,1] == 'Pre' or P_markers.iloc[i,1] == 'SH' or P_markers.iloc[i,1] == 'post':\n",
        "      P_acc.loc[(start_trial):(start_trial)+((length_trial)-1),'Label'] = 'Other'\n",
        "\n",
        "  return P_acc\n",
        "\n",
        "#~~~~~~~~~~~~~~~~~~~~~ Function to put the shooting trials all the same frame length ~~~~~~~~~~~~~~~~~~~~~\n",
        "\n",
        "def reframe(P_markers,P_acc):\n",
        "  for i in range(0,len(P_markers.iloc[:,0])):\n",
        "\n",
        "    length_trial = P_markers.iloc[i,2]\n",
        "    start_trial = P_markers.iloc[i,0]\n",
        "    type_shot = P_markers.iloc[i,1]\n",
        "\n",
        "    if P_markers.iloc[i,1] == 'BH' or P_markers.iloc[i,1] == 'Pass' or P_markers.iloc[i,1] == 'SS' or P_markers.iloc[i,1] == 'WS' or P_markers.iloc[i,1] == 'OT':\n",
        "        diff = int(576-length_trial) # Identifying how many frames are missing to have a length of 576\n",
        "        P_acc.iloc[int(start_trial)-diff:int(start_trial)+int(length_trial),52] = type_shot # Adding the new labels to the 'Label' column\n",
        "\n",
        "  return P_acc\n",
        "\n",
        "#~~~~~~~~~~~~~~~~~~~~~ Function to save the dataframe into a pickle file ~~~~~~~~~~~~~~~~~~~~~\n",
        "\n",
        "def save_pickle(path_pickle,P):\n",
        "  f = open(path_pickle, 'wb')\n",
        "  pickle.dump(P, f)\n",
        "  f.close()\n",
        "\n",
        "  return f \n",
        "\n",
        "#~~~~~~~~~~~~~~~~~~~~~ Function to open the dataframe from the pickle file ~~~~~~~~~~~~~~~~~~~~~\n",
        "\n",
        "def open_pickle(path_pickle):\n",
        "  f = open(path_pickle, 'rb')\n",
        "  P = pickle.load(f)\n",
        "  f.close()\n",
        "\n",
        "  return P\n",
        "\n",
        "#~~~~~~~~~~~~~~~~~~~~~ Function to encode the labels ~~~~~~~~~~~~~~~~~~~~~\n",
        "\n",
        "def label_encoder(P_acc):\n",
        "  le = LabelEncoder()\n",
        "  P_acc['Label'] = le.fit_transform(P_acc['Label'])\n",
        "\n",
        "  return P_acc\n",
        "\n",
        "#~~~~~~~~~~~~~~~~~~~~~ Function to standardize the dataframe ~~~~~~~~~~~~~~~~~~~~~\n",
        "\n",
        "def P_standardize(P_acc):\n",
        "  P_acc_stand_all = pd.DataFrame()\n",
        "  for i in range(1, 52):\n",
        "    mu = np.mean(P_acc.iloc[:,i],axis = 0)\n",
        "    sigma = np.std(P_acc.iloc[:,i],axis = 0)\n",
        "    P_acc_stand = (P_acc.iloc[:,i] - mu)/sigma\n",
        "    P_acc_stand_all = pd.concat([P_acc_stand_all, P_acc_stand],axis=1)\n",
        "  P_acc_stand_all = pd.concat([P_acc_stand_all, P_acc.iloc[:,52]],axis=1)\n",
        "    \n",
        "  return P_acc_stand_all \n",
        "\n",
        "#~~~~~~~~~~~~~~~~~~~~~ Function to create tensors of shape 576 ~~~~~~~~~~~~~~~~~~~~~\n",
        "\n",
        "def create_tensor(P_acc):\n",
        "  trials_length = len(P_acc)/576\n",
        "  T = np.stack(np.split(P_acc.values, trials_length), axis=1)\n",
        "  Tensors = tf.constant(T.astype('float32'))\n",
        "\n",
        "  return Tensors\n",
        "\n",
        "#~~~~~~~~~~~~~~~~~~~~~ Function to create 15 trials of 'Other' ~~~~~~~~~~~~~~~~~~~~~\n",
        "\n",
        "def other_class(P_other):\n",
        "  num_list = random.sample(range(0,len(P_other),576),15)\n",
        "  Other_all = pd.DataFrame()\n",
        "  for i in num_list:\n",
        "    other = P_other.iloc[i:(i+576),:]\n",
        "    Other_all = pd.concat([Other_all, other], ignore_index = True)\n",
        "\n",
        "  return Other_all\n",
        "\n",
        "#~~~~~~~~~~~~~~~~~~~~~ Function that runs all the preprocessing steps ~~~~~~~~~~~~~~~~~~~~~\n",
        "\n",
        "def Preprocess(P_markers, P_acc):\n",
        "  P_data = regroup_other(P_markers,P_acc)\n",
        "  P_data = reframe(P_markers,P_data)\n",
        "  P_other = P_data[(P_data['Label'] == 'Other')]\n",
        "  P_other_all = other_class(P_other)\n",
        "  P_data = P_data.drop(P_data[(P_data['Label'] == 'Do not use')].index)\n",
        "  P_data = P_data.drop(P_data[(P_data['Label'] == 'Other')].index)\n",
        "  P_data = pd.concat([P_data, P_other_all], ignore_index = True)\n",
        "  P_data = P_standardize(P_data)\n",
        "  P_data = label_encoder(P_data)\n",
        "  P_data = create_tensor(P_data)\n",
        "  \n",
        "  return P_data\n",
        "\n"
      ],
      "metadata": {
        "id": "mciqrWfLU0YY",
        "cellView": "code"
      },
      "execution_count": 2,
      "outputs": []
    },
    {
      "cell_type": "code",
      "source": [
        "#~~~~~~~~~~~~~~~~~~~~~ Function to shuffle the tensors ~~~~~~~~~~~~~~~~~~~~~\n",
        "def tf_shuffle_axis(value, axis=0, seed=None):\n",
        "    perm = list(range(tf.rank(value)))\n",
        "    perm[axis], perm[0] = perm[0], perm[axis]\n",
        "    value = tf.random.shuffle(tf.transpose(value, perm=perm))\n",
        "    value = tf.transpose(value, perm=perm)\n",
        "    return value\n",
        "\n",
        "#~~~~~~~~~~~~~~~~~~~~~ CNN model ~~~~~~~~~~~~~~~~~~~~~\n",
        "\n",
        "def make_model_1D(input_size,filter_numb1,filter_numb2,filter_numb3,kernel_size,pool_size,opt):\n",
        "    #Instantiating convnet\n",
        "    model = models.Sequential()\n",
        "    #filter size: 32, kernel of 3, input shape without the batch_size (one trial), padding= with zero padding\n",
        "    model.add(layers.Conv1D(filter_numb1, kernel_size,activation='relu', input_shape=(input_size),padding='same')) \n",
        "\n",
        "    model.add(layers.MaxPooling1D(pool_size))\n",
        "    model.add(layers.Conv1D(filter_numb2, kernel_size,activation='relu',padding='same'))\n",
        "    model.add(layers.Conv1D(filter_numb2, kernel_size,activation='relu',padding='same'))\n",
        "    # model.summary()\n",
        "\n",
        "    #Adding a classifier on top of the convnet\n",
        "    model.add(layers.Flatten()) \n",
        "    model.add(layers.Dense(filter_numb3, activation='relu')) \n",
        "    model.add(layers.Dense(7, activation='softmax')) \n",
        "    # model.summary()\n",
        "\n",
        "    model.compile(optimizer = opt, loss='sparse_categorical_crossentropy', metrics=['accuracy']) \n",
        "    return model "
      ],
      "metadata": {
        "id": "JyuOCPahmQjE"
      },
      "execution_count": 3,
      "outputs": []
    },
    {
      "cell_type": "markdown",
      "source": [
        "#  🛑 Opening participants' dataset and pickle saving"
      ],
      "metadata": {
        "id": "0aSMDkLrPJt1"
      }
    },
    {
      "cell_type": "code",
      "source": [
        "# P01\n",
        "P01_acc, P01_markers = load_data('/content/drive/MyDrive/Sam/Labelled Data/P01_SensFreeAcc.xlsx')\n",
        "f1_acc = save_pickle('/content/drive/MyDrive/Sam/File_saved/P01_acc.pickle',P01_acc)\n",
        "f1_markers = save_pickle('/content/drive/MyDrive/Sam/File_saved/P01_markers.pickle',P01_markers)\n",
        "# P02\n",
        "P02_acc, P02_markers = load_data('/content/drive/MyDrive/Sam/Labelled Data/P02_SensFreeAcc.xlsx')\n",
        "f2_acc = save_pickle('/content/drive/MyDrive/Sam/File_saved/P02_acc.pickle',P02_acc)\n",
        "f2_markers = save_pickle('/content/drive/MyDrive/Sam/File_saved/P02_markers.pickle',P02_markers)\n",
        "# P03\n",
        "P03_acc, P03_markers = load_data('/content/drive/MyDrive/Sam/Labelled Data/P03_SensFreeAcc.xlsx')\n",
        "f3_acc = save_pickle('/content/drive/MyDrive/Sam/File_saved/P03_acc.pickle',P03_acc)\n",
        "f3_markers = save_pickle('/content/drive/MyDrive/Sam/File_saved/P03_markers.pickle',P03_markers)\n",
        "# P04\n",
        "P04_acc, P04_markers = load_data('/content/drive/MyDrive/Sam/Labelled Data/P04_SensFreeAcc.xlsx')\n",
        "f4_acc = save_pickle('/content/drive/MyDrive/Sam/File_saved/P04_acc.pickle',P04_acc)\n",
        "f4_markers = save_pickle('/content/drive/MyDrive/Sam/File_saved/P04_markers.pickle',P04_markers)\n",
        "# P05\n",
        "P05_acc, P05_markers = load_data('/content/drive/MyDrive/Sam/Labelled Data/P05_SensFreeAcc.xlsx')\n",
        "f5_acc = save_pickle('/content/drive/MyDrive/Sam/File_saved/P05_acc.pickle',P05_acc)\n",
        "f5_markers = save_pickle('/content/drive/MyDrive/Sam/File_saved/P05_markers.pickle',P05_markers)\n",
        "# P07\n",
        "P07_acc, P07_markers = load_data('/content/drive/MyDrive/Sam/Labelled Data/P07_SensFreeAcc.xlsx')\n",
        "f7_acc = save_pickle('/content/drive/MyDrive/Sam/File_saved/P07_acc.pickle',P07_acc)\n",
        "f7_markers = save_pickle('/content/drive/MyDrive/Sam/File_saved/P07_markers.pickle',P07_markers)\n",
        "# P08\n",
        "P08_acc, P08_markers = load_data('/content/drive/MyDrive/Sam/Labelled Data/P08_SensFreeAcc.xlsx')\n",
        "f8_acc = save_pickle('/content/drive/MyDrive/Sam/File_saved/P08_acc.pickle',P08_acc)\n",
        "f8_markers = save_pickle('/content/drive/MyDrive/Sam/File_saved/P08_markers.pickle',P08_markers)\n",
        "# P09\n",
        "P09_acc, P09_markers = load_data('/content/drive/MyDrive/Sam/Labelled Data/P09_SensFreeAcc.xlsx')\n",
        "f9_acc = save_pickle('/content/drive/MyDrive/Sam/File_saved/P09_acc.pickle',P09_acc)\n",
        "f9_markers = save_pickle('/content/drive/MyDrive/Sam/File_saved/P09_markers.pickle',P09_markers)\n",
        "# P10\n",
        "P10_acc, P10_markers = load_data('/content/drive/MyDrive/Sam/Labelled Data/P10_SensFreeAcc.xlsx')\n",
        "f10_acc = save_pickle('/content/drive/MyDrive/Sam/File_saved/P10_acc.pickle',P10_acc)\n",
        "f10_markers = save_pickle('/content/drive/MyDrive/Sam/File_saved/P10_markers.pickle',P10_markers)\n",
        "# P11\n",
        "P11_acc, P11_markers = load_data('/content/drive/MyDrive/Sam/Labelled Data/P11_SensFreeAcc.xlsx')\n",
        "f11_acc = save_pickle('/content/drive/MyDrive/Sam/File_saved/P11_acc.pickle',P11_acc)\n",
        "f11_markers = save_pickle('/content/drive/MyDrive/Sam/File_saved/P11_markers.pickle',P11_markers)\n",
        "# P12\n",
        "P12_acc, P12_markers = load_data('/content/drive/MyDrive/Sam/Labelled Data/P12_SensFreeAcc.xlsx')\n",
        "f12_acc = save_pickle('/content/drive/MyDrive/Sam/File_saved/P12_acc.pickle',P12_acc)\n",
        "f12_markers = save_pickle('/content/drive/MyDrive/Sam/File_saved/P12_markers.pickle',P12_markers)\n",
        "# P13\n",
        "P13_acc, P13_markers = load_data('/content/drive/MyDrive/Sam/Labelled Data/P13_SensFreeAcc.xlsx')\n",
        "f13_acc = save_pickle('/content/drive/MyDrive/Sam/File_saved/P13_acc.pickle',P13_acc)\n",
        "f13_markers = save_pickle('/content/drive/MyDrive/Sam/File_saved/P13_markers.pickle',P13_markers)\n",
        "# P14\n",
        "P14_acc, P14_markers = load_data('/content/drive/MyDrive/Sam/Labelled Data/P14_SensFreeAcc.xlsx')\n",
        "f14_acc = save_pickle('/content/drive/MyDrive/Sam/File_saved/P14_acc.pickle',P14_acc)\n",
        "f14_markers = save_pickle('/content/drive/MyDrive/Sam/File_saved/P14_markers.pickle',P14_markers)\n",
        "# P15\n",
        "P15_acc, P15_markers = load_data('/content/drive/MyDrive/Sam/Labelled Data/P15_SensFreeAcc.xlsx')\n",
        "f15_acc = save_pickle('/content/drive/MyDrive/Sam/File_saved/P15_acc.pickle',P15_acc)\n",
        "f15_markers = save_pickle('/content/drive/MyDrive/Sam/File_saved/P15_markers.pickle',P15_markers)\n",
        "# 16\n",
        "P16_acc, P16_markers = load_data('/content/drive/MyDrive/Sam/Labelled Data/P16_SensFreeAcc.xlsx')\n",
        "f16_acc = save_pickle('/content/drive/MyDrive/Sam/File_saved/P16_acc.pickle',P16_acc)\n",
        "f16_markers = save_pickle('/content/drive/MyDrive/Sam/File_saved/P16_markers.pickle',P16_markers)\n",
        "# P17\n",
        "P17_acc, P17_markers = load_data('/content/drive/MyDrive/Sam/Labelled Data/P17_SensFreeAcc.xlsx')\n",
        "f17_acc = save_pickle('/content/drive/MyDrive/Sam/File_saved/P17_acc.pickle',P17_acc)\n",
        "f17_markers = save_pickle('/content/drive/MyDrive/Sam/File_saved/P17_markers.pickle',P17_markers)\n",
        "# P19\n",
        "P19_acc, P19_markers = load_data('/content/drive/MyDrive/Sam/Labelled Data/P19_SensFreeAcc.xlsx')\n",
        "f19_acc = save_pickle('/content/drive/MyDrive/Sam/File_saved/P19_acc.pickle',P19_acc)\n",
        "f19_markers = save_pickle('/content/drive/MyDrive/Sam/File_saved/P19_markers.pickle',P19_markers)\n",
        "# P20\n",
        "P20_acc, P20_markers = load_data('/content/drive/MyDrive/Sam/Labelled Data/P20_SensFreeAcc.xlsx')\n",
        "f20_acc = save_pickle('/content/drive/MyDrive/Sam/File_saved/P20_acc.pickle',P20_acc)\n",
        "f20_markers = save_pickle('/content/drive/MyDrive/Sam/File_saved/P20_markers.pickle',P20_markers)\n",
        "# P21\n",
        "P21_acc, P21_markers = load_data('/content/drive/MyDrive/Sam/Labelled Data/P21_SensFreeAcc.xlsx')\n",
        "f21_acc = save_pickle('/content/drive/MyDrive/Sam/File_saved/P21_acc.pickle',P21_acc)\n",
        "f21_markers = save_pickle('/content/drive/MyDrive/Sam/File_saved/P21_markers.pickle',P21_markers)\n",
        "# P22\n",
        "P22_acc, P22_markers = load_data('/content/drive/MyDrive/Sam/Labelled Data/P22_SensFreeAcc.xlsx')\n",
        "f22_acc = save_pickle('/content/drive/MyDrive/Sam/File_saved/P22_acc.pickle',P22_acc)\n",
        "f22_markers = save_pickle('/content/drive/MyDrive/Sam/File_saved/P22_markers.pickle',P22_markers)\n",
        "# P23\n",
        "P23_acc, P23_markers = load_data('/content/drive/MyDrive/Sam/Labelled Data/P23_SensFreeAcc.xlsx')\n",
        "f23_acc = save_pickle('/content/drive/MyDrive/Sam/File_saved/P23_acc.pickle',P23_acc)\n",
        "f23_markers = save_pickle('/content/drive/MyDrive/Sam/File_saved/P23_markers.pickle',P23_markers)\n",
        "# P24\n",
        "P24_acc, P24_markers = load_data('/content/drive/MyDrive/Sam/Labelled Data/P24_SensFreeAcc.xlsx')\n",
        "f24_acc = save_pickle('/content/drive/MyDrive/Sam/File_saved/P24_acc.pickle',P24_acc)\n",
        "f24_markers = save_pickle('/content/drive/MyDrive/Sam/File_saved/P24_markers.pickle',P24_markers)\n",
        "# P25\n",
        "P25_acc, P25_markers = load_data('/content/drive/MyDrive/Sam/Labelled Data/P25_SensFreeAcc.xlsx')\n",
        "f25_acc = save_pickle('/content/drive/MyDrive/Sam/File_saved/P25_acc.pickle',P25_acc)\n",
        "f25_markers = save_pickle('/content/drive/MyDrive/Sam/File_saved/P25_markers.pickle',P25_markers)\n",
        "# P27\n",
        "P27_acc, P27_markers = load_data('/content/drive/MyDrive/Sam/Labelled Data/P27_SensFreeAcc.xlsx')\n",
        "f27_acc = save_pickle('/content/drive/MyDrive/Sam/File_saved/P27_acc.pickle',P27_acc)\n",
        "f27_markers = save_pickle('/content/drive/MyDrive/Sam/File_saved/P27_markers.pickle',P27_markers)\n",
        "# P28\n",
        "P28_acc, P28_markers = load_data('/content/drive/MyDrive/Sam/Labelled Data/P28_SensFreeAcc.xlsx')\n",
        "f28_acc = save_pickle('/content/drive/MyDrive/Sam/File_saved/P28_acc.pickle',P28_acc)\n",
        "f28_markers = save_pickle('/content/drive/MyDrive/Sam/File_saved/P28_markers.pickle',P28_markers)\n",
        "# P29\n",
        "P29_acc, P29_markers = load_data('/content/drive/MyDrive/Sam/Labelled Data/P29_SensFreeAcc.xlsx')\n",
        "f29_acc = save_pickle('/content/drive/MyDrive/Sam/File_saved/P29_acc.pickle',P29_acc)\n",
        "f29_markers = save_pickle('/content/drive/MyDrive/Sam/File_saved/P29_markers.pickle',P29_markers)\n",
        "# P32\n",
        "P32_acc, P32_markers = load_data('/content/drive/MyDrive/Sam/Labelled Data/P32_SensFreeAcc.xlsx')\n",
        "f32_acc = save_pickle('/content/drive/MyDrive/Sam/File_saved/P32_acc.pickle',P32_acc)\n",
        "f32_markers = save_pickle('/content/drive/MyDrive/Sam/File_saved/P32_markers.pickle',P32_markers)\n",
        "# P33\n",
        "P33_acc, P33_markers = load_data('/content/drive/MyDrive/Sam/Labelled Data/P33_SensFreeAcc.xlsx')\n",
        "f33_acc = save_pickle('/content/drive/MyDrive/Sam/File_saved/P33_acc.pickle',P33_acc)\n",
        "f33_markers = save_pickle('/content/drive/MyDrive/Sam/File_saved/P33_markers.pickle',P33_markers)\n",
        "# P34\n",
        "P34_acc, P34_markers = load_data('/content/drive/MyDrive/Sam/Labelled Data/P34_SensFreeAcc.xlsx')\n",
        "f34_acc = save_pickle('/content/drive/MyDrive/Sam/File_saved/P34_acc.pickle',P34_acc)\n",
        "f34_markers = save_pickle('/content/drive/MyDrive/Sam/File_saved/P34_markers.pickle',P34_markers)\n",
        "# P36\n",
        "P36_acc, P36_markers = load_data('/content/drive/MyDrive/Sam/Labelled Data/P36_SensFreeAcc.xlsx')\n",
        "f36_acc = save_pickle('/content/drive/MyDrive/Sam/File_saved/P36_acc.pickle',P36_acc)\n",
        "f36_markers = save_pickle('/content/drive/MyDrive/Sam/File_saved/P36_markers.pickle',P36_markers)\n",
        "# P37\n",
        "P37_acc, P37_markers = load_data('/content/drive/MyDrive/Sam/Labelled Data/P37_SensFreeAcc.xlsx')\n",
        "f37_acc = save_pickle('/content/drive/MyDrive/Sam/File_saved/P37_acc.pickle',P37_acc)\n",
        "f37_markers = save_pickle('/content/drive/MyDrive/Sam/File_saved/P37_markers.pickle',P37_markers)\n",
        "# 39\n",
        "P39_acc, P39_markers = load_data('/content/drive/MyDrive/Sam/Labelled Data/P39_SensFreeAcc.xlsx')\n",
        "f39_acc = save_pickle('/content/drive/MyDrive/Sam/File_saved/P39_acc.pickle',P39_acc)\n",
        "f39_markers = save_pickle('/content/drive/MyDrive/Sam/File_saved/P39_markers.pickle',P39_markers)\n",
        "# P40\n",
        "P40_acc, P40_markers = load_data('/content/drive/MyDrive/Sam/Labelled Data/P40_SensFreeAcc.xlsx')\n",
        "f40_acc = save_pickle('/content/drive/MyDrive/Sam/File_saved/P40_acc.pickle',P40_acc)\n",
        "f40_markers = save_pickle('/content/drive/MyDrive/Sam/File_saved/P40_markers.pickle',P40_markers)\n",
        "# P41\n",
        "P41_acc, P41_markers = load_data('/content/drive/MyDrive/Sam/Labelled Data/P41_SensFreeAcc.xlsx')\n",
        "f41_acc = save_pickle('/content/drive/MyDrive/Sam/File_saved/P41_acc.pickle',P41_acc)\n",
        "f41_markers = save_pickle('/content/drive/MyDrive/Sam/File_saved/P41_markers.pickle',P41_markers)\n",
        "# P42\n",
        "P42_acc, P42_markers = load_data('/content/drive/MyDrive/Sam/Labelled Data/P42_SensFreeAcc.xlsx')\n",
        "f42_acc = save_pickle('/content/drive/MyDrive/Sam/File_saved/P42_acc.pickle',P42_acc)\n",
        "f42_markers = save_pickle('/content/drive/MyDrive/Sam/File_saved/P42_markers.pickle',P42_markers)\n",
        "# P43\n",
        "P43_acc, P43_markers = load_data('/content/drive/MyDrive/Sam/Labelled Data/P43_SensFreeAcc.xlsx')\n",
        "f43_acc = save_pickle('/content/drive/MyDrive/Sam/File_saved/P43_acc.pickle',P43_acc)\n",
        "f43_markers = save_pickle('/content/drive/MyDrive/Sam/File_saved/P43_markers.pickle',P43_markers)"
      ],
      "metadata": {
        "id": "nVlUp_Vddnkk"
      },
      "execution_count": null,
      "outputs": []
    },
    {
      "cell_type": "code",
      "source": [
        "# P26\n",
        "P26_acc, P26_markers = load_data('/content/drive/MyDrive/Sam/Labelled Data/P26_SensFreeAcc.xlsx')\n",
        "f26_acc = save_pickle('/content/drive/MyDrive/Sam/File_saved/P26_acc.pickle',P26_acc)\n",
        "f26_markers = save_pickle('/content/drive/MyDrive/Sam/File_saved/P26_markers.pickle',P26_markers)\n",
        "# P35\n",
        "P35_acc, P35_markers = load_data('/content/drive/MyDrive/Sam/Labelled Data/P35_SensFreeAcc.xlsx')\n",
        "f35_acc = save_pickle('/content/drive/MyDrive/Sam/File_saved/P35_acc.pickle',P35_acc)\n",
        "f35_markers = save_pickle('/content/drive/MyDrive/Sam/File_saved/P35_markers.pickle',P35_markers)"
      ],
      "metadata": {
        "id": "uXoVNdPz7sb0"
      },
      "execution_count": null,
      "outputs": []
    },
    {
      "cell_type": "code",
      "source": [
        "# P18\n",
        "P18_acc, P18_markers = load_data('/content/drive/MyDrive/Sam/Labelled Data/P18_SensFreeAcc.xlsx')\n",
        "f18_acc = save_pickle('/content/drive/MyDrive/Sam/File_saved/P18_acc.pickle',P18_acc)\n",
        "f18_markers = save_pickle('/content/drive/MyDrive/Sam/File_saved/P18_markers.pickle',P18_markers)"
      ],
      "metadata": {
        "id": "3OhTP4A170mu"
      },
      "execution_count": null,
      "outputs": []
    },
    {
      "cell_type": "markdown",
      "source": [
        "# 🛑 Preprocessing each participants\n"
      ],
      "metadata": {
        "id": "5ZvfR0vwtcVK"
      }
    },
    {
      "cell_type": "code",
      "source": [
        "# P01\n",
        "P01_acc = open_pickle('/content/drive/MyDrive/Sam/File_saved/P01_acc.pickle')\n",
        "P01_markers = open_pickle('/content/drive/MyDrive/Sam/File_saved/P01_markers.pickle')\n",
        "P01 = Preprocess(P01_markers,P01_acc)\n",
        "f1 = save_pickle('/content/drive/MyDrive/Sam/File_saved/P01.pickle',P01)\n",
        "# P02\n",
        "P02_acc = open_pickle('/content/drive/MyDrive/Sam/File_saved/P02_acc.pickle')\n",
        "P02_markers = open_pickle('/content/drive/MyDrive/Sam/File_saved/P02_markers.pickle')\n",
        "P02 = Preprocess(P02_markers,P02_acc)\n",
        "f2 = save_pickle('/content/drive/MyDrive/Sam/File_saved/P02.pickle',P02)\n",
        "# P03\n",
        "P03_acc = open_pickle('/content/drive/MyDrive/Sam/File_saved/P03_acc.pickle')\n",
        "P03_markers = open_pickle('/content/drive/MyDrive/Sam/File_saved/P03_markers.pickle')\n",
        "P03 = Preprocess(P03_markers,P03_acc)\n",
        "f3 = save_pickle('/content/drive/MyDrive/Sam/File_saved/P03.pickle',P03)\n",
        "# P04\n",
        "P04_acc = open_pickle('/content/drive/MyDrive/Sam/File_saved/P04_acc.pickle')\n",
        "P04_markers = open_pickle('/content/drive/MyDrive/Sam/File_saved/P04_markers.pickle')\n",
        "P04 = Preprocess(P04_markers,P04_acc)\n",
        "f4 = save_pickle('/content/drive/MyDrive/Sam/File_saved/P04.pickle',P04)\n",
        "# P05\n",
        "P05_acc = open_pickle('/content/drive/MyDrive/Sam/File_saved/P05_acc.pickle')\n",
        "P05_markers = open_pickle('/content/drive/MyDrive/Sam/File_saved/P05_markers.pickle')\n",
        "P05 = Preprocess(P05_markers,P05_acc)\n",
        "f5 = save_pickle('/content/drive/MyDrive/Sam/File_saved/P05.pickle',P05)"
      ],
      "metadata": {
        "id": "ubWFPFkK_DyQ"
      },
      "execution_count": 5,
      "outputs": []
    },
    {
      "cell_type": "code",
      "source": [
        "# P07\n",
        "P07_acc = open_pickle('/content/drive/MyDrive/Sam/File_saved/P07_acc.pickle')\n",
        "P07_markers = open_pickle('/content/drive/MyDrive/Sam/File_saved/P07_markers.pickle')\n",
        "P07 = Preprocess(P07_markers,P07_acc)\n",
        "f7 = save_pickle('/content/drive/MyDrive/Sam/File_saved/P07.pickle',P07)\n",
        "# P08\n",
        "P08_acc = open_pickle('/content/drive/MyDrive/Sam/File_saved/P08_acc.pickle')\n",
        "P08_markers = open_pickle('/content/drive/MyDrive/Sam/File_saved/P08_markers.pickle')\n",
        "P08 = Preprocess(P08_markers,P08_acc)\n",
        "f8 = save_pickle('/content/drive/MyDrive/Sam/File_saved/P08.pickle',P08)\n",
        "# P09\n",
        "P09_acc = open_pickle('/content/drive/MyDrive/Sam/File_saved/P09_acc.pickle')\n",
        "P09_markers = open_pickle('/content/drive/MyDrive/Sam/File_saved/P09_markers.pickle')\n",
        "P09 = Preprocess(P09_markers,P09_acc)\n",
        "f9 = save_pickle('/content/drive/MyDrive/Sam/File_saved/P09.pickle',P09)\n",
        "# P11\n",
        "P11_acc = open_pickle('/content/drive/MyDrive/Sam/File_saved/P11_acc.pickle')\n",
        "P11_markers = open_pickle('/content/drive/MyDrive/Sam/File_saved/P11_markers.pickle')\n",
        "P11 = Preprocess(P11_markers,P11_acc)\n",
        "f11 = save_pickle('/content/drive/MyDrive/Sam/File_saved/P11.pickle',P11)\n",
        "# P12\n",
        "P12_acc = open_pickle('/content/drive/MyDrive/Sam/File_saved/P12_acc.pickle')\n",
        "P12_markers = open_pickle('/content/drive/MyDrive/Sam/File_saved/P12_markers.pickle')\n",
        "P12 = Preprocess(P12_markers,P12_acc)\n",
        "f12 = save_pickle('/content/drive/MyDrive/Sam/File_saved/P12.pickle',P12)"
      ],
      "metadata": {
        "id": "n0VQ4u-v_IF4"
      },
      "execution_count": null,
      "outputs": []
    },
    {
      "cell_type": "code",
      "source": [
        "# P13\n",
        "P13_acc = open_pickle('/content/drive/MyDrive/Sam/File_saved/P13_acc.pickle')\n",
        "P13_markers = open_pickle('/content/drive/MyDrive/Sam/File_saved/P13_markers.pickle')\n",
        "P13 = Preprocess(P13_markers,P13_acc)\n",
        "f13 = save_pickle('/content/drive/MyDrive/Sam/File_saved/P13.pickle',P13)\n",
        "# P14\n",
        "P14_acc = open_pickle('/content/drive/MyDrive/Sam/File_saved/P14_acc.pickle')\n",
        "P14_markers = open_pickle('/content/drive/MyDrive/Sam/File_saved/P14_markers.pickle')\n",
        "P14 = Preprocess(P14_markers,P14_acc)\n",
        "f14 = save_pickle('/content/drive/MyDrive/Sam/File_saved/P14.pickle',P14)\n",
        "# P15\n",
        "P15_acc = open_pickle('/content/drive/MyDrive/Sam/File_saved/P15_acc.pickle')\n",
        "P15_markers = open_pickle('/content/drive/MyDrive/Sam/File_saved/P15_markers.pickle')\n",
        "P15 = Preprocess(P15_markers,P15_acc)\n",
        "f15 = save_pickle('/content/drive/MyDrive/Sam/File_saved/P15.pickle',P15)\n",
        "# P16\n",
        "P16_acc = open_pickle('/content/drive/MyDrive/Sam/File_saved/P16_acc.pickle')\n",
        "P16_markers = open_pickle('/content/drive/MyDrive/Sam/File_saved/P16_markers.pickle')\n",
        "P16 = Preprocess(P16_markers,P16_acc)\n",
        "f16 = save_pickle('/content/drive/MyDrive/Sam/File_saved/P16.pickle',P16)\n",
        "# P17\n",
        "P17_acc = open_pickle('/content/drive/MyDrive/Sam/File_saved/P17_acc.pickle')\n",
        "P17_markers = open_pickle('/content/drive/MyDrive/Sam/File_saved/P17_markers.pickle')\n",
        "P17 = Preprocess(P17_markers,P17_acc)\n",
        "f17 = save_pickle('/content/drive/MyDrive/Sam/File_saved/P17.pickle',P17)\n",
        "# P18\n",
        "P18_acc = open_pickle('/content/drive/MyDrive/Sam/File_saved/P18_acc.pickle')\n",
        "P18_markers = open_pickle('/content/drive/MyDrive/Sam/File_saved/P18_markers.pickle')\n",
        "P18 = Preprocess(P18_markers,P18_acc)\n",
        "f18 = save_pickle('/content/drive/MyDrive/Sam/File_saved/P18.pickle',P18)\n",
        "# P19\n",
        "P19_acc = open_pickle('/content/drive/MyDrive/Sam/File_saved/P19_acc.pickle')\n",
        "P19_markers = open_pickle('/content/drive/MyDrive/Sam/File_saved/P19_markers.pickle')\n",
        "P19 = Preprocess(P19_markers,P19_acc)\n",
        "f19 = save_pickle('/content/drive/MyDrive/Sam/File_saved/P19.pickle',P19)"
      ],
      "metadata": {
        "id": "7xGlyBAY_M91"
      },
      "execution_count": null,
      "outputs": []
    },
    {
      "cell_type": "code",
      "source": [
        "# P20\n",
        "P20_acc = open_pickle('/content/drive/MyDrive/Sam/File_saved/P20_acc.pickle')\n",
        "P20_markers = open_pickle('/content/drive/MyDrive/Sam/File_saved/P20_markers.pickle')\n",
        "P20 = Preprocess(P20_markers,P20_acc)\n",
        "f20 = save_pickle('/content/drive/MyDrive/Sam/File_saved/P20.pickle',P20)\n",
        "# P21\n",
        "P21_acc = open_pickle('/content/drive/MyDrive/Sam/File_saved/P21_acc.pickle')\n",
        "P21_markers = open_pickle('/content/drive/MyDrive/Sam/File_saved/P21_markers.pickle')\n",
        "P21 = Preprocess(P21_markers,P21_acc)\n",
        "f21 = save_pickle('/content/drive/MyDrive/Sam/File_saved/P21.pickle',P21)\n",
        "# P22\n",
        "P22_acc = open_pickle('/content/drive/MyDrive/Sam/File_saved/P22_acc.pickle')\n",
        "P22_markers = open_pickle('/content/drive/MyDrive/Sam/File_saved/P22_markers.pickle')\n",
        "P22 = Preprocess(P22_markers,P22_acc)\n",
        "f22 = save_pickle('/content/drive/MyDrive/Sam/File_saved/P22.pickle',P22)\n",
        "# P23\n",
        "P23_acc = open_pickle('/content/drive/MyDrive/Sam/File_saved/P23_acc.pickle')\n",
        "P23_markers = open_pickle('/content/drive/MyDrive/Sam/File_saved/P23_markers.pickle')\n",
        "P23 = Preprocess(P23_markers,P23_acc)\n",
        "f23 = save_pickle('/content/drive/MyDrive/Sam/File_saved/P23.pickle',P23)\n",
        "# P24\n",
        "P24_acc = open_pickle('/content/drive/MyDrive/Sam/File_saved/P24_acc.pickle')\n",
        "P24_markers = open_pickle('/content/drive/MyDrive/Sam/File_saved/P24_markers.pickle')\n",
        "P24 = Preprocess(P24_markers,P24_acc)\n",
        "f24 = save_pickle('/content/drive/MyDrive/Sam/File_saved/P24.pickle',P24)\n",
        "# P25\n",
        "P25_acc = open_pickle('/content/drive/MyDrive/Sam/File_saved/P25_acc.pickle')\n",
        "P25_markers = open_pickle('/content/drive/MyDrive/Sam/File_saved/P25_markers.pickle')\n",
        "P25 = Preprocess(P25_markers,P25_acc)\n",
        "f25 = save_pickle('/content/drive/MyDrive/Sam/File_saved/P25.pickle',P25)"
      ],
      "metadata": {
        "id": "PDCPnvgI_Si0"
      },
      "execution_count": null,
      "outputs": []
    },
    {
      "cell_type": "code",
      "source": [
        "# P26\n",
        "P26_acc = open_pickle('/content/drive/MyDrive/Sam/File_saved/P26_acc.pickle')\n",
        "P26_markers = open_pickle('/content/drive/MyDrive/Sam/File_saved/P26_markers.pickle')\n",
        "P26 = Preprocess(P26_markers,P26_acc)\n",
        "f26 = save_pickle('/content/drive/MyDrive/Sam/File_saved/P26.pickle',P26)\n",
        "# P27\n",
        "P27_acc = open_pickle('/content/drive/MyDrive/Sam/File_saved/P27_acc.pickle')\n",
        "P27_markers = open_pickle('/content/drive/MyDrive/Sam/File_saved/P27_markers.pickle')\n",
        "P27 = Preprocess(P27_markers,P27_acc)\n",
        "f27 = save_pickle('/content/drive/MyDrive/Sam/File_saved/P27.pickle',P27)\n",
        "# P28\n",
        "P28_acc = open_pickle('/content/drive/MyDrive/Sam/File_saved/P28_acc.pickle')\n",
        "P28_markers = open_pickle('/content/drive/MyDrive/Sam/File_saved/P28_markers.pickle')\n",
        "P28 = Preprocess(P28_markers,P28_acc)\n",
        "f28 = save_pickle('/content/drive/MyDrive/Sam/File_saved/P28.pickle',P28)\n",
        "# P29\n",
        "P29_acc = open_pickle('/content/drive/MyDrive/Sam/File_saved/P29_acc.pickle')\n",
        "P29_markers = open_pickle('/content/drive/MyDrive/Sam/File_saved/P29_markers.pickle')\n",
        "P29 = Preprocess(P29_markers,P29_acc)\n",
        "f29 = save_pickle('/content/drive/MyDrive/Sam/File_saved/P29.pickle',P29)\n",
        "# P32\n",
        "P32_acc = open_pickle('/content/drive/MyDrive/Sam/File_saved/P32_acc.pickle')\n",
        "P32_markers = open_pickle('/content/drive/MyDrive/Sam/File_saved/P32_markers.pickle')\n",
        "P32 = Preprocess(P32_markers,P32_acc)\n",
        "f32 = save_pickle('/content/drive/MyDrive/Sam/File_saved/P32.pickle',P32)\n",
        "# P33\n",
        "P33_acc = open_pickle('/content/drive/MyDrive/Sam/File_saved/P33_acc.pickle')\n",
        "P33_markers = open_pickle('/content/drive/MyDrive/Sam/File_saved/P33_markers.pickle')\n",
        "P33 = Preprocess(P33_markers,P33_acc)\n",
        "f33 = save_pickle('/content/drive/MyDrive/Sam/File_saved/P33.pickle',P33)\n",
        "# P34\n",
        "P34_acc = open_pickle('/content/drive/MyDrive/Sam/File_saved/P34_acc.pickle')\n",
        "P34_markers = open_pickle('/content/drive/MyDrive/Sam/File_saved/P34_markers.pickle')\n",
        "P34 = Preprocess(P34_markers,P34_acc)\n",
        "f34 = save_pickle('/content/drive/MyDrive/Sam/File_saved/P34.pickle',P34)"
      ],
      "metadata": {
        "id": "iunxByzY_W82"
      },
      "execution_count": null,
      "outputs": []
    },
    {
      "cell_type": "code",
      "source": [
        "# P35\n",
        "P35_acc = open_pickle('/content/drive/MyDrive/Sam/File_saved/P35_acc.pickle')\n",
        "P35_markers = open_pickle('/content/drive/MyDrive/Sam/File_saved/P35_markers.pickle')\n",
        "P35 = Preprocess(P35_markers,P35_acc)\n",
        "f35 = save_pickle('/content/drive/MyDrive/Sam/File_saved/P35.pickle',P35)\n",
        "# P36\n",
        "P36_acc = open_pickle('/content/drive/MyDrive/Sam/File_saved/P36_acc.pickle')\n",
        "P36_markers = open_pickle('/content/drive/MyDrive/Sam/File_saved/P36_markers.pickle')\n",
        "P36 = Preprocess(P36_markers,P36_acc)\n",
        "f36 = save_pickle('/content/drive/MyDrive/Sam/File_saved/P36.pickle',P36)\n",
        "# P37\n",
        "P37_acc = open_pickle('/content/drive/MyDrive/Sam/File_saved/P37_acc.pickle')\n",
        "P37_markers = open_pickle('/content/drive/MyDrive/Sam/File_saved/P37_markers.pickle')\n",
        "P37 = Preprocess(P37_markers,P37_acc)\n",
        "f37 = save_pickle('/content/drive/MyDrive/Sam/File_saved/P37.pickle',P37)\n",
        "# P39\n",
        "P39_acc = open_pickle('/content/drive/MyDrive/Sam/File_saved/P39_acc.pickle')\n",
        "P39_markers = open_pickle('/content/drive/MyDrive/Sam/File_saved/P39_markers.pickle')\n",
        "P39 = Preprocess(P39_markers,P39_acc)\n",
        "f39 = save_pickle('/content/drive/MyDrive/Sam/File_saved/P39.pickle',P39)\n",
        "# P40\n",
        "P40_acc = open_pickle('/content/drive/MyDrive/Sam/File_saved/P40_acc.pickle')\n",
        "P40_markers = open_pickle('/content/drive/MyDrive/Sam/File_saved/P40_markers.pickle')\n",
        "P40 = Preprocess(P40_markers,P40_acc)\n",
        "f40 = save_pickle('/content/drive/MyDrive/Sam/File_saved/P40.pickle',P40)\n",
        "# P41\n",
        "P41_acc = open_pickle('/content/drive/MyDrive/Sam/File_saved/P41_acc.pickle')\n",
        "P41_markers = open_pickle('/content/drive/MyDrive/Sam/File_saved/P41_markers.pickle')\n",
        "P41 = Preprocess(P41_markers,P41_acc)\n",
        "f41 = save_pickle('/content/drive/MyDrive/Sam/File_saved/P41.pickle',P41)\n",
        "# P42\n",
        "P42_acc = open_pickle('/content/drive/MyDrive/Sam/File_saved/P42_acc.pickle')\n",
        "P42_markers = open_pickle('/content/drive/MyDrive/Sam/File_saved/P42_markers.pickle')\n",
        "P42 = Preprocess(P42_markers,P42_acc)\n",
        "f42 = save_pickle('/content/drive/MyDrive/Sam/File_saved/P42.pickle',P42)\n",
        "# P43\n",
        "P43_acc = open_pickle('/content/drive/MyDrive/Sam/File_saved/P43_acc.pickle')\n",
        "P43_markers = open_pickle('/content/drive/MyDrive/Sam/File_saved/P43_markers.pickle')\n",
        "P43 = Preprocess(P43_markers,P43_acc)\n",
        "f43 = save_pickle('/content/drive/MyDrive/Sam/File_saved/P43.pickle',P43)"
      ],
      "metadata": {
        "id": "uZ-e_xhytbbN"
      },
      "execution_count": null,
      "outputs": []
    },
    {
      "cell_type": "code",
      "source": [
        "# P10\n",
        "P10_acc = open_pickle('/content/drive/MyDrive/Sam/File_saved/P10_acc.pickle')\n",
        "P10_markers = open_pickle('/content/drive/MyDrive/Sam/File_saved/P10_markers.pickle')\n",
        "P10 = Preprocess(P10_markers,P10_acc)\n",
        "f10 = save_pickle('/content/drive/MyDrive/Sam/File_saved/P10.pickle',P10)"
      ],
      "metadata": {
        "id": "KmmrIJdQEZGC"
      },
      "execution_count": null,
      "outputs": []
    },
    {
      "cell_type": "markdown",
      "source": [
        "# 🛑 Opening preprocessed participants"
      ],
      "metadata": {
        "id": "g06VHCfZxld_"
      }
    },
    {
      "cell_type": "code",
      "source": [
        "P01 = open_pickle('/content/drive/MyDrive/Sam/File_saved/P01.pickle')\n",
        "P02 = open_pickle('/content/drive/MyDrive/Sam/File_saved/P02.pickle')\n",
        "P03 = open_pickle('/content/drive/MyDrive/Sam/File_saved/P03.pickle')\n",
        "P04 = open_pickle('/content/drive/MyDrive/Sam/File_saved/P04.pickle')\n",
        "P05 = open_pickle('/content/drive/MyDrive/Sam/File_saved/P05.pickle')\n",
        "P07 = open_pickle('/content/drive/MyDrive/Sam/File_saved/P07.pickle')\n",
        "P08 = open_pickle('/content/drive/MyDrive/Sam/File_saved/P08.pickle')\n",
        "P09 = open_pickle('/content/drive/MyDrive/Sam/File_saved/P09.pickle')\n",
        "P10 = open_pickle('/content/drive/MyDrive/Sam/File_saved/P10.pickle') # 86 trials (+1 OT)\n",
        "P11 = open_pickle('/content/drive/MyDrive/Sam/File_saved/P11.pickle')\n",
        "P12 = open_pickle('/content/drive/MyDrive/Sam/File_saved/P12.pickle')\n",
        "P13 = open_pickle('/content/drive/MyDrive/Sam/File_saved/P13.pickle') # 87 trials (+1 OT, +1 WS)\n",
        "P14 = open_pickle('/content/drive/MyDrive/Sam/File_saved/P14.pickle')\n",
        "P15 = open_pickle('/content/drive/MyDrive/Sam/File_saved/P15.pickle')\n",
        "P16 = open_pickle('/content/drive/MyDrive/Sam/File_saved/P16.pickle')\n",
        "P17 = open_pickle('/content/drive/MyDrive/Sam/File_saved/P17.pickle')\n",
        "P18 = open_pickle('/content/drive/MyDrive/Sam/File_saved/P18.pickle')\n",
        "P19 = open_pickle('/content/drive/MyDrive/Sam/File_saved/P19.pickle')\n",
        "P20 = open_pickle('/content/drive/MyDrive/Sam/File_saved/P20.pickle')\n",
        "P21 = open_pickle('/content/drive/MyDrive/Sam/File_saved/P21.pickle')\n",
        "P22 = open_pickle('/content/drive/MyDrive/Sam/File_saved/P22.pickle')\n",
        "P23 = open_pickle('/content/drive/MyDrive/Sam/File_saved/P23.pickle')\n",
        "P24 = open_pickle('/content/drive/MyDrive/Sam/File_saved/P24.pickle')\n",
        "P25 = open_pickle('/content/drive/MyDrive/Sam/File_saved/P25.pickle') # 86 trials (+1 OT)\n",
        "P26 = open_pickle('/content/drive/MyDrive/Sam/File_saved/P26.pickle')\n",
        "P27 = open_pickle('/content/drive/MyDrive/Sam/File_saved/P27.pickle')\n",
        "P28 = open_pickle('/content/drive/MyDrive/Sam/File_saved/P28.pickle')\n",
        "P29 = open_pickle('/content/drive/MyDrive/Sam/File_saved/P29.pickle')\n",
        "P32 = open_pickle('/content/drive/MyDrive/Sam/File_saved/P32.pickle')\n",
        "P33 = open_pickle('/content/drive/MyDrive/Sam/File_saved/P33.pickle')\n",
        "P34 = open_pickle('/content/drive/MyDrive/Sam/File_saved/P34.pickle')\n",
        "P35 = open_pickle('/content/drive/MyDrive/Sam/File_saved/P35.pickle') # 86 trials (+1 WS)\n",
        "P36 = open_pickle('/content/drive/MyDrive/Sam/File_saved/P36.pickle')\n",
        "P37 = open_pickle('/content/drive/MyDrive/Sam/File_saved/P37.pickle')\n",
        "P39 = open_pickle('/content/drive/MyDrive/Sam/File_saved/P39.pickle')\n",
        "P40 = open_pickle('/content/drive/MyDrive/Sam/File_saved/P40.pickle') # 84 trials (-1 BH)\n",
        "P41 = open_pickle('/content/drive/MyDrive/Sam/File_saved/P41.pickle')\n",
        "P42 = open_pickle('/content/drive/MyDrive/Sam/File_saved/P42.pickle')\n",
        "P43 = open_pickle('/content/drive/MyDrive/Sam/File_saved/P43.pickle')"
      ],
      "metadata": {
        "id": "typGHJ59wzDG"
      },
      "execution_count": null,
      "outputs": []
    },
    {
      "cell_type": "markdown",
      "source": [
        "# 🛑 Final reshaping"
      ],
      "metadata": {
        "id": "_BbPFO8xoVHP"
      }
    },
    {
      "cell_type": "markdown",
      "source": [
        "Labels:\n",
        "\n",
        "0 = BH (10 trials)\n",
        "\n",
        "1 = OT (10 trials)\n",
        "\n",
        "2 = Other (15 trials)\n",
        "\n",
        "3 = Pass (5 trials)\n",
        "\n",
        "4 = Rest (15 trials)\n",
        "\n",
        "5 = SS (15 trials)\n",
        "\n",
        "6 = WS (15 trials)\n",
        "\n",
        "total = 85 trials (few participants have +/- 1-2 trials)\n",
        "\n",
        "original shape: (frames, trials, channels)\n",
        "\n",
        "need to reshape: (trials, frames, channels)"
      ],
      "metadata": {
        "id": "BK1bfIIcOoSA"
      }
    },
    {
      "cell_type": "code",
      "source": [
        "#P_list = [*range(1,44)]\n",
        "#P_list.remove(6)\n",
        "#P_list.remove(30)\n",
        "#P_list.remove(31)\n",
        "#P_list.remove(38)"
      ],
      "metadata": {
        "id": "knsanK68CtQL"
      },
      "execution_count": null,
      "outputs": []
    },
    {
      "cell_type": "code",
      "source": [
        "#random.shuffle(P_list)"
      ],
      "metadata": {
        "id": "nBMyW046Zp63"
      },
      "execution_count": null,
      "outputs": []
    },
    {
      "cell_type": "code",
      "source": [
        "#P_list"
      ],
      "metadata": {
        "id": "Yegxp4SaZ27K"
      },
      "execution_count": null,
      "outputs": []
    },
    {
      "cell_type": "code",
      "source": [
        "# Split into 70/10/20 -> 27 train, 4 valid, 8 test\n",
        "# Shuffle participants' list before the split\n",
        "P_train = tf.concat([P28,P43,P03,P10,P09,P26,P33,P41,P32,P24,P21,P27,P02,P35,P37,P16,P40,P20,P11,P17,P14,P25,P42,P05,P39,P22,P15], axis = 1)\n",
        "P_valid = tf.concat([P12,P34,P23,P18], axis = 1)\n",
        "P_test = tf.concat([P13,P04,P36,P29,P08,P01,P19,P07], axis = 1)"
      ],
      "metadata": {
        "id": "ORyax-MgN1W8"
      },
      "execution_count": null,
      "outputs": []
    },
    {
      "cell_type": "code",
      "source": [
        "#-----------------shuffle-already removed the frame column in stand function-----------------\n",
        "P_train_shuffle = tf_shuffle_axis(P_train[:,:,0:52], axis=1) \n",
        "P_valid_shuffle = tf_shuffle_axis(P_valid[:,:,0:52], axis=1)\n",
        "P_test_shuffle = tf_shuffle_axis(P_test[:,:,0:52], axis=1)\n",
        "\n",
        "#-----------------data-----------------\n",
        "  # train\n",
        "X_train = (P_train_shuffle[:,:,0:51]).numpy() #which columns \n",
        "X_reshape_train = X_train.reshape((P_train_shuffle.shape[1],576, 51)) #reshape into (#trial, frames, #channels)\n",
        "\n",
        "  # validation \n",
        "X_valid = P_valid_shuffle[:,:,0:51].numpy() \n",
        "X_reshape_valid = X_valid.reshape((P_valid_shuffle.shape[1],576, 51)) \n",
        "\n",
        "  # test\n",
        "X_test = P_test_shuffle[:,:,0:51].numpy() \n",
        "X_reshape_test = X_test.reshape((P_test_shuffle.shape[1],576, 51)) \n",
        "\n",
        "#-----------------label-----------------\n",
        "  # train\n",
        "y_train = P_train_shuffle[:,:,51].numpy() \n",
        "label_train = y_train[0]\n",
        "  \n",
        "  # valid\n",
        "y_valid = P_valid_shuffle[:,:,51].numpy() \n",
        "label_valid = y_valid[0]\n",
        "  \n",
        "  # test\n",
        "y_test = P_test_shuffle[:,:,51].numpy() \n",
        "label_test = y_test[0]\n",
        "\n",
        "#print\n",
        "print(\"Data shape train:\",X_reshape_train.shape,\n",
        "      \"Data shape test:\",X_reshape_valid.shape,\n",
        "      \"Data shape test:\",X_reshape_test.shape,\n",
        "      \"Label shape train:\",label_train.shape,\n",
        "      \"Label shape train:\",label_valid.shape,\n",
        "      \"Label shape test:\",label_test.shape)"
      ],
      "metadata": {
        "id": "5MEu7paYn9u6",
        "colab": {
          "base_uri": "https://localhost:8080/"
        },
        "outputId": "7eab9799-c08a-4ebf-cd07-c197b33399c1"
      },
      "execution_count": null,
      "outputs": [
        {
          "output_type": "stream",
          "name": "stdout",
          "text": [
            "Data shape train: (2297, 576, 51) Data shape test: (340, 576, 51) Data shape test: (682, 576, 51) Label shape train: (2297,) Label shape train: (340,) Label shape test: (682,)\n"
          ]
        }
      ]
    },
    {
      "cell_type": "code",
      "source": [
        "save_pickle('/content/drive/MyDrive/Sam/File_saved/X_reshape_test.pickle',X_reshape_test)\n",
        "save_pickle('/content/drive/MyDrive/Sam/File_saved/X_reshape_train.pickle',X_reshape_train)\n",
        "save_pickle('/content/drive/MyDrive/Sam/File_saved/X_reshape_valid.pickle',X_reshape_valid)\n",
        "save_pickle('/content/drive/MyDrive/Sam/File_saved/label_test.pickle',label_test)\n",
        "save_pickle('/content/drive/MyDrive/Sam/File_saved/label_valid.pickle',label_valid)\n",
        "save_pickle('/content/drive/MyDrive/Sam/File_saved/label_train.pickle',label_train)"
      ],
      "metadata": {
        "colab": {
          "base_uri": "https://localhost:8080/"
        },
        "id": "rWXOXIjcnH2e",
        "outputId": "4ecb6d42-2979-458b-e1a7-2f235dca057a"
      },
      "execution_count": null,
      "outputs": [
        {
          "output_type": "execute_result",
          "data": {
            "text/plain": [
              "<_io.BufferedWriter name='/content/drive/MyDrive/Sam/File_saved/label_train.pickle'>"
            ]
          },
          "metadata": {},
          "execution_count": 126
        }
      ]
    },
    {
      "cell_type": "markdown",
      "source": [
        "# 🟢 CNN model"
      ],
      "metadata": {
        "id": "rSvY6Y08gHsS"
      }
    },
    {
      "cell_type": "code",
      "source": [
        "Data_test = open_pickle('/content/drive/MyDrive/Sam/File_saved/X_reshape_test.pickle')\n",
        "Data_train = open_pickle('/content/drive/MyDrive/Sam/File_saved/X_reshape_train.pickle')\n",
        "Data_valid = open_pickle('/content/drive/MyDrive/Sam/File_saved/X_reshape_valid.pickle')\n",
        "label_test = open_pickle('/content/drive/MyDrive/Sam/File_saved/label_test.pickle')\n",
        "label_valid = open_pickle('/content/drive/MyDrive/Sam/File_saved/label_valid.pickle')\n",
        "label_train = open_pickle('/content/drive/MyDrive/Sam/File_saved/label_train.pickle')"
      ],
      "metadata": {
        "id": "7lV_VtyGoiWR"
      },
      "execution_count": 4,
      "outputs": []
    },
    {
      "cell_type": "code",
      "source": [
        "label_train.shape\n",
        "Data_train.shape"
      ],
      "metadata": {
        "colab": {
          "base_uri": "https://localhost:8080/"
        },
        "id": "m8y3nxUGUS6U",
        "outputId": "8958b9f7-3388-45e4-8992-f7014abfe545"
      },
      "execution_count": 6,
      "outputs": [
        {
          "output_type": "execute_result",
          "data": {
            "text/plain": [
              "(2297, 576, 51)"
            ]
          },
          "metadata": {},
          "execution_count": 6
        }
      ]
    },
    {
      "cell_type": "code",
      "source": [
        "model = make_model_1D(Data_train.shape[1:],32,32,32,9,2,'rmsprop')\n",
        "history = model.fit(Data_train, label_train, epochs = 10, batch_size = 128, validation_data = (Data_valid, label_valid))"
      ],
      "metadata": {
        "colab": {
          "base_uri": "https://localhost:8080/"
        },
        "id": "6fkdWfHqgMPb",
        "outputId": "3254a5e3-7535-431c-bfc4-2ba67a810d77"
      },
      "execution_count": 5,
      "outputs": [
        {
          "output_type": "stream",
          "name": "stdout",
          "text": [
            "Epoch 1/10\n",
            "18/18 [==============================] - 9s 26ms/step - loss: 2.1446 - accuracy: 0.1563 - val_loss: 1.9270 - val_accuracy: 0.1912\n",
            "Epoch 2/10\n",
            "18/18 [==============================] - 0s 12ms/step - loss: 1.8936 - accuracy: 0.1937 - val_loss: 1.9566 - val_accuracy: 0.1794\n",
            "Epoch 3/10\n",
            "18/18 [==============================] - 0s 12ms/step - loss: 1.7858 - accuracy: 0.3165 - val_loss: 1.9550 - val_accuracy: 0.1529\n",
            "Epoch 4/10\n",
            "18/18 [==============================] - 0s 12ms/step - loss: 1.6780 - accuracy: 0.3783 - val_loss: 2.0762 - val_accuracy: 0.1794\n",
            "Epoch 5/10\n",
            "18/18 [==============================] - 0s 12ms/step - loss: 1.4811 - accuracy: 0.4785 - val_loss: 2.0651 - val_accuracy: 0.1941\n",
            "Epoch 6/10\n",
            "18/18 [==============================] - 0s 12ms/step - loss: 1.1851 - accuracy: 0.6304 - val_loss: 2.4749 - val_accuracy: 0.1794\n",
            "Epoch 7/10\n",
            "18/18 [==============================] - 0s 12ms/step - loss: 1.0951 - accuracy: 0.7070 - val_loss: 2.4546 - val_accuracy: 0.1647\n",
            "Epoch 8/10\n",
            "18/18 [==============================] - 0s 12ms/step - loss: 0.8169 - accuracy: 0.7841 - val_loss: 2.6079 - val_accuracy: 0.1824\n",
            "Epoch 9/10\n",
            "18/18 [==============================] - 0s 12ms/step - loss: 0.6671 - accuracy: 0.8193 - val_loss: 3.3475 - val_accuracy: 0.1706\n",
            "Epoch 10/10\n",
            "18/18 [==============================] - 0s 12ms/step - loss: 0.7025 - accuracy: 0.8637 - val_loss: 2.7498 - val_accuracy: 0.1765\n"
          ]
        }
      ]
    },
    {
      "cell_type": "code",
      "source": [
        "#plot train/validation loss and train/validation accuracy \n",
        "history_dict = history.history\n",
        "loss_values=history_dict['loss']\n",
        "epochs = range(1, len(loss_values) + 1)\n",
        "plt.plot(epochs,history_dict['loss'])\n",
        "plt.plot(epochs, history_dict['val_loss'])\n",
        "plt.title('Model loss')\n",
        "plt.ylabel('Loss')\n",
        "plt.xlabel('Epochs')\n",
        "plt.legend(['train', 'val'], loc='upper left')\n",
        "plt.show()\n",
        "\n",
        "accuracy_values = history_dict['accuracy']\n",
        "val_accuracy= history_dict['val_accuracy']\n",
        "plt.plot(epochs, accuracy_values)\n",
        "plt.plot(epochs, val_accuracy)\n",
        "plt.title('Accuracy of training and validation set') \n",
        "plt.xlabel('Epochs')\n",
        "plt.ylabel('Accuracy')\n",
        "plt.legend(['train', 'val'], loc='upper left')\n",
        "plt.show()"
      ],
      "metadata": {
        "id": "JF_bFsM9gc2n",
        "colab": {
          "base_uri": "https://localhost:8080/",
          "height": 573
        },
        "outputId": "33faf898-17fc-4001-e5c0-12f12eaa535c"
      },
      "execution_count": 6,
      "outputs": [
        {
          "output_type": "display_data",
          "data": {
            "image/png": "[encoded data removed]",
            "text/plain": [
              "<Figure size 432x288 with 1 Axes>"
            ]
          },
          "metadata": {
            "needs_background": "light"
          }
        },
        {
          "output_type": "display_data",
          "data": {
            "image/png": "[encoded data removed]",
            "text/plain": [
              "<Figure size 432x288 with 1 Axes>"
            ]
          },
          "metadata": {
            "needs_background": "light"
          }
        }
      ]
    },
    {
      "cell_type": "markdown",
      "source": [
        "# Testing functions\n"
      ],
      "metadata": {
        "id": "GGyhkmIBxdn_"
      }
    },
    {
      "cell_type": "markdown",
      "source": [
        "test individual participant"
      ],
      "metadata": {
        "id": "qnFCnngizQ6N"
      }
    },
    {
      "cell_type": "code",
      "source": [
        "P40_acc = open_pickle('/content/drive/MyDrive/Sam/File_saved/P40_acc.pickle')\n",
        "P40_markers = open_pickle('/content/drive/MyDrive/Sam/File_saved/P40_markers.pickle')"
      ],
      "metadata": {
        "id": "qI3ZcejGxvgq"
      },
      "execution_count": null,
      "outputs": []
    },
    {
      "cell_type": "code",
      "source": [
        "P40_test = regroup_other(P40_markers,P40_acc)"
      ],
      "metadata": {
        "id": "4M6GZvMQxai0"
      },
      "execution_count": null,
      "outputs": []
    },
    {
      "cell_type": "code",
      "source": [
        "P40_test = reframe(P40_markers,P40_test)"
      ],
      "metadata": {
        "id": "mo0VK597ykxw"
      },
      "execution_count": null,
      "outputs": []
    },
    {
      "cell_type": "code",
      "source": [
        "P40_other_test = P40_test[(P40_test['Label'] == 'Other')]"
      ],
      "metadata": {
        "id": "4BhbYiK8yoKW"
      },
      "execution_count": null,
      "outputs": []
    },
    {
      "cell_type": "code",
      "source": [
        "P40_other_all_test = other_class(P40_other_test)"
      ],
      "metadata": {
        "id": "PZnuqPhZyo2i"
      },
      "execution_count": null,
      "outputs": []
    },
    {
      "cell_type": "code",
      "source": [
        "P40_test = P40_test.drop(P40_test[(P40_test['Label'] == 'Do not use')].index)"
      ],
      "metadata": {
        "id": "pMpab7zuyqrb"
      },
      "execution_count": null,
      "outputs": []
    },
    {
      "cell_type": "code",
      "source": [
        "P40_test = P40_test.drop(P40_test[(P40_test['Label'] == 'Other')].index)"
      ],
      "metadata": {
        "id": "PtwbbpOYyyjT"
      },
      "execution_count": null,
      "outputs": []
    },
    {
      "cell_type": "code",
      "source": [
        "P40_test = pd.concat([P40_test, P40_other_all_test], ignore_index = True)"
      ],
      "metadata": {
        "id": "v6G3zCFEyzVz"
      },
      "execution_count": null,
      "outputs": []
    },
    {
      "cell_type": "code",
      "source": [
        "P40_test = P_standardize(P40_test)"
      ],
      "metadata": {
        "id": "Jc8E7slKzII7"
      },
      "execution_count": null,
      "outputs": []
    },
    {
      "cell_type": "code",
      "source": [
        "P40_test, P40_class = label_encoder(P40_test)\n",
        "P40_class"
      ],
      "metadata": {
        "colab": {
          "base_uri": "https://localhost:8080/"
        },
        "id": "jQhFSoj6dr8d",
        "outputId": "ac02e14a-0e0b-40a3-ebe3-eb3cda493473"
      },
      "execution_count": null,
      "outputs": [
        {
          "output_type": "execute_result",
          "data": {
            "text/plain": [
              "array(['BH', 'OT', 'Other', 'Pass', 'Rest', 'SS', 'WS'], dtype=object)"
            ]
          },
          "metadata": {},
          "execution_count": 358
        }
      ]
    },
    {
      "cell_type": "code",
      "source": [
        "P40_test"
      ],
      "metadata": {
        "colab": {
          "base_uri": "https://localhost:8080/"
        },
        "id": "rT_ky4Yc0fno",
        "outputId": "0ae344d4-66f5-423d-bf90-84fd4db44ca9"
      },
      "execution_count": null,
      "outputs": [
        {
          "output_type": "execute_result",
          "data": {
            "text/html": [
              "\n",
              "  <div id=\"df-32c28d2d-5a2a-4682-be47-56c940bf8c88\">\n",
              "    <div class=\"colab-df-container\">\n",
              "      <div>\n",
              "<style scoped>\n",
              "    .dataframe tbody tr th:only-of-type {\n",
              "        vertical-align: middle;\n",
              "    }\n",
              "\n",
              "    .dataframe tbody tr th {\n",
              "        vertical-align: top;\n",
              "    }\n",
              "\n",
              "    .dataframe thead th {\n",
              "        text-align: right;\n",
              "    }\n",
              "</style>\n",
              "<table border=\"1\" class=\"dataframe\">\n",
              "  <thead>\n",
              "    <tr style=\"text-align: right;\">\n",
              "      <th></th>\n",
              "      <th>Pelvis x</th>\n",
              "      <th>Pelvis y</th>\n",
              "      <th>Pelvis z</th>\n",
              "      <th>T8 x</th>\n",
              "      <th>T8 y</th>\n",
              "      <th>T8 z</th>\n",
              "      <th>Head x</th>\n",
              "      <th>Head y</th>\n",
              "      <th>Head z</th>\n",
              "      <th>Right Shoulder x</th>\n",
              "      <th>...</th>\n",
              "      <th>Left Upper Leg x</th>\n",
              "      <th>Left Upper Leg y</th>\n",
              "      <th>Left Upper Leg z</th>\n",
              "      <th>Left Lower Leg x</th>\n",
              "      <th>Left Lower Leg y</th>\n",
              "      <th>Left Lower Leg z</th>\n",
              "      <th>Left Foot x</th>\n",
              "      <th>Left Foot y</th>\n",
              "      <th>Left Foot z</th>\n",
              "      <th>Label</th>\n",
              "    </tr>\n",
              "  </thead>\n",
              "  <tbody>\n",
              "    <tr>\n",
              "      <th>0</th>\n",
              "      <td>-0.012811</td>\n",
              "      <td>-0.834734</td>\n",
              "      <td>0.266150</td>\n",
              "      <td>-0.342421</td>\n",
              "      <td>-0.745011</td>\n",
              "      <td>1.247579</td>\n",
              "      <td>-0.596391</td>\n",
              "      <td>-0.576118</td>\n",
              "      <td>1.275779</td>\n",
              "      <td>-0.801651</td>\n",
              "      <td>...</td>\n",
              "      <td>-0.191769</td>\n",
              "      <td>-0.987954</td>\n",
              "      <td>0.191211</td>\n",
              "      <td>-1.600948</td>\n",
              "      <td>-0.466518</td>\n",
              "      <td>0.075872</td>\n",
              "      <td>-1.489268</td>\n",
              "      <td>-0.616966</td>\n",
              "      <td>-0.018075</td>\n",
              "      <td>5</td>\n",
              "    </tr>\n",
              "    <tr>\n",
              "      <th>1</th>\n",
              "      <td>-0.083418</td>\n",
              "      <td>-0.168207</td>\n",
              "      <td>0.060670</td>\n",
              "      <td>-0.428481</td>\n",
              "      <td>-0.400516</td>\n",
              "      <td>1.269019</td>\n",
              "      <td>-0.675801</td>\n",
              "      <td>-0.277131</td>\n",
              "      <td>1.324614</td>\n",
              "      <td>-0.877495</td>\n",
              "      <td>...</td>\n",
              "      <td>-0.301009</td>\n",
              "      <td>-0.584807</td>\n",
              "      <td>0.252421</td>\n",
              "      <td>-1.617153</td>\n",
              "      <td>-0.320023</td>\n",
              "      <td>-0.199683</td>\n",
              "      <td>-1.501047</td>\n",
              "      <td>-0.225163</td>\n",
              "      <td>0.544058</td>\n",
              "      <td>5</td>\n",
              "    </tr>\n",
              "    <tr>\n",
              "      <th>2</th>\n",
              "      <td>-0.782921</td>\n",
              "      <td>1.079603</td>\n",
              "      <td>0.161623</td>\n",
              "      <td>-0.791063</td>\n",
              "      <td>0.620505</td>\n",
              "      <td>0.958737</td>\n",
              "      <td>-1.125888</td>\n",
              "      <td>0.719725</td>\n",
              "      <td>1.075327</td>\n",
              "      <td>-1.271942</td>\n",
              "      <td>...</td>\n",
              "      <td>-0.756622</td>\n",
              "      <td>0.357313</td>\n",
              "      <td>-0.103088</td>\n",
              "      <td>-1.976295</td>\n",
              "      <td>0.316768</td>\n",
              "      <td>-0.643768</td>\n",
              "      <td>-1.836560</td>\n",
              "      <td>0.263355</td>\n",
              "      <td>0.583146</td>\n",
              "      <td>5</td>\n",
              "    </tr>\n",
              "    <tr>\n",
              "      <th>3</th>\n",
              "      <td>-0.111430</td>\n",
              "      <td>1.224918</td>\n",
              "      <td>-0.623599</td>\n",
              "      <td>-0.129362</td>\n",
              "      <td>0.651779</td>\n",
              "      <td>-0.105367</td>\n",
              "      <td>-0.509408</td>\n",
              "      <td>0.692847</td>\n",
              "      <td>0.152693</td>\n",
              "      <td>-0.742937</td>\n",
              "      <td>...</td>\n",
              "      <td>-0.279365</td>\n",
              "      <td>0.232317</td>\n",
              "      <td>-1.370888</td>\n",
              "      <td>-1.766330</td>\n",
              "      <td>0.095990</td>\n",
              "      <td>-1.474088</td>\n",
              "      <td>-1.660382</td>\n",
              "      <td>0.334846</td>\n",
              "      <td>0.240702</td>\n",
              "      <td>5</td>\n",
              "    </tr>\n",
              "    <tr>\n",
              "      <th>4</th>\n",
              "      <td>-0.215446</td>\n",
              "      <td>0.685218</td>\n",
              "      <td>-0.312202</td>\n",
              "      <td>-0.426718</td>\n",
              "      <td>0.150832</td>\n",
              "      <td>0.448697</td>\n",
              "      <td>-0.840482</td>\n",
              "      <td>0.108579</td>\n",
              "      <td>0.620437</td>\n",
              "      <td>-1.030919</td>\n",
              "      <td>...</td>\n",
              "      <td>-0.608924</td>\n",
              "      <td>-0.505708</td>\n",
              "      <td>-1.204505</td>\n",
              "      <td>-2.250221</td>\n",
              "      <td>-0.552029</td>\n",
              "      <td>-1.309141</td>\n",
              "      <td>-1.961102</td>\n",
              "      <td>0.124973</td>\n",
              "      <td>0.235345</td>\n",
              "      <td>5</td>\n",
              "    </tr>\n",
              "    <tr>\n",
              "      <th>...</th>\n",
              "      <td>...</td>\n",
              "      <td>...</td>\n",
              "      <td>...</td>\n",
              "      <td>...</td>\n",
              "      <td>...</td>\n",
              "      <td>...</td>\n",
              "      <td>...</td>\n",
              "      <td>...</td>\n",
              "      <td>...</td>\n",
              "      <td>...</td>\n",
              "      <td>...</td>\n",
              "      <td>...</td>\n",
              "      <td>...</td>\n",
              "      <td>...</td>\n",
              "      <td>...</td>\n",
              "      <td>...</td>\n",
              "      <td>...</td>\n",
              "      <td>...</td>\n",
              "      <td>...</td>\n",
              "      <td>...</td>\n",
              "      <td>...</td>\n",
              "    </tr>\n",
              "    <tr>\n",
              "      <th>48379</th>\n",
              "      <td>-0.020894</td>\n",
              "      <td>-0.024745</td>\n",
              "      <td>-0.019698</td>\n",
              "      <td>-0.010999</td>\n",
              "      <td>-0.014013</td>\n",
              "      <td>-0.026565</td>\n",
              "      <td>0.024310</td>\n",
              "      <td>0.008471</td>\n",
              "      <td>-0.027901</td>\n",
              "      <td>0.013841</td>\n",
              "      <td>...</td>\n",
              "      <td>-0.009700</td>\n",
              "      <td>-0.008335</td>\n",
              "      <td>-0.027464</td>\n",
              "      <td>-0.001923</td>\n",
              "      <td>-0.036317</td>\n",
              "      <td>-0.018765</td>\n",
              "      <td>-0.008000</td>\n",
              "      <td>-0.026140</td>\n",
              "      <td>0.005231</td>\n",
              "      <td>2</td>\n",
              "    </tr>\n",
              "    <tr>\n",
              "      <th>48380</th>\n",
              "      <td>0.028849</td>\n",
              "      <td>-0.033143</td>\n",
              "      <td>0.019821</td>\n",
              "      <td>0.041587</td>\n",
              "      <td>-0.019724</td>\n",
              "      <td>-0.002743</td>\n",
              "      <td>0.059451</td>\n",
              "      <td>0.004490</td>\n",
              "      <td>0.004090</td>\n",
              "      <td>0.046774</td>\n",
              "      <td>...</td>\n",
              "      <td>0.030826</td>\n",
              "      <td>-0.023581</td>\n",
              "      <td>0.004094</td>\n",
              "      <td>0.024248</td>\n",
              "      <td>-0.048531</td>\n",
              "      <td>0.005332</td>\n",
              "      <td>0.014865</td>\n",
              "      <td>-0.028826</td>\n",
              "      <td>0.017078</td>\n",
              "      <td>2</td>\n",
              "    </tr>\n",
              "    <tr>\n",
              "      <th>48381</th>\n",
              "      <td>0.047593</td>\n",
              "      <td>-0.009518</td>\n",
              "      <td>0.036193</td>\n",
              "      <td>0.085053</td>\n",
              "      <td>0.005135</td>\n",
              "      <td>0.012309</td>\n",
              "      <td>0.072544</td>\n",
              "      <td>0.025004</td>\n",
              "      <td>0.015402</td>\n",
              "      <td>0.069395</td>\n",
              "      <td>...</td>\n",
              "      <td>0.041379</td>\n",
              "      <td>-0.002775</td>\n",
              "      <td>0.018281</td>\n",
              "      <td>0.031733</td>\n",
              "      <td>-0.031485</td>\n",
              "      <td>0.013289</td>\n",
              "      <td>0.028966</td>\n",
              "      <td>-0.015905</td>\n",
              "      <td>0.020538</td>\n",
              "      <td>2</td>\n",
              "    </tr>\n",
              "    <tr>\n",
              "      <th>48382</th>\n",
              "      <td>0.026058</td>\n",
              "      <td>-0.022560</td>\n",
              "      <td>0.018199</td>\n",
              "      <td>0.083183</td>\n",
              "      <td>0.013864</td>\n",
              "      <td>0.005474</td>\n",
              "      <td>0.071777</td>\n",
              "      <td>0.023490</td>\n",
              "      <td>0.003097</td>\n",
              "      <td>0.044332</td>\n",
              "      <td>...</td>\n",
              "      <td>0.041689</td>\n",
              "      <td>-0.005529</td>\n",
              "      <td>0.033043</td>\n",
              "      <td>0.025137</td>\n",
              "      <td>-0.023893</td>\n",
              "      <td>0.021537</td>\n",
              "      <td>0.017082</td>\n",
              "      <td>-0.019597</td>\n",
              "      <td>0.022188</td>\n",
              "      <td>2</td>\n",
              "    </tr>\n",
              "    <tr>\n",
              "      <th>48383</th>\n",
              "      <td>0.044908</td>\n",
              "      <td>-0.007921</td>\n",
              "      <td>0.034144</td>\n",
              "      <td>0.122989</td>\n",
              "      <td>0.017908</td>\n",
              "      <td>0.033265</td>\n",
              "      <td>0.082530</td>\n",
              "      <td>0.020911</td>\n",
              "      <td>0.000132</td>\n",
              "      <td>0.070154</td>\n",
              "      <td>...</td>\n",
              "      <td>0.047438</td>\n",
              "      <td>0.008776</td>\n",
              "      <td>0.029416</td>\n",
              "      <td>0.034785</td>\n",
              "      <td>-0.019811</td>\n",
              "      <td>0.017164</td>\n",
              "      <td>0.025759</td>\n",
              "      <td>-0.015220</td>\n",
              "      <td>0.019356</td>\n",
              "      <td>2</td>\n",
              "    </tr>\n",
              "  </tbody>\n",
              "</table>\n",
              "<p>48384 rows × 52 columns</p>\n",
              "</div>\n",
              "      <button class=\"colab-df-convert\" onclick=\"convertToInteractive('df-32c28d2d-5a2a-4682-be47-56c940bf8c88')\"\n",
              "              title=\"Convert this dataframe to an interactive table.\"\n",
              "              style=\"display:none;\">\n",
              "        \n",
              "  <svg xmlns=\"http://www.w3.org/2000/svg\" height=\"24px\"viewBox=\"0 0 24 24\"\n",
              "       width=\"24px\">\n",
              "    <path d=\"M0 0h24v24H0V0z\" fill=\"none\"/>\n",
              "    <path d=\"M18.56 5.44l.94 2.06.94-2.06 2.06-.94-2.06-.94-.94-2.06-.94 2.06-2.06.94zm-11 1L8.5 8.5l.94-2.06 2.06-.94-2.06-.94L8.5 2.5l-.94 2.06-2.06.94zm10 10l.94 2.06.94-2.06 2.06-.94-2.06-.94-.94-2.06-.94 2.06-2.06.94z\"/><path d=\"M17.41 7.96l-1.37-1.37c-.4-.4-.92-.59-1.43-.59-.52 0-1.04.2-1.43.59L10.3 9.45l-7.72 7.72c-.78.78-.78 2.05 0 2.83L4 21.41c.39.39.9.59 1.41.59.51 0 1.02-.2 1.41-.59l7.78-7.78 2.81-2.81c.8-.78.8-2.07 0-2.86zM5.41 20L4 18.59l7.72-7.72 1.47 1.35L5.41 20z\"/>\n",
              "  </svg>\n",
              "      </button>\n",
              "      \n",
              "  <style>\n",
              "    .colab-df-container {\n",
              "      display:flex;\n",
              "      flex-wrap:wrap;\n",
              "      gap: 12px;\n",
              "    }\n",
              "\n",
              "    .colab-df-convert {\n",
              "      background-color: #E8F0FE;\n",
              "      border: none;\n",
              "      border-radius: 50%;\n",
              "      cursor: pointer;\n",
              "      display: none;\n",
              "      fill: #1967D2;\n",
              "      height: 32px;\n",
              "      padding: 0 0 0 0;\n",
              "      width: 32px;\n",
              "    }\n",
              "\n",
              "    .colab-df-convert:hover {\n",
              "      background-color: #E2EBFA;\n",
              "      box-shadow: 0px 1px 2px rgba(60, 64, 67, 0.3), 0px 1px 3px 1px rgba(60, 64, 67, 0.15);\n",
              "      fill: #174EA6;\n",
              "    }\n",
              "\n",
              "    [theme=dark] .colab-df-convert {\n",
              "      background-color: #3B4455;\n",
              "      fill: #D2E3FC;\n",
              "    }\n",
              "\n",
              "    [theme=dark] .colab-df-convert:hover {\n",
              "      background-color: #434B5C;\n",
              "      box-shadow: 0px 1px 3px 1px rgba(0, 0, 0, 0.15);\n",
              "      filter: drop-shadow(0px 1px 2px rgba(0, 0, 0, 0.3));\n",
              "      fill: #FFFFFF;\n",
              "    }\n",
              "  </style>\n",
              "\n",
              "      <script>\n",
              "        const buttonEl =\n",
              "          document.querySelector('#df-32c28d2d-5a2a-4682-be47-56c940bf8c88 button.colab-df-convert');\n",
              "        buttonEl.style.display =\n",
              "          google.colab.kernel.accessAllowed ? 'block' : 'none';\n",
              "\n",
              "        async function convertToInteractive(key) {\n",
              "          const element = document.querySelector('#df-32c28d2d-5a2a-4682-be47-56c940bf8c88');\n",
              "          const dataTable =\n",
              "            await google.colab.kernel.invokeFunction('convertToInteractive',\n",
              "                                                     [key], {});\n",
              "          if (!dataTable) return;\n",
              "\n",
              "          const docLinkHtml = 'Like what you see? Visit the ' +\n",
              "            '<a target=\"_blank\" href=https://colab.research.google.com/notebooks/data_table.ipynb>data table notebook</a>'\n",
              "            + ' to learn more about interactive tables.';\n",
              "          element.innerHTML = '';\n",
              "          dataTable['output_type'] = 'display_data';\n",
              "          await google.colab.output.renderOutput(dataTable, element);\n",
              "          const docLink = document.createElement('div');\n",
              "          docLink.innerHTML = docLinkHtml;\n",
              "          element.appendChild(docLink);\n",
              "        }\n",
              "      </script>\n",
              "    </div>\n",
              "  </div>\n",
              "  "
            ],
            "text/plain": [
              "       Pelvis x  Pelvis y  Pelvis z      T8 x      T8 y      T8 z    Head x  \\\n",
              "0     -0.012811 -0.834734  0.266150 -0.342421 -0.745011  1.247579 -0.596391   \n",
              "1     -0.083418 -0.168207  0.060670 -0.428481 -0.400516  1.269019 -0.675801   \n",
              "2     -0.782921  1.079603  0.161623 -0.791063  0.620505  0.958737 -1.125888   \n",
              "3     -0.111430  1.224918 -0.623599 -0.129362  0.651779 -0.105367 -0.509408   \n",
              "4     -0.215446  0.685218 -0.312202 -0.426718  0.150832  0.448697 -0.840482   \n",
              "...         ...       ...       ...       ...       ...       ...       ...   \n",
              "48379 -0.020894 -0.024745 -0.019698 -0.010999 -0.014013 -0.026565  0.024310   \n",
              "48380  0.028849 -0.033143  0.019821  0.041587 -0.019724 -0.002743  0.059451   \n",
              "48381  0.047593 -0.009518  0.036193  0.085053  0.005135  0.012309  0.072544   \n",
              "48382  0.026058 -0.022560  0.018199  0.083183  0.013864  0.005474  0.071777   \n",
              "48383  0.044908 -0.007921  0.034144  0.122989  0.017908  0.033265  0.082530   \n",
              "\n",
              "         Head y    Head z  Right Shoulder x  ...  Left Upper Leg x  \\\n",
              "0     -0.576118  1.275779         -0.801651  ...         -0.191769   \n",
              "1     -0.277131  1.324614         -0.877495  ...         -0.301009   \n",
              "2      0.719725  1.075327         -1.271942  ...         -0.756622   \n",
              "3      0.692847  0.152693         -0.742937  ...         -0.279365   \n",
              "4      0.108579  0.620437         -1.030919  ...         -0.608924   \n",
              "...         ...       ...               ...  ...               ...   \n",
              "48379  0.008471 -0.027901          0.013841  ...         -0.009700   \n",
              "48380  0.004490  0.004090          0.046774  ...          0.030826   \n",
              "48381  0.025004  0.015402          0.069395  ...          0.041379   \n",
              "48382  0.023490  0.003097          0.044332  ...          0.041689   \n",
              "48383  0.020911  0.000132          0.070154  ...          0.047438   \n",
              "\n",
              "       Left Upper Leg y  Left Upper Leg z  Left Lower Leg x  Left Lower Leg y  \\\n",
              "0             -0.987954          0.191211         -1.600948         -0.466518   \n",
              "1             -0.584807          0.252421         -1.617153         -0.320023   \n",
              "2              0.357313         -0.103088         -1.976295          0.316768   \n",
              "3              0.232317         -1.370888         -1.766330          0.095990   \n",
              "4             -0.505708         -1.204505         -2.250221         -0.552029   \n",
              "...                 ...               ...               ...               ...   \n",
              "48379         -0.008335         -0.027464         -0.001923         -0.036317   \n",
              "48380         -0.023581          0.004094          0.024248         -0.048531   \n",
              "48381         -0.002775          0.018281          0.031733         -0.031485   \n",
              "48382         -0.005529          0.033043          0.025137         -0.023893   \n",
              "48383          0.008776          0.029416          0.034785         -0.019811   \n",
              "\n",
              "       Left Lower Leg z  Left Foot x  Left Foot y  Left Foot z  Label  \n",
              "0              0.075872    -1.489268    -0.616966    -0.018075      5  \n",
              "1             -0.199683    -1.501047    -0.225163     0.544058      5  \n",
              "2             -0.643768    -1.836560     0.263355     0.583146      5  \n",
              "3             -1.474088    -1.660382     0.334846     0.240702      5  \n",
              "4             -1.309141    -1.961102     0.124973     0.235345      5  \n",
              "...                 ...          ...          ...          ...    ...  \n",
              "48379         -0.018765    -0.008000    -0.026140     0.005231      2  \n",
              "48380          0.005332     0.014865    -0.028826     0.017078      2  \n",
              "48381          0.013289     0.028966    -0.015905     0.020538      2  \n",
              "48382          0.021537     0.017082    -0.019597     0.022188      2  \n",
              "48383          0.017164     0.025759    -0.015220     0.019356      2  \n",
              "\n",
              "[48384 rows x 52 columns]"
            ]
          },
          "metadata": {},
          "execution_count": 359
        }
      ]
    },
    {
      "cell_type": "markdown",
      "source": [
        "test reshape"
      ],
      "metadata": {
        "id": "bccViGQR7jdH"
      }
    },
    {
      "cell_type": "code",
      "source": [
        "P123 = tf.concat([P01,P02,P03], axis=1)\n",
        "P123.shape"
      ],
      "metadata": {
        "colab": {
          "base_uri": "https://localhost:8080/"
        },
        "id": "acEEMjUA-BHP",
        "outputId": "2ae52ea1-831e-493e-a72d-ca90551cc6cd"
      },
      "execution_count": null,
      "outputs": [
        {
          "output_type": "execute_result",
          "data": {
            "text/plain": [
              "TensorShape([576, 255, 52])"
            ]
          },
          "metadata": {},
          "execution_count": 35
        }
      ]
    },
    {
      "cell_type": "code",
      "source": [
        "P123_shuffle = tf_shuffle_axis(P123[:,:,0:52], axis=1)"
      ],
      "metadata": {
        "id": "zuhDCRdZ7hmM"
      },
      "execution_count": null,
      "outputs": []
    },
    {
      "cell_type": "code",
      "source": [
        "P123_shuffle.shape"
      ],
      "metadata": {
        "colab": {
          "base_uri": "https://localhost:8080/"
        },
        "id": "c6YUeAf4Co9t",
        "outputId": "e2a7ea78-1139-4f6c-8afc-c24a123c853b"
      },
      "execution_count": null,
      "outputs": [
        {
          "output_type": "execute_result",
          "data": {
            "text/plain": [
              "TensorShape([576, 255, 52])"
            ]
          },
          "metadata": {},
          "execution_count": 49
        }
      ]
    },
    {
      "cell_type": "code",
      "source": [
        "X_P123 = (P123_shuffle[:,:,0:51]).numpy()\n",
        "X_reshape_P123 = X_P123.reshape((P123_shuffle.shape[1],576, 51))"
      ],
      "metadata": {
        "id": "uMOqkKnE9S9z"
      },
      "execution_count": null,
      "outputs": []
    },
    {
      "cell_type": "code",
      "source": [
        "X_reshape_P123.shape"
      ],
      "metadata": {
        "colab": {
          "base_uri": "https://localhost:8080/"
        },
        "id": "q4rlkAumAnsT",
        "outputId": "b018d45f-4ae9-41c1-816a-407ec37690bc"
      },
      "execution_count": null,
      "outputs": [
        {
          "output_type": "execute_result",
          "data": {
            "text/plain": [
              "(255, 576, 51)"
            ]
          },
          "metadata": {},
          "execution_count": 44
        }
      ]
    },
    {
      "cell_type": "code",
      "source": [
        "y_P123 = P123_shuffle[:,:,51].numpy() \n",
        "label_P123 = y_P123[0]"
      ],
      "metadata": {
        "id": "1K7O4Cf9_7Dr"
      },
      "execution_count": null,
      "outputs": []
    },
    {
      "cell_type": "markdown",
      "source": [
        "# Dictionnary"
      ],
      "metadata": {
        "id": "LSdxUIkLdEnu"
      }
    },
    {
      "cell_type": "code",
      "source": [
        "dct = {'P01_acc':P01_acc,'P01_markers':P01_markers,'P02_acc':P02_acc,'P02_markers':P02_markers,'P03_acc':P03_acc,'P03_markers':P03_markers}"
      ],
      "metadata": {
        "id": "RQ5NSnPTbEYi"
      },
      "execution_count": 13,
      "outputs": []
    },
    {
      "cell_type": "code",
      "source": [
        "dct['P01_acc']"
      ],
      "metadata": {
        "colab": {
          "base_uri": "https://localhost:8080/",
          "height": 659
        },
        "id": "tSfY2_Ctbzmo",
        "outputId": "c3713949-a598-4ddd-d792-1b3f8b52e200"
      },
      "execution_count": 16,
      "outputs": [
        {
          "output_type": "execute_result",
          "data": {
            "text/html": [
              "\n",
              "  <div id=\"df-d030154d-c641-44fb-92d0-6f30ae147348\">\n",
              "    <div class=\"colab-df-container\">\n",
              "      <div>\n",
              "<style scoped>\n",
              "    .dataframe tbody tr th:only-of-type {\n",
              "        vertical-align: middle;\n",
              "    }\n",
              "\n",
              "    .dataframe tbody tr th {\n",
              "        vertical-align: top;\n",
              "    }\n",
              "\n",
              "    .dataframe thead th {\n",
              "        text-align: right;\n",
              "    }\n",
              "</style>\n",
              "<table border=\"1\" class=\"dataframe\">\n",
              "  <thead>\n",
              "    <tr style=\"text-align: right;\">\n",
              "      <th></th>\n",
              "      <th>Frame</th>\n",
              "      <th>Pelvis x</th>\n",
              "      <th>Pelvis y</th>\n",
              "      <th>Pelvis z</th>\n",
              "      <th>T8 x</th>\n",
              "      <th>T8 y</th>\n",
              "      <th>T8 z</th>\n",
              "      <th>Head x</th>\n",
              "      <th>Head y</th>\n",
              "      <th>Head z</th>\n",
              "      <th>...</th>\n",
              "      <th>Left Upper Leg x</th>\n",
              "      <th>Left Upper Leg y</th>\n",
              "      <th>Left Upper Leg z</th>\n",
              "      <th>Left Lower Leg x</th>\n",
              "      <th>Left Lower Leg y</th>\n",
              "      <th>Left Lower Leg z</th>\n",
              "      <th>Left Foot x</th>\n",
              "      <th>Left Foot y</th>\n",
              "      <th>Left Foot z</th>\n",
              "      <th>Label</th>\n",
              "    </tr>\n",
              "  </thead>\n",
              "  <tbody>\n",
              "    <tr>\n",
              "      <th>0</th>\n",
              "      <td>0</td>\n",
              "      <td>-0.000099</td>\n",
              "      <td>0.000712</td>\n",
              "      <td>-0.001159</td>\n",
              "      <td>0.246312</td>\n",
              "      <td>0.497346</td>\n",
              "      <td>-0.011794</td>\n",
              "      <td>0.345373</td>\n",
              "      <td>0.292784</td>\n",
              "      <td>0.172301</td>\n",
              "      <td>...</td>\n",
              "      <td>0.197891</td>\n",
              "      <td>-0.037716</td>\n",
              "      <td>-0.172511</td>\n",
              "      <td>0.441520</td>\n",
              "      <td>0.708759</td>\n",
              "      <td>-0.073357</td>\n",
              "      <td>0.267160</td>\n",
              "      <td>0.507843</td>\n",
              "      <td>-0.020744</td>\n",
              "      <td>Do not use</td>\n",
              "    </tr>\n",
              "    <tr>\n",
              "      <th>1</th>\n",
              "      <td>1</td>\n",
              "      <td>0.085870</td>\n",
              "      <td>-0.087079</td>\n",
              "      <td>-0.057492</td>\n",
              "      <td>0.270516</td>\n",
              "      <td>0.329011</td>\n",
              "      <td>-0.041490</td>\n",
              "      <td>0.342595</td>\n",
              "      <td>0.234431</td>\n",
              "      <td>-0.069587</td>\n",
              "      <td>...</td>\n",
              "      <td>0.286065</td>\n",
              "      <td>-0.283458</td>\n",
              "      <td>-0.174133</td>\n",
              "      <td>0.460206</td>\n",
              "      <td>0.508014</td>\n",
              "      <td>-0.051261</td>\n",
              "      <td>0.277574</td>\n",
              "      <td>0.392253</td>\n",
              "      <td>-0.037118</td>\n",
              "      <td>Do not use</td>\n",
              "    </tr>\n",
              "    <tr>\n",
              "      <th>2</th>\n",
              "      <td>2</td>\n",
              "      <td>0.043551</td>\n",
              "      <td>0.023407</td>\n",
              "      <td>0.000055</td>\n",
              "      <td>0.144880</td>\n",
              "      <td>0.406876</td>\n",
              "      <td>-0.017420</td>\n",
              "      <td>0.333028</td>\n",
              "      <td>0.329907</td>\n",
              "      <td>0.038479</td>\n",
              "      <td>...</td>\n",
              "      <td>0.222336</td>\n",
              "      <td>-0.221622</td>\n",
              "      <td>-0.120159</td>\n",
              "      <td>0.261654</td>\n",
              "      <td>0.588018</td>\n",
              "      <td>0.066416</td>\n",
              "      <td>0.195962</td>\n",
              "      <td>0.589012</td>\n",
              "      <td>0.046372</td>\n",
              "      <td>Do not use</td>\n",
              "    </tr>\n",
              "    <tr>\n",
              "      <th>3</th>\n",
              "      <td>3</td>\n",
              "      <td>-0.052281</td>\n",
              "      <td>0.032851</td>\n",
              "      <td>0.023840</td>\n",
              "      <td>0.005390</td>\n",
              "      <td>0.444358</td>\n",
              "      <td>0.020782</td>\n",
              "      <td>0.121774</td>\n",
              "      <td>0.415970</td>\n",
              "      <td>-0.086135</td>\n",
              "      <td>...</td>\n",
              "      <td>0.159082</td>\n",
              "      <td>-0.272581</td>\n",
              "      <td>-0.061035</td>\n",
              "      <td>0.051586</td>\n",
              "      <td>0.487235</td>\n",
              "      <td>0.108227</td>\n",
              "      <td>-0.042877</td>\n",
              "      <td>0.572785</td>\n",
              "      <td>0.003310</td>\n",
              "      <td>Do not use</td>\n",
              "    </tr>\n",
              "    <tr>\n",
              "      <th>4</th>\n",
              "      <td>4</td>\n",
              "      <td>0.005050</td>\n",
              "      <td>0.062071</td>\n",
              "      <td>0.025009</td>\n",
              "      <td>0.033177</td>\n",
              "      <td>0.315881</td>\n",
              "      <td>-0.070002</td>\n",
              "      <td>0.261215</td>\n",
              "      <td>0.304412</td>\n",
              "      <td>-0.195614</td>\n",
              "      <td>...</td>\n",
              "      <td>0.200309</td>\n",
              "      <td>-0.383079</td>\n",
              "      <td>-0.046320</td>\n",
              "      <td>-0.065462</td>\n",
              "      <td>0.314675</td>\n",
              "      <td>0.132233</td>\n",
              "      <td>0.055484</td>\n",
              "      <td>0.435952</td>\n",
              "      <td>-0.003216</td>\n",
              "      <td>Do not use</td>\n",
              "    </tr>\n",
              "    <tr>\n",
              "      <th>...</th>\n",
              "      <td>...</td>\n",
              "      <td>...</td>\n",
              "      <td>...</td>\n",
              "      <td>...</td>\n",
              "      <td>...</td>\n",
              "      <td>...</td>\n",
              "      <td>...</td>\n",
              "      <td>...</td>\n",
              "      <td>...</td>\n",
              "      <td>...</td>\n",
              "      <td>...</td>\n",
              "      <td>...</td>\n",
              "      <td>...</td>\n",
              "      <td>...</td>\n",
              "      <td>...</td>\n",
              "      <td>...</td>\n",
              "      <td>...</td>\n",
              "      <td>...</td>\n",
              "      <td>...</td>\n",
              "      <td>...</td>\n",
              "      <td>...</td>\n",
              "    </tr>\n",
              "    <tr>\n",
              "      <th>398051</th>\n",
              "      <td>398051</td>\n",
              "      <td>0.109546</td>\n",
              "      <td>-0.192590</td>\n",
              "      <td>-0.019474</td>\n",
              "      <td>-0.016441</td>\n",
              "      <td>0.767020</td>\n",
              "      <td>-0.752473</td>\n",
              "      <td>1.434921</td>\n",
              "      <td>-0.467081</td>\n",
              "      <td>-1.171233</td>\n",
              "      <td>...</td>\n",
              "      <td>2.588507</td>\n",
              "      <td>6.441144</td>\n",
              "      <td>4.806530</td>\n",
              "      <td>-3.295399</td>\n",
              "      <td>1.378654</td>\n",
              "      <td>5.273978</td>\n",
              "      <td>-1.511757</td>\n",
              "      <td>2.380366</td>\n",
              "      <td>2.058949</td>\n",
              "      <td>Do not use</td>\n",
              "    </tr>\n",
              "    <tr>\n",
              "      <th>398052</th>\n",
              "      <td>398052</td>\n",
              "      <td>0.225429</td>\n",
              "      <td>-0.056844</td>\n",
              "      <td>0.079336</td>\n",
              "      <td>0.204197</td>\n",
              "      <td>0.582222</td>\n",
              "      <td>-0.461302</td>\n",
              "      <td>1.589540</td>\n",
              "      <td>-0.450009</td>\n",
              "      <td>-0.790704</td>\n",
              "      <td>...</td>\n",
              "      <td>2.863125</td>\n",
              "      <td>6.368722</td>\n",
              "      <td>3.993892</td>\n",
              "      <td>-3.239406</td>\n",
              "      <td>0.794041</td>\n",
              "      <td>5.558134</td>\n",
              "      <td>-1.645143</td>\n",
              "      <td>2.114684</td>\n",
              "      <td>2.426376</td>\n",
              "      <td>Do not use</td>\n",
              "    </tr>\n",
              "    <tr>\n",
              "      <th>398053</th>\n",
              "      <td>398053</td>\n",
              "      <td>0.027821</td>\n",
              "      <td>-0.216023</td>\n",
              "      <td>-0.066449</td>\n",
              "      <td>0.153890</td>\n",
              "      <td>0.150679</td>\n",
              "      <td>-0.402773</td>\n",
              "      <td>1.425629</td>\n",
              "      <td>-0.744814</td>\n",
              "      <td>-0.667597</td>\n",
              "      <td>...</td>\n",
              "      <td>2.182594</td>\n",
              "      <td>4.981315</td>\n",
              "      <td>2.295814</td>\n",
              "      <td>-3.370394</td>\n",
              "      <td>0.431018</td>\n",
              "      <td>5.052170</td>\n",
              "      <td>-1.888646</td>\n",
              "      <td>1.568463</td>\n",
              "      <td>2.351394</td>\n",
              "      <td>Do not use</td>\n",
              "    </tr>\n",
              "    <tr>\n",
              "      <th>398054</th>\n",
              "      <td>398054</td>\n",
              "      <td>-0.662307</td>\n",
              "      <td>-0.298908</td>\n",
              "      <td>-0.416978</td>\n",
              "      <td>-0.398631</td>\n",
              "      <td>-0.325173</td>\n",
              "      <td>-0.665061</td>\n",
              "      <td>0.774213</td>\n",
              "      <td>-1.156998</td>\n",
              "      <td>-0.832347</td>\n",
              "      <td>...</td>\n",
              "      <td>0.371587</td>\n",
              "      <td>2.671983</td>\n",
              "      <td>0.513763</td>\n",
              "      <td>-4.072240</td>\n",
              "      <td>0.520759</td>\n",
              "      <td>3.967976</td>\n",
              "      <td>-2.509244</td>\n",
              "      <td>1.009905</td>\n",
              "      <td>2.074472</td>\n",
              "      <td>Do not use</td>\n",
              "    </tr>\n",
              "    <tr>\n",
              "      <th>398055</th>\n",
              "      <td>398055</td>\n",
              "      <td>-0.905923</td>\n",
              "      <td>-0.638321</td>\n",
              "      <td>-0.650060</td>\n",
              "      <td>-0.447897</td>\n",
              "      <td>-1.049062</td>\n",
              "      <td>-0.843251</td>\n",
              "      <td>0.575945</td>\n",
              "      <td>-1.781038</td>\n",
              "      <td>-0.920370</td>\n",
              "      <td>...</td>\n",
              "      <td>-1.260911</td>\n",
              "      <td>-0.335961</td>\n",
              "      <td>-0.837057</td>\n",
              "      <td>-4.095988</td>\n",
              "      <td>0.747124</td>\n",
              "      <td>2.856573</td>\n",
              "      <td>-2.732090</td>\n",
              "      <td>0.203242</td>\n",
              "      <td>1.885064</td>\n",
              "      <td>Do not use</td>\n",
              "    </tr>\n",
              "  </tbody>\n",
              "</table>\n",
              "<p>398056 rows × 53 columns</p>\n",
              "</div>\n",
              "      <button class=\"colab-df-convert\" onclick=\"convertToInteractive('df-d030154d-c641-44fb-92d0-6f30ae147348')\"\n",
              "              title=\"Convert this dataframe to an interactive table.\"\n",
              "              style=\"display:none;\">\n",
              "        \n",
              "  <svg xmlns=\"http://www.w3.org/2000/svg\" height=\"24px\"viewBox=\"0 0 24 24\"\n",
              "       width=\"24px\">\n",
              "    <path d=\"M0 0h24v24H0V0z\" fill=\"none\"/>\n",
              "    <path d=\"M18.56 5.44l.94 2.06.94-2.06 2.06-.94-2.06-.94-.94-2.06-.94 2.06-2.06.94zm-11 1L8.5 8.5l.94-2.06 2.06-.94-2.06-.94L8.5 2.5l-.94 2.06-2.06.94zm10 10l.94 2.06.94-2.06 2.06-.94-2.06-.94-.94-2.06-.94 2.06-2.06.94z\"/><path d=\"M17.41 7.96l-1.37-1.37c-.4-.4-.92-.59-1.43-.59-.52 0-1.04.2-1.43.59L10.3 9.45l-7.72 7.72c-.78.78-.78 2.05 0 2.83L4 21.41c.39.39.9.59 1.41.59.51 0 1.02-.2 1.41-.59l7.78-7.78 2.81-2.81c.8-.78.8-2.07 0-2.86zM5.41 20L4 18.59l7.72-7.72 1.47 1.35L5.41 20z\"/>\n",
              "  </svg>\n",
              "      </button>\n",
              "      \n",
              "  <style>\n",
              "    .colab-df-container {\n",
              "      display:flex;\n",
              "      flex-wrap:wrap;\n",
              "      gap: 12px;\n",
              "    }\n",
              "\n",
              "    .colab-df-convert {\n",
              "      background-color: #E8F0FE;\n",
              "      border: none;\n",
              "      border-radius: 50%;\n",
              "      cursor: pointer;\n",
              "      display: none;\n",
              "      fill: #1967D2;\n",
              "      height: 32px;\n",
              "      padding: 0 0 0 0;\n",
              "      width: 32px;\n",
              "    }\n",
              "\n",
              "    .colab-df-convert:hover {\n",
              "      background-color: #E2EBFA;\n",
              "      box-shadow: 0px 1px 2px rgba(60, 64, 67, 0.3), 0px 1px 3px 1px rgba(60, 64, 67, 0.15);\n",
              "      fill: #174EA6;\n",
              "    }\n",
              "\n",
              "    [theme=dark] .colab-df-convert {\n",
              "      background-color: #3B4455;\n",
              "      fill: #D2E3FC;\n",
              "    }\n",
              "\n",
              "    [theme=dark] .colab-df-convert:hover {\n",
              "      background-color: #434B5C;\n",
              "      box-shadow: 0px 1px 3px 1px rgba(0, 0, 0, 0.15);\n",
              "      filter: drop-shadow(0px 1px 2px rgba(0, 0, 0, 0.3));\n",
              "      fill: #FFFFFF;\n",
              "    }\n",
              "  </style>\n",
              "\n",
              "      <script>\n",
              "        const buttonEl =\n",
              "          document.querySelector('#df-d030154d-c641-44fb-92d0-6f30ae147348 button.colab-df-convert');\n",
              "        buttonEl.style.display =\n",
              "          google.colab.kernel.accessAllowed ? 'block' : 'none';\n",
              "\n",
              "        async function convertToInteractive(key) {\n",
              "          const element = document.querySelector('#df-d030154d-c641-44fb-92d0-6f30ae147348');\n",
              "          const dataTable =\n",
              "            await google.colab.kernel.invokeFunction('convertToInteractive',\n",
              "                                                     [key], {});\n",
              "          if (!dataTable) return;\n",
              "\n",
              "          const docLinkHtml = 'Like what you see? Visit the ' +\n",
              "            '<a target=\"_blank\" href=https://colab.research.google.com/notebooks/data_table.ipynb>data table notebook</a>'\n",
              "            + ' to learn more about interactive tables.';\n",
              "          element.innerHTML = '';\n",
              "          dataTable['output_type'] = 'display_data';\n",
              "          await google.colab.output.renderOutput(dataTable, element);\n",
              "          const docLink = document.createElement('div');\n",
              "          docLink.innerHTML = docLinkHtml;\n",
              "          element.appendChild(docLink);\n",
              "        }\n",
              "      </script>\n",
              "    </div>\n",
              "  </div>\n",
              "  "
            ],
            "text/plain": [
              "         Frame  Pelvis x  Pelvis y  Pelvis z      T8 x      T8 y      T8 z  \\\n",
              "0            0 -0.000099  0.000712 -0.001159  0.246312  0.497346 -0.011794   \n",
              "1            1  0.085870 -0.087079 -0.057492  0.270516  0.329011 -0.041490   \n",
              "2            2  0.043551  0.023407  0.000055  0.144880  0.406876 -0.017420   \n",
              "3            3 -0.052281  0.032851  0.023840  0.005390  0.444358  0.020782   \n",
              "4            4  0.005050  0.062071  0.025009  0.033177  0.315881 -0.070002   \n",
              "...        ...       ...       ...       ...       ...       ...       ...   \n",
              "398051  398051  0.109546 -0.192590 -0.019474 -0.016441  0.767020 -0.752473   \n",
              "398052  398052  0.225429 -0.056844  0.079336  0.204197  0.582222 -0.461302   \n",
              "398053  398053  0.027821 -0.216023 -0.066449  0.153890  0.150679 -0.402773   \n",
              "398054  398054 -0.662307 -0.298908 -0.416978 -0.398631 -0.325173 -0.665061   \n",
              "398055  398055 -0.905923 -0.638321 -0.650060 -0.447897 -1.049062 -0.843251   \n",
              "\n",
              "          Head x    Head y    Head z  ...  Left Upper Leg x  Left Upper Leg y  \\\n",
              "0       0.345373  0.292784  0.172301  ...          0.197891         -0.037716   \n",
              "1       0.342595  0.234431 -0.069587  ...          0.286065         -0.283458   \n",
              "2       0.333028  0.329907  0.038479  ...          0.222336         -0.221622   \n",
              "3       0.121774  0.415970 -0.086135  ...          0.159082         -0.272581   \n",
              "4       0.261215  0.304412 -0.195614  ...          0.200309         -0.383079   \n",
              "...          ...       ...       ...  ...               ...               ...   \n",
              "398051  1.434921 -0.467081 -1.171233  ...          2.588507          6.441144   \n",
              "398052  1.589540 -0.450009 -0.790704  ...          2.863125          6.368722   \n",
              "398053  1.425629 -0.744814 -0.667597  ...          2.182594          4.981315   \n",
              "398054  0.774213 -1.156998 -0.832347  ...          0.371587          2.671983   \n",
              "398055  0.575945 -1.781038 -0.920370  ...         -1.260911         -0.335961   \n",
              "\n",
              "        Left Upper Leg z  Left Lower Leg x  Left Lower Leg y  \\\n",
              "0              -0.172511          0.441520          0.708759   \n",
              "1              -0.174133          0.460206          0.508014   \n",
              "2              -0.120159          0.261654          0.588018   \n",
              "3              -0.061035          0.051586          0.487235   \n",
              "4              -0.046320         -0.065462          0.314675   \n",
              "...                  ...               ...               ...   \n",
              "398051          4.806530         -3.295399          1.378654   \n",
              "398052          3.993892         -3.239406          0.794041   \n",
              "398053          2.295814         -3.370394          0.431018   \n",
              "398054          0.513763         -4.072240          0.520759   \n",
              "398055         -0.837057         -4.095988          0.747124   \n",
              "\n",
              "        Left Lower Leg z  Left Foot x  Left Foot y  Left Foot z       Label  \n",
              "0              -0.073357     0.267160     0.507843    -0.020744  Do not use  \n",
              "1              -0.051261     0.277574     0.392253    -0.037118  Do not use  \n",
              "2               0.066416     0.195962     0.589012     0.046372  Do not use  \n",
              "3               0.108227    -0.042877     0.572785     0.003310  Do not use  \n",
              "4               0.132233     0.055484     0.435952    -0.003216  Do not use  \n",
              "...                  ...          ...          ...          ...         ...  \n",
              "398051          5.273978    -1.511757     2.380366     2.058949  Do not use  \n",
              "398052          5.558134    -1.645143     2.114684     2.426376  Do not use  \n",
              "398053          5.052170    -1.888646     1.568463     2.351394  Do not use  \n",
              "398054          3.967976    -2.509244     1.009905     2.074472  Do not use  \n",
              "398055          2.856573    -2.732090     0.203242     1.885064  Do not use  \n",
              "\n",
              "[398056 rows x 53 columns]"
            ]
          },
          "metadata": {},
          "execution_count": 16
        }
      ]
    },
    {
      "cell_type": "code",
      "source": [
        "dct.keys()"
      ],
      "metadata": {
        "colab": {
          "base_uri": "https://localhost:8080/"
        },
        "id": "PUF3yp-pc2jK",
        "outputId": "53c932d4-7606-41f8-cbb7-0881281c9451"
      },
      "execution_count": 17,
      "outputs": [
        {
          "output_type": "execute_result",
          "data": {
            "text/plain": [
              "dict_keys(['P01_acc', 'P01_markers', 'P02_acc', 'P02_markers', 'P03_acc', 'P03_markers'])"
            ]
          },
          "metadata": {},
          "execution_count": 17
        }
      ]
    }
  ]
}